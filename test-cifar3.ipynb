{
 "cells": [
  {
   "cell_type": "code",
   "execution_count": 24,
   "metadata": {},
   "outputs": [],
   "source": [
    "\n",
    "import argparse\n",
    "import os\n",
    "import torch\n",
    "import numpy as np\n",
    "import random\n",
    "import wandb\n",
    "import models\n",
    "import yaml\n",
    "from trainer import Trainer\n",
    "import pprint\n",
    "from torchvision import transforms\n",
    "import datasets\n",
    "\n",
    "\n",
    "np.random.seed(0)\n",
    "torch.manual_seed(42)\n",
    "torch.backends.cudnn.deterministic = False\n",
    "torch.backends.cudnn.benchmark = True\n",
    "os.environ['CUDA_VISIBLE_DEVICES'] = '1'"
   ]
  },
  {
   "cell_type": "code",
   "execution_count": 25,
   "metadata": {},
   "outputs": [
    {
     "name": "stdout",
     "output_type": "stream",
     "text": [
      "CrossEntropyLoss()\n"
     ]
    }
   ],
   "source": [
    "# Load YAML config\n",
    "with open(\"./configs/noisycifar3/train_noisycifar3_ce_symm50_vehicle.yaml\", 'r') as file:\n",
    "    config = yaml.safe_load(file)\n",
    "\n",
    "# # read YAML file from string\n",
    "# config = yaml.safe_load(\n",
    "# \"\"\"\n",
    "# data:\n",
    "#   dataset: noisy_cifar3\n",
    "#   noise_rate: 0.5\n",
    "#   class_type: animal\n",
    "\n",
    "# model:\n",
    "#   architecture: resnet18\n",
    "#   num_classes: 3\n",
    "\n",
    "# wandb:\n",
    "#   mode: disabled # \"disabled\" or \"online\"\n",
    "#   entity: siit-iitp\n",
    "#   project: noisy-label\n",
    "#   name: NoisyCIFAR3(symm,0.2,animal)-CE\n",
    "#   save_code: true\n",
    "\n",
    "# trainer:\n",
    "#   optimizer: sgd\n",
    "#   init_lr: 1.0e-1\n",
    "#   momentum: 0.9\n",
    "#   weight_decay: 1.0e-4\n",
    "#   lr_scheduler: multistep\n",
    "#   max_epoch: 200\n",
    "#   loss_fn: cross_entropy\n",
    "#   num_workers: 2\n",
    "#   batch_size: 128\n",
    "#   save_model: true\n",
    "# \"\"\"\n",
    "# )\n",
    "\n",
    "model = models.get_model(**config[\"model\"]).cuda()\n",
    "model = torch.jit.script(model)\n",
    "\n",
    "\n",
    "# WANDB_RUN_ID = \"bpfqpr28\" # NoisyCIFAR3(symm,0.2,animal)-CE\n",
    "# WANDB_RUN_ID = \"havhjsg5\" # NoisyCIFAR3(symm,0.2,vehicle)-CE\n",
    "# WANDB_RUN_ID = \"exudjjy6\" # NoisyCIFAR3(symm,0.5,animal)-CE\n",
    "# WANDB_RUN_ID = \"mwmu8jyc\" # NoisyCIFAR3(symm,0.5,vehicle)-CE\n",
    "# WANDB_RUN_ID = \"hg1w7upv\" # NoisyCIFAR3(symm,0.8,animal)-CE\n",
    "WANDB_RUN_ID = \"pwsxqo0y\" # NoisyCIFAR3(symm,0.8,vehicle)-CE\n",
    "\n",
    "def load_checkpoint(name=\"model_199.pth\"):\n",
    "    checkpoint = wandb.restore(name, run_path=f\"siit-iitp/noisy-label/{WANDB_RUN_ID}\", replace=True)\n",
    "    model.load_state_dict(torch.load(checkpoint.name, map_location=\"cuda\"))\n",
    "\n",
    "load_checkpoint(name=\"model_199.pth\")\n",
    "\n",
    "\n",
    "trainer = Trainer(\n",
    "                model=model,\n",
    "                config=config['trainer'],\n",
    "                )\n",
    "\n",
    "print(trainer.criterion)"
   ]
  },
  {
   "attachments": {},
   "cell_type": "markdown",
   "metadata": {},
   "source": [
    "## Visualization of perturbed outputs"
   ]
  },
  {
   "cell_type": "code",
   "execution_count": 26,
   "metadata": {},
   "outputs": [
    {
     "name": "stdout",
     "output_type": "stream",
     "text": [
      "Files already downloaded and verified\n",
      "Files already downloaded and verified\n",
      "{'loss': tensor([0.0001, 0.0780, 0.0280,  ..., 0.0575, 0.0031, 0.0002]),\n",
      " 'mean': tensor([1.0054, 2.8607, 1.1834,  ..., 2.2143, 1.0599, 0.9583]),\n",
      " 'output': tensor([[[-2.3062,  6.9118, -4.4241],\n",
      "         [-2.3062,  6.9118, -4.4241],\n",
      "         [ 4.4599, -0.7402, -3.6401],\n",
      "         ...,\n",
      "         [-5.7322,  3.7277,  2.1579],\n",
      "         [-2.3062,  6.9118, -4.4241],\n",
      "         [ 2.1312,  6.2832, -8.2814]],\n",
      "\n",
      "        [[-2.6337,  0.0829,  2.6593],\n",
      "         [ 1.5419, -0.0326, -1.4467],\n",
      "         [-0.2454, -2.4314,  2.7777],\n",
      "         ...,\n",
      "         [ 1.5419, -0.0326, -1.4467],\n",
      "         [ 6.6550, -4.2778, -2.2882],\n",
      "         [-1.1721,  0.1459,  1.1160]],\n",
      "\n",
      "        [[-4.4830,  4.1026,  0.5350],\n",
      "         [-1.6901,  4.9853, -3.1300],\n",
      "         [-4.4830,  4.1026,  0.5350],\n",
      "         ...,\n",
      "         [-4.4830,  4.1026,  0.5350],\n",
      "         [-4.4830,  4.1026,  0.5350],\n",
      "         [-4.4830,  4.1026,  0.5350]],\n",
      "\n",
      "        ...,\n",
      "\n",
      "        [[-0.5361, -1.9368,  2.5107],\n",
      "         [-1.7744,  0.5708,  1.2875],\n",
      "         [-1.3340,  0.4033,  0.9602],\n",
      "         ...,\n",
      "         [ 1.0726,  2.4000, -3.4678],\n",
      "         [-0.5361, -1.9368,  2.5107],\n",
      "         [-0.5361, -1.9368,  2.5107]],\n",
      "\n",
      "        [[-0.3027, -5.1124,  5.4779],\n",
      "         [-1.4737,  2.2344, -0.6406],\n",
      "         [ 0.5043, -5.0478,  4.5930],\n",
      "         ...,\n",
      "         [-0.9346, -4.9150,  5.9203],\n",
      "         [-0.3027, -5.1124,  5.4779],\n",
      "         [ 0.6989, -0.7681,  0.0970]],\n",
      "\n",
      "        [[-2.4385, -3.8349,  6.4399],\n",
      "         [-2.4385, -3.8349,  6.4399],\n",
      "         [-2.4385, -3.8349,  6.4399],\n",
      "         ...,\n",
      "         [-2.4385, -3.8349,  6.4399],\n",
      "         [-4.0609, -3.7572,  8.0087],\n",
      "         [-3.5761, -0.2855,  4.0275]]]),\n",
      " 'std': tensor([2.2412, 3.1939, 2.7519,  ..., 3.4174, 1.8504, 1.6796]),\n",
      " 'target': tensor([1, 2, 1,  ..., 2, 2, 2]),\n",
      " 'target_gt': tensor([2, 2, 0,  ..., 2, 0, 0])}\n"
     ]
    }
   ],
   "source": [
    "# perturbation-based filtering\n",
    "# TODO: 다른 weight로도 두세번 더 돌려보기!\n",
    "\n",
    "from torchvision import transforms\n",
    "from torchvision.transforms.autoaugment import AutoAugment, AutoAugmentPolicy\n",
    "import torchvision.transforms.functional as F\n",
    "import tqdm.auto as tqdm\n",
    "\n",
    "\n",
    "import random\n",
    "random.seed(42)\n",
    "torch.manual_seed(42)\n",
    "np.random.seed(42)\n",
    "\n",
    "\n",
    "# transform_train = transforms.Compose([\n",
    "#     transforms.RandomCrop(32, padding=4),\n",
    "#     transforms.RandomHorizontalFlip(),\n",
    "# ])\n",
    "\n",
    "auto_augment = AutoAugment(AutoAugmentPolicy.CIFAR10)\n",
    "num_augment = 100\n",
    "\n",
    "transform_train = transforms.Compose([\n",
    "    transforms.Lambda(lambda x: torch.tensor(np.array(x)).permute(2,0,1)),\n",
    "    transforms.Lambda(lambda x: torch.stack([x] + [auto_augment(x) for _ in range(num_augment)], dim=0)), # (11, C, H, W)\n",
    "    transforms.Lambda(lambda x: x/255.0),\n",
    "    transforms.Normalize((0.4914, 0.4822, 0.4465), (0.2023, 0.1994, 0.2010)),\n",
    "])\n",
    "\n",
    "\n",
    "train_dataset, _ = datasets.get_dataset(**config[\"data\"])\n",
    "train_dataset.transform = transform_train\n",
    "\n",
    "dataloader = trainer.get_dataloader(train_dataset, train=False)\n",
    "dataloader.num_workers = 8\n",
    "\n",
    "load_checkpoint(f\"model_199.pth\")\n",
    "\n",
    "with torch.no_grad():\n",
    "    trainer.model.eval()\n",
    "    result = {\n",
    "        'output': [],\n",
    "        'loss': [],\n",
    "        'std': [],\n",
    "        'mean': [],\n",
    "        'target': [],\n",
    "        'target_gt': [],\n",
    "    }\n",
    "    for i, batch in enumerate(dataloader):\n",
    "        data = batch[\"image\"].cuda() # (B, 11, 3, 32, 32)\n",
    "        target = batch[\"target\"].cuda()[:, None].repeat(1, data.size(1)) # (B, 11)\n",
    "        target_gt = batch[\"target_gt\"].cuda() # (B,)\n",
    "\n",
    "        b = data.size(0)\n",
    "        output = trainer.model(data.view(-1,3,32,32)) # (B*11, 10)\n",
    "\n",
    "        loss = trainer.criterion(output, target.view(-1)).view(b, -1) # (B, 11)\n",
    "        raw_loss, aug_loss = loss[:, 0], loss[:, 1:]\n",
    "        std, mean = torch.std_mean(aug_loss, dim=-1)\n",
    "\n",
    "        result['output'].append(output.view(b, -1, 3))\n",
    "        result['loss'].append(raw_loss)\n",
    "        result['std'].append(std)\n",
    "        result['mean'].append(mean)\n",
    "        result['target'].append(target[:, 0])\n",
    "        result['target_gt'].append(target_gt)\n",
    "\n",
    "    result = {k: torch.cat(v, dim=0).cpu() for k, v in result.items()}\n",
    "\n",
    "pprint.pprint(result)"
   ]
  },
  {
   "cell_type": "code",
   "execution_count": 29,
   "metadata": {},
   "outputs": [
    {
     "data": {
      "text/html": [
       "<div>\n",
       "<style scoped>\n",
       "    .dataframe tbody tr th:only-of-type {\n",
       "        vertical-align: middle;\n",
       "    }\n",
       "\n",
       "    .dataframe tbody tr th {\n",
       "        vertical-align: top;\n",
       "    }\n",
       "\n",
       "    .dataframe thead th {\n",
       "        text-align: right;\n",
       "    }\n",
       "</style>\n",
       "<table border=\"1\" class=\"dataframe\">\n",
       "  <thead>\n",
       "    <tr style=\"text-align: right;\">\n",
       "      <th></th>\n",
       "      <th>pointpred</th>\n",
       "      <th>output</th>\n",
       "      <th>is_noisy</th>\n",
       "      <th>target</th>\n",
       "      <th>target_gt</th>\n",
       "    </tr>\n",
       "  </thead>\n",
       "  <tbody>\n",
       "    <tr>\n",
       "      <th>0</th>\n",
       "      <td>[tensor(-2.3062), tensor(6.9118), tensor(-4.42...</td>\n",
       "      <td>[[tensor(-2.3062), tensor(6.9118), tensor(-4.4...</td>\n",
       "      <td>True</td>\n",
       "      <td>1</td>\n",
       "      <td>2</td>\n",
       "    </tr>\n",
       "    <tr>\n",
       "      <th>1</th>\n",
       "      <td>[tensor(-2.6337), tensor(0.0829), tensor(2.6593)]</td>\n",
       "      <td>[[tensor(1.5419), tensor(-0.0326), tensor(-1.4...</td>\n",
       "      <td>False</td>\n",
       "      <td>2</td>\n",
       "      <td>2</td>\n",
       "    </tr>\n",
       "    <tr>\n",
       "      <th>2</th>\n",
       "      <td>[tensor(-4.4830), tensor(4.1026), tensor(0.5350)]</td>\n",
       "      <td>[[tensor(-1.6901), tensor(4.9853), tensor(-3.1...</td>\n",
       "      <td>True</td>\n",
       "      <td>1</td>\n",
       "      <td>0</td>\n",
       "    </tr>\n",
       "    <tr>\n",
       "      <th>3</th>\n",
       "      <td>[tensor(-0.2596), tensor(-2.1167), tensor(2.45...</td>\n",
       "      <td>[[tensor(-0.5156), tensor(-0.1039), tensor(0.6...</td>\n",
       "      <td>True</td>\n",
       "      <td>2</td>\n",
       "      <td>0</td>\n",
       "    </tr>\n",
       "    <tr>\n",
       "      <th>4</th>\n",
       "      <td>[tensor(-1.6119), tensor(4.4702), tensor(-2.75...</td>\n",
       "      <td>[[tensor(0.1766), tensor(0.7640), tensor(-0.89...</td>\n",
       "      <td>False</td>\n",
       "      <td>1</td>\n",
       "      <td>1</td>\n",
       "    </tr>\n",
       "    <tr>\n",
       "      <th>...</th>\n",
       "      <td>...</td>\n",
       "      <td>...</td>\n",
       "      <td>...</td>\n",
       "      <td>...</td>\n",
       "      <td>...</td>\n",
       "    </tr>\n",
       "    <tr>\n",
       "      <th>14995</th>\n",
       "      <td>[tensor(0.4356), tensor(0.0362), tensor(-0.4759)]</td>\n",
       "      <td>[[tensor(0.4356), tensor(0.0362), tensor(-0.47...</td>\n",
       "      <td>False</td>\n",
       "      <td>0</td>\n",
       "      <td>0</td>\n",
       "    </tr>\n",
       "    <tr>\n",
       "      <th>14996</th>\n",
       "      <td>[tensor(-4.7017), tensor(6.2652), tensor(-1.37...</td>\n",
       "      <td>[[tensor(-4.9949), tensor(6.4061), tensor(-1.2...</td>\n",
       "      <td>True</td>\n",
       "      <td>1</td>\n",
       "      <td>0</td>\n",
       "    </tr>\n",
       "    <tr>\n",
       "      <th>14997</th>\n",
       "      <td>[tensor(-0.5361), tensor(-1.9368), tensor(2.51...</td>\n",
       "      <td>[[tensor(-1.7744), tensor(0.5708), tensor(1.28...</td>\n",
       "      <td>False</td>\n",
       "      <td>2</td>\n",
       "      <td>2</td>\n",
       "    </tr>\n",
       "    <tr>\n",
       "      <th>14998</th>\n",
       "      <td>[tensor(-0.3027), tensor(-5.1124), tensor(5.47...</td>\n",
       "      <td>[[tensor(-1.4737), tensor(2.2344), tensor(-0.6...</td>\n",
       "      <td>True</td>\n",
       "      <td>2</td>\n",
       "      <td>0</td>\n",
       "    </tr>\n",
       "    <tr>\n",
       "      <th>14999</th>\n",
       "      <td>[tensor(-2.4385), tensor(-3.8349), tensor(6.43...</td>\n",
       "      <td>[[tensor(-2.4385), tensor(-3.8349), tensor(6.4...</td>\n",
       "      <td>True</td>\n",
       "      <td>2</td>\n",
       "      <td>0</td>\n",
       "    </tr>\n",
       "  </tbody>\n",
       "</table>\n",
       "<p>15000 rows × 5 columns</p>\n",
       "</div>"
      ],
      "text/plain": [
       "                                               pointpred   \n",
       "0      [tensor(-2.3062), tensor(6.9118), tensor(-4.42...  \\\n",
       "1      [tensor(-2.6337), tensor(0.0829), tensor(2.6593)]   \n",
       "2      [tensor(-4.4830), tensor(4.1026), tensor(0.5350)]   \n",
       "3      [tensor(-0.2596), tensor(-2.1167), tensor(2.45...   \n",
       "4      [tensor(-1.6119), tensor(4.4702), tensor(-2.75...   \n",
       "...                                                  ...   \n",
       "14995  [tensor(0.4356), tensor(0.0362), tensor(-0.4759)]   \n",
       "14996  [tensor(-4.7017), tensor(6.2652), tensor(-1.37...   \n",
       "14997  [tensor(-0.5361), tensor(-1.9368), tensor(2.51...   \n",
       "14998  [tensor(-0.3027), tensor(-5.1124), tensor(5.47...   \n",
       "14999  [tensor(-2.4385), tensor(-3.8349), tensor(6.43...   \n",
       "\n",
       "                                                  output  is_noisy  target   \n",
       "0      [[tensor(-2.3062), tensor(6.9118), tensor(-4.4...      True       1  \\\n",
       "1      [[tensor(1.5419), tensor(-0.0326), tensor(-1.4...     False       2   \n",
       "2      [[tensor(-1.6901), tensor(4.9853), tensor(-3.1...      True       1   \n",
       "3      [[tensor(-0.5156), tensor(-0.1039), tensor(0.6...      True       2   \n",
       "4      [[tensor(0.1766), tensor(0.7640), tensor(-0.89...     False       1   \n",
       "...                                                  ...       ...     ...   \n",
       "14995  [[tensor(0.4356), tensor(0.0362), tensor(-0.47...     False       0   \n",
       "14996  [[tensor(-4.9949), tensor(6.4061), tensor(-1.2...      True       1   \n",
       "14997  [[tensor(-1.7744), tensor(0.5708), tensor(1.28...     False       2   \n",
       "14998  [[tensor(-1.4737), tensor(2.2344), tensor(-0.6...      True       2   \n",
       "14999  [[tensor(-2.4385), tensor(-3.8349), tensor(6.4...      True       2   \n",
       "\n",
       "       target_gt  \n",
       "0              2  \n",
       "1              2  \n",
       "2              0  \n",
       "3              0  \n",
       "4              1  \n",
       "...          ...  \n",
       "14995          0  \n",
       "14996          0  \n",
       "14997          2  \n",
       "14998          0  \n",
       "14999          0  \n",
       "\n",
       "[15000 rows x 5 columns]"
      ]
     },
     "execution_count": 29,
     "metadata": {},
     "output_type": "execute_result"
    }
   ],
   "source": [
    "import pandas as pd\n",
    "\n",
    "df = pd.DataFrame({\n",
    "    'pointpred': torch.unbind(result['output'][:,0,:]), # (50000, 10)\n",
    "    'output': torch.unbind(result['output'][:,1:,:]), # (50000, 10, 10)\n",
    "    'is_noisy': (result['target'] != result['target_gt']).tolist(), # (50000, 11, 10)\n",
    "    'target': result['target'].tolist(), # (50000,)\n",
    "    'target_gt': result['target_gt'].tolist(), # (50000,)\n",
    "    })\n",
    "\n",
    "df"
   ]
  },
  {
   "cell_type": "code",
   "execution_count": 30,
   "metadata": {},
   "outputs": [],
   "source": [
    "df_clean = df[df['is_noisy']==False]\n",
    "df_noisy = df[df['is_noisy']==True]"
   ]
  },
  {
   "cell_type": "code",
   "execution_count": 23,
   "metadata": {},
   "outputs": [
    {
     "data": {
      "image/png": "[encoded data removed]",
      "text/plain": [
       "<Figure size 1500x500 with 10 Axes>"
      ]
     },
     "metadata": {},
     "output_type": "display_data"
    }
   ],
   "source": [
    "import numpy.random as nprn\n",
    "import matplotlib.pyplot as plt\n",
    "import pandas as pd\n",
    "import seaborn as sb\n",
    "import numpy as np\n",
    "from scipy.special import softmax\n",
    "\n",
    "fig = plt.figure(figsize = (15, 5))\n",
    "\n",
    "for idx in range(10):\n",
    "    # row = df_noisy.iloc[idx]\n",
    "    row = df_clean.iloc[idx]\n",
    "    raw_data = row['output'].div(1).softmax(-1).numpy()\n",
    "    pointpred = row['pointpred'].softmax(-1).numpy()\n",
    "\n",
    "    p1 = np.array([0.0, (3.0**0.5) - 1.0])\n",
    "    p2 = np.array([-1.0, -1.0])\n",
    "    p3 = np.array([1.0, -1.0])\n",
    "\n",
    "\n",
    "    # add subplot\n",
    "    ax = fig.add_subplot(2, 5, idx+1)\n",
    "    plt.plot([-1.0, 1.0, 0.0, -1.0], [-1.0, -1.0, (3.0**0.5) - 1.0, -1.0])\n",
    "\n",
    "    points = []\n",
    "    for t1, t2, t3 in raw_data:\n",
    "        points.append(p1 * t1 + p2 * t2 + p3 * t3)\n",
    "    points = np.array(points)\n",
    "\n",
    "    plt.scatter(points.T[0], points.T[1] , edgecolors = '#ffffff', alpha = 0.3, s=50, linewidth=0)\n",
    "\n",
    "    pointpred = (p1 * pointpred[0] + p2 * pointpred[1] + p3 * pointpred[2])\n",
    "    plt.scatter([pointpred[0]], [pointpred[1]], color='red', alpha = 0.5, s=50, linewidth=0)\n",
    "\n",
    "    plt.title(f\"target: {row['target']}, gt: {row['target_gt']}\")\n",
    "\n",
    "    plt.text(p1[0]-0.1, p1[1]+0.1, 'C0', fontsize = 16)\n",
    "    plt.text(p2[0]-0.1, p2[1]-0.15, 'C1', fontsize = 16)\n",
    "    plt.text(p3[0], p3[1]-0.15, 'C2', fontsize = 16)\n",
    "    plt.xticks([])\n",
    "    plt.yticks([])\n",
    "plt.show()"
   ]
  },
  {
   "cell_type": "code",
   "execution_count": 68,
   "metadata": {},
   "outputs": [
    {
     "data": {
      "text/html": [
       "<div>\n",
       "<style scoped>\n",
       "    .dataframe tbody tr th:only-of-type {\n",
       "        vertical-align: middle;\n",
       "    }\n",
       "\n",
       "    .dataframe tbody tr th {\n",
       "        vertical-align: top;\n",
       "    }\n",
       "\n",
       "    .dataframe thead th {\n",
       "        text-align: right;\n",
       "    }\n",
       "</style>\n",
       "<table border=\"1\" class=\"dataframe\">\n",
       "  <thead>\n",
       "    <tr style=\"text-align: right;\">\n",
       "      <th></th>\n",
       "      <th>output</th>\n",
       "      <th>is_noisy</th>\n",
       "      <th>target</th>\n",
       "      <th>target_gt</th>\n",
       "    </tr>\n",
       "  </thead>\n",
       "  <tbody>\n",
       "    <tr>\n",
       "      <th>0</th>\n",
       "      <td>[[tensor(-2.2860), tensor(1.7956), tensor(-4.7...</td>\n",
       "      <td>True</td>\n",
       "      <td>5</td>\n",
       "      <td>6</td>\n",
       "    </tr>\n",
       "    <tr>\n",
       "      <th>4</th>\n",
       "      <td>[[tensor(-1.4844), tensor(9.8847), tensor(2.01...</td>\n",
       "      <td>True</td>\n",
       "      <td>9</td>\n",
       "      <td>1</td>\n",
       "    </tr>\n",
       "    <tr>\n",
       "      <th>6</th>\n",
       "      <td>[[tensor(-5.1203), tensor(-6.1005), tensor(11....</td>\n",
       "      <td>True</td>\n",
       "      <td>5</td>\n",
       "      <td>2</td>\n",
       "    </tr>\n",
       "    <tr>\n",
       "      <th>7</th>\n",
       "      <td>[[tensor(1.2945), tensor(0.7255), tensor(-5.62...</td>\n",
       "      <td>True</td>\n",
       "      <td>8</td>\n",
       "      <td>7</td>\n",
       "    </tr>\n",
       "    <tr>\n",
       "      <th>9</th>\n",
       "      <td>[[tensor(9.1273), tensor(-6.4233), tensor(3.41...</td>\n",
       "      <td>True</td>\n",
       "      <td>0</td>\n",
       "      <td>3</td>\n",
       "    </tr>\n",
       "    <tr>\n",
       "      <th>...</th>\n",
       "      <td>...</td>\n",
       "      <td>...</td>\n",
       "      <td>...</td>\n",
       "      <td>...</td>\n",
       "    </tr>\n",
       "    <tr>\n",
       "      <th>49987</th>\n",
       "      <td>[[tensor(8.5651), tensor(-2.0810), tensor(0.51...</td>\n",
       "      <td>True</td>\n",
       "      <td>0</td>\n",
       "      <td>2</td>\n",
       "    </tr>\n",
       "    <tr>\n",
       "      <th>49988</th>\n",
       "      <td>[[tensor(2.3920), tensor(1.0641), tensor(1.627...</td>\n",
       "      <td>True</td>\n",
       "      <td>2</td>\n",
       "      <td>5</td>\n",
       "    </tr>\n",
       "    <tr>\n",
       "      <th>49990</th>\n",
       "      <td>[[tensor(-5.3796), tensor(-2.4155), tensor(2.1...</td>\n",
       "      <td>True</td>\n",
       "      <td>6</td>\n",
       "      <td>4</td>\n",
       "    </tr>\n",
       "    <tr>\n",
       "      <th>49998</th>\n",
       "      <td>[[tensor(-3.2836), tensor(9.1739), tensor(-5.4...</td>\n",
       "      <td>True</td>\n",
       "      <td>8</td>\n",
       "      <td>1</td>\n",
       "    </tr>\n",
       "    <tr>\n",
       "      <th>49999</th>\n",
       "      <td>[[tensor(0.1084), tensor(8.1128), tensor(4.488...</td>\n",
       "      <td>True</td>\n",
       "      <td>3</td>\n",
       "      <td>1</td>\n",
       "    </tr>\n",
       "  </tbody>\n",
       "</table>\n",
       "<p>19825 rows × 4 columns</p>\n",
       "</div>"
      ],
      "text/plain": [
       "                                                  output  is_noisy  target   \n",
       "0      [[tensor(-2.2860), tensor(1.7956), tensor(-4.7...      True       5  \\\n",
       "4      [[tensor(-1.4844), tensor(9.8847), tensor(2.01...      True       9   \n",
       "6      [[tensor(-5.1203), tensor(-6.1005), tensor(11....      True       5   \n",
       "7      [[tensor(1.2945), tensor(0.7255), tensor(-5.62...      True       8   \n",
       "9      [[tensor(9.1273), tensor(-6.4233), tensor(3.41...      True       0   \n",
       "...                                                  ...       ...     ...   \n",
       "49987  [[tensor(8.5651), tensor(-2.0810), tensor(0.51...      True       0   \n",
       "49988  [[tensor(2.3920), tensor(1.0641), tensor(1.627...      True       2   \n",
       "49990  [[tensor(-5.3796), tensor(-2.4155), tensor(2.1...      True       6   \n",
       "49998  [[tensor(-3.2836), tensor(9.1739), tensor(-5.4...      True       8   \n",
       "49999  [[tensor(0.1084), tensor(8.1128), tensor(4.488...      True       3   \n",
       "\n",
       "       target_gt  \n",
       "0              6  \n",
       "4              1  \n",
       "6              2  \n",
       "7              7  \n",
       "9              3  \n",
       "...          ...  \n",
       "49987          2  \n",
       "49988          5  \n",
       "49990          4  \n",
       "49998          1  \n",
       "49999          1  \n",
       "\n",
       "[19825 rows x 4 columns]"
      ]
     },
     "execution_count": 68,
     "metadata": {},
     "output_type": "execute_result"
    }
   ],
   "source": [
    "df_noisy"
   ]
  },
  {
   "cell_type": "code",
   "execution_count": 59,
   "metadata": {},
   "outputs": [],
   "source": [
    "torch.set_printoptions(sci_mode=False)"
   ]
  },
  {
   "cell_type": "code",
   "execution_count": null,
   "metadata": {},
   "outputs": [],
   "source": [
    "idx = 1"
   ]
  },
  {
   "cell_type": "code",
   "execution_count": 99,
   "metadata": {},
   "outputs": [
    {
     "data": {
      "text/plain": [
       "tensor([[0.0521, 0.0135, 0.0812, 0.0436, 0.0673, 0.0241, 0.0276, 0.6106, 0.0403,\n",
       "         0.0398],\n",
       "        [0.0079, 0.0201, 0.0313, 0.0073, 0.0278, 0.0104, 0.0031, 0.7926, 0.0746,\n",
       "         0.0250],\n",
       "        [0.0913, 0.0827, 0.0202, 0.0177, 0.1704, 0.1139, 0.0138, 0.3438, 0.1306,\n",
       "         0.0156],\n",
       "        [0.0211, 0.0095, 0.0209, 0.0054, 0.0357, 0.0220, 0.0041, 0.7500, 0.1147,\n",
       "         0.0165],\n",
       "        [0.0279, 0.0932, 0.0823, 0.0152, 0.1003, 0.1138, 0.0128, 0.2541, 0.0600,\n",
       "         0.2406],\n",
       "        [0.1348, 0.0392, 0.0794, 0.0260, 0.0293, 0.0323, 0.0765, 0.0448, 0.0073,\n",
       "         0.5304],\n",
       "        [0.1370, 0.0050, 0.0120, 0.0017, 0.0644, 0.0549, 0.0434, 0.5418, 0.1061,\n",
       "         0.0338],\n",
       "        [0.0079, 0.0201, 0.0313, 0.0073, 0.0278, 0.0104, 0.0031, 0.7926, 0.0746,\n",
       "         0.0250],\n",
       "        [0.0913, 0.0827, 0.0202, 0.0177, 0.1704, 0.1139, 0.0138, 0.3438, 0.1306,\n",
       "         0.0156],\n",
       "        [0.0211, 0.0095, 0.0209, 0.0054, 0.0357, 0.0220, 0.0041, 0.7500, 0.1147,\n",
       "         0.0165]])"
      ]
     },
     "execution_count": 99,
     "metadata": {},
     "output_type": "execute_result"
    }
   ],
   "source": [
    "df_clean.iloc[idx,0].div(4).softmax(-1)"
   ]
  },
  {
   "cell_type": "code",
   "execution_count": 88,
   "metadata": {},
   "outputs": [
    {
     "data": {
      "text/plain": [
       "tensor([7, 7, 7, 7, 7, 9, 7, 7, 7, 7])"
      ]
     },
     "execution_count": 88,
     "metadata": {},
     "output_type": "execute_result"
    }
   ],
   "source": [
    "df_clean.iloc[idx,0].argmax(-1)"
   ]
  },
  {
   "cell_type": "code",
   "execution_count": 95,
   "metadata": {},
   "outputs": [
    {
     "data": {
      "text/plain": [
       "7"
      ]
     },
     "execution_count": 95,
     "metadata": {},
     "output_type": "execute_result"
    }
   ],
   "source": [
    "df_clean.iloc[idx,2]"
   ]
  },
  {
   "cell_type": "code",
   "execution_count": 98,
   "metadata": {},
   "outputs": [
    {
     "data": {
      "text/plain": [
       "tensor([[0.1221, 0.0701, 0.0207, 0.3374, 0.0817, 0.0738, 0.1362, 0.0562, 0.0223,\n",
       "         0.0793],\n",
       "        [0.0656, 0.0159, 0.1466, 0.2190, 0.0077, 0.0561, 0.1686, 0.1241, 0.0619,\n",
       "         0.1344],\n",
       "        [0.9032, 0.0016, 0.0016, 0.0190, 0.0070, 0.0022, 0.0388, 0.0119, 0.0039,\n",
       "         0.0109],\n",
       "        [0.9063, 0.0020, 0.0016, 0.0228, 0.0072, 0.0025, 0.0310, 0.0114, 0.0038,\n",
       "         0.0113],\n",
       "        [0.1221, 0.0701, 0.0207, 0.3374, 0.0817, 0.0738, 0.1362, 0.0562, 0.0223,\n",
       "         0.0793],\n",
       "        [0.1221, 0.0701, 0.0207, 0.3374, 0.0817, 0.0738, 0.1362, 0.0562, 0.0223,\n",
       "         0.0793],\n",
       "        [0.7474, 0.0025, 0.0186, 0.0082, 0.0341, 0.0035, 0.1072, 0.0111, 0.0042,\n",
       "         0.0633],\n",
       "        [0.4065, 0.0157, 0.0102, 0.0764, 0.0090, 0.0049, 0.4024, 0.0112, 0.0162,\n",
       "         0.0474],\n",
       "        [0.1053, 0.0438, 0.0084, 0.3466, 0.0189, 0.0069, 0.2555, 0.0179, 0.0045,\n",
       "         0.1923],\n",
       "        [0.0710, 0.0169, 0.2186, 0.0649, 0.1990, 0.3162, 0.0075, 0.0416, 0.0169,\n",
       "         0.0475]])"
      ]
     },
     "execution_count": 98,
     "metadata": {},
     "output_type": "execute_result"
    }
   ],
   "source": [
    "df_noisy.iloc[idx,0].div(4).softmax(-1)"
   ]
  },
  {
   "cell_type": "code",
   "execution_count": 90,
   "metadata": {},
   "outputs": [
    {
     "data": {
      "text/plain": [
       "tensor([3, 3, 0, 0, 3, 3, 0, 0, 3, 5])"
      ]
     },
     "execution_count": 90,
     "metadata": {},
     "output_type": "execute_result"
    }
   ],
   "source": [
    "df_noisy.iloc[idx,0].argmax(-1)"
   ]
  },
  {
   "cell_type": "code",
   "execution_count": 92,
   "metadata": {},
   "outputs": [
    {
     "data": {
      "text/plain": [
       "0"
      ]
     },
     "execution_count": 92,
     "metadata": {},
     "output_type": "execute_result"
    }
   ],
   "source": [
    "df_noisy.iloc[idx,2]"
   ]
  },
  {
   "cell_type": "code",
   "execution_count": 80,
   "metadata": {},
   "outputs": [
    {
     "data": {
      "text/plain": [
       "0        [5, 2, 5, 9, 4, 3, 3, 5, 5, 5]\n",
       "4        [1, 9, 9, 9, 9, 9, 9, 5, 2, 9]\n",
       "6        [2, 2, 2, 7, 2, 5, 0, 2, 5, 5]\n",
       "7        [7, 7, 9, 7, 8, 8, 8, 8, 7, 7]\n",
       "9        [0, 0, 0, 0, 0, 0, 0, 0, 0, 0]\n",
       "                      ...              \n",
       "49987    [0, 0, 5, 0, 5, 5, 0, 0, 0, 0]\n",
       "49988    [0, 2, 2, 2, 2, 2, 9, 8, 2, 9]\n",
       "49990    [6, 6, 9, 6, 6, 6, 6, 6, 6, 6]\n",
       "49998    [1, 6, 1, 8, 8, 8, 8, 1, 1, 1]\n",
       "49999    [1, 1, 1, 3, 3, 3, 0, 3, 3, 3]\n",
       "Name: output, Length: 19825, dtype: object"
      ]
     },
     "execution_count": 80,
     "metadata": {},
     "output_type": "execute_result"
    }
   ],
   "source": [
    "df_noisy['output'].apply(lambda x: x.argmax(-1).tolist())"
   ]
  },
  {
   "cell_type": "code",
   "execution_count": 81,
   "metadata": {},
   "outputs": [
    {
     "data": {
      "text/html": [
       "<div>\n",
       "<style scoped>\n",
       "    .dataframe tbody tr th:only-of-type {\n",
       "        vertical-align: middle;\n",
       "    }\n",
       "\n",
       "    .dataframe tbody tr th {\n",
       "        vertical-align: top;\n",
       "    }\n",
       "\n",
       "    .dataframe thead th {\n",
       "        text-align: right;\n",
       "    }\n",
       "</style>\n",
       "<table border=\"1\" class=\"dataframe\">\n",
       "  <thead>\n",
       "    <tr style=\"text-align: right;\">\n",
       "      <th></th>\n",
       "      <th>target</th>\n",
       "      <th>target_gt</th>\n",
       "    </tr>\n",
       "  </thead>\n",
       "  <tbody>\n",
       "    <tr>\n",
       "      <th>0</th>\n",
       "      <td>5</td>\n",
       "      <td>6</td>\n",
       "    </tr>\n",
       "    <tr>\n",
       "      <th>4</th>\n",
       "      <td>9</td>\n",
       "      <td>1</td>\n",
       "    </tr>\n",
       "    <tr>\n",
       "      <th>6</th>\n",
       "      <td>5</td>\n",
       "      <td>2</td>\n",
       "    </tr>\n",
       "    <tr>\n",
       "      <th>7</th>\n",
       "      <td>8</td>\n",
       "      <td>7</td>\n",
       "    </tr>\n",
       "    <tr>\n",
       "      <th>9</th>\n",
       "      <td>0</td>\n",
       "      <td>3</td>\n",
       "    </tr>\n",
       "    <tr>\n",
       "      <th>...</th>\n",
       "      <td>...</td>\n",
       "      <td>...</td>\n",
       "    </tr>\n",
       "    <tr>\n",
       "      <th>49987</th>\n",
       "      <td>0</td>\n",
       "      <td>2</td>\n",
       "    </tr>\n",
       "    <tr>\n",
       "      <th>49988</th>\n",
       "      <td>2</td>\n",
       "      <td>5</td>\n",
       "    </tr>\n",
       "    <tr>\n",
       "      <th>49990</th>\n",
       "      <td>6</td>\n",
       "      <td>4</td>\n",
       "    </tr>\n",
       "    <tr>\n",
       "      <th>49998</th>\n",
       "      <td>8</td>\n",
       "      <td>1</td>\n",
       "    </tr>\n",
       "    <tr>\n",
       "      <th>49999</th>\n",
       "      <td>3</td>\n",
       "      <td>1</td>\n",
       "    </tr>\n",
       "  </tbody>\n",
       "</table>\n",
       "<p>19825 rows × 2 columns</p>\n",
       "</div>"
      ],
      "text/plain": [
       "       target  target_gt\n",
       "0           5          6\n",
       "4           9          1\n",
       "6           5          2\n",
       "7           8          7\n",
       "9           0          3\n",
       "...       ...        ...\n",
       "49987       0          2\n",
       "49988       2          5\n",
       "49990       6          4\n",
       "49998       8          1\n",
       "49999       3          1\n",
       "\n",
       "[19825 rows x 2 columns]"
      ]
     },
     "execution_count": 81,
     "metadata": {},
     "output_type": "execute_result"
    }
   ],
   "source": [
    "df_noisy[['target', 'target_gt']]"
   ]
  },
  {
   "cell_type": "code",
   "execution_count": 4,
   "metadata": {},
   "outputs": [
    {
     "data": {
      "text/plain": [
       "array([0.35277528, 0.36352417, 0.3177086 , 0.28579813, 0.4060483 ],\n",
       "      dtype=float32)"
      ]
     },
     "execution_count": 4,
     "metadata": {},
     "output_type": "execute_result"
    }
   ],
   "source": [
    "temperatures"
   ]
  },
  {
   "cell_type": "code",
   "execution_count": 5,
   "metadata": {},
   "outputs": [
    {
     "data": {
      "text/plain": [
       "array([[1.38113514e-01, 7.35828478e-04, 9.21101719e-02, 9.95179862e-02,\n",
       "        3.52775276e-01, 2.29577273e-01, 1.07949032e-02, 7.63510615e-02,\n",
       "        2.38470184e-05, 1.46615690e-07],\n",
       "       [2.87728608e-01, 6.46307413e-03, 1.34178489e-01, 3.30665894e-02,\n",
       "        7.59614259e-02, 3.63524169e-01, 2.67706998e-02, 3.46248178e-03,\n",
       "        6.74435345e-04, 6.81700334e-02],\n",
       "       [7.69308284e-02, 5.36913976e-05, 1.38955731e-02, 1.63167287e-02,\n",
       "        2.05964908e-01, 3.17708611e-01, 2.40940467e-01, 2.44701579e-02,\n",
       "        9.02634189e-02, 1.34556005e-02],\n",
       "       [1.85017109e-01, 4.75987617e-04, 2.42270697e-02, 1.03126831e-05,\n",
       "        1.02085970e-01, 2.85798132e-01, 8.58499184e-02, 6.20583370e-02,\n",
       "        3.46262823e-07, 2.54476815e-01],\n",
       "       [9.87400413e-02, 4.57317978e-02, 1.66084599e-02, 1.04095116e-02,\n",
       "        1.66996256e-01, 4.06048298e-01, 8.40244442e-02, 1.34008363e-01,\n",
       "        3.70526873e-02, 3.80152196e-04]], dtype=float32)"
      ]
     },
     "execution_count": 5,
     "metadata": {},
     "output_type": "execute_result"
    }
   ],
   "source": [
    "x"
   ]
  },
  {
   "cell_type": "code",
   "execution_count": 10,
   "metadata": {},
   "outputs": [
    {
     "data": {
      "image/png": "[encoded data removed]",
      "text/plain": [
       "<Figure size 640x480 with 1 Axes>"
      ]
     },
     "metadata": {},
     "output_type": "display_data"
    }
   ],
   "source": [
    "import numpy as np\n",
    "import torch\n",
    "\n",
    "def get_projection_matrix(k):\n",
    "    theta = (2*np.pi/k) * (np.arange(k) + 0.5)\n",
    "    return np.stack([np.sin(theta), np.cos(theta)], axis=0)\n",
    "\n",
    "num_classes = 10\n",
    "T = get_projection_matrix(num_classes)\n",
    "\n",
    "x = torch.distributions.dirichlet.Dirichlet(torch.rand(num_classes)).sample((100,)).numpy()\n",
    "points = T @ x.T\n",
    "\n",
    "\n",
    "\n",
    "import matplotlib.pyplot as plt\n",
    "\n",
    "# Define the vertices of the octagon\n",
    "vertices = T @ np.eye(num_classes)\n",
    "vertices = np.hstack([vertices, vertices[:, 0:1]])\n",
    "\n",
    "# Create a figure and axis object\n",
    "fig, ax = plt.subplots()\n",
    "\n",
    "# Plot the octagon\n",
    "# ax.plot(vertices[0], vertices[1], color='black', linewidth=2)\n",
    "for i, vertex in enumerate(vertices[:,:-1].T):\n",
    "    ax.text(vertex[0], vertex[1], f\"$p_{i}$\", ha='center', va='center', fontsize=12)\n",
    "    ax.plot([0, vertex[0]], [0, vertex[1]], 'k--', linewidth=1)\n",
    "\n",
    "# Plot the points\n",
    "temperatures = [15, 20, 25, 30, 35, 30, 25, 20][:5]\n",
    "temperatures = x.max(-1)\n",
    "ax.scatter(points[0], points[1], linewidth=2, zorder=10, c=temperatures, cmap='hot')\n",
    "\n",
    "# Set the axis limits\n",
    "ax.set_xlim(-1.2, 1.2)\n",
    "ax.set_ylim(-1.2, 1.2)\n",
    "ax.set_aspect('equal')\n",
    "\n",
    "\n",
    "# Show the plots\n",
    "plt.show()"
   ]
  },
  {
   "cell_type": "code",
   "execution_count": 34,
   "metadata": {},
   "outputs": [
    {
     "data": {
      "text/plain": [
       "(100, 3)"
      ]
     },
     "execution_count": 34,
     "metadata": {},
     "output_type": "execute_result"
    }
   ],
   "source": [
    "x.shape"
   ]
  },
  {
   "cell_type": "code",
   "execution_count": 31,
   "metadata": {},
   "outputs": [
    {
     "ename": "ValueError",
     "evalue": "matmul: Input operand 1 has a mismatch in its core dimension 0, with gufunc signature (n?,k),(k,m?)->(n?,m?) (size 3 is different from 10)",
     "output_type": "error",
     "traceback": [
      "\u001b[0;31m---------------------------------------------------------------------------\u001b[0m",
      "\u001b[0;31mValueError\u001b[0m                                Traceback (most recent call last)",
      "Cell \u001b[0;32mIn[31], line 47\u001b[0m\n\u001b[1;32m     43\u001b[0m \u001b[39m# break\u001b[39;00m\n\u001b[1;32m     46\u001b[0m x \u001b[39m=\u001b[39m raw_data\n\u001b[0;32m---> 47\u001b[0m points \u001b[39m=\u001b[39m T \u001b[39m@\u001b[39;49m x\u001b[39m.\u001b[39;49mT\n\u001b[1;32m     52\u001b[0m \u001b[39m# Define the vertices of the octagon\u001b[39;00m\n\u001b[1;32m     53\u001b[0m vertices \u001b[39m=\u001b[39m T \u001b[39m@\u001b[39m np\u001b[39m.\u001b[39meye(num_classes)\n",
      "\u001b[0;31mValueError\u001b[0m: matmul: Input operand 1 has a mismatch in its core dimension 0, with gufunc signature (n?,k),(k,m?)->(n?,m?) (size 3 is different from 10)"
     ]
    },
    {
     "data": {
      "text/plain": [
       "<Figure size 2500x1000 with 0 Axes>"
      ]
     },
     "metadata": {},
     "output_type": "display_data"
    }
   ],
   "source": []
  },
  {
   "cell_type": "code",
   "execution_count": 17,
   "metadata": {},
   "outputs": [
    {
     "data": {
      "text/plain": [
       "array([[3.6775550e-01, 6.2561661e-01, 6.6278689e-03],\n",
       "       [5.2070100e-02, 1.4358385e-01, 8.0434602e-01],\n",
       "       [4.7368643e-01, 4.8702164e-03, 5.2144337e-01],\n",
       "       [7.6561131e-02, 4.0714018e-04, 9.2303175e-01],\n",
       "       [6.7469025e-01, 3.2530972e-01, 1.7906617e-08]], dtype=float32)"
      ]
     },
     "execution_count": 17,
     "metadata": {},
     "output_type": "execute_result"
    }
   ],
   "source": [
    "points_3d"
   ]
  },
  {
   "cell_type": "code",
   "execution_count": 16,
   "metadata": {},
   "outputs": [
    {
     "data": {
      "image/png": "[encoded data removed]",
      "text/plain": [
       "<Figure size 640x480 with 1 Axes>"
      ]
     },
     "metadata": {},
     "output_type": "display_data"
    }
   ],
   "source": [
    "from __future__ import division\n",
    "from math import sqrt\n",
    "import numpy as np\n",
    "import matplotlib.pyplot as plt\n",
    "import matplotlib.tri as tri\n",
    "\n",
    "\n",
    "def project_3d_to_simplex(points_ndarray):\n",
    "    x = np.empty((2, len(points_ndarray)))\n",
    "    x[:] = \\\n",
    "        (points_ndarray[:, 0] + 2*points_ndarray[:, 2])*sqrt(3)/3, \\\n",
    "        points_ndarray[:, 0]\n",
    "    return x\n",
    "\n",
    "\n",
    "# points_3d = np.array([[1, 0, 0], [0, 1, 0], [0, 0, 1], [1/3, 1/3, 1/3]])\n",
    "points_3d = torch.distributions.dirichlet.Dirichlet(torch.rand(3)).sample((5,)).numpy()\n",
    "points_simplex = project_3d_to_simplex(points_3d)\n",
    "\n",
    "points2_3d = np.array([[1/2, 1/2, 0], [0, 1/2, 1/2], [1/2, 0, 1/2], [1/2, 1/2, 0]])\n",
    "points2_simplex = project_3d_to_simplex(points2_3d)\n",
    "\n",
    "\n",
    "vertices= np.array([[sqrt(3)/3, 1], [0, 0], [2*sqrt(3)/3, 0]])\n",
    "triangle = tri.Triangulation(vertices[:, 0], vertices[:, 1])\n",
    "\n",
    "fig, ax = plt.subplots()\n",
    "ax.triplot(triangle)\n",
    "ax.set_axis_off()\n",
    "# ax.set_xlim(0, 2*sqrt(3)/3)\n",
    "# ax.set_ylim(0, 1)\n",
    "ax.set_aspect('equal')\n",
    "ax.scatter(points_simplex[0], points_simplex[1], c='black')\n",
    "ax.scatter(points2_simplex[0], points2_simplex[1], c='black')\n",
    "ax.plot(points2_simplex[0], points2_simplex[1], c='black')\n",
    "plt.show()"
   ]
  },
  {
   "cell_type": "code",
   "execution_count": 19,
   "metadata": {},
   "outputs": [
    {
     "ename": "ValueError",
     "evalue": "x and y must have same first dimension, but have shapes (5,) and (4,)",
     "output_type": "error",
     "traceback": [
      "\u001b[0;31m---------------------------------------------------------------------------\u001b[0m",
      "\u001b[0;31mValueError\u001b[0m                                Traceback (most recent call last)",
      "Cell \u001b[0;32mIn[19], line 34\u001b[0m\n\u001b[1;32m     31\u001b[0m \u001b[39m# Example class labels\u001b[39;00m\n\u001b[1;32m     32\u001b[0m class_labels \u001b[39m=\u001b[39m [\u001b[39m'\u001b[39m\u001b[39mClass A\u001b[39m\u001b[39m'\u001b[39m, \u001b[39m'\u001b[39m\u001b[39mClass B\u001b[39m\u001b[39m'\u001b[39m, \u001b[39m'\u001b[39m\u001b[39mClass C\u001b[39m\u001b[39m'\u001b[39m]\n\u001b[0;32m---> 34\u001b[0m plot_radar_chart(probability_vectors, class_labels)\n",
      "Cell \u001b[0;32mIn[19], line 14\u001b[0m, in \u001b[0;36mplot_radar_chart\u001b[0;34m(probability_vectors, class_labels)\u001b[0m\n\u001b[1;32m     12\u001b[0m     values \u001b[39m+\u001b[39m\u001b[39m=\u001b[39m values[:\u001b[39m1\u001b[39m]  \u001b[39m# Repeat the first value to close the polygon\u001b[39;00m\n\u001b[1;32m     13\u001b[0m     angles \u001b[39m+\u001b[39m\u001b[39m=\u001b[39m angles[:\u001b[39m1\u001b[39m]  \u001b[39m# Repeat the first angle to close the polygon\u001b[39;00m\n\u001b[0;32m---> 14\u001b[0m     ax\u001b[39m.\u001b[39;49mplot(angles, values, linewidth\u001b[39m=\u001b[39;49m\u001b[39m1\u001b[39;49m, linestyle\u001b[39m=\u001b[39;49m\u001b[39m'\u001b[39;49m\u001b[39msolid\u001b[39;49m\u001b[39m'\u001b[39;49m)\n\u001b[1;32m     15\u001b[0m     ax\u001b[39m.\u001b[39mfill(angles, values, alpha\u001b[39m=\u001b[39m\u001b[39m0.25\u001b[39m)\n\u001b[1;32m     17\u001b[0m ax\u001b[39m.\u001b[39mset_theta_offset(np\u001b[39m.\u001b[39mpi \u001b[39m/\u001b[39m \u001b[39m2\u001b[39m)\n",
      "File \u001b[0;32m/opt/conda/lib/python3.10/site-packages/matplotlib/axes/_axes.py:1688\u001b[0m, in \u001b[0;36mAxes.plot\u001b[0;34m(self, scalex, scaley, data, *args, **kwargs)\u001b[0m\n\u001b[1;32m   1445\u001b[0m \u001b[39m\"\"\"\u001b[39;00m\n\u001b[1;32m   1446\u001b[0m \u001b[39mPlot y versus x as lines and/or markers.\u001b[39;00m\n\u001b[1;32m   1447\u001b[0m \n\u001b[0;32m   (...)\u001b[0m\n\u001b[1;32m   1685\u001b[0m \u001b[39m(``'green'``) or hex strings (``'#008000'``).\u001b[39;00m\n\u001b[1;32m   1686\u001b[0m \u001b[39m\"\"\"\u001b[39;00m\n\u001b[1;32m   1687\u001b[0m kwargs \u001b[39m=\u001b[39m cbook\u001b[39m.\u001b[39mnormalize_kwargs(kwargs, mlines\u001b[39m.\u001b[39mLine2D)\n\u001b[0;32m-> 1688\u001b[0m lines \u001b[39m=\u001b[39m [\u001b[39m*\u001b[39m\u001b[39mself\u001b[39m\u001b[39m.\u001b[39m_get_lines(\u001b[39m*\u001b[39margs, data\u001b[39m=\u001b[39mdata, \u001b[39m*\u001b[39m\u001b[39m*\u001b[39mkwargs)]\n\u001b[1;32m   1689\u001b[0m \u001b[39mfor\u001b[39;00m line \u001b[39min\u001b[39;00m lines:\n\u001b[1;32m   1690\u001b[0m     \u001b[39mself\u001b[39m\u001b[39m.\u001b[39madd_line(line)\n",
      "File \u001b[0;32m/opt/conda/lib/python3.10/site-packages/matplotlib/axes/_base.py:311\u001b[0m, in \u001b[0;36m_process_plot_var_args.__call__\u001b[0;34m(self, data, *args, **kwargs)\u001b[0m\n\u001b[1;32m    309\u001b[0m     this \u001b[39m+\u001b[39m\u001b[39m=\u001b[39m args[\u001b[39m0\u001b[39m],\n\u001b[1;32m    310\u001b[0m     args \u001b[39m=\u001b[39m args[\u001b[39m1\u001b[39m:]\n\u001b[0;32m--> 311\u001b[0m \u001b[39myield from\u001b[39;00m \u001b[39mself\u001b[39;49m\u001b[39m.\u001b[39;49m_plot_args(\n\u001b[1;32m    312\u001b[0m     this, kwargs, ambiguous_fmt_datakey\u001b[39m=\u001b[39;49mambiguous_fmt_datakey)\n",
      "File \u001b[0;32m/opt/conda/lib/python3.10/site-packages/matplotlib/axes/_base.py:504\u001b[0m, in \u001b[0;36m_process_plot_var_args._plot_args\u001b[0;34m(self, tup, kwargs, return_kwargs, ambiguous_fmt_datakey)\u001b[0m\n\u001b[1;32m    501\u001b[0m     \u001b[39mself\u001b[39m\u001b[39m.\u001b[39maxes\u001b[39m.\u001b[39myaxis\u001b[39m.\u001b[39mupdate_units(y)\n\u001b[1;32m    503\u001b[0m \u001b[39mif\u001b[39;00m x\u001b[39m.\u001b[39mshape[\u001b[39m0\u001b[39m] \u001b[39m!=\u001b[39m y\u001b[39m.\u001b[39mshape[\u001b[39m0\u001b[39m]:\n\u001b[0;32m--> 504\u001b[0m     \u001b[39mraise\u001b[39;00m \u001b[39mValueError\u001b[39;00m(\u001b[39mf\u001b[39m\u001b[39m\"\u001b[39m\u001b[39mx and y must have same first dimension, but \u001b[39m\u001b[39m\"\u001b[39m\n\u001b[1;32m    505\u001b[0m                      \u001b[39mf\u001b[39m\u001b[39m\"\u001b[39m\u001b[39mhave shapes \u001b[39m\u001b[39m{\u001b[39;00mx\u001b[39m.\u001b[39mshape\u001b[39m}\u001b[39;00m\u001b[39m and \u001b[39m\u001b[39m{\u001b[39;00my\u001b[39m.\u001b[39mshape\u001b[39m}\u001b[39;00m\u001b[39m\"\u001b[39m)\n\u001b[1;32m    506\u001b[0m \u001b[39mif\u001b[39;00m x\u001b[39m.\u001b[39mndim \u001b[39m>\u001b[39m \u001b[39m2\u001b[39m \u001b[39mor\u001b[39;00m y\u001b[39m.\u001b[39mndim \u001b[39m>\u001b[39m \u001b[39m2\u001b[39m:\n\u001b[1;32m    507\u001b[0m     \u001b[39mraise\u001b[39;00m \u001b[39mValueError\u001b[39;00m(\u001b[39mf\u001b[39m\u001b[39m\"\u001b[39m\u001b[39mx and y can be no greater than 2D, but have \u001b[39m\u001b[39m\"\u001b[39m\n\u001b[1;32m    508\u001b[0m                      \u001b[39mf\u001b[39m\u001b[39m\"\u001b[39m\u001b[39mshapes \u001b[39m\u001b[39m{\u001b[39;00mx\u001b[39m.\u001b[39mshape\u001b[39m}\u001b[39;00m\u001b[39m and \u001b[39m\u001b[39m{\u001b[39;00my\u001b[39m.\u001b[39mshape\u001b[39m}\u001b[39;00m\u001b[39m\"\u001b[39m)\n",
      "\u001b[0;31mValueError\u001b[0m: x and y must have same first dimension, but have shapes (5,) and (4,)"
     ]
    },
    {
     "data": {
      "image/png": "[encoded data removed]",
      "text/plain": [
       "<Figure size 600x600 with 1 Axes>"
      ]
     },
     "metadata": {},
     "output_type": "display_data"
    }
   ],
   "source": [
    "import numpy as np\n",
    "import matplotlib.pyplot as plt\n",
    "\n",
    "def plot_radar_chart(probability_vectors, class_labels):\n",
    "    num_classes = len(class_labels)\n",
    "    angles = np.linspace(0, 2 * np.pi, num_classes, endpoint=False).tolist()\n",
    "    \n",
    "    fig, ax = plt.subplots(figsize=(6, 6), subplot_kw=dict(polar=True))\n",
    "    \n",
    "    for probability_vector in probability_vectors:\n",
    "        values = probability_vector\n",
    "        values += values[:1]  # Repeat the first value to close the polygon\n",
    "        angles += angles[:1]  # Repeat the first angle to close the polygon\n",
    "        ax.plot(angles, values, linewidth=1, linestyle='solid')\n",
    "        ax.fill(angles, values, alpha=0.25)\n",
    "\n",
    "    ax.set_theta_offset(np.pi / 2)\n",
    "    ax.set_theta_direction(-1)\n",
    "    ax.set_thetagrids(np.degrees(angles), class_labels)\n",
    "\n",
    "    ax.set_ylim(0, 1)\n",
    "    plt.show()\n",
    "\n",
    "# Example probability vectors\n",
    "probability_vectors = [\n",
    "    [0.2, 0.5, 0.3],\n",
    "    [0.7, 0.1, 0.2],\n",
    "    [0.3, 0.3, 0.4]\n",
    "]\n",
    "\n",
    "# Example class labels\n",
    "class_labels = ['Class A', 'Class B', 'Class C']\n",
    "\n",
    "plot_radar_chart(probability_vectors, class_labels)\n"
   ]
  },
  {
   "cell_type": "code",
   "execution_count": 20,
   "metadata": {},
   "outputs": [
    {
     "data": {
      "image/png": "[encoded data removed]",
      "text/plain": [
       "<Figure size 800x600 with 1 Axes>"
      ]
     },
     "metadata": {},
     "output_type": "display_data"
    }
   ],
   "source": [
    "import numpy as np\n",
    "import matplotlib.pyplot as plt\n",
    "\n",
    "def plot_violin_plot(probability_vectors, class_labels):\n",
    "    num_classes = len(class_labels)\n",
    "    \n",
    "    # Transpose the probability_vectors\n",
    "    transposed_vectors = np.transpose(probability_vectors)\n",
    "\n",
    "    fig, ax = plt.subplots(figsize=(8, 6))\n",
    "    ax.violinplot(transposed_vectors, showmeans=True, showmedians=False)\n",
    "\n",
    "    ax.set_xticks(range(1, num_classes + 1))\n",
    "    ax.set_xticklabels(class_labels)\n",
    "    ax.set_ylabel('Probability')\n",
    "    ax.set_ylim(0, 1)\n",
    "\n",
    "    plt.show()\n",
    "\n",
    "# Example probability vectors\n",
    "probability_vectors = [\n",
    "    [0.2, 0.5, 0.3],\n",
    "    [0.7, 0.1, 0.2],\n",
    "    [0.3, 0.3, 0.4],\n",
    "    [0.4, 0.4, 0.2]\n",
    "]\n",
    "\n",
    "# Example class labels\n",
    "class_labels = ['Class A', 'Class B', 'Class C']\n",
    "\n",
    "plot_violin_plot(probability_vectors, class_labels)\n"
   ]
  },
  {
   "cell_type": "code",
   "execution_count": 21,
   "metadata": {},
   "outputs": [
    {
     "name": "stdout",
     "output_type": "stream",
     "text": [
      "Defaulting to user installation because normal site-packages is not writeable\n",
      "Collecting python-ternary\n",
      "  Downloading python_ternary-1.0.8-py3-none-any.whl (18 kB)\n",
      "Requirement already satisfied: matplotlib>=2 in /opt/conda/lib/python3.10/site-packages (from python-ternary) (3.7.1)\n",
      "Requirement already satisfied: cycler>=0.10 in /opt/conda/lib/python3.10/site-packages (from matplotlib>=2->python-ternary) (0.11.0)\n",
      "Requirement already satisfied: fonttools>=4.22.0 in /opt/conda/lib/python3.10/site-packages (from matplotlib>=2->python-ternary) (4.39.3)\n",
      "Requirement already satisfied: contourpy>=1.0.1 in /opt/conda/lib/python3.10/site-packages (from matplotlib>=2->python-ternary) (1.0.7)\n",
      "Requirement already satisfied: numpy>=1.20 in /opt/conda/lib/python3.10/site-packages (from matplotlib>=2->python-ternary) (1.23.5)\n",
      "Requirement already satisfied: python-dateutil>=2.7 in /opt/conda/lib/python3.10/site-packages (from matplotlib>=2->python-ternary) (2.8.2)\n",
      "Requirement already satisfied: pillow>=6.2.0 in /opt/conda/lib/python3.10/site-packages (from matplotlib>=2->python-ternary) (9.4.0)\n",
      "Requirement already satisfied: kiwisolver>=1.0.1 in /opt/conda/lib/python3.10/site-packages (from matplotlib>=2->python-ternary) (1.4.4)\n",
      "Requirement already satisfied: packaging>=20.0 in /opt/conda/lib/python3.10/site-packages (from matplotlib>=2->python-ternary) (23.1)\n",
      "Requirement already satisfied: pyparsing>=2.3.1 in /opt/conda/lib/python3.10/site-packages (from matplotlib>=2->python-ternary) (3.0.9)\n",
      "Requirement already satisfied: six>=1.5 in /opt/conda/lib/python3.10/site-packages (from python-dateutil>=2.7->matplotlib>=2->python-ternary) (1.16.0)\n",
      "Installing collected packages: python-ternary\n",
      "Successfully installed python-ternary-1.0.8\n",
      "\n",
      "\u001b[1m[\u001b[0m\u001b[34;49mnotice\u001b[0m\u001b[1;39;49m]\u001b[0m\u001b[39;49m A new release of pip is available: \u001b[0m\u001b[31;49m23.0.1\u001b[0m\u001b[39;49m -> \u001b[0m\u001b[32;49m23.1.2\u001b[0m\n",
      "\u001b[1m[\u001b[0m\u001b[34;49mnotice\u001b[0m\u001b[1;39;49m]\u001b[0m\u001b[39;49m To update, run: \u001b[0m\u001b[32;49mpip install --upgrade pip\u001b[0m\n"
     ]
    }
   ],
   "source": [
    "!pip install python-ternary"
   ]
  },
  {
   "cell_type": "code",
   "execution_count": 22,
   "metadata": {},
   "outputs": [
    {
     "name": "stderr",
     "output_type": "stream",
     "text": [
      "/home/user/.local/lib/python3.10/site-packages/ternary/plotting.py:148: UserWarning: No data for colormapping provided via 'c'. Parameters 'vmin', 'vmax' will be ignored\n",
      "  ax.scatter(xs, ys, vmin=vmin, vmax=vmax, **kwargs)\n"
     ]
    },
    {
     "data": {
      "image/png": "[encoded data removed]",
      "text/plain": [
       "<Figure size 640x480 with 1 Axes>"
      ]
     },
     "metadata": {},
     "output_type": "display_data"
    }
   ],
   "source": [
    "import ternary\n",
    "import matplotlib.pyplot as plt\n",
    "\n",
    "def plot_ternary_plot(probability_vectors, class_labels):\n",
    "    figure, tax = ternary.figure(scale=1.0)\n",
    "    tax.boundary(linewidth=2.0)\n",
    "    tax.gridlines(multiple=0.1, color=\"blue\")\n",
    "    \n",
    "    # Plot the probability vectors\n",
    "    for probability_vector in probability_vectors:\n",
    "        tax.scatter([probability_vector], marker='o', color='red', s=30)\n",
    "\n",
    "    # Set the labels\n",
    "    tax.left_axis_label(class_labels[0], fontsize=10, offset=0.12)\n",
    "    tax.right_axis_label(class_labels[1], fontsize=10, offset=0.12)\n",
    "    tax.bottom_axis_label(class_labels[2], fontsize=10, offset=0.12)\n",
    "\n",
    "    # Remove the default Matplotlib axis\n",
    "    tax.get_axes().axis('off')\n",
    "    tax.clear_matplotlib_ticks()\n",
    "\n",
    "    plt.show()\n",
    "\n",
    "# Example probability vectors\n",
    "probability_vectors = [\n",
    "    [0.2, 0.5, 0.3],\n",
    "    [0.7, 0.1, 0.2],\n",
    "    [0.3, 0.3, 0.4]\n",
    "]\n",
    "\n",
    "# Example class labels\n",
    "class_labels = ['Class A', 'Class B', 'Class C']\n",
    "\n",
    "plot_ternary_plot(probability_vectors, class_labels)\n"
   ]
  },
  {
   "attachments": {},
   "cell_type": "markdown",
   "metadata": {},
   "source": [
    "## perturbation-based filtering"
   ]
  },
  {
   "cell_type": "code",
   "execution_count": 3,
   "metadata": {},
   "outputs": [
    {
     "name": "stdout",
     "output_type": "stream",
     "text": [
      "Files already downloaded and verified\n"
     ]
    },
    {
     "ename": "KeyboardInterrupt",
     "evalue": "",
     "output_type": "error",
     "traceback": [
      "\u001b[0;31m---------------------------------------------------------------------------\u001b[0m",
      "\u001b[0;31mKeyboardInterrupt\u001b[0m                         Traceback (most recent call last)",
      "Cell \u001b[0;32mIn[3], line 47\u001b[0m\n\u001b[1;32m     44\u001b[0m losses \u001b[39m=\u001b[39m []\n\u001b[1;32m     45\u001b[0m \u001b[39mfor\u001b[39;00m _ \u001b[39min\u001b[39;00m \u001b[39mrange\u001b[39m(\u001b[39m10\u001b[39m):\n\u001b[1;32m     46\u001b[0m     \u001b[39m# data_ = torch.normal(transform_normalize(data), 0.1)\u001b[39;00m\n\u001b[0;32m---> 47\u001b[0m     data_ \u001b[39m=\u001b[39m transform_tta(data)\n\u001b[1;32m     48\u001b[0m     output \u001b[39m=\u001b[39m trainer\u001b[39m.\u001b[39mmodel(data_)\n\u001b[1;32m     49\u001b[0m     loss \u001b[39m=\u001b[39m trainer\u001b[39m.\u001b[39mcriterion(output, target)\n",
      "File \u001b[0;32m/opt/conda/lib/python3.10/site-packages/torchvision/transforms/transforms.py:95\u001b[0m, in \u001b[0;36mCompose.__call__\u001b[0;34m(self, img)\u001b[0m\n\u001b[1;32m     93\u001b[0m \u001b[39mdef\u001b[39;00m \u001b[39m__call__\u001b[39m(\u001b[39mself\u001b[39m, img):\n\u001b[1;32m     94\u001b[0m     \u001b[39mfor\u001b[39;00m t \u001b[39min\u001b[39;00m \u001b[39mself\u001b[39m\u001b[39m.\u001b[39mtransforms:\n\u001b[0;32m---> 95\u001b[0m         img \u001b[39m=\u001b[39m t(img)\n\u001b[1;32m     96\u001b[0m     \u001b[39mreturn\u001b[39;00m img\n",
      "File \u001b[0;32m/opt/conda/lib/python3.10/site-packages/torch/nn/modules/module.py:1501\u001b[0m, in \u001b[0;36mModule._call_impl\u001b[0;34m(self, *args, **kwargs)\u001b[0m\n\u001b[1;32m   1496\u001b[0m \u001b[39m# If we don't have any hooks, we want to skip the rest of the logic in\u001b[39;00m\n\u001b[1;32m   1497\u001b[0m \u001b[39m# this function, and just call forward.\u001b[39;00m\n\u001b[1;32m   1498\u001b[0m \u001b[39mif\u001b[39;00m \u001b[39mnot\u001b[39;00m (\u001b[39mself\u001b[39m\u001b[39m.\u001b[39m_backward_hooks \u001b[39mor\u001b[39;00m \u001b[39mself\u001b[39m\u001b[39m.\u001b[39m_backward_pre_hooks \u001b[39mor\u001b[39;00m \u001b[39mself\u001b[39m\u001b[39m.\u001b[39m_forward_hooks \u001b[39mor\u001b[39;00m \u001b[39mself\u001b[39m\u001b[39m.\u001b[39m_forward_pre_hooks\n\u001b[1;32m   1499\u001b[0m         \u001b[39mor\u001b[39;00m _global_backward_pre_hooks \u001b[39mor\u001b[39;00m _global_backward_hooks\n\u001b[1;32m   1500\u001b[0m         \u001b[39mor\u001b[39;00m _global_forward_hooks \u001b[39mor\u001b[39;00m _global_forward_pre_hooks):\n\u001b[0;32m-> 1501\u001b[0m     \u001b[39mreturn\u001b[39;00m forward_call(\u001b[39m*\u001b[39;49margs, \u001b[39m*\u001b[39;49m\u001b[39m*\u001b[39;49mkwargs)\n\u001b[1;32m   1502\u001b[0m \u001b[39m# Do not call functions when jit is used\u001b[39;00m\n\u001b[1;32m   1503\u001b[0m full_backward_hooks, non_full_backward_hooks \u001b[39m=\u001b[39m [], []\n",
      "File \u001b[0;32m/opt/conda/lib/python3.10/site-packages/torchvision/transforms/autoaugment.py:279\u001b[0m, in \u001b[0;36mAutoAugment.forward\u001b[0;34m(self, img)\u001b[0m\n\u001b[1;32m    277\u001b[0m         \u001b[39mif\u001b[39;00m signed \u001b[39mand\u001b[39;00m signs[i] \u001b[39m==\u001b[39m \u001b[39m0\u001b[39m:\n\u001b[1;32m    278\u001b[0m             magnitude \u001b[39m*\u001b[39m\u001b[39m=\u001b[39m \u001b[39m-\u001b[39m\u001b[39m1.0\u001b[39m\n\u001b[0;32m--> 279\u001b[0m         img \u001b[39m=\u001b[39m _apply_op(img, op_name, magnitude, interpolation\u001b[39m=\u001b[39;49m\u001b[39mself\u001b[39;49m\u001b[39m.\u001b[39;49minterpolation, fill\u001b[39m=\u001b[39;49mfill)\n\u001b[1;32m    281\u001b[0m \u001b[39mreturn\u001b[39;00m img\n",
      "File \u001b[0;32m/opt/conda/lib/python3.10/site-packages/torchvision/transforms/autoaugment.py:83\u001b[0m, in \u001b[0;36m_apply_op\u001b[0;34m(img, op_name, magnitude, interpolation, fill)\u001b[0m\n\u001b[1;32m     81\u001b[0m     img \u001b[39m=\u001b[39m F\u001b[39m.\u001b[39mautocontrast(img)\n\u001b[1;32m     82\u001b[0m \u001b[39melif\u001b[39;00m op_name \u001b[39m==\u001b[39m \u001b[39m\"\u001b[39m\u001b[39mEqualize\u001b[39m\u001b[39m\"\u001b[39m:\n\u001b[0;32m---> 83\u001b[0m     img \u001b[39m=\u001b[39m F\u001b[39m.\u001b[39;49mequalize(img)\n\u001b[1;32m     84\u001b[0m \u001b[39melif\u001b[39;00m op_name \u001b[39m==\u001b[39m \u001b[39m\"\u001b[39m\u001b[39mInvert\u001b[39m\u001b[39m\"\u001b[39m:\n\u001b[1;32m     85\u001b[0m     img \u001b[39m=\u001b[39m F\u001b[39m.\u001b[39minvert(img)\n",
      "File \u001b[0;32m/opt/conda/lib/python3.10/site-packages/torchvision/transforms/functional.py:1521\u001b[0m, in \u001b[0;36mequalize\u001b[0;34m(img)\u001b[0m\n\u001b[1;32m   1518\u001b[0m \u001b[39mif\u001b[39;00m \u001b[39mnot\u001b[39;00m \u001b[39misinstance\u001b[39m(img, torch\u001b[39m.\u001b[39mTensor):\n\u001b[1;32m   1519\u001b[0m     \u001b[39mreturn\u001b[39;00m F_pil\u001b[39m.\u001b[39mequalize(img)\n\u001b[0;32m-> 1521\u001b[0m \u001b[39mreturn\u001b[39;00m F_t\u001b[39m.\u001b[39;49mequalize(img)\n",
      "File \u001b[0;32m/opt/conda/lib/python3.10/site-packages/torchvision/transforms/_functional_tensor.py:902\u001b[0m, in \u001b[0;36mequalize\u001b[0;34m(img)\u001b[0m\n\u001b[1;32m    899\u001b[0m \u001b[39mif\u001b[39;00m img\u001b[39m.\u001b[39mndim \u001b[39m==\u001b[39m \u001b[39m3\u001b[39m:\n\u001b[1;32m    900\u001b[0m     \u001b[39mreturn\u001b[39;00m _equalize_single_image(img)\n\u001b[0;32m--> 902\u001b[0m \u001b[39mreturn\u001b[39;00m torch\u001b[39m.\u001b[39mstack([_equalize_single_image(x) \u001b[39mfor\u001b[39;00m x \u001b[39min\u001b[39;00m img])\n",
      "File \u001b[0;32m/opt/conda/lib/python3.10/site-packages/torchvision/transforms/_functional_tensor.py:902\u001b[0m, in \u001b[0;36m<listcomp>\u001b[0;34m(.0)\u001b[0m\n\u001b[1;32m    899\u001b[0m \u001b[39mif\u001b[39;00m img\u001b[39m.\u001b[39mndim \u001b[39m==\u001b[39m \u001b[39m3\u001b[39m:\n\u001b[1;32m    900\u001b[0m     \u001b[39mreturn\u001b[39;00m _equalize_single_image(img)\n\u001b[0;32m--> 902\u001b[0m \u001b[39mreturn\u001b[39;00m torch\u001b[39m.\u001b[39mstack([_equalize_single_image(x) \u001b[39mfor\u001b[39;00m x \u001b[39min\u001b[39;00m img])\n",
      "File \u001b[0;32m/opt/conda/lib/python3.10/site-packages/torchvision/transforms/_functional_tensor.py:885\u001b[0m, in \u001b[0;36m_equalize_single_image\u001b[0;34m(img)\u001b[0m\n\u001b[1;32m    884\u001b[0m \u001b[39mdef\u001b[39;00m \u001b[39m_equalize_single_image\u001b[39m(img: Tensor) \u001b[39m-\u001b[39m\u001b[39m>\u001b[39m Tensor:\n\u001b[0;32m--> 885\u001b[0m     \u001b[39mreturn\u001b[39;00m torch\u001b[39m.\u001b[39mstack([_scale_channel(img[c]) \u001b[39mfor\u001b[39;00m c \u001b[39min\u001b[39;00m \u001b[39mrange\u001b[39m(img\u001b[39m.\u001b[39msize(\u001b[39m0\u001b[39m))])\n",
      "File \u001b[0;32m/opt/conda/lib/python3.10/site-packages/torchvision/transforms/_functional_tensor.py:885\u001b[0m, in \u001b[0;36m<listcomp>\u001b[0;34m(.0)\u001b[0m\n\u001b[1;32m    884\u001b[0m \u001b[39mdef\u001b[39;00m \u001b[39m_equalize_single_image\u001b[39m(img: Tensor) \u001b[39m-\u001b[39m\u001b[39m>\u001b[39m Tensor:\n\u001b[0;32m--> 885\u001b[0m     \u001b[39mreturn\u001b[39;00m torch\u001b[39m.\u001b[39mstack([_scale_channel(img[c]) \u001b[39mfor\u001b[39;00m c \u001b[39min\u001b[39;00m \u001b[39mrange\u001b[39m(img\u001b[39m.\u001b[39msize(\u001b[39m0\u001b[39m))])\n",
      "File \u001b[0;32m/opt/conda/lib/python3.10/site-packages/torchvision/transforms/_functional_tensor.py:878\u001b[0m, in \u001b[0;36m_scale_channel\u001b[0;34m(img_chan)\u001b[0m\n\u001b[1;32m    875\u001b[0m \u001b[39mif\u001b[39;00m step \u001b[39m==\u001b[39m \u001b[39m0\u001b[39m:\n\u001b[1;32m    876\u001b[0m     \u001b[39mreturn\u001b[39;00m img_chan\n\u001b[0;32m--> 878\u001b[0m lut \u001b[39m=\u001b[39m torch\u001b[39m.\u001b[39;49mdiv(torch\u001b[39m.\u001b[39;49mcumsum(hist, \u001b[39m0\u001b[39;49m) \u001b[39m+\u001b[39;49m torch\u001b[39m.\u001b[39;49mdiv(step, \u001b[39m2\u001b[39;49m, rounding_mode\u001b[39m=\u001b[39;49m\u001b[39m\"\u001b[39;49m\u001b[39mfloor\u001b[39;49m\u001b[39m\"\u001b[39;49m), step, rounding_mode\u001b[39m=\u001b[39;49m\u001b[39m\"\u001b[39;49m\u001b[39mfloor\u001b[39;49m\u001b[39m\"\u001b[39;49m)\n\u001b[1;32m    879\u001b[0m lut \u001b[39m=\u001b[39m torch\u001b[39m.\u001b[39mnn\u001b[39m.\u001b[39mfunctional\u001b[39m.\u001b[39mpad(lut, [\u001b[39m1\u001b[39m, \u001b[39m0\u001b[39m])[:\u001b[39m-\u001b[39m\u001b[39m1\u001b[39m]\u001b[39m.\u001b[39mclamp(\u001b[39m0\u001b[39m, \u001b[39m255\u001b[39m)\n\u001b[1;32m    881\u001b[0m \u001b[39mreturn\u001b[39;00m lut[img_chan\u001b[39m.\u001b[39mto(torch\u001b[39m.\u001b[39mint64)]\u001b[39m.\u001b[39mto(torch\u001b[39m.\u001b[39muint8)\n",
      "\u001b[0;31mKeyboardInterrupt\u001b[0m: "
     ]
    }
   ],
   "source": [
    "# perturbation-based filtering\n",
    "\n",
    "from torchvision import transforms\n",
    "from torchvision.transforms.autoaugment import AutoAugment, AutoAugmentPolicy\n",
    "import torchvision.transforms.functional as F\n",
    "\n",
    "\n",
    "\n",
    "transform_train = transforms.Compose([\n",
    "    # transforms.ToTensor(),\n",
    "    transforms.Lambda(lambda x: torch.tensor(np.array(x)).permute(2,0,1))\n",
    "])\n",
    "\n",
    "transform_normalize = transforms.Compose([\n",
    "    transforms.Lambda(lambda x: x/255.0),\n",
    "    transforms.Normalize((0.4914, 0.4822, 0.4465), (0.2023, 0.1994, 0.2010)),\n",
    "])\n",
    "transform_tta = transforms.Compose([\n",
    "    AutoAugment(AutoAugmentPolicy.CIFAR10),\n",
    "    transforms.Lambda(lambda x: x/255.0),\n",
    "    transforms.Normalize((0.4914, 0.4822, 0.4465), (0.2023, 0.1994, 0.2010)),\n",
    "])\n",
    "# transform_train = transforms.Compose([\n",
    "#     transforms.RandomCrop(32, padding=4),\n",
    "#     transforms.RandomHorizontalFlip(),\n",
    "# ])\n",
    "\n",
    "\n",
    "train_dataset, _ = datasets.get_dataset(**config[\"data\"])\n",
    "train_dataset.transform = transform_train\n",
    "\n",
    "\n",
    "with torch.no_grad():\n",
    "    trainer.model.eval()\n",
    "    dataloader = trainer.get_dataloader(train_dataset, train=False)\n",
    "\n",
    "    result = {\n",
    "        'std': [],\n",
    "        'mean': [],\n",
    "        'is_noisy': [],\n",
    "    }\n",
    "    for batch in dataloader:\n",
    "        data, target = batch[\"image\"].cuda(), batch[\"target\"].cuda()\n",
    "        target_gt = batch[\"target_gt\"].cuda()\n",
    "        losses = []\n",
    "        for _ in range(10):\n",
    "            # data_ = torch.normal(transform_normalize(data), 0.1)\n",
    "            data_ = transform_tta(data)\n",
    "            output = trainer.model(data_)\n",
    "            loss = trainer.criterion(output, target)\n",
    "            losses.append(loss)\n",
    "        std, mean = torch.std_mean(torch.stack(losses, dim=-1), dim=-1)\n",
    "        is_noisy = (target != target_gt)\n",
    "        result['std'].append(std)\n",
    "        result['mean'].append(mean)\n",
    "        result['is_noisy'].append(is_noisy)\n",
    "\n",
    "    result['std'] = torch.cat(result['std'], dim=0).cpu()\n",
    "    result['mean'] = torch.cat(result['mean'], dim=0).cpu()\n",
    "    result['is_noisy'] = torch.cat(result['is_noisy'], dim=0).cpu()\n",
    "\n",
    "pprint.pprint(result)"
   ]
  },
  {
   "cell_type": "code",
   "execution_count": 79,
   "metadata": {},
   "outputs": [
    {
     "data": {
      "image/png": "[encoded data removed]",
      "text/plain": [
       "<Figure size 640x480 with 1 Axes>"
      ]
     },
     "metadata": {},
     "output_type": "display_data"
    },
    {
     "name": "stdout",
     "output_type": "stream",
     "text": [
      "0.9691574631369061\n"
     ]
    }
   ],
   "source": [
    "import matplotlib.pyplot as plt\n",
    "from sklearn.metrics import roc_auc_score\n",
    "\n",
    "score = result['loss']\n",
    "# score = result['mean'] + 0.5*result['std']\n",
    "# score = result['mean'] - 0.5*result['std']\n",
    "# score = result['std']\n",
    "\n",
    "blue_data = score[~result['is_noisy']]\n",
    "red_data = score[result['is_noisy']]\n",
    "auroc = roc_auc_score(is_noisy, score)\n",
    "\n",
    "fig, ax = plt.subplots(figsize=(5,3))\n",
    "ax.text(0.5, 0.9,f\"{auroc=:0.4f}\", transform=ax.transAxes, fontsize=12, horizontalalignment='center', verticalalignment='center')\n",
    "ax.hist([blue_data, red_data], color=['blue', 'red'], label=[\"clean\", \"noisy\"])\n",
    "\n",
    "ax.set_title(\"noisy label filtering\")\n",
    "ax.set_xlabel(\"score\")\n",
    "ax.set_ylabel(\"frequency\")\n",
    "ax.legend()\n",
    "plt.show()"
   ]
  },
  {
   "attachments": {},
   "cell_type": "markdown",
   "metadata": {},
   "source": [
    "## Loss magnitude based filtering (single forward pass)"
   ]
  },
  {
   "cell_type": "code",
   "execution_count": 3,
   "metadata": {},
   "outputs": [
    {
     "name": "stdout",
     "output_type": "stream",
     "text": [
      "Files already downloaded and verified\n",
      "{'is_noisy': tensor([ True, False, False,  ..., False,  True,  True]),\n",
      " 'loss': tensor([9.9999e-01, 0.0000e+00, 2.3842e-06,  ..., 2.5922e-04, 1.0000e+00,\n",
      "        9.9999e-01])}\n"
     ]
    }
   ],
   "source": [
    "# loss magnitude-based filtering\n",
    "from torchvision import transforms\n",
    "from torchvision.transforms.autoaugment import AutoAugment, AutoAugmentPolicy\n",
    "import torchvision.transforms.functional as F\n",
    "\n",
    "\n",
    "\n",
    "transform_train = transforms.Compose([\n",
    "    # transforms.ToTensor(),\n",
    "    transforms.Lambda(lambda x: torch.tensor(np.array(x)).permute(2,0,1))\n",
    "])\n",
    "\n",
    "transform_normalize = transforms.Compose([\n",
    "    transforms.Lambda(lambda x: x/255.0),\n",
    "    transforms.Normalize((0.4914, 0.4822, 0.4465), (0.2023, 0.1994, 0.2010)),\n",
    "])\n",
    "transform_tta = transforms.Compose([\n",
    "    AutoAugment(AutoAugmentPolicy.CIFAR10),\n",
    "    transforms.Lambda(lambda x: x/255.0),\n",
    "    transforms.Normalize((0.4914, 0.4822, 0.4465), (0.2023, 0.1994, 0.2010)),\n",
    "])\n",
    "# transform_train = transforms.Compose([\n",
    "#     transforms.RandomCrop(32, padding=4),\n",
    "#     transforms.RandomHorizontalFlip(),\n",
    "# ])\n",
    "\n",
    "\n",
    "train_dataset, _ = datasets.get_dataset(**config[\"data\"])\n",
    "train_dataset.transform = transform_train\n",
    "\n",
    "\n",
    "with torch.no_grad():\n",
    "    trainer.model.eval()\n",
    "    dataloader = trainer.get_dataloader(train_dataset, train=False)\n",
    "\n",
    "    result = {\n",
    "        'loss': [],\n",
    "        'is_noisy': [],\n",
    "    }\n",
    "    for batch in dataloader:\n",
    "        data, target = batch[\"image\"].cuda(), batch[\"target\"].cuda()\n",
    "        target_gt = batch[\"target_gt\"].cuda()\n",
    "        data = transform_normalize(data)\n",
    "        output = trainer.model(data)\n",
    "        loss = trainer.criterion(output, target)\n",
    "        is_noisy = (target != target_gt)\n",
    "        result['loss'].append(loss)\n",
    "        result['is_noisy'].append(is_noisy)\n",
    "\n",
    "    result['loss'] = torch.cat(result['loss'], dim=0).cpu()\n",
    "    result['is_noisy'] = torch.cat(result['is_noisy'], dim=0).cpu()\n",
    "\n",
    "pprint.pprint(result)"
   ]
  },
  {
   "cell_type": "code",
   "execution_count": 4,
   "metadata": {},
   "outputs": [
    {
     "data": {
      "text/plain": [
       "tensor([9.9999e-01, 0.0000e+00, 2.3842e-06,  ..., 2.5922e-04, 1.0000e+00,\n",
       "        9.9999e-01])"
      ]
     },
     "execution_count": 4,
     "metadata": {},
     "output_type": "execute_result"
    }
   ],
   "source": [
    "result['loss']"
   ]
  },
  {
   "cell_type": "code",
   "execution_count": 5,
   "metadata": {},
   "outputs": [
    {
     "data": {
      "image/png": "[encoded data removed]",
      "text/plain": [
       "<Figure size 500x300 with 1 Axes>"
      ]
     },
     "metadata": {},
     "output_type": "display_data"
    },
    {
     "name": "stdout",
     "output_type": "stream",
     "text": [
      "AUROC: 0.9733149005747264\n"
     ]
    }
   ],
   "source": [
    "import matplotlib.pyplot as plt\n",
    "from sklearn.metrics import roc_auc_score\n",
    "\n",
    "score = result['loss']\n",
    "# score = result['mean'] + 0.5*result['std']\n",
    "# score = result['mean'] - 0.5*result['std']\n",
    "# score = result['std']\n",
    "\n",
    "blue_data = score[~result['is_noisy']]\n",
    "red_data = score[result['is_noisy']]\n",
    "auroc = roc_auc_score(is_noisy, score)\n",
    "\n",
    "fig, ax = plt.subplots(figsize=(5,3))\n",
    "ax.text(0.5, 0.9,f\"{auroc=:0.4f}\", transform=ax.transAxes, fontsize=12, horizontalalignment='center', verticalalignment='center')\n",
    "ax.hist([blue_data, red_data], color=['blue', 'red'], label=[\"clean\", \"noisy\"])\n",
    "\n",
    "ax.set_title(\"noisy label filtering\")\n",
    "ax.set_xlabel(\"score\")\n",
    "ax.set_ylabel(\"frequency\")\n",
    "ax.legend()\n",
    "plt.show()"
   ]
  },
  {
   "attachments": {},
   "cell_type": "markdown",
   "metadata": {},
   "source": [
    "## perturbation-based filtering by estimating dirichlet distribution"
   ]
  },
  {
   "cell_type": "code",
   "execution_count": 38,
   "metadata": {},
   "outputs": [
    {
     "name": "stdout",
     "output_type": "stream",
     "text": [
      "Files already downloaded and verified\n",
      "{'logit': tensor([[[ -2.1602,   2.0157,  -4.9380,  ...,  -2.5221,  -1.2355,  -5.9756],\n",
      "         [  4.9457,   3.4917,  -7.9251,  ...,   1.5963,  -3.9554,   3.6843],\n",
      "         [ -2.2870,   1.7951,  -4.7126,  ...,  -1.9573,  -1.6994,  -6.5016],\n",
      "         ...,\n",
      "         [ -4.1058,   6.6168,  -0.1880,  ...,  -3.4171,  -3.8254,  -3.2090],\n",
      "         [ -2.2870,   1.7951,  -4.7126,  ...,  -1.9573,  -1.6994,  -6.5016],\n",
      "         [ -2.2870,   1.7951,  -4.7126,  ...,  -1.9573,  -1.6994,  -6.5016]],\n",
      "\n",
      "        [[  8.2736,   5.2546, -13.8468,  ...,  -4.9621,   2.5193,  20.0269],\n",
      "         [ -2.5532,  -3.8122,   0.4225,  ...,   9.1137,   1.5777,  -0.5117],\n",
      "         [  7.7221,   5.6024, -13.5597,  ...,  -5.6003,   2.1162,  20.0337],\n",
      "         ...,\n",
      "         [  3.3617,   0.3426, -14.4359,  ...,  -0.9384,   4.3554,  14.7326],\n",
      "         [  7.7221,   5.6024, -13.5597,  ...,  -5.6003,   2.1162,  20.0337],\n",
      "         [  7.7221,   5.6024, -13.5597,  ...,  -5.6003,   2.1162,  20.0337]],\n",
      "\n",
      "        [[ -0.8428,   5.7610,  -2.4040,  ..., -12.9787,   6.8796,  17.0778],\n",
      "         [  3.4632,  -0.4558,  -2.4682,  ...,   7.9719,   3.3922,  -8.6818],\n",
      "         [ -1.4695,   6.3005,  -1.2915,  ..., -13.4186,   5.1634,  15.9246],\n",
      "         ...,\n",
      "         [ -3.0610,   5.1254,   4.0335,  ...,  -6.7885,   1.5931,  12.7056],\n",
      "         [ -1.4695,   6.3005,  -1.2915,  ..., -13.4186,   5.1634,  15.9246],\n",
      "         [ -1.4695,   6.3005,  -1.2915,  ..., -13.4186,   5.1634,  15.9246]],\n",
      "\n",
      "        ...,\n",
      "\n",
      "        [[  2.5629,   3.0137,  -2.8659,  ..., -13.4678,   4.8751,  17.0547],\n",
      "         [  0.0409,  -1.3802,  -2.4252,  ...,  -6.0816,   7.9454,   5.0023],\n",
      "         [ -3.8710,  -4.4558,   0.7257,  ...,  -5.6790,   0.2520,   8.3854],\n",
      "         ...,\n",
      "         [  3.0635,  -1.0633,  -0.1744,  ...,  -4.2025,   0.4083,  11.9396],\n",
      "         [  5.4971,  -2.2394,  -3.6170,  ...,  -2.6981,  -2.6706,   5.3489],\n",
      "         [  2.3598,  -0.9897,  -0.9961,  ...,  -6.5550,   0.7381,   4.1304]],\n",
      "\n",
      "        [[ -6.8749,   9.1402,  -7.2300,  ...,   3.5287,  11.4291,   2.2734],\n",
      "         [  5.6176,  13.7171,   7.8703,  ...,  -5.3852,  -0.2248,  -9.3192],\n",
      "         [ -0.6814,  11.3334,   5.3036,  ...,  -1.4614,   1.8519,  -5.8772],\n",
      "         ...,\n",
      "         [ -3.1053,  -1.2069,  -8.0136,  ...,   5.0538,   0.7410,   1.4934],\n",
      "         [  1.9734,   2.6816,  -3.4949,  ...,   3.0457,  -1.2529,  -6.2707],\n",
      "         [ -0.0364,  10.3195,  -3.0590,  ...,  -0.2937,  -4.9273,  -0.0503]],\n",
      "\n",
      "        [[  7.5291,   1.5501,  -2.2153,  ...,  -0.2291, -12.3417,  -0.9095],\n",
      "         [ 10.7647,  10.6393,  -9.3574,  ...,  -0.8917,  -2.9528,  -1.7038],\n",
      "         [  3.2910,  12.7982,  -7.8165,  ...,   0.2876,  -4.0024,  -1.6424],\n",
      "         ...,\n",
      "         [ -4.4507,   1.0135,  -0.3556,  ...,   1.7026,  -7.9268,   0.6282],\n",
      "         [  4.9446,  -4.3154,   3.6363,  ...,  -2.9576,   2.4724,  -2.5494],\n",
      "         [  5.7190,  -1.7462,   2.2522,  ...,   3.3127,  -2.5500,  -2.2345]]]),\n",
      " 'loss': tensor([[4.9351e-05, 7.7386e+00, 1.0240e-04,  ..., 4.6138e-01, 1.0240e-04,\n",
      "         1.0240e-04],\n",
      "        [8.2254e-06, 9.6374e+00, 5.1260e-06,  ..., 9.4548e-04, 5.1260e-06,\n",
      "         5.1260e-06],\n",
      "        [4.9471e-05, 1.6805e+01, 8.7734e-05,  ..., 7.8993e-04, 8.7734e-05,\n",
      "         8.7734e-05],\n",
      "        ...,\n",
      "        [6.5565e-06, 3.0962e+00, 4.1588e-02,  ..., 8.6675e-04, 9.5753e-01,\n",
      "         6.0780e-01],\n",
      "        [9.6989e-02, 1.3945e+01, 9.4841e+00,  ..., 4.5671e+00, 5.5382e+00,\n",
      "         1.5247e+01],\n",
      "        [4.0780e-03, 1.7755e+01, 1.2409e+01,  ..., 3.7259e+00, 6.2871e+00,\n",
      "         3.8145e+00]]),\n",
      " 'target': tensor([5, 9, 9,  ..., 9, 8, 3]),\n",
      " 'target_gt': tensor([6, 9, 9,  ..., 9, 1, 1])}\n"
     ]
    }
   ],
   "source": [
    "# perturbation-based filtering\n",
    "# for estimating dirichlet distribution entropy\n",
    "\n",
    "from torchvision import transforms\n",
    "from torchvision.transforms.autoaugment import AutoAugment, AutoAugmentPolicy\n",
    "import torchvision.transforms.functional as F\n",
    "\n",
    "\n",
    "\n",
    "transform_train = transforms.Compose([\n",
    "    # transforms.ToTensor(),\n",
    "    transforms.Lambda(lambda x: torch.tensor(np.array(x)).permute(2,0,1))\n",
    "])\n",
    "\n",
    "transform_normalize = transforms.Compose([\n",
    "    transforms.Lambda(lambda x: x/255.0),\n",
    "    transforms.Normalize((0.4914, 0.4822, 0.4465), (0.2023, 0.1994, 0.2010)),\n",
    "])\n",
    "transform_tta = transforms.Compose([\n",
    "    AutoAugment(AutoAugmentPolicy.CIFAR10),\n",
    "    transforms.Lambda(lambda x: x/255.0),\n",
    "    transforms.Normalize((0.4914, 0.4822, 0.4465), (0.2023, 0.1994, 0.2010)),\n",
    "])\n",
    "# transform_train = transforms.Compose([\n",
    "#     transforms.RandomCrop(32, padding=4),\n",
    "#     transforms.RandomHorizontalFlip(),\n",
    "# ])\n",
    "\n",
    "\n",
    "train_dataset, _ = datasets.get_dataset(**config[\"data\"])\n",
    "train_dataset.transform = transform_train\n",
    "\n",
    "\n",
    "with torch.no_grad():\n",
    "    trainer.model.eval()\n",
    "    dataloader = trainer.get_dataloader(train_dataset, train=False)\n",
    "\n",
    "    results = {\n",
    "        'logit': [],\n",
    "        'loss': [],\n",
    "        'target': [],\n",
    "        'target_gt': [],\n",
    "    }\n",
    "    for batch in dataloader:\n",
    "        data, target = batch[\"image\"].cuda(), batch[\"target\"].cuda()\n",
    "        target_gt = batch[\"target_gt\"].cuda()\n",
    "        result = {\n",
    "            'logit': [],\n",
    "            'loss': [],\n",
    "        }\n",
    "        for _ in range(100):\n",
    "            # data_ = torch.normal(transform_normalize(data), 0.1)\n",
    "            data_ = transform_tta(data)\n",
    "            output = trainer.model(data_)\n",
    "            loss = trainer.criterion(output, target)\n",
    "            result['logit'].append(output)\n",
    "            result['loss'].append(loss)\n",
    "        result['logit'] = torch.stack(result['logit'], dim=-2)\n",
    "        result['loss'] = torch.stack(result['loss'], dim=-1)\n",
    "        results['logit'].append(result['logit'])\n",
    "        results['loss'].append(result['loss'])\n",
    "        results['target'].append(target)\n",
    "        results['target_gt'].append(target_gt)\n",
    "\n",
    "    results['logit'] = torch.cat(results['logit'], dim=0).cpu()\n",
    "    results['loss'] = torch.cat(results['loss'], dim=0).cpu()\n",
    "    results['target'] = torch.cat(results['target'], dim=0).cpu()\n",
    "    results['target_gt'] = torch.cat(results['target_gt'], dim=0).cpu()\n",
    "\n",
    "\n",
    "pprint.pprint(results)"
   ]
  },
  {
   "cell_type": "code",
   "execution_count": 39,
   "metadata": {},
   "outputs": [],
   "source": [
    "# save intermediate results in case of crash\n",
    "torch.save(results, \"results.pt\")"
   ]
  },
  {
   "attachments": {},
   "cell_type": "markdown",
   "metadata": {},
   "source": [
    "### Dirichlet parameter estimation algorithms"
   ]
  },
  {
   "cell_type": "code",
   "execution_count": 41,
   "metadata": {},
   "outputs": [
    {
     "data": {
      "text/plain": [
       "array([1.67163339e+02, 4.85508291e+02, 7.06412649e-03, 2.39601016e+01,\n",
       "       3.29187602e+02, 7.25486795e+02, 2.14350016e+02])"
      ]
     },
     "execution_count": 41,
     "metadata": {},
     "output_type": "execute_result"
    }
   ],
   "source": [
    "# MLE algorithm implemented in https://github.com/ericsuh/dirichlet\n",
    "import numpy\n",
    "import dirichlet\n",
    "\n",
    "alpha = numpy.array([100, 299, 1e-2, 14, 201, 449, 129])\n",
    "data = numpy.random.dirichlet(alpha, 10)\n",
    "\n",
    "alpha_hat = dirichlet.mle(data)\n",
    "alpha_hat"
   ]
  },
  {
   "cell_type": "code",
   "execution_count": 42,
   "metadata": {},
   "outputs": [
    {
     "data": {
      "text/plain": [
       "array([0.08627898, 0.09559537, 0.08429229, 0.07852801, 0.08049584,\n",
       "       0.06059681, 0.07419641, 0.05203358, 0.1400893 , 0.35771788])"
      ]
     },
     "execution_count": 42,
     "metadata": {},
     "output_type": "execute_result"
    }
   ],
   "source": [
    "dirichlet.mle(data, method='fixedpoint')"
   ]
  },
  {
   "cell_type": "code",
   "execution_count": 25,
   "metadata": {},
   "outputs": [],
   "source": [
    "# MLE algorithm implemented using PyTorch L-BFGS\n",
    "import torch\n",
    "\n",
    "def fit_dirichlet_pytorch(data):\n",
    "    k = data.shape[-1]\n",
    "    param = torch.rand((k,), dtype=data.dtype, requires_grad=True)\n",
    "    dirichlet = torch.distributions.dirichlet.Dirichlet(param)\n",
    "\n",
    "    optimizer = torch.optim.LBFGS([param], lr=0.001, max_iter=20, line_search_fn='strong_wolfe')\n",
    "\n",
    "    def closure():\n",
    "        optimizer.zero_grad()\n",
    "        loss = - dirichlet.log_prob(data).sum()\n",
    "        loss.backward()\n",
    "        return loss\n",
    "\n",
    "    for _ in range(10):\n",
    "        optimizer.step(closure)\n",
    "\n",
    "    return param.detach()\n",
    "\n",
    "\n",
    "alpha = torch.tensor([10.0, 1.0, 5.0, 1.0])\n",
    "data = torch.distributions.dirichlet.Dirichlet(alpha).sample((100,))\n",
    "\n",
    "alpha_hat = fit_dirichlet_pytorch(data)"
   ]
  },
  {
   "cell_type": "code",
   "execution_count": 34,
   "metadata": {},
   "outputs": [
    {
     "data": {
      "text/plain": [
       "tensor([1.6271, 0.0838, 0.0845, 0.1509, 0.0740, 0.1164, 0.0862, 0.0763, 0.0814,\n",
       "        0.1411], dtype=torch.float64)"
      ]
     },
     "execution_count": 34,
     "metadata": {},
     "output_type": "execute_result"
    }
   ],
   "source": [
    "fit_dirichlet_pytorch(results['logit'].to(torch.float64).softmax(-1).unbind()[9])"
   ]
  },
  {
   "cell_type": "code",
   "execution_count": 130,
   "metadata": {},
   "outputs": [
    {
     "data": {
      "text/plain": [
       "array([ True, False, False, False,  True, False,  True,  True, False,\n",
       "        True])"
      ]
     },
     "execution_count": 130,
     "metadata": {},
     "output_type": "execute_result"
    }
   ],
   "source": [
    "is_noisy[:10]"
   ]
  },
  {
   "cell_type": "code",
   "execution_count": 14,
   "metadata": {},
   "outputs": [
    {
     "data": {
      "text/plain": [
       "torch.Size([10, 10])"
      ]
     },
     "execution_count": 14,
     "metadata": {},
     "output_type": "execute_result"
    }
   ],
   "source": [
    "# results['logit'].to(torch.float64).softmax(-1).shape\n",
    "results['logit'].to(torch.float64).softmax(-1).unbind()[0].shape"
   ]
  },
  {
   "cell_type": "code",
   "execution_count": 9,
   "metadata": {},
   "outputs": [
    {
     "data": {
      "text/plain": [
       "torch.Size([50000, 10, 10])"
      ]
     },
     "execution_count": 9,
     "metadata": {},
     "output_type": "execute_result"
    }
   ],
   "source": [
    "results['logit'].to(torch.float64).softmax(-1).shape"
   ]
  },
  {
   "cell_type": "code",
   "execution_count": 35,
   "metadata": {},
   "outputs": [
    {
     "name": "stderr",
     "output_type": "stream",
     "text": [
      "/tmp/ipykernel_55990/3929253804.py:4: TqdmWarning: Iterable length 50000 > 1000 but `chunksize` is not set. This may seriously degrade multiprocess performance. Set `chunksize=1` or more.\n",
      "  processed_items = process_map(fit_dirichlet_pytorch, items, max_workers=10)\n"
     ]
    },
    {
     "data": {
      "application/vnd.jupyter.widget-view+json": {
       "model_id": "e3ed703430bb4c86aa1de3d6749de05b",
       "version_major": 2,
       "version_minor": 0
      },
      "text/plain": [
       "  0%|          | 0/50000 [00:00<?, ?it/s]"
      ]
     },
     "metadata": {},
     "output_type": "display_data"
    },
    {
     "ename": "RuntimeError",
     "evalue": "Unable to handle autograd's threading in combination with fork-based multiprocessing. See https://github.com/pytorch/pytorch/wiki/Autograd-and-Fork",
     "output_type": "error",
     "traceback": [
      "\u001b[0;31m---------------------------------------------------------------------------\u001b[0m",
      "\u001b[0;31m_RemoteTraceback\u001b[0m                          Traceback (most recent call last)",
      "\u001b[0;31m_RemoteTraceback\u001b[0m: \n\"\"\"\nTraceback (most recent call last):\n  File \"/opt/conda/lib/python3.10/concurrent/futures/process.py\", line 246, in _process_worker\n    r = call_item.fn(*call_item.args, **call_item.kwargs)\n  File \"/opt/conda/lib/python3.10/concurrent/futures/process.py\", line 205, in _process_chunk\n    return [fn(*args) for args in chunk]\n  File \"/opt/conda/lib/python3.10/concurrent/futures/process.py\", line 205, in <listcomp>\n    return [fn(*args) for args in chunk]\n  File \"/tmp/ipykernel_55990/1249278286.py\", line 17, in fit_dirichlet_pytorch\n    optimizer.step(closure)\n  File \"/opt/conda/lib/python3.10/site-packages/torch/optim/optimizer.py\", line 280, in wrapper\n    out = func(*args, **kwargs)\n  File \"/opt/conda/lib/python3.10/site-packages/torch/utils/_contextlib.py\", line 115, in decorate_context\n    return func(*args, **kwargs)\n  File \"/opt/conda/lib/python3.10/site-packages/torch/optim/lbfgs.py\", line 312, in step\n    orig_loss = closure()\n  File \"/opt/conda/lib/python3.10/site-packages/torch/utils/_contextlib.py\", line 115, in decorate_context\n    return func(*args, **kwargs)\n  File \"/tmp/ipykernel_55990/1249278286.py\", line 13, in closure\n    loss.backward()\n  File \"/opt/conda/lib/python3.10/site-packages/torch/_tensor.py\", line 487, in backward\n    torch.autograd.backward(\n  File \"/opt/conda/lib/python3.10/site-packages/torch/autograd/__init__.py\", line 200, in backward\n    Variable._execution_engine.run_backward(  # Calls into the C++ engine to run the backward pass\nRuntimeError: Unable to handle autograd's threading in combination with fork-based multiprocessing. See https://github.com/pytorch/pytorch/wiki/Autograd-and-Fork\n\"\"\"",
      "\nThe above exception was the direct cause of the following exception:\n",
      "\u001b[0;31mRuntimeError\u001b[0m                              Traceback (most recent call last)",
      "Cell \u001b[0;32mIn[35], line 4\u001b[0m\n\u001b[1;32m      1\u001b[0m \u001b[39mfrom\u001b[39;00m \u001b[39mtqdm\u001b[39;00m\u001b[39m.\u001b[39;00m\u001b[39mcontrib\u001b[39;00m\u001b[39m.\u001b[39;00m\u001b[39mconcurrent\u001b[39;00m \u001b[39mimport\u001b[39;00m process_map  \u001b[39m# or thread_map\u001b[39;00m\n\u001b[1;32m      3\u001b[0m items \u001b[39m=\u001b[39m results[\u001b[39m'\u001b[39m\u001b[39mlogit\u001b[39m\u001b[39m'\u001b[39m]\u001b[39m.\u001b[39mto(torch\u001b[39m.\u001b[39mfloat64)\u001b[39m.\u001b[39msoftmax(\u001b[39m-\u001b[39m\u001b[39m1\u001b[39m)\u001b[39m.\u001b[39munbind(\u001b[39m0\u001b[39m)\n\u001b[0;32m----> 4\u001b[0m processed_items \u001b[39m=\u001b[39m process_map(fit_dirichlet_pytorch, items, max_workers\u001b[39m=\u001b[39;49m\u001b[39m10\u001b[39;49m)\n",
      "File \u001b[0;32m/opt/conda/lib/python3.10/site-packages/tqdm/contrib/concurrent.py:130\u001b[0m, in \u001b[0;36mprocess_map\u001b[0;34m(fn, *iterables, **tqdm_kwargs)\u001b[0m\n\u001b[1;32m    128\u001b[0m     tqdm_kwargs \u001b[39m=\u001b[39m tqdm_kwargs\u001b[39m.\u001b[39mcopy()\n\u001b[1;32m    129\u001b[0m     tqdm_kwargs[\u001b[39m\"\u001b[39m\u001b[39mlock_name\u001b[39m\u001b[39m\"\u001b[39m] \u001b[39m=\u001b[39m \u001b[39m\"\u001b[39m\u001b[39mmp_lock\u001b[39m\u001b[39m\"\u001b[39m\n\u001b[0;32m--> 130\u001b[0m \u001b[39mreturn\u001b[39;00m _executor_map(ProcessPoolExecutor, fn, \u001b[39m*\u001b[39;49miterables, \u001b[39m*\u001b[39;49m\u001b[39m*\u001b[39;49mtqdm_kwargs)\n",
      "File \u001b[0;32m/opt/conda/lib/python3.10/site-packages/tqdm/contrib/concurrent.py:76\u001b[0m, in \u001b[0;36m_executor_map\u001b[0;34m(PoolExecutor, fn, *iterables, **tqdm_kwargs)\u001b[0m\n\u001b[1;32m     74\u001b[0m     map_args\u001b[39m.\u001b[39mupdate(chunksize\u001b[39m=\u001b[39mchunksize)\n\u001b[1;32m     75\u001b[0m \u001b[39mwith\u001b[39;00m PoolExecutor(\u001b[39m*\u001b[39m\u001b[39m*\u001b[39mpool_kwargs) \u001b[39mas\u001b[39;00m ex:\n\u001b[0;32m---> 76\u001b[0m     \u001b[39mreturn\u001b[39;00m \u001b[39mlist\u001b[39;49m(tqdm_class(ex\u001b[39m.\u001b[39;49mmap(fn, \u001b[39m*\u001b[39;49miterables, \u001b[39m*\u001b[39;49m\u001b[39m*\u001b[39;49mmap_args), \u001b[39m*\u001b[39;49m\u001b[39m*\u001b[39;49mkwargs))\n",
      "File \u001b[0;32m/opt/conda/lib/python3.10/site-packages/tqdm/notebook.py:259\u001b[0m, in \u001b[0;36mtqdm_notebook.__iter__\u001b[0;34m(self)\u001b[0m\n\u001b[1;32m    257\u001b[0m \u001b[39mtry\u001b[39;00m:\n\u001b[1;32m    258\u001b[0m     it \u001b[39m=\u001b[39m \u001b[39msuper\u001b[39m(tqdm_notebook, \u001b[39mself\u001b[39m)\u001b[39m.\u001b[39m\u001b[39m__iter__\u001b[39m()\n\u001b[0;32m--> 259\u001b[0m     \u001b[39mfor\u001b[39;00m obj \u001b[39min\u001b[39;00m it:\n\u001b[1;32m    260\u001b[0m         \u001b[39m# return super(tqdm...) will not catch exception\u001b[39;00m\n\u001b[1;32m    261\u001b[0m         \u001b[39myield\u001b[39;00m obj\n\u001b[1;32m    262\u001b[0m \u001b[39m# NB: except ... [ as ...] breaks IPython async KeyboardInterrupt\u001b[39;00m\n",
      "File \u001b[0;32m/opt/conda/lib/python3.10/site-packages/tqdm/std.py:1195\u001b[0m, in \u001b[0;36mtqdm.__iter__\u001b[0;34m(self)\u001b[0m\n\u001b[1;32m   1192\u001b[0m time \u001b[39m=\u001b[39m \u001b[39mself\u001b[39m\u001b[39m.\u001b[39m_time\n\u001b[1;32m   1194\u001b[0m \u001b[39mtry\u001b[39;00m:\n\u001b[0;32m-> 1195\u001b[0m     \u001b[39mfor\u001b[39;00m obj \u001b[39min\u001b[39;00m iterable:\n\u001b[1;32m   1196\u001b[0m         \u001b[39myield\u001b[39;00m obj\n\u001b[1;32m   1197\u001b[0m         \u001b[39m# Update and possibly print the progressbar.\u001b[39;00m\n\u001b[1;32m   1198\u001b[0m         \u001b[39m# Note: does not call self.update(1) for speed optimisation.\u001b[39;00m\n",
      "File \u001b[0;32m/opt/conda/lib/python3.10/concurrent/futures/process.py:570\u001b[0m, in \u001b[0;36m_chain_from_iterable_of_lists\u001b[0;34m(iterable)\u001b[0m\n\u001b[1;32m    564\u001b[0m \u001b[39mdef\u001b[39;00m \u001b[39m_chain_from_iterable_of_lists\u001b[39m(iterable):\n\u001b[1;32m    565\u001b[0m     \u001b[39m\"\"\"\u001b[39;00m\n\u001b[1;32m    566\u001b[0m \u001b[39m    Specialized implementation of itertools.chain.from_iterable.\u001b[39;00m\n\u001b[1;32m    567\u001b[0m \u001b[39m    Each item in *iterable* should be a list.  This function is\u001b[39;00m\n\u001b[1;32m    568\u001b[0m \u001b[39m    careful not to keep references to yielded objects.\u001b[39;00m\n\u001b[1;32m    569\u001b[0m \u001b[39m    \"\"\"\u001b[39;00m\n\u001b[0;32m--> 570\u001b[0m     \u001b[39mfor\u001b[39;00m element \u001b[39min\u001b[39;00m iterable:\n\u001b[1;32m    571\u001b[0m         element\u001b[39m.\u001b[39mreverse()\n\u001b[1;32m    572\u001b[0m         \u001b[39mwhile\u001b[39;00m element:\n",
      "File \u001b[0;32m/opt/conda/lib/python3.10/concurrent/futures/_base.py:621\u001b[0m, in \u001b[0;36mExecutor.map.<locals>.result_iterator\u001b[0;34m()\u001b[0m\n\u001b[1;32m    618\u001b[0m \u001b[39mwhile\u001b[39;00m fs:\n\u001b[1;32m    619\u001b[0m     \u001b[39m# Careful not to keep a reference to the popped future\u001b[39;00m\n\u001b[1;32m    620\u001b[0m     \u001b[39mif\u001b[39;00m timeout \u001b[39mis\u001b[39;00m \u001b[39mNone\u001b[39;00m:\n\u001b[0;32m--> 621\u001b[0m         \u001b[39myield\u001b[39;00m _result_or_cancel(fs\u001b[39m.\u001b[39;49mpop())\n\u001b[1;32m    622\u001b[0m     \u001b[39melse\u001b[39;00m:\n\u001b[1;32m    623\u001b[0m         \u001b[39myield\u001b[39;00m _result_or_cancel(fs\u001b[39m.\u001b[39mpop(), end_time \u001b[39m-\u001b[39m time\u001b[39m.\u001b[39mmonotonic())\n",
      "File \u001b[0;32m/opt/conda/lib/python3.10/concurrent/futures/_base.py:319\u001b[0m, in \u001b[0;36m_result_or_cancel\u001b[0;34m(***failed resolving arguments***)\u001b[0m\n\u001b[1;32m    317\u001b[0m \u001b[39mtry\u001b[39;00m:\n\u001b[1;32m    318\u001b[0m     \u001b[39mtry\u001b[39;00m:\n\u001b[0;32m--> 319\u001b[0m         \u001b[39mreturn\u001b[39;00m fut\u001b[39m.\u001b[39;49mresult(timeout)\n\u001b[1;32m    320\u001b[0m     \u001b[39mfinally\u001b[39;00m:\n\u001b[1;32m    321\u001b[0m         fut\u001b[39m.\u001b[39mcancel()\n",
      "File \u001b[0;32m/opt/conda/lib/python3.10/concurrent/futures/_base.py:451\u001b[0m, in \u001b[0;36mFuture.result\u001b[0;34m(self, timeout)\u001b[0m\n\u001b[1;32m    449\u001b[0m     \u001b[39mraise\u001b[39;00m CancelledError()\n\u001b[1;32m    450\u001b[0m \u001b[39melif\u001b[39;00m \u001b[39mself\u001b[39m\u001b[39m.\u001b[39m_state \u001b[39m==\u001b[39m FINISHED:\n\u001b[0;32m--> 451\u001b[0m     \u001b[39mreturn\u001b[39;00m \u001b[39mself\u001b[39;49m\u001b[39m.\u001b[39;49m__get_result()\n\u001b[1;32m    453\u001b[0m \u001b[39mself\u001b[39m\u001b[39m.\u001b[39m_condition\u001b[39m.\u001b[39mwait(timeout)\n\u001b[1;32m    455\u001b[0m \u001b[39mif\u001b[39;00m \u001b[39mself\u001b[39m\u001b[39m.\u001b[39m_state \u001b[39min\u001b[39;00m [CANCELLED, CANCELLED_AND_NOTIFIED]:\n",
      "File \u001b[0;32m/opt/conda/lib/python3.10/concurrent/futures/_base.py:403\u001b[0m, in \u001b[0;36mFuture.__get_result\u001b[0;34m(self)\u001b[0m\n\u001b[1;32m    401\u001b[0m \u001b[39mif\u001b[39;00m \u001b[39mself\u001b[39m\u001b[39m.\u001b[39m_exception:\n\u001b[1;32m    402\u001b[0m     \u001b[39mtry\u001b[39;00m:\n\u001b[0;32m--> 403\u001b[0m         \u001b[39mraise\u001b[39;00m \u001b[39mself\u001b[39m\u001b[39m.\u001b[39m_exception\n\u001b[1;32m    404\u001b[0m     \u001b[39mfinally\u001b[39;00m:\n\u001b[1;32m    405\u001b[0m         \u001b[39m# Break a reference cycle with the exception in self._exception\u001b[39;00m\n\u001b[1;32m    406\u001b[0m         \u001b[39mself\u001b[39m \u001b[39m=\u001b[39m \u001b[39mNone\u001b[39;00m\n",
      "\u001b[0;31mRuntimeError\u001b[0m: Unable to handle autograd's threading in combination with fork-based multiprocessing. See https://github.com/pytorch/pytorch/wiki/Autograd-and-Fork"
     ]
    }
   ],
   "source": [
    "from tqdm.contrib.concurrent import process_map  # or thread_map\n",
    "\n",
    "items = results['logit'].to(torch.float64).softmax(-1).unbind(0)\n",
    "processed_items = process_map(fit_dirichlet_pytorch, items, max_workers=10)"
   ]
  },
  {
   "cell_type": "code",
   "execution_count": 39,
   "metadata": {},
   "outputs": [],
   "source": [
    "import multiprocess as mp\n",
    "# from torch.multiprocessing import Pool\n",
    "\n",
    "\n",
    "items = results['logit'].to(torch.float64).softmax(-1).unbind(0)\n",
    "\n",
    "ctx = mp.get_context('spawn')\n",
    "with ctx.Pool(10) as pool:\n",
    "    processed_items = pool.map(fit_dirichlet_pytorch, items)"
   ]
  },
  {
   "cell_type": "code",
   "execution_count": 36,
   "metadata": {},
   "outputs": [
    {
     "name": "stderr",
     "output_type": "stream",
     "text": [
      "Process SpawnPoolWorker-15:\n",
      "Traceback (most recent call last):\n",
      "  File \"/opt/conda/lib/python3.10/multiprocessing/process.py\", line 314, in _bootstrap\n",
      "    self.run()\n",
      "  File \"/opt/conda/lib/python3.10/multiprocessing/process.py\", line 108, in run\n",
      "    self._target(*self._args, **self._kwargs)\n",
      "  File \"/opt/conda/lib/python3.10/multiprocessing/pool.py\", line 114, in worker\n",
      "    task = get()\n",
      "  File \"/opt/conda/lib/python3.10/multiprocessing/queues.py\", line 367, in get\n",
      "    return _ForkingPickler.loads(res)\n",
      "AttributeError: Can't get attribute 'fit_dirichlet_pytorch' on <module '__main__' (built-in)>\n",
      "Process SpawnPoolWorker-16:\n",
      "Traceback (most recent call last):\n",
      "  File \"/opt/conda/lib/python3.10/multiprocessing/process.py\", line 314, in _bootstrap\n",
      "    self.run()\n",
      "  File \"/opt/conda/lib/python3.10/multiprocessing/process.py\", line 108, in run\n",
      "    self._target(*self._args, **self._kwargs)\n",
      "  File \"/opt/conda/lib/python3.10/multiprocessing/pool.py\", line 114, in worker\n",
      "    task = get()\n",
      "  File \"/opt/conda/lib/python3.10/multiprocessing/queues.py\", line 367, in get\n",
      "    return _ForkingPickler.loads(res)\n",
      "AttributeError: Can't get attribute 'fit_dirichlet_pytorch' on <module '__main__' (built-in)>\n",
      "Process SpawnPoolWorker-13:\n",
      "Traceback (most recent call last):\n",
      "  File \"/opt/conda/lib/python3.10/multiprocessing/process.py\", line 314, in _bootstrap\n",
      "    self.run()\n",
      "  File \"/opt/conda/lib/python3.10/multiprocessing/process.py\", line 108, in run\n",
      "    self._target(*self._args, **self._kwargs)\n",
      "  File \"/opt/conda/lib/python3.10/multiprocessing/pool.py\", line 114, in worker\n",
      "    task = get()\n",
      "  File \"/opt/conda/lib/python3.10/multiprocessing/queues.py\", line 367, in get\n",
      "    return _ForkingPickler.loads(res)\n",
      "AttributeError: Can't get attribute 'fit_dirichlet_pytorch' on <module '__main__' (built-in)>\n",
      "Process SpawnPoolWorker-17:\n",
      "Traceback (most recent call last):\n",
      "  File \"/opt/conda/lib/python3.10/multiprocessing/process.py\", line 314, in _bootstrap\n",
      "    self.run()\n",
      "  File \"/opt/conda/lib/python3.10/multiprocessing/process.py\", line 108, in run\n",
      "    self._target(*self._args, **self._kwargs)\n",
      "  File \"/opt/conda/lib/python3.10/multiprocessing/pool.py\", line 114, in worker\n",
      "    task = get()\n",
      "  File \"/opt/conda/lib/python3.10/multiprocessing/queues.py\", line 367, in get\n",
      "    return _ForkingPickler.loads(res)\n",
      "AttributeError: Can't get attribute 'fit_dirichlet_pytorch' on <module '__main__' (built-in)>\n",
      "Process SpawnPoolWorker-18:\n",
      "Traceback (most recent call last):\n",
      "  File \"/opt/conda/lib/python3.10/multiprocessing/process.py\", line 314, in _bootstrap\n",
      "    self.run()\n",
      "  File \"/opt/conda/lib/python3.10/multiprocessing/process.py\", line 108, in run\n",
      "    self._target(*self._args, **self._kwargs)\n",
      "  File \"/opt/conda/lib/python3.10/multiprocessing/pool.py\", line 114, in worker\n",
      "    task = get()\n",
      "  File \"/opt/conda/lib/python3.10/multiprocessing/queues.py\", line 367, in get\n",
      "    return _ForkingPickler.loads(res)\n",
      "AttributeError: Can't get attribute 'fit_dirichlet_pytorch' on <module '__main__' (built-in)>\n",
      "Process SpawnPoolWorker-14:\n",
      "Traceback (most recent call last):\n",
      "  File \"/opt/conda/lib/python3.10/multiprocessing/process.py\", line 314, in _bootstrap\n",
      "    self.run()\n",
      "  File \"/opt/conda/lib/python3.10/multiprocessing/process.py\", line 108, in run\n",
      "    self._target(*self._args, **self._kwargs)\n",
      "  File \"/opt/conda/lib/python3.10/multiprocessing/pool.py\", line 114, in worker\n",
      "    task = get()\n",
      "  File \"/opt/conda/lib/python3.10/multiprocessing/queues.py\", line 367, in get\n",
      "    return _ForkingPickler.loads(res)\n",
      "AttributeError: Can't get attribute 'fit_dirichlet_pytorch' on <module '__main__' (built-in)>\n",
      "Process SpawnPoolWorker-20:\n",
      "Traceback (most recent call last):\n",
      "  File \"/opt/conda/lib/python3.10/multiprocessing/process.py\", line 314, in _bootstrap\n",
      "    self.run()\n",
      "  File \"/opt/conda/lib/python3.10/multiprocessing/process.py\", line 108, in run\n",
      "    self._target(*self._args, **self._kwargs)\n",
      "  File \"/opt/conda/lib/python3.10/multiprocessing/pool.py\", line 114, in worker\n",
      "    task = get()\n",
      "  File \"/opt/conda/lib/python3.10/multiprocessing/queues.py\", line 367, in get\n",
      "    return _ForkingPickler.loads(res)\n",
      "AttributeError: Can't get attribute 'fit_dirichlet_pytorch' on <module '__main__' (built-in)>\n",
      "Process SpawnPoolWorker-19:\n",
      "Traceback (most recent call last):\n",
      "  File \"/opt/conda/lib/python3.10/multiprocessing/process.py\", line 314, in _bootstrap\n",
      "    self.run()\n",
      "  File \"/opt/conda/lib/python3.10/multiprocessing/process.py\", line 108, in run\n",
      "    self._target(*self._args, **self._kwargs)\n",
      "  File \"/opt/conda/lib/python3.10/multiprocessing/pool.py\", line 114, in worker\n",
      "    task = get()\n",
      "  File \"/opt/conda/lib/python3.10/multiprocessing/queues.py\", line 367, in get\n",
      "    return _ForkingPickler.loads(res)\n",
      "AttributeError: Can't get attribute 'fit_dirichlet_pytorch' on <module '__main__' (built-in)>\n",
      "Process SpawnPoolWorker-22:\n",
      "Traceback (most recent call last):\n",
      "  File \"/opt/conda/lib/python3.10/multiprocessing/process.py\", line 314, in _bootstrap\n",
      "    self.run()\n",
      "  File \"/opt/conda/lib/python3.10/multiprocessing/process.py\", line 108, in run\n",
      "    self._target(*self._args, **self._kwargs)\n",
      "  File \"/opt/conda/lib/python3.10/multiprocessing/pool.py\", line 114, in worker\n",
      "    task = get()\n",
      "  File \"/opt/conda/lib/python3.10/multiprocessing/queues.py\", line 367, in get\n",
      "    return _ForkingPickler.loads(res)\n",
      "AttributeError: Can't get attribute 'fit_dirichlet_pytorch' on <module '__main__' (built-in)>\n",
      "Process SpawnPoolWorker-21:\n",
      "Traceback (most recent call last):\n",
      "  File \"/opt/conda/lib/python3.10/multiprocessing/process.py\", line 314, in _bootstrap\n",
      "    self.run()\n",
      "  File \"/opt/conda/lib/python3.10/multiprocessing/process.py\", line 108, in run\n",
      "    self._target(*self._args, **self._kwargs)\n",
      "  File \"/opt/conda/lib/python3.10/multiprocessing/pool.py\", line 114, in worker\n",
      "    task = get()\n",
      "  File \"/opt/conda/lib/python3.10/multiprocessing/queues.py\", line 367, in get\n",
      "    return _ForkingPickler.loads(res)\n",
      "AttributeError: Can't get attribute 'fit_dirichlet_pytorch' on <module '__main__' (built-in)>\n",
      "Process SpawnPoolWorker-23:\n",
      "Traceback (most recent call last):\n",
      "  File \"/opt/conda/lib/python3.10/multiprocessing/process.py\", line 314, in _bootstrap\n",
      "    self.run()\n",
      "  File \"/opt/conda/lib/python3.10/multiprocessing/process.py\", line 108, in run\n",
      "    self._target(*self._args, **self._kwargs)\n",
      "  File \"/opt/conda/lib/python3.10/multiprocessing/pool.py\", line 114, in worker\n",
      "    task = get()\n",
      "  File \"/opt/conda/lib/python3.10/multiprocessing/queues.py\", line 367, in get\n",
      "    return _ForkingPickler.loads(res)\n",
      "AttributeError: Can't get attribute 'fit_dirichlet_pytorch' on <module '__main__' (built-in)>\n",
      "Process SpawnPoolWorker-24:\n",
      "Traceback (most recent call last):\n",
      "  File \"/opt/conda/lib/python3.10/multiprocessing/process.py\", line 314, in _bootstrap\n",
      "    self.run()\n",
      "  File \"/opt/conda/lib/python3.10/multiprocessing/process.py\", line 108, in run\n",
      "    self._target(*self._args, **self._kwargs)\n",
      "  File \"/opt/conda/lib/python3.10/multiprocessing/pool.py\", line 114, in worker\n",
      "    task = get()\n",
      "  File \"/opt/conda/lib/python3.10/multiprocessing/queues.py\", line 367, in get\n",
      "    return _ForkingPickler.loads(res)\n",
      "AttributeError: Can't get attribute 'fit_dirichlet_pytorch' on <module '__main__' (built-in)>\n",
      "Process SpawnPoolWorker-25:\n",
      "Traceback (most recent call last):\n",
      "  File \"/opt/conda/lib/python3.10/multiprocessing/process.py\", line 314, in _bootstrap\n",
      "    self.run()\n",
      "  File \"/opt/conda/lib/python3.10/multiprocessing/process.py\", line 108, in run\n",
      "    self._target(*self._args, **self._kwargs)\n",
      "  File \"/opt/conda/lib/python3.10/multiprocessing/pool.py\", line 114, in worker\n",
      "    task = get()\n",
      "  File \"/opt/conda/lib/python3.10/multiprocessing/queues.py\", line 367, in get\n",
      "    return _ForkingPickler.loads(res)\n",
      "AttributeError: Can't get attribute 'fit_dirichlet_pytorch' on <module '__main__' (built-in)>\n",
      "Process SpawnPoolWorker-26:\n",
      "Traceback (most recent call last):\n",
      "  File \"/opt/conda/lib/python3.10/multiprocessing/process.py\", line 314, in _bootstrap\n",
      "    self.run()\n",
      "  File \"/opt/conda/lib/python3.10/multiprocessing/process.py\", line 108, in run\n",
      "    self._target(*self._args, **self._kwargs)\n",
      "  File \"/opt/conda/lib/python3.10/multiprocessing/pool.py\", line 114, in worker\n",
      "    task = get()\n",
      "  File \"/opt/conda/lib/python3.10/multiprocessing/queues.py\", line 367, in get\n",
      "    return _ForkingPickler.loads(res)\n",
      "AttributeError: Can't get attribute 'fit_dirichlet_pytorch' on <module '__main__' (built-in)>\n",
      "Process SpawnPoolWorker-27:\n",
      "Traceback (most recent call last):\n",
      "  File \"/opt/conda/lib/python3.10/multiprocessing/process.py\", line 314, in _bootstrap\n",
      "    self.run()\n",
      "  File \"/opt/conda/lib/python3.10/multiprocessing/process.py\", line 108, in run\n",
      "    self._target(*self._args, **self._kwargs)\n",
      "  File \"/opt/conda/lib/python3.10/multiprocessing/pool.py\", line 114, in worker\n",
      "    task = get()\n",
      "  File \"/opt/conda/lib/python3.10/multiprocessing/queues.py\", line 367, in get\n",
      "    return _ForkingPickler.loads(res)\n",
      "AttributeError: Can't get attribute 'fit_dirichlet_pytorch' on <module '__main__' (built-in)>\n",
      "Process SpawnPoolWorker-28:\n",
      "Traceback (most recent call last):\n",
      "  File \"/opt/conda/lib/python3.10/multiprocessing/process.py\", line 314, in _bootstrap\n",
      "    self.run()\n",
      "  File \"/opt/conda/lib/python3.10/multiprocessing/process.py\", line 108, in run\n",
      "    self._target(*self._args, **self._kwargs)\n",
      "  File \"/opt/conda/lib/python3.10/multiprocessing/pool.py\", line 114, in worker\n",
      "    task = get()\n",
      "  File \"/opt/conda/lib/python3.10/multiprocessing/queues.py\", line 367, in get\n",
      "    return _ForkingPickler.loads(res)\n",
      "AttributeError: Can't get attribute 'fit_dirichlet_pytorch' on <module '__main__' (built-in)>\n",
      "Process SpawnPoolWorker-29:\n",
      "Traceback (most recent call last):\n",
      "  File \"/opt/conda/lib/python3.10/multiprocessing/process.py\", line 314, in _bootstrap\n",
      "    self.run()\n",
      "  File \"/opt/conda/lib/python3.10/multiprocessing/process.py\", line 108, in run\n",
      "    self._target(*self._args, **self._kwargs)\n",
      "  File \"/opt/conda/lib/python3.10/multiprocessing/pool.py\", line 114, in worker\n",
      "    task = get()\n",
      "  File \"/opt/conda/lib/python3.10/multiprocessing/queues.py\", line 367, in get\n",
      "    return _ForkingPickler.loads(res)\n",
      "AttributeError: Can't get attribute 'fit_dirichlet_pytorch' on <module '__main__' (built-in)>\n",
      "Process SpawnPoolWorker-30:\n",
      "Traceback (most recent call last):\n",
      "  File \"/opt/conda/lib/python3.10/multiprocessing/process.py\", line 314, in _bootstrap\n",
      "    self.run()\n",
      "  File \"/opt/conda/lib/python3.10/multiprocessing/process.py\", line 108, in run\n",
      "    self._target(*self._args, **self._kwargs)\n",
      "  File \"/opt/conda/lib/python3.10/multiprocessing/pool.py\", line 114, in worker\n",
      "    task = get()\n",
      "  File \"/opt/conda/lib/python3.10/multiprocessing/queues.py\", line 367, in get\n",
      "    return _ForkingPickler.loads(res)\n",
      "AttributeError: Can't get attribute 'fit_dirichlet_pytorch' on <module '__main__' (built-in)>\n",
      "Process SpawnPoolWorker-31:\n",
      "Traceback (most recent call last):\n",
      "  File \"/opt/conda/lib/python3.10/multiprocessing/process.py\", line 314, in _bootstrap\n",
      "    self.run()\n",
      "  File \"/opt/conda/lib/python3.10/multiprocessing/process.py\", line 108, in run\n",
      "    self._target(*self._args, **self._kwargs)\n",
      "  File \"/opt/conda/lib/python3.10/multiprocessing/pool.py\", line 114, in worker\n",
      "    task = get()\n",
      "  File \"/opt/conda/lib/python3.10/multiprocessing/queues.py\", line 367, in get\n",
      "    return _ForkingPickler.loads(res)\n",
      "AttributeError: Can't get attribute 'fit_dirichlet_pytorch' on <module '__main__' (built-in)>\n",
      "Process SpawnPoolWorker-32:\n",
      "Traceback (most recent call last):\n",
      "  File \"/opt/conda/lib/python3.10/multiprocessing/process.py\", line 314, in _bootstrap\n",
      "    self.run()\n",
      "  File \"/opt/conda/lib/python3.10/multiprocessing/process.py\", line 108, in run\n",
      "    self._target(*self._args, **self._kwargs)\n",
      "  File \"/opt/conda/lib/python3.10/multiprocessing/pool.py\", line 114, in worker\n",
      "    task = get()\n",
      "  File \"/opt/conda/lib/python3.10/multiprocessing/queues.py\", line 367, in get\n",
      "    return _ForkingPickler.loads(res)\n",
      "AttributeError: Can't get attribute 'fit_dirichlet_pytorch' on <module '__main__' (built-in)>\n",
      "Process SpawnPoolWorker-33:\n",
      "Traceback (most recent call last):\n",
      "  File \"/opt/conda/lib/python3.10/multiprocessing/process.py\", line 314, in _bootstrap\n",
      "    self.run()\n",
      "  File \"/opt/conda/lib/python3.10/multiprocessing/process.py\", line 108, in run\n",
      "    self._target(*self._args, **self._kwargs)\n",
      "  File \"/opt/conda/lib/python3.10/multiprocessing/pool.py\", line 114, in worker\n",
      "    task = get()\n",
      "  File \"/opt/conda/lib/python3.10/multiprocessing/queues.py\", line 367, in get\n",
      "    return _ForkingPickler.loads(res)\n",
      "AttributeError: Can't get attribute 'fit_dirichlet_pytorch' on <module '__main__' (built-in)>\n",
      "Process SpawnPoolWorker-34:\n",
      "Traceback (most recent call last):\n",
      "  File \"/opt/conda/lib/python3.10/multiprocessing/process.py\", line 314, in _bootstrap\n",
      "    self.run()\n",
      "  File \"/opt/conda/lib/python3.10/multiprocessing/process.py\", line 108, in run\n",
      "    self._target(*self._args, **self._kwargs)\n",
      "  File \"/opt/conda/lib/python3.10/multiprocessing/pool.py\", line 114, in worker\n",
      "    task = get()\n",
      "  File \"/opt/conda/lib/python3.10/multiprocessing/queues.py\", line 367, in get\n",
      "    return _ForkingPickler.loads(res)\n",
      "AttributeError: Can't get attribute 'fit_dirichlet_pytorch' on <module '__main__' (built-in)>\n",
      "Process SpawnPoolWorker-35:\n",
      "Traceback (most recent call last):\n",
      "  File \"/opt/conda/lib/python3.10/multiprocessing/process.py\", line 314, in _bootstrap\n",
      "    self.run()\n",
      "  File \"/opt/conda/lib/python3.10/multiprocessing/process.py\", line 108, in run\n",
      "    self._target(*self._args, **self._kwargs)\n",
      "  File \"/opt/conda/lib/python3.10/multiprocessing/pool.py\", line 114, in worker\n",
      "    task = get()\n",
      "  File \"/opt/conda/lib/python3.10/multiprocessing/queues.py\", line 367, in get\n",
      "    return _ForkingPickler.loads(res)\n",
      "AttributeError: Can't get attribute 'fit_dirichlet_pytorch' on <module '__main__' (built-in)>\n",
      "Process SpawnPoolWorker-36:\n",
      "Traceback (most recent call last):\n",
      "  File \"/opt/conda/lib/python3.10/multiprocessing/process.py\", line 314, in _bootstrap\n",
      "    self.run()\n",
      "  File \"/opt/conda/lib/python3.10/multiprocessing/process.py\", line 108, in run\n",
      "    self._target(*self._args, **self._kwargs)\n",
      "  File \"/opt/conda/lib/python3.10/multiprocessing/pool.py\", line 114, in worker\n",
      "    task = get()\n",
      "  File \"/opt/conda/lib/python3.10/multiprocessing/queues.py\", line 367, in get\n",
      "    return _ForkingPickler.loads(res)\n",
      "AttributeError: Can't get attribute 'fit_dirichlet_pytorch' on <module '__main__' (built-in)>\n",
      "Process SpawnPoolWorker-37:\n",
      "Traceback (most recent call last):\n",
      "  File \"/opt/conda/lib/python3.10/multiprocessing/process.py\", line 314, in _bootstrap\n",
      "    self.run()\n",
      "  File \"/opt/conda/lib/python3.10/multiprocessing/process.py\", line 108, in run\n",
      "    self._target(*self._args, **self._kwargs)\n",
      "  File \"/opt/conda/lib/python3.10/multiprocessing/pool.py\", line 114, in worker\n",
      "    task = get()\n",
      "  File \"/opt/conda/lib/python3.10/multiprocessing/queues.py\", line 367, in get\n",
      "    return _ForkingPickler.loads(res)\n",
      "AttributeError: Can't get attribute 'fit_dirichlet_pytorch' on <module '__main__' (built-in)>\n",
      "Process SpawnPoolWorker-38:\n",
      "Traceback (most recent call last):\n",
      "  File \"/opt/conda/lib/python3.10/multiprocessing/process.py\", line 314, in _bootstrap\n",
      "    self.run()\n",
      "  File \"/opt/conda/lib/python3.10/multiprocessing/process.py\", line 108, in run\n",
      "    self._target(*self._args, **self._kwargs)\n",
      "  File \"/opt/conda/lib/python3.10/multiprocessing/pool.py\", line 114, in worker\n",
      "    task = get()\n",
      "  File \"/opt/conda/lib/python3.10/multiprocessing/queues.py\", line 367, in get\n",
      "    return _ForkingPickler.loads(res)\n",
      "AttributeError: Can't get attribute 'fit_dirichlet_pytorch' on <module '__main__' (built-in)>\n",
      "Process SpawnPoolWorker-39:\n",
      "Traceback (most recent call last):\n",
      "  File \"/opt/conda/lib/python3.10/multiprocessing/process.py\", line 314, in _bootstrap\n",
      "    self.run()\n",
      "  File \"/opt/conda/lib/python3.10/multiprocessing/process.py\", line 108, in run\n",
      "    self._target(*self._args, **self._kwargs)\n",
      "  File \"/opt/conda/lib/python3.10/multiprocessing/pool.py\", line 114, in worker\n",
      "    task = get()\n",
      "  File \"/opt/conda/lib/python3.10/multiprocessing/queues.py\", line 367, in get\n",
      "    return _ForkingPickler.loads(res)\n",
      "AttributeError: Can't get attribute 'fit_dirichlet_pytorch' on <module '__main__' (built-in)>\n",
      "Process SpawnPoolWorker-40:\n",
      "Traceback (most recent call last):\n",
      "  File \"/opt/conda/lib/python3.10/multiprocessing/process.py\", line 314, in _bootstrap\n",
      "    self.run()\n",
      "  File \"/opt/conda/lib/python3.10/multiprocessing/process.py\", line 108, in run\n",
      "    self._target(*self._args, **self._kwargs)\n",
      "  File \"/opt/conda/lib/python3.10/multiprocessing/pool.py\", line 114, in worker\n",
      "    task = get()\n",
      "  File \"/opt/conda/lib/python3.10/multiprocessing/queues.py\", line 367, in get\n",
      "    return _ForkingPickler.loads(res)\n",
      "AttributeError: Can't get attribute 'fit_dirichlet_pytorch' on <module '__main__' (built-in)>\n",
      "Process SpawnPoolWorker-41:\n",
      "Traceback (most recent call last):\n",
      "  File \"/opt/conda/lib/python3.10/multiprocessing/process.py\", line 314, in _bootstrap\n",
      "    self.run()\n",
      "  File \"/opt/conda/lib/python3.10/multiprocessing/process.py\", line 108, in run\n",
      "    self._target(*self._args, **self._kwargs)\n",
      "  File \"/opt/conda/lib/python3.10/multiprocessing/pool.py\", line 114, in worker\n",
      "    task = get()\n",
      "  File \"/opt/conda/lib/python3.10/multiprocessing/queues.py\", line 367, in get\n",
      "    return _ForkingPickler.loads(res)\n",
      "AttributeError: Can't get attribute 'fit_dirichlet_pytorch' on <module '__main__' (built-in)>\n",
      "Process SpawnPoolWorker-42:\n",
      "Traceback (most recent call last):\n",
      "  File \"/opt/conda/lib/python3.10/multiprocessing/process.py\", line 314, in _bootstrap\n",
      "    self.run()\n",
      "  File \"/opt/conda/lib/python3.10/multiprocessing/process.py\", line 108, in run\n",
      "    self._target(*self._args, **self._kwargs)\n",
      "  File \"/opt/conda/lib/python3.10/multiprocessing/pool.py\", line 114, in worker\n",
      "    task = get()\n",
      "  File \"/opt/conda/lib/python3.10/multiprocessing/queues.py\", line 367, in get\n",
      "    return _ForkingPickler.loads(res)\n",
      "AttributeError: Can't get attribute 'fit_dirichlet_pytorch' on <module '__main__' (built-in)>\n",
      "Process SpawnPoolWorker-43:\n",
      "Traceback (most recent call last):\n",
      "  File \"/opt/conda/lib/python3.10/multiprocessing/process.py\", line 314, in _bootstrap\n",
      "    self.run()\n",
      "  File \"/opt/conda/lib/python3.10/multiprocessing/process.py\", line 108, in run\n",
      "    self._target(*self._args, **self._kwargs)\n",
      "  File \"/opt/conda/lib/python3.10/multiprocessing/pool.py\", line 114, in worker\n",
      "    task = get()\n",
      "  File \"/opt/conda/lib/python3.10/multiprocessing/queues.py\", line 367, in get\n",
      "    return _ForkingPickler.loads(res)\n",
      "AttributeError: Can't get attribute 'fit_dirichlet_pytorch' on <module '__main__' (built-in)>\n",
      "Process SpawnPoolWorker-44:\n",
      "Traceback (most recent call last):\n",
      "  File \"/opt/conda/lib/python3.10/multiprocessing/process.py\", line 314, in _bootstrap\n",
      "    self.run()\n",
      "  File \"/opt/conda/lib/python3.10/multiprocessing/process.py\", line 108, in run\n",
      "    self._target(*self._args, **self._kwargs)\n",
      "  File \"/opt/conda/lib/python3.10/multiprocessing/pool.py\", line 114, in worker\n",
      "    task = get()\n",
      "  File \"/opt/conda/lib/python3.10/multiprocessing/queues.py\", line 367, in get\n",
      "    return _ForkingPickler.loads(res)\n",
      "AttributeError: Can't get attribute 'fit_dirichlet_pytorch' on <module '__main__' (built-in)>\n",
      "Process SpawnPoolWorker-45:\n",
      "Traceback (most recent call last):\n",
      "  File \"/opt/conda/lib/python3.10/multiprocessing/process.py\", line 314, in _bootstrap\n",
      "    self.run()\n",
      "  File \"/opt/conda/lib/python3.10/multiprocessing/process.py\", line 108, in run\n",
      "    self._target(*self._args, **self._kwargs)\n",
      "  File \"/opt/conda/lib/python3.10/multiprocessing/pool.py\", line 114, in worker\n",
      "    task = get()\n",
      "  File \"/opt/conda/lib/python3.10/multiprocessing/queues.py\", line 367, in get\n",
      "    return _ForkingPickler.loads(res)\n",
      "AttributeError: Can't get attribute 'fit_dirichlet_pytorch' on <module '__main__' (built-in)>\n",
      "Process SpawnPoolWorker-46:\n",
      "Traceback (most recent call last):\n",
      "  File \"/opt/conda/lib/python3.10/multiprocessing/process.py\", line 314, in _bootstrap\n",
      "    self.run()\n",
      "  File \"/opt/conda/lib/python3.10/multiprocessing/process.py\", line 108, in run\n",
      "    self._target(*self._args, **self._kwargs)\n",
      "  File \"/opt/conda/lib/python3.10/multiprocessing/pool.py\", line 114, in worker\n",
      "    task = get()\n",
      "  File \"/opt/conda/lib/python3.10/multiprocessing/queues.py\", line 367, in get\n",
      "    return _ForkingPickler.loads(res)\n",
      "AttributeError: Can't get attribute 'fit_dirichlet_pytorch' on <module '__main__' (built-in)>\n",
      "Process SpawnPoolWorker-47:\n",
      "Traceback (most recent call last):\n",
      "  File \"/opt/conda/lib/python3.10/multiprocessing/process.py\", line 314, in _bootstrap\n",
      "    self.run()\n",
      "  File \"/opt/conda/lib/python3.10/multiprocessing/process.py\", line 108, in run\n",
      "    self._target(*self._args, **self._kwargs)\n",
      "  File \"/opt/conda/lib/python3.10/multiprocessing/pool.py\", line 114, in worker\n",
      "    task = get()\n",
      "  File \"/opt/conda/lib/python3.10/multiprocessing/queues.py\", line 367, in get\n",
      "    return _ForkingPickler.loads(res)\n",
      "AttributeError: Can't get attribute 'fit_dirichlet_pytorch' on <module '__main__' (built-in)>\n",
      "Process SpawnPoolWorker-48:\n",
      "Traceback (most recent call last):\n",
      "  File \"/opt/conda/lib/python3.10/multiprocessing/process.py\", line 314, in _bootstrap\n",
      "    self.run()\n",
      "  File \"/opt/conda/lib/python3.10/multiprocessing/process.py\", line 108, in run\n",
      "    self._target(*self._args, **self._kwargs)\n",
      "  File \"/opt/conda/lib/python3.10/multiprocessing/pool.py\", line 114, in worker\n",
      "    task = get()\n",
      "  File \"/opt/conda/lib/python3.10/multiprocessing/queues.py\", line 367, in get\n",
      "    return _ForkingPickler.loads(res)\n",
      "AttributeError: Can't get attribute 'fit_dirichlet_pytorch' on <module '__main__' (built-in)>\n",
      "Process SpawnPoolWorker-49:\n",
      "Traceback (most recent call last):\n",
      "  File \"/opt/conda/lib/python3.10/multiprocessing/process.py\", line 314, in _bootstrap\n",
      "    self.run()\n",
      "  File \"/opt/conda/lib/python3.10/multiprocessing/process.py\", line 108, in run\n",
      "    self._target(*self._args, **self._kwargs)\n",
      "  File \"/opt/conda/lib/python3.10/multiprocessing/pool.py\", line 114, in worker\n",
      "    task = get()\n",
      "  File \"/opt/conda/lib/python3.10/multiprocessing/queues.py\", line 367, in get\n",
      "    return _ForkingPickler.loads(res)\n",
      "AttributeError: Can't get attribute 'fit_dirichlet_pytorch' on <module '__main__' (built-in)>\n",
      "Process SpawnPoolWorker-50:\n",
      "Traceback (most recent call last):\n",
      "  File \"/opt/conda/lib/python3.10/multiprocessing/process.py\", line 314, in _bootstrap\n",
      "    self.run()\n",
      "  File \"/opt/conda/lib/python3.10/multiprocessing/process.py\", line 108, in run\n",
      "    self._target(*self._args, **self._kwargs)\n",
      "  File \"/opt/conda/lib/python3.10/multiprocessing/pool.py\", line 114, in worker\n",
      "    task = get()\n",
      "  File \"/opt/conda/lib/python3.10/multiprocessing/queues.py\", line 367, in get\n",
      "    return _ForkingPickler.loads(res)\n",
      "AttributeError: Can't get attribute 'fit_dirichlet_pytorch' on <module '__main__' (built-in)>\n",
      "Process SpawnPoolWorker-51:\n",
      "Traceback (most recent call last):\n",
      "  File \"/opt/conda/lib/python3.10/multiprocessing/process.py\", line 314, in _bootstrap\n",
      "    self.run()\n",
      "  File \"/opt/conda/lib/python3.10/multiprocessing/process.py\", line 108, in run\n",
      "    self._target(*self._args, **self._kwargs)\n",
      "  File \"/opt/conda/lib/python3.10/multiprocessing/pool.py\", line 114, in worker\n",
      "    task = get()\n",
      "  File \"/opt/conda/lib/python3.10/multiprocessing/queues.py\", line 367, in get\n",
      "    return _ForkingPickler.loads(res)\n",
      "AttributeError: Can't get attribute 'fit_dirichlet_pytorch' on <module '__main__' (built-in)>\n",
      "Process SpawnPoolWorker-52:\n",
      "Traceback (most recent call last):\n",
      "  File \"/opt/conda/lib/python3.10/multiprocessing/process.py\", line 314, in _bootstrap\n",
      "    self.run()\n",
      "  File \"/opt/conda/lib/python3.10/multiprocessing/process.py\", line 108, in run\n",
      "    self._target(*self._args, **self._kwargs)\n",
      "  File \"/opt/conda/lib/python3.10/multiprocessing/pool.py\", line 114, in worker\n",
      "    task = get()\n",
      "  File \"/opt/conda/lib/python3.10/multiprocessing/queues.py\", line 367, in get\n",
      "    return _ForkingPickler.loads(res)\n",
      "AttributeError: Can't get attribute 'fit_dirichlet_pytorch' on <module '__main__' (built-in)>\n"
     ]
    },
    {
     "ename": "KeyboardInterrupt",
     "evalue": "",
     "output_type": "error",
     "traceback": [
      "\u001b[0;31m---------------------------------------------------------------------------\u001b[0m",
      "\u001b[0;31mKeyboardInterrupt\u001b[0m                         Traceback (most recent call last)",
      "Cell \u001b[0;32mIn[36], line 9\u001b[0m\n\u001b[1;32m      7\u001b[0m ctx \u001b[39m=\u001b[39m mp\u001b[39m.\u001b[39mget_context(\u001b[39m'\u001b[39m\u001b[39mspawn\u001b[39m\u001b[39m'\u001b[39m)\n\u001b[1;32m      8\u001b[0m \u001b[39mwith\u001b[39;00m ctx\u001b[39m.\u001b[39mPool(\u001b[39m10\u001b[39m) \u001b[39mas\u001b[39;00m pool:\n\u001b[0;32m----> 9\u001b[0m     processed_items \u001b[39m=\u001b[39m pool\u001b[39m.\u001b[39;49mmap(fit_dirichlet_pytorch, items)\n",
      "File \u001b[0;32m/opt/conda/lib/python3.10/multiprocessing/pool.py:367\u001b[0m, in \u001b[0;36mPool.map\u001b[0;34m(self, func, iterable, chunksize)\u001b[0m\n\u001b[1;32m    362\u001b[0m \u001b[39mdef\u001b[39;00m \u001b[39mmap\u001b[39m(\u001b[39mself\u001b[39m, func, iterable, chunksize\u001b[39m=\u001b[39m\u001b[39mNone\u001b[39;00m):\n\u001b[1;32m    363\u001b[0m     \u001b[39m'''\u001b[39;00m\n\u001b[1;32m    364\u001b[0m \u001b[39m    Apply `func` to each element in `iterable`, collecting the results\u001b[39;00m\n\u001b[1;32m    365\u001b[0m \u001b[39m    in a list that is returned.\u001b[39;00m\n\u001b[1;32m    366\u001b[0m \u001b[39m    '''\u001b[39;00m\n\u001b[0;32m--> 367\u001b[0m     \u001b[39mreturn\u001b[39;00m \u001b[39mself\u001b[39;49m\u001b[39m.\u001b[39;49m_map_async(func, iterable, mapstar, chunksize)\u001b[39m.\u001b[39;49mget()\n",
      "File \u001b[0;32m/opt/conda/lib/python3.10/multiprocessing/pool.py:768\u001b[0m, in \u001b[0;36mApplyResult.get\u001b[0;34m(self, timeout)\u001b[0m\n\u001b[1;32m    767\u001b[0m \u001b[39mdef\u001b[39;00m \u001b[39mget\u001b[39m(\u001b[39mself\u001b[39m, timeout\u001b[39m=\u001b[39m\u001b[39mNone\u001b[39;00m):\n\u001b[0;32m--> 768\u001b[0m     \u001b[39mself\u001b[39;49m\u001b[39m.\u001b[39;49mwait(timeout)\n\u001b[1;32m    769\u001b[0m     \u001b[39mif\u001b[39;00m \u001b[39mnot\u001b[39;00m \u001b[39mself\u001b[39m\u001b[39m.\u001b[39mready():\n\u001b[1;32m    770\u001b[0m         \u001b[39mraise\u001b[39;00m \u001b[39mTimeoutError\u001b[39;00m\n",
      "File \u001b[0;32m/opt/conda/lib/python3.10/multiprocessing/pool.py:765\u001b[0m, in \u001b[0;36mApplyResult.wait\u001b[0;34m(self, timeout)\u001b[0m\n\u001b[1;32m    764\u001b[0m \u001b[39mdef\u001b[39;00m \u001b[39mwait\u001b[39m(\u001b[39mself\u001b[39m, timeout\u001b[39m=\u001b[39m\u001b[39mNone\u001b[39;00m):\n\u001b[0;32m--> 765\u001b[0m     \u001b[39mself\u001b[39;49m\u001b[39m.\u001b[39;49m_event\u001b[39m.\u001b[39;49mwait(timeout)\n",
      "File \u001b[0;32m/opt/conda/lib/python3.10/threading.py:607\u001b[0m, in \u001b[0;36mEvent.wait\u001b[0;34m(self, timeout)\u001b[0m\n\u001b[1;32m    605\u001b[0m signaled \u001b[39m=\u001b[39m \u001b[39mself\u001b[39m\u001b[39m.\u001b[39m_flag\n\u001b[1;32m    606\u001b[0m \u001b[39mif\u001b[39;00m \u001b[39mnot\u001b[39;00m signaled:\n\u001b[0;32m--> 607\u001b[0m     signaled \u001b[39m=\u001b[39m \u001b[39mself\u001b[39;49m\u001b[39m.\u001b[39;49m_cond\u001b[39m.\u001b[39;49mwait(timeout)\n\u001b[1;32m    608\u001b[0m \u001b[39mreturn\u001b[39;00m signaled\n",
      "File \u001b[0;32m/opt/conda/lib/python3.10/threading.py:320\u001b[0m, in \u001b[0;36mCondition.wait\u001b[0;34m(self, timeout)\u001b[0m\n\u001b[1;32m    318\u001b[0m \u001b[39mtry\u001b[39;00m:    \u001b[39m# restore state no matter what (e.g., KeyboardInterrupt)\u001b[39;00m\n\u001b[1;32m    319\u001b[0m     \u001b[39mif\u001b[39;00m timeout \u001b[39mis\u001b[39;00m \u001b[39mNone\u001b[39;00m:\n\u001b[0;32m--> 320\u001b[0m         waiter\u001b[39m.\u001b[39;49macquire()\n\u001b[1;32m    321\u001b[0m         gotit \u001b[39m=\u001b[39m \u001b[39mTrue\u001b[39;00m\n\u001b[1;32m    322\u001b[0m     \u001b[39melse\u001b[39;00m:\n",
      "\u001b[0;31mKeyboardInterrupt\u001b[0m: "
     ]
    }
   ],
   "source": [
    "import torch.multiprocessing as mp\n",
    "# from torch.multiprocessing import Pool\n",
    "\n",
    "\n",
    "items = results['logit'].to(torch.float64).softmax(-1).unbind(0)\n",
    "\n",
    "ctx = mp.get_context('spawn')\n",
    "with ctx.Pool(10) as pool:\n",
    "    processed_items = pool.map(fit_dirichlet_pytorch, items)"
   ]
  },
  {
   "cell_type": "code",
   "execution_count": 57,
   "metadata": {},
   "outputs": [
    {
     "name": "stdout",
     "output_type": "stream",
     "text": [
      "Estimated alpha parameters: [9.68757704 0.97952433 4.97661203 0.98901869]\n"
     ]
    }
   ],
   "source": [
    "# MLE algorithm implemented using SciPy L-BFGS\n",
    "\n",
    "import numpy as np\n",
    "from scipy.special import psi, gammaln\n",
    "from scipy.optimize import minimize\n",
    "import scipy\n",
    "import scipy.stats\n",
    "\n",
    "def dirichlet_log_likelihood(alpha, data):\n",
    "    n, k = data.shape\n",
    "    log_likelihood = n * (gammaln(np.sum(alpha)) - np.sum(gammaln(alpha))) + np.sum((alpha - 1) * np.sum(np.log(data), axis=0))\n",
    "    return -log_likelihood\n",
    "\n",
    "def dirichlet_gradient(alpha, data):\n",
    "    n, k = data.shape\n",
    "    gradient = n * (psi(np.sum(alpha)) - psi(alpha)) + np.sum(np.log(data), axis=0)\n",
    "    return -gradient\n",
    "\n",
    "def fit_dirichlet(data, initial_alpha=None):\n",
    "    data = np.array(data)\n",
    "    if initial_alpha is None:\n",
    "        initial_alpha = np.ones(data.shape[1])\n",
    "\n",
    "    result = minimize(\n",
    "        dirichlet_log_likelihood, initial_alpha, args=(data),\n",
    "        jac=dirichlet_gradient, method='L-BFGS-B', bounds=[(1e-6, None) for _ in initial_alpha]\n",
    "    )\n",
    "\n",
    "    if result.success:\n",
    "        return result.x\n",
    "    else:\n",
    "        raise ValueError(\"Failed to fit Dirichlet distribution: \" + result.message)\n",
    "\n",
    "\n",
    "# Example data\n",
    "alpha = [10.0, 1.0, 5.0, 1.0]\n",
    "data = scipy.stats.dirichlet(alpha).rvs(1000)\n",
    "# data = results['logit'].to(torch.double).softmax(-1).numpy()[3]\n",
    "\n",
    "# Fit the Dirichlet distribution\n",
    "alpha_hat = fit_dirichlet(data)\n",
    "print(\"Estimated alpha parameters:\", alpha_hat)\n"
   ]
  },
  {
   "cell_type": "code",
   "execution_count": 60,
   "metadata": {},
   "outputs": [],
   "source": [
    "# import multiprocess as mp\n",
    "from torch.multiprocessing import Pool\n",
    "\n",
    "items = results['logit'].to(torch.float64).softmax(-1).unbind(0)\n",
    "items = [np.array(x) for x in items]\n",
    "\n",
    "with Pool(1000) as pool:\n",
    "    processed_items = pool.map(fit_dirichlet, items)"
   ]
  },
  {
   "cell_type": "code",
   "execution_count": 72,
   "metadata": {},
   "outputs": [
    {
     "data": {
      "text/plain": [
       "(50000, 10)"
      ]
     },
     "execution_count": 72,
     "metadata": {},
     "output_type": "execute_result"
    }
   ],
   "source": [
    "processed_items = np.array(processed_items)\n",
    "processed_items.shape"
   ]
  },
  {
   "cell_type": "code",
   "execution_count": 11,
   "metadata": {},
   "outputs": [
    {
     "data": {
      "text/plain": [
       "array([0.07392509, 0.09778622, 0.07857815, 0.09688988, 0.06868253,\n",
       "       0.21338689, 0.11196087, 0.07313143, 0.07801399, 0.06190548])"
      ]
     },
     "execution_count": 11,
     "metadata": {},
     "output_type": "execute_result"
    }
   ],
   "source": [
    "np.array(processed_items)[0]"
   ]
  },
  {
   "cell_type": "code",
   "execution_count": 49,
   "metadata": {},
   "outputs": [],
   "source": [
    "alpha2 = []\n",
    "for vec in results['logit'].to(torch.double).softmax(-1).numpy():\n",
    "    alpha2.append(fit_dirichlet(vec))\n",
    "\n",
    "alpha2 = np.array(alpha2)"
   ]
  },
  {
   "cell_type": "code",
   "execution_count": 51,
   "metadata": {},
   "outputs": [
    {
     "data": {
      "text/plain": [
       "(50000, 10)"
      ]
     },
     "execution_count": 51,
     "metadata": {},
     "output_type": "execute_result"
    }
   ],
   "source": [
    "alpha2.shape"
   ]
  },
  {
   "cell_type": "code",
   "execution_count": 13,
   "metadata": {},
   "outputs": [
    {
     "name": "stdout",
     "output_type": "stream",
     "text": [
      "Entropy of the Dirichlet distribution: -1.4611820247291334\n",
      "Entropy of the Dirichlet distribution: [-1.46118202 -1.46118202 -1.46118202 -1.46118202 -1.46118202 -1.46118202\n",
      " -1.46118202 -1.46118202 -1.46118202 -1.46118202]\n"
     ]
    }
   ],
   "source": [
    "# calculate entropy of Dirichlet distribution\n",
    "\n",
    "import numpy as np\n",
    "from scipy.special import gammaln, psi\n",
    "\n",
    "def dirichlet_entropy(alpha):\n",
    "    alpha0 = np.sum(alpha)\n",
    "    k = len(alpha)\n",
    "    \n",
    "    log_beta = np.sum(gammaln(alpha)) - gammaln(alpha0)\n",
    "    entropy = log_beta + (alpha0 - k) * psi(alpha0) - np.sum((alpha - 1) * psi(alpha))\n",
    "    \n",
    "    return entropy\n",
    "\n",
    "def batched_dirichlet_entropy(alpha):\n",
    "    b, k = alpha.shape\n",
    "    alpha0 = np.sum(alpha, axis=1)\n",
    "    \n",
    "    log_beta = np.sum(gammaln(alpha), axis=1) - gammaln(alpha0)\n",
    "    entropy = log_beta + (alpha0 - k) * psi(alpha0) - np.sum((alpha - 1) * psi(alpha), axis=1)\n",
    "    \n",
    "    return entropy\n",
    "\n",
    "# Example usage\n",
    "alpha = np.array([3, 5, 2])\n",
    "entropy = dirichlet_entropy(alpha)\n",
    "print(\"Entropy of the Dirichlet distribution:\", entropy)\n",
    "\n",
    "# Example usage\n",
    "alpha = np.array([3, 5, 2])[np.newaxis, :].repeat(10, axis=0)\n",
    "entropy = batched_dirichlet_entropy(alpha)\n",
    "print(\"Entropy of the Dirichlet distribution:\", entropy)\n"
   ]
  },
  {
   "cell_type": "code",
   "execution_count": 109,
   "metadata": {},
   "outputs": [
    {
     "data": {
      "image/png": "[encoded data removed]",
      "text/plain": [
       "<Figure size 500x300 with 1 Axes>"
      ]
     },
     "metadata": {},
     "output_type": "display_data"
    }
   ],
   "source": [
    "import matplotlib.pyplot as plt\n",
    "from sklearn.metrics import roc_auc_score\n",
    "\n",
    "score = entropy\n",
    "is_noisy = (results['target'] != results['target_gt']).numpy()\n",
    "\n",
    "auroc = roc_auc_score(is_noisy, score)\n",
    "blue_data = score[~is_noisy]\n",
    "red_data = score[is_noisy]\n",
    "\n",
    "fig, ax = plt.subplots(figsize=(5,3))\n",
    "ax.text(0.5, 0.9,f\"{auroc=:0.4f}\",transform=ax.transAxes, fontsize=12, horizontalalignment='center', verticalalignment='center')\n",
    "ax.hist([blue_data, red_data], color=['blue', 'red'], label=[\"clean\", \"noisy\"])\n",
    "\n",
    "ax.set_title(\"noisy label filtering\")\n",
    "ax.set_xlabel(\"score\")\n",
    "ax.set_ylabel(\"frequency\")\n",
    "ax.legend()\n",
    "plt.show()"
   ]
  },
  {
   "cell_type": "code",
   "execution_count": 48,
   "metadata": {},
   "outputs": [
    {
     "name": "stdout",
     "output_type": "stream",
     "text": [
      "-10494451000000.0 -75.583466\n"
     ]
    }
   ],
   "source": [
    "print(entropy.min(), entropy.max())"
   ]
  },
  {
   "cell_type": "code",
   "execution_count": 75,
   "metadata": {},
   "outputs": [
    {
     "data": {
      "image/png": "[encoded data removed]",
      "text/plain": [
       "<Figure size 500x300 with 1 Axes>"
      ]
     },
     "metadata": {},
     "output_type": "display_data"
    }
   ],
   "source": [
    "import matplotlib.pyplot as plt\n",
    "from sklearn.metrics import roc_auc_score\n",
    "\n",
    "entropy = batched_dirichlet_entropy(processed_items)\n",
    "\n",
    "score = entropy\n",
    "is_noisy = (results['target'] != results['target_gt']).numpy()\n",
    "\n",
    "auroc = roc_auc_score(is_noisy, score)\n",
    "\n",
    "blue_data = score[~is_noisy]\n",
    "red_data = score[is_noisy]\n",
    "\n",
    "fig, ax = plt.subplots(figsize=(5,3))\n",
    "ax.text(0.5, 0.9,f\"{auroc=:0.4f}\",transform=ax.transAxes, fontsize=12, horizontalalignment='center', verticalalignment='center')\n",
    "ax.hist([blue_data, red_data], color=['blue', 'red'], label=[\"clean\", \"noisy\"])\n",
    "\n",
    "ax.set_title(\"noisy label filtering\")\n",
    "ax.set_xlabel(\"score\")\n",
    "ax.set_ylabel(\"frequency\")\n",
    "ax.legend()\n",
    "plt.show()\n"
   ]
  },
  {
   "attachments": {},
   "cell_type": "markdown",
   "metadata": {},
   "source": [
    "## fixed perturbation-based filtering\n",
    "\n",
    "현재 메소드는 perturbed prediction 간의 disagreement 를 측정하고 있는데, 이게 아니라 unperturbed prediction vs. perturbed prediction 간의 disagreement 를 측정하는게 더 좋을 것 같다."
   ]
  },
  {
   "cell_type": "code",
   "execution_count": 77,
   "metadata": {},
   "outputs": [
    {
     "name": "stdout",
     "output_type": "stream",
     "text": [
      "Files already downloaded and verified\n",
      "{'kldiv': tensor([[-1.8653e-02, -4.5042e-02, -3.6516e-01,  ..., -1.2719e-03,\n",
      "         -1.3116e-01, -2.2392e-01],\n",
      "        [-5.9909e-02, -1.1275e-02, -9.5148e-02,  ..., -1.5345e-01,\n",
      "         -1.0603e-01, -9.9113e-01],\n",
      "        [-2.6669e-01, -1.5503e-01, -1.6335e-01,  ..., -1.2745e-02,\n",
      "         -3.2046e-01, -8.5889e-01],\n",
      "        ...,\n",
      "        [-4.4421e-02, -3.0599e-03, -2.4050e-01,  ..., -1.3455e-03,\n",
      "         -1.1923e-01, -9.8478e-01],\n",
      "        [-5.9184e-03, -4.0437e-01, -4.1164e-04,  ..., -1.9883e-01,\n",
      "         -7.3964e-01, -4.4795e-02],\n",
      "        [-2.4039e-01, -2.2092e-01, -2.2241e-02,  ..., -2.2393e-01,\n",
      "         -2.6908e-03, -3.3409e-03]]),\n",
      " 'target': tensor([5, 9, 9,  ..., 9, 8, 3]),\n",
      " 'target_gt': tensor([6, 9, 9,  ..., 9, 1, 1])}\n"
     ]
    }
   ],
   "source": [
    "# perturbation-based filtering\n",
    "# for estimating dirichlet distribution entropy\n",
    "\n",
    "from torchvision import transforms\n",
    "from torchvision.transforms.autoaugment import AutoAugment, AutoAugmentPolicy\n",
    "import torch.nn.functional as F\n",
    "\n",
    "\n",
    "\n",
    "transform_train = transforms.Compose([\n",
    "    # transforms.ToTensor(),\n",
    "    transforms.Lambda(lambda x: torch.tensor(np.array(x)).permute(2,0,1))\n",
    "])\n",
    "\n",
    "transform_normalize = transforms.Compose([\n",
    "    transforms.Lambda(lambda x: x/255.0),\n",
    "    transforms.Normalize((0.4914, 0.4822, 0.4465), (0.2023, 0.1994, 0.2010)),\n",
    "])\n",
    "transform_tta = transforms.Compose([\n",
    "    AutoAugment(AutoAugmentPolicy.CIFAR10),\n",
    "    transforms.Lambda(lambda x: x/255.0),\n",
    "    transforms.Normalize((0.4914, 0.4822, 0.4465), (0.2023, 0.1994, 0.2010)),\n",
    "])\n",
    "# transform_train = transforms.Compose([\n",
    "#     transforms.RandomCrop(32, padding=4),\n",
    "#     transforms.RandomHorizontalFlip(),\n",
    "# ])\n",
    "\n",
    "\n",
    "train_dataset, _ = datasets.get_dataset(**config[\"data\"])\n",
    "train_dataset.transform = transform_train\n",
    "\n",
    "\n",
    "with torch.no_grad():\n",
    "    trainer.model.eval()\n",
    "    dataloader = trainer.get_dataloader(train_dataset, train=False)\n",
    "\n",
    "    results = {\n",
    "        'kldiv': [],\n",
    "        'target': [],\n",
    "        'target_gt': [],\n",
    "    }\n",
    "    for batch in dataloader:\n",
    "        data, target = batch[\"image\"].cuda(), batch[\"target\"].cuda()\n",
    "        target_gt = batch[\"target_gt\"].cuda()\n",
    "        pred = trainer.model(transform_normalize(data)).softmax(dim=-1)\n",
    "\n",
    "        ensemble = []\n",
    "        for _ in range(10):\n",
    "            # data_ = torch.normal(transform_normalize(data), 0.1)\n",
    "            data_ = transform_tta(data)\n",
    "            output = trainer.model(data_)\n",
    "            ensemble.append(output.softmax(dim=-1))\n",
    "        ensemble = torch.stack(ensemble, dim=0).mean(0)\n",
    "\n",
    "        results['kldiv'].append(F.kl_div(pred, ensemble, reduction='none').sum(1))\n",
    "        results['target'].append(target)\n",
    "        results['target_gt'].append(target_gt)\n",
    "\n",
    "    results['kldiv'] = torch.cat(results['kldiv'], dim=0).cpu()\n",
    "    results['target'] = torch.cat(results['target'], dim=0).cpu()\n",
    "    results['target_gt'] = torch.cat(results['target_gt'], dim=0).cpu()\n",
    "\n",
    "\n",
    "pprint.pprint(results)"
   ]
  },
  {
   "cell_type": "code",
   "execution_count": 78,
   "metadata": {},
   "outputs": [
    {
     "data": {
      "image/png": "[encoded data removed]",
      "text/plain": [
       "<Figure size 500x300 with 1 Axes>"
      ]
     },
     "metadata": {},
     "output_type": "display_data"
    }
   ],
   "source": [
    "import matplotlib.pyplot as plt\n",
    "from sklearn.metrics import roc_auc_score\n",
    "\n",
    "\n",
    "score = results['kldiv']\n",
    "is_noisy = (results['target'] != results['target_gt']).numpy()\n",
    "\n",
    "auroc = roc_auc_score(is_noisy, score)\n",
    "\n",
    "blue_data = score[~is_noisy]\n",
    "red_data = score[is_noisy]\n",
    "\n",
    "fig, ax = plt.subplots(figsize=(5,3))\n",
    "ax.text(0.5, 0.9,f\"{auroc=:0.4f}\",transform=ax.transAxes, fontsize=12, horizontalalignment='center', verticalalignment='center')\n",
    "\n",
    "ax.hist([blue_data, red_data], color=['blue', 'red'], label=[\"clean\", \"noisy\"])\n",
    "\n",
    "# add title and axis labels\n",
    "ax.set_title(\"noisy label filtering\")\n",
    "ax.set_xlabel(\"score\")\n",
    "ax.set_ylabel(\"frequency\")\n",
    "\n",
    "\n",
    "# add legend\n",
    "ax.legend()\n",
    "\n",
    "# display the histogram\n",
    "plt.show()\n"
   ]
  },
  {
   "attachments": {},
   "cell_type": "markdown",
   "metadata": {},
   "source": [
    "## AUROC per training epoch"
   ]
  },
  {
   "cell_type": "code",
   "execution_count": null,
   "metadata": {},
   "outputs": [],
   "source": [
    "def load_checkpoint(name=\"model_199.pth\"):\n",
    "    checkpoint = wandb.restore(name, run_path=f\"siit-iitp/noisy-label/{WANDB_RUN_ID}\", replace=True)\n",
    "    model.load_state_dict(torch.load(checkpoint.name, map_location=\"cuda\"))"
   ]
  },
  {
   "cell_type": "code",
   "execution_count": null,
   "metadata": {},
   "outputs": [],
   "source": [
    "# perturbation-based filtering\n",
    "\n",
    "from torchvision import transforms\n",
    "from torchvision.transforms.autoaugment import AutoAugment, AutoAugmentPolicy\n",
    "import torchvision.transforms.functional as F\n",
    "\n",
    "\n",
    "\n",
    "transform_train = transforms.Compose([\n",
    "    # transforms.ToTensor(),\n",
    "    transforms.Lambda(lambda x: torch.tensor(np.array(x)).permute(2,0,1))\n",
    "])\n",
    "\n",
    "transform_normalize = transforms.Compose([\n",
    "    transforms.Lambda(lambda x: x/255.0),\n",
    "    transforms.Normalize((0.4914, 0.4822, 0.4465), (0.2023, 0.1994, 0.2010)),\n",
    "])\n",
    "transform_tta = transforms.Compose([\n",
    "    AutoAugment(AutoAugmentPolicy.CIFAR10),\n",
    "    transforms.Lambda(lambda x: x/255.0),\n",
    "    transforms.Normalize((0.4914, 0.4822, 0.4465), (0.2023, 0.1994, 0.2010)),\n",
    "])\n",
    "# transform_train = transforms.Compose([\n",
    "#     transforms.RandomCrop(32, padding=4),\n",
    "#     transforms.RandomHorizontalFlip(),\n",
    "# ])\n",
    "\n",
    "\n",
    "train_dataset, _ = datasets.get_dataset(**config[\"data\"])\n",
    "train_dataset.transform = transform_train\n",
    "\n",
    "\n",
    "\n",
    "with torch.no_grad():\n",
    "    trainer.model.eval()\n",
    "    dataloader = trainer.get_dataloader(train_dataset, train=False)\n",
    "\n",
    "    results = []\n",
    "\n",
    "    for ep in range(9, 200, 10):\n",
    "        load_checkpoint(f\"model_{ep}.pth\")\n",
    "\n",
    "        result = {\n",
    "            'loss': [],\n",
    "            'std': [],\n",
    "            'mean': [],\n",
    "            'is_noisy': [],\n",
    "        }\n",
    "        for batch in dataloader:\n",
    "            data, target = batch[\"image\"].cuda(), batch[\"target\"].cuda()\n",
    "            target_gt = batch[\"target_gt\"].cuda()\n",
    "\n",
    "            data_ = transform_normalize(data)\n",
    "            output = trainer.model(data_)\n",
    "            loss = trainer.criterion(output, target)\n",
    "            result['loss'].append(loss)\n",
    "\n",
    "            losses = []\n",
    "            for _ in range(10):\n",
    "                # data_ = torch.normal(transform_normalize(data), 0.1)\n",
    "                data_ = transform_tta(data)\n",
    "                output = trainer.model(data_)\n",
    "                loss = trainer.criterion(output, target)\n",
    "                losses.append(loss)\n",
    "            std, mean = torch.std_mean(torch.stack(losses, dim=-1), dim=-1)\n",
    "            is_noisy = (target != target_gt)\n",
    "            result['std'].append(std)\n",
    "            result['mean'].append(mean)\n",
    "            result['is_noisy'].append(is_noisy)\n",
    "\n",
    "        result['std'] = torch.cat(result['std'], dim=0).cpu()\n",
    "        result['mean'] = torch.cat(result['mean'], dim=0).cpu()\n",
    "        result['is_noisy'] = torch.cat(result['is_noisy'], dim=0).cpu()\n",
    "        results.append(result)\n",
    "\n",
    "pprint.pprint(result)"
   ]
  },
  {
   "cell_type": "code",
   "execution_count": null,
   "metadata": {},
   "outputs": [],
   "source": [
    "# save intermediate results in case of crash\n",
    "torch.save(results, \"./test-time.pth\")"
   ]
  },
  {
   "cell_type": "code",
   "execution_count": null,
   "metadata": {},
   "outputs": [],
   "source": [
    "import pandas as pd\n",
    "from sklearn.metrics import roc_auc_score\n",
    "\n",
    "temp = []\n",
    "for result in results:\n",
    "    temp.append({\n",
    "        'loss': roc_auc_score(result['is_noisy'], result['loss']),\n",
    "        'loss mean': roc_auc_score(result['is_noisy'], result['mean']),\n",
    "        'mean + 0.5*std': roc_auc_score(result['is_noisy'], result['mean'] + 0.5*result['std']),\n",
    "        'mean - 0.5*std': roc_auc_score(result['is_noisy'], result['mean'] - 0.5*result['std']),\n",
    "        'std': roc_auc_score(result['is_noisy'], result['std']),\n",
    "    })\n",
    "\n",
    "temp = pd.DataFrame(temp)\n",
    "temp['epoch'] = list(range(9,200,10))\n",
    "temp = temp.set_index('epoch')\n",
    "temp"
   ]
  },
  {
   "cell_type": "code",
   "execution_count": null,
   "metadata": {},
   "outputs": [],
   "source": [
    "import pandas as pd\n",
    "import matplotlib.pyplot as plt\n",
    "\n",
    "df = temp\n",
    "\n",
    "fig, ax = plt.subplots()\n",
    "df.plot(ax=ax)\n",
    "\n",
    "ax.set_xlabel('epoch')\n",
    "ax.set_ylabel('filtering performance (AUROC)')\n",
    "plt.show()\n"
   ]
  },
  {
   "attachments": {},
   "cell_type": "markdown",
   "metadata": {},
   "source": [
    "## Latent-space perturbation"
   ]
  },
  {
   "cell_type": "code",
   "execution_count": null,
   "metadata": {},
   "outputs": [],
   "source": [
    "from models import MCDropout, GaussianMCDropout\n",
    "\n",
    "# dropout = MCDropout\n",
    "dropout = GaussianMCDropout\n",
    "\n",
    "trainer.model.register_module(\"dropout\", dropout())\n",
    "def forward(self, x):\n",
    "    x = self.get_feature(x)\n",
    "    x = self.dropout(x)\n",
    "    x = self.fc(x)\n",
    "    return x\n",
    "setattr(trainer.model, 'forward', forward.__get__(trainer.model, trainer.model.__class__))"
   ]
  },
  {
   "cell_type": "code",
   "execution_count": null,
   "metadata": {},
   "outputs": [],
   "source": [
    "# loss magnitude-based filtering\n",
    "from torchvision import transforms\n",
    "from torchvision.transforms.autoaugment import AutoAugment, AutoAugmentPolicy\n",
    "import torchvision.transforms.functional as F\n",
    "\n",
    "\n",
    "transform_train = transforms.Compose([\n",
    "    # transforms.ToTensor(),\n",
    "    transforms.Lambda(lambda x: torch.tensor(np.array(x)).permute(2,0,1))\n",
    "])\n",
    "\n",
    "transform_normalize = transforms.Compose([\n",
    "    transforms.Lambda(lambda x: x/255.0),\n",
    "    transforms.Normalize((0.4914, 0.4822, 0.4465), (0.2023, 0.1994, 0.2010)),\n",
    "])\n",
    "transform_tta = transforms.Compose([\n",
    "    AutoAugment(AutoAugmentPolicy.CIFAR10),\n",
    "    transforms.Lambda(lambda x: x/255.0),\n",
    "    transforms.Normalize((0.4914, 0.4822, 0.4465), (0.2023, 0.1994, 0.2010)),\n",
    "])\n",
    "# transform_train = transforms.Compose([\n",
    "#     transforms.RandomCrop(32, padding=4),\n",
    "#     transforms.RandomHorizontalFlip(),\n",
    "# ])\n",
    "\n",
    "\n",
    "train_dataset, _ = datasets.get_dataset(**config[\"data\"])\n",
    "train_dataset.transform = transform_train\n",
    "\n",
    "\n",
    "with torch.no_grad():\n",
    "    trainer.model.eval()\n",
    "    dataloader = trainer.get_dataloader(train_dataset, train=False)\n",
    "\n",
    "    result = {\n",
    "        'std': [],\n",
    "        'mean': [],\n",
    "        'is_noisy': [],\n",
    "    }\n",
    "    for batch in dataloader:\n",
    "        data, target = batch[\"image\"].cuda(), batch[\"target\"].cuda()\n",
    "        target_gt = batch[\"target_gt\"].cuda()\n",
    "        losses = []\n",
    "        for _ in range(10):\n",
    "            data_ = transform_normalize(data)\n",
    "            output = trainer.model(data_)\n",
    "            loss = trainer.criterion(output, target)\n",
    "            losses.append(loss)\n",
    "        std, mean = torch.std_mean(torch.stack(losses, dim=-1), dim=-1)\n",
    "        is_noisy = (target != target_gt)\n",
    "        result['std'].append(std)\n",
    "        result['mean'].append(mean)\n",
    "        result['is_noisy'].append(is_noisy)\n",
    "\n",
    "    result['std'] = torch.cat(result['std'], dim=0).cpu()\n",
    "    result['mean'] = torch.cat(result['mean'], dim=0).cpu()\n",
    "    result['is_noisy'] = torch.cat(result['is_noisy'], dim=0).cpu()\n",
    "\n",
    "pprint.pprint(result)"
   ]
  },
  {
   "cell_type": "code",
   "execution_count": null,
   "metadata": {},
   "outputs": [],
   "source": [
    "import matplotlib.pyplot as plt\n",
    "from sklearn.metrics import roc_auc_score\n",
    "\n",
    "# score = result['mean']\n",
    "# score = result['mean'] + 0.5*result['std']\n",
    "# score = result['mean'] - 0.5*result['std']\n",
    "score = result['std']\n",
    "\n",
    "is_noisy = result['is_noisy']\n",
    "\n",
    "auroc = roc_auc_score(is_noisy, score)\n",
    "\n",
    "blue_data = score[~is_noisy]\n",
    "red_data = score[is_noisy]\n",
    "\n",
    "fig, ax = plt.subplots(figsize=(5,3))\n",
    "ax.text(0.5, 0.9,f\"{auroc=:0.4f}\",transform=ax.transAxes, fontsize=12, horizontalalignment='center', verticalalignment='center')\n",
    "ax.hist([blue_data, red_data], color=['blue', 'red'], label=[\"clean\", \"noisy\"])\n",
    "\n",
    "ax.set_title(\"noisy label filtering\")\n",
    "ax.set_xlabel(\"score\")\n",
    "ax.set_ylabel(\"frequency\")\n",
    "ax.legend()\n",
    "plt.show()\n"
   ]
  },
  {
   "attachments": {},
   "cell_type": "markdown",
   "metadata": {},
   "source": [
    "### use both MC dropout and input perturbation"
   ]
  },
  {
   "cell_type": "code",
   "execution_count": null,
   "metadata": {},
   "outputs": [],
   "source": [
    "from models import MCDropout, GaussianMCDropout\n",
    "\n",
    "dropout = MCDropout\n",
    "# dropout = GaussianMCDropout\n",
    "\n",
    "trainer.model.register_module(\"dropout\", dropout())\n",
    "def forward(self, x):\n",
    "    x = self.get_feature(x)\n",
    "    x = self.dropout(x)\n",
    "    x = self.fc(x)\n",
    "    return x\n",
    "setattr(trainer.model, 'forward', forward.__get__(trainer.model, trainer.model.__class__))\n",
    "\n",
    "\n",
    "\n",
    "\n",
    "# loss magnitude-based filtering\n",
    "from torchvision import transforms\n",
    "from torchvision.transforms.autoaugment import AutoAugment, AutoAugmentPolicy\n",
    "import torchvision.transforms.functional as F\n",
    "\n",
    "\n",
    "transform_train = transforms.Compose([\n",
    "    # transforms.ToTensor(),\n",
    "    transforms.Lambda(lambda x: torch.tensor(np.array(x)).permute(2,0,1))\n",
    "])\n",
    "\n",
    "transform_normalize = transforms.Compose([\n",
    "    transforms.Lambda(lambda x: x/255.0),\n",
    "    transforms.Normalize((0.4914, 0.4822, 0.4465), (0.2023, 0.1994, 0.2010)),\n",
    "])\n",
    "transform_tta = transforms.Compose([\n",
    "    AutoAugment(AutoAugmentPolicy.CIFAR10),\n",
    "    transforms.Lambda(lambda x: x/255.0),\n",
    "    transforms.Normalize((0.4914, 0.4822, 0.4465), (0.2023, 0.1994, 0.2010)),\n",
    "])\n",
    "# transform_train = transforms.Compose([\n",
    "#     transforms.RandomCrop(32, padding=4),\n",
    "#     transforms.RandomHorizontalFlip(),\n",
    "# ])\n",
    "\n",
    "\n",
    "train_dataset, _ = datasets.get_dataset(**config[\"data\"])\n",
    "train_dataset.transform = transform_train\n",
    "\n",
    "\n",
    "with torch.no_grad():\n",
    "    trainer.model.eval()\n",
    "    dataloader = trainer.get_dataloader(train_dataset, train=False)\n",
    "\n",
    "    result = {\n",
    "        'std': [],\n",
    "        'mean': [],\n",
    "        'is_noisy': [],\n",
    "    }\n",
    "    for batch in dataloader:\n",
    "        data, target = batch[\"image\"].cuda(), batch[\"target\"].cuda()\n",
    "        target_gt = batch[\"target_gt\"].cuda()\n",
    "        losses = []\n",
    "        for _ in range(10):\n",
    "            # data_ = torch.normal(transform_normalize(data), 0.1)\n",
    "            data_ = transform_tta(data)\n",
    "            output = trainer.model(data_)\n",
    "            loss = trainer.criterion(output, target)\n",
    "            losses.append(loss)\n",
    "        std, mean = torch.std_mean(torch.stack(losses, dim=-1), dim=-1)\n",
    "        is_noisy = (target != target_gt)\n",
    "        result['std'].append(std)\n",
    "        result['mean'].append(mean)\n",
    "        result['is_noisy'].append(is_noisy)\n",
    "\n",
    "    result['std'] = torch.cat(result['std'], dim=0).cpu()\n",
    "    result['mean'] = torch.cat(result['mean'], dim=0).cpu()\n",
    "    result['is_noisy'] = torch.cat(result['is_noisy'], dim=0).cpu()\n",
    "\n",
    "pprint.pprint(result)"
   ]
  },
  {
   "cell_type": "code",
   "execution_count": null,
   "metadata": {},
   "outputs": [],
   "source": [
    "import matplotlib.pyplot as plt\n",
    "from sklearn.metrics import roc_auc_score\n",
    "\n",
    "# score = result['mean']\n",
    "# score = result['mean'] + 0.5*result['std']\n",
    "# score = result['mean'] - 0.5*result['std']\n",
    "score = result['std']\n",
    "\n",
    "is_noisy = result['is_noisy']\n",
    "\n",
    "auroc = roc_auc_score(is_noisy, score)\n",
    "\n",
    "blue_data = score[~is_noisy]\n",
    "red_data = score[is_noisy]\n",
    "\n",
    "fig, ax = plt.subplots(figsize=(5,3))\n",
    "ax.text(0.5, 0.9,f\"{auroc=:0.4f}\",transform=ax.transAxes, fontsize=12, horizontalalignment='center', verticalalignment='center')\n",
    "ax.hist([blue_data, red_data], color=['blue', 'red'], label=[\"clean\", \"noisy\"])\n",
    "\n",
    "ax.set_title(\"noisy label filtering\")\n",
    "ax.set_xlabel(\"score\")\n",
    "ax.set_ylabel(\"frequency\")\n",
    "ax.legend()\n",
    "plt.show()\n"
   ]
  }
 ],
 "metadata": {
  "kernelspec": {
   "display_name": "base",
   "language": "python",
   "name": "python3"
  },
  "language_info": {
   "codemirror_mode": {
    "name": "ipython",
    "version": 3
   },
   "file_extension": ".py",
   "mimetype": "text/x-python",
   "name": "python",
   "nbconvert_exporter": "python",
   "pygments_lexer": "ipython3",
   "version": "3.10.9"
  },
  "orig_nbformat": 4
 },
 "nbformat": 4,
 "nbformat_minor": 2
}
