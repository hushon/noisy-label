{
 "cells": [
  {
   "cell_type": "code",
   "execution_count": 6,
   "metadata": {},
   "outputs": [
    {
     "name": "stdout",
     "output_type": "stream",
     "text": [
      "Files already downloaded and verified\n",
      "True noise rate: 0.1006\n",
      "Files already downloaded and verified\n"
     ]
    },
    {
     "ename": "TypeError",
     "evalue": "unsupported operand type(s) for &: 'NoneType' and 'bool'",
     "output_type": "error",
     "traceback": [
      "\u001b[0;31m---------------------------------------------------------------------------\u001b[0m",
      "\u001b[0;31mTypeError\u001b[0m                                 Traceback (most recent call last)",
      "\u001b[1;32m/mnt/sdc/hushon/noisy-label/noisy-label/nvr_toy_example.ipynb Cell 1\u001b[0m line \u001b[0;36m5\n\u001b[1;32m      <a href='vscode-notebook-cell://attached-container%2B7b22636f6e7461696e65724e616d65223a222f687573686f6e2d6e6c33222c2273657474696e6773223a7b22686f7374223a227373683a2f2f3134332e3234382e3135382e3930227d7d/mnt/sdc/hushon/noisy-label/noisy-label/nvr_toy_example.ipynb#W0sdnNjb2RlLXJlbW90ZQ%3D%3D?line=2'>3</a>\u001b[0m \u001b[39m# Load the dataset\u001b[39;00m\n\u001b[1;32m      <a href='vscode-notebook-cell://attached-container%2B7b22636f6e7461696e65724e616d65223a222f687573686f6e2d6e6c33222c2273657474696e6773223a7b22686f7374223a227373683a2f2f3134332e3234382e3135382e3930227d7d/mnt/sdc/hushon/noisy-label/noisy-label/nvr_toy_example.ipynb#W0sdnNjb2RlLXJlbW90ZQ%3D%3D?line=3'>4</a>\u001b[0m dataset \u001b[39m=\u001b[39m NoisyCIFAR10(root\u001b[39m=\u001b[39m\u001b[39m'\u001b[39m\u001b[39m/dev/shm/data/\u001b[39m\u001b[39m'\u001b[39m, train\u001b[39m=\u001b[39m\u001b[39mTrue\u001b[39;00m, download\u001b[39m=\u001b[39m\u001b[39mTrue\u001b[39;00m, noise_type\u001b[39m=\u001b[39m\u001b[39m'\u001b[39m\u001b[39masymmetric\u001b[39m\u001b[39m'\u001b[39m, noise_rate\u001b[39m=\u001b[39m\u001b[39m0.2\u001b[39m)\n\u001b[0;32m----> <a href='vscode-notebook-cell://attached-container%2B7b22636f6e7461696e65724e616d65223a222f687573686f6e2d6e6c33222c2273657474696e6773223a7b22686f7374223a227373683a2f2f3134332e3234382e3135382e3930227d7d/mnt/sdc/hushon/noisy-label/noisy-label/nvr_toy_example.ipynb#W0sdnNjb2RlLXJlbW90ZQ%3D%3D?line=4'>5</a>\u001b[0m dataset \u001b[39m=\u001b[39m OldNoisyCIFAR10(root\u001b[39m=\u001b[39;49m\u001b[39m'\u001b[39;49m\u001b[39m/dev/shm/data/\u001b[39;49m\u001b[39m'\u001b[39;49m, train\u001b[39m=\u001b[39;49m\u001b[39mTrue\u001b[39;49;00m, download\u001b[39m=\u001b[39;49m\u001b[39mTrue\u001b[39;49;00m, noise_type\u001b[39m=\u001b[39;49m\u001b[39m'\u001b[39;49m\u001b[39masymmetric\u001b[39;49m\u001b[39m'\u001b[39;49m, noise_rate\u001b[39m=\u001b[39;49m\u001b[39m0.2\u001b[39;49m)\n",
      "File \u001b[0;32m/mnt/sdc/hushon/noisy-label/noisy-label/datasets/cifar.py:126\u001b[0m, in \u001b[0;36mOldNoisyCIFAR10.__init__\u001b[0;34m(self, root, train, transform, target_transform, download, noise_rate, noise_type, random_state)\u001b[0m\n\u001b[1;32m    124\u001b[0m     \u001b[39mself\u001b[39m\u001b[39m.\u001b[39m_inject_symmetric_noise()\n\u001b[1;32m    125\u001b[0m \u001b[39melif\u001b[39;00m noise_type \u001b[39m==\u001b[39m \u001b[39m\"\u001b[39m\u001b[39masymmetric\u001b[39m\u001b[39m\"\u001b[39m:\n\u001b[0;32m--> 126\u001b[0m     \u001b[39mself\u001b[39;49m\u001b[39m.\u001b[39;49m_inject_asymmetric_noise()\n\u001b[1;32m    128\u001b[0m true_noise_rate \u001b[39m=\u001b[39m (\u001b[39mself\u001b[39m\u001b[39m.\u001b[39mtargets \u001b[39m!=\u001b[39m \u001b[39mself\u001b[39m\u001b[39m.\u001b[39mtargets_gt)\u001b[39m.\u001b[39mmean()\n\u001b[1;32m    129\u001b[0m \u001b[39mprint\u001b[39m(\u001b[39mf\u001b[39m\u001b[39m\"\u001b[39m\u001b[39mTrue noise rate: \u001b[39m\u001b[39m{\u001b[39;00mtrue_noise_rate\u001b[39m:\u001b[39;00m\u001b[39m.4f\u001b[39m\u001b[39m}\u001b[39;00m\u001b[39m\"\u001b[39m)\n",
      "File \u001b[0;32m/mnt/sdc/hushon/noisy-label/noisy-label/datasets/cifar.py:148\u001b[0m, in \u001b[0;36mOldNoisyCIFAR10._inject_asymmetric_noise\u001b[0;34m(self)\u001b[0m\n\u001b[1;32m    146\u001b[0m \u001b[39m# change labels\u001b[39;00m\n\u001b[1;32m    147\u001b[0m \u001b[39mfor\u001b[39;00m gt, tgt \u001b[39min\u001b[39;00m \u001b[39mself\u001b[39m\u001b[39m.\u001b[39masymm_label_transition\u001b[39m.\u001b[39mitems():\n\u001b[0;32m--> 148\u001b[0m     \u001b[39mself\u001b[39m\u001b[39m.\u001b[39mtargets[target_mask \u001b[39m&\u001b[39;49m (\u001b[39mself\u001b[39;49m\u001b[39m.\u001b[39;49mtargets \u001b[39m==\u001b[39;49m gt)] \u001b[39m=\u001b[39m tgt\n",
      "\u001b[0;31mTypeError\u001b[0m: unsupported operand type(s) for &: 'NoneType' and 'bool'"
     ]
    }
   ],
   "source": [
    "from datasets import OldNoisyCIFAR10, NoisyCIFAR10\n",
    "\n",
    "# Load the dataset\n",
    "dataset = NoisyCIFAR10(root='/dev/shm/data/', train=True, download=True, noise_type='asymmetric', noise_rate=0.2)\n",
    "dataset = OldNoisyCIFAR10(root='/dev/shm/data/', train=True, download=True, noise_type='asymmetric', noise_rate=0.2)\n"
   ]
  },
  {
   "cell_type": "code",
   "execution_count": 4,
   "metadata": {},
   "outputs": [
    {
     "data": {
      "text/plain": [
       "array([4, 7, 7])"
      ]
     },
     "execution_count": 4,
     "metadata": {},
     "output_type": "execute_result"
    }
   ],
   "source": [
    "import numpy as np\n",
    "\n",
    "x = np.random.randint(0, 10, 5)\n",
    "i = np.array([True, False, True, False, True])\n",
    "x[i] "
   ]
  },
  {
   "cell_type": "code",
   "execution_count": null,
   "metadata": {},
   "outputs": [],
   "source": []
  }
 ],
 "metadata": {
  "kernelspec": {
   "display_name": "base",
   "language": "python",
   "name": "python3"
  },
  "language_info": {
   "codemirror_mode": {
    "name": "ipython",
    "version": 3
   },
   "file_extension": ".py",
   "mimetype": "text/x-python",
   "name": "python",
   "nbconvert_exporter": "python",
   "pygments_lexer": "ipython3",
   "version": "3.10.11"
  }
 },
 "nbformat": 4,
 "nbformat_minor": 2
}
