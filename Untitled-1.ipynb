{
 "cells": [
  {
   "cell_type": "code",
   "execution_count": 3,
   "metadata": {},
   "outputs": [
    {
     "data": {
      "text/plain": [
       "array([6, 3, 7, 4, 6])"
      ]
     },
     "execution_count": 3,
     "metadata": {},
     "output_type": "execute_result"
    }
   ],
   "source": [
    "import scipy.stats\n",
    "\n",
    "scipy.stats.randint.rvs(0, 10, size=5, random_state=42)\n"
   ]
  },
  {
   "cell_type": "code",
   "execution_count": 6,
   "metadata": {},
   "outputs": [
    {
     "data": {
      "text/plain": [
       "array([2, 2, 3, 6, 7])"
      ]
     },
     "execution_count": 6,
     "metadata": {},
     "output_type": "execute_result"
    }
   ],
   "source": [
    "scipy.stats.randint.rvs(0, 10, size=5)\n"
   ]
  },
  {
   "cell_type": "code",
   "execution_count": 7,
   "metadata": {},
   "outputs": [
    {
     "data": {
      "text/plain": [
       "array([False, False, False, False, False])"
      ]
     },
     "execution_count": 7,
     "metadata": {},
     "output_type": "execute_result"
    }
   ],
   "source": [
    "scipy.stats.randint.rvs(0, 10, size=5) == 2"
   ]
  },
  {
   "cell_type": "code",
   "execution_count": 9,
   "metadata": {},
   "outputs": [
    {
     "data": {
      "text/plain": [
       "array([[0., 1., 0., 0., 0., 0., 0., 0., 0., 0.],\n",
       "       [0., 0., 1., 0., 0., 0., 0., 0., 0., 0.],\n",
       "       [0., 0., 0., 1., 0., 0., 0., 0., 0., 0.],\n",
       "       [0., 0., 0., 0., 1., 0., 0., 0., 0., 0.],\n",
       "       [0., 0., 0., 0., 0., 1., 0., 0., 0., 0.],\n",
       "       [0., 0., 0., 0., 0., 0., 1., 0., 0., 0.],\n",
       "       [0., 0., 0., 0., 0., 0., 0., 1., 0., 0.],\n",
       "       [0., 0., 0., 0., 0., 0., 0., 0., 1., 0.],\n",
       "       [0., 0., 0., 0., 0., 0., 0., 0., 0., 1.],\n",
       "       [1., 0., 0., 0., 0., 0., 0., 0., 0., 0.]])"
      ]
     },
     "execution_count": 9,
     "metadata": {},
     "output_type": "execute_result"
    }
   ],
   "source": [
    "import numpy as np\n",
    "\n",
    "np.roll(np.eye(10), 1, 1\n",
    "    )"
   ]
  },
  {
   "cell_type": "code",
   "execution_count": 10,
   "metadata": {},
   "outputs": [
    {
     "data": {
      "text/plain": [
       "array([[0.8, 0.2, 0. , 0. , 0. , 0. , 0. , 0. , 0. , 0. ],\n",
       "       [0. , 0.8, 0.2, 0. , 0. , 0. , 0. , 0. , 0. , 0. ],\n",
       "       [0. , 0. , 0.8, 0.2, 0. , 0. , 0. , 0. , 0. , 0. ],\n",
       "       [0. , 0. , 0. , 0.8, 0.2, 0. , 0. , 0. , 0. , 0. ],\n",
       "       [0. , 0. , 0. , 0. , 0.8, 0.2, 0. , 0. , 0. , 0. ],\n",
       "       [0. , 0. , 0. , 0. , 0. , 0.8, 0.2, 0. , 0. , 0. ],\n",
       "       [0. , 0. , 0. , 0. , 0. , 0. , 0.8, 0.2, 0. , 0. ],\n",
       "       [0. , 0. , 0. , 0. , 0. , 0. , 0. , 0.8, 0.2, 0. ],\n",
       "       [0. , 0. , 0. , 0. , 0. , 0. , 0. , 0. , 0.8, 0.2],\n",
       "       [0.2, 0. , 0. , 0. , 0. , 0. , 0. , 0. , 0. , 0.8]])"
      ]
     },
     "execution_count": 10,
     "metadata": {},
     "output_type": "execute_result"
    }
   ],
   "source": [
    "eye = np.eye(10)\n",
    "(1 - 0.2) * eye + 0.2 * np.roll(eye, 1, axis=1)\n"
   ]
  },
  {
   "cell_type": "code",
   "execution_count": 15,
   "metadata": {},
   "outputs": [
    {
     "ename": "ValueError",
     "evalue": "Shape mismatch: if categories is an array, it has to be of shape (n_features,).",
     "output_type": "error",
     "traceback": [
      "\u001b[0;31m---------------------------------------------------------------------------\u001b[0m",
      "\u001b[0;31mValueError\u001b[0m                                Traceback (most recent call last)",
      "Cell \u001b[0;32mIn[15], line 4\u001b[0m\n\u001b[1;32m      1\u001b[0m \u001b[39mimport\u001b[39;00m \u001b[39msklearn\u001b[39;00m\u001b[39m.\u001b[39;00m\u001b[39mpreprocessing\u001b[39;00m\n\u001b[1;32m      3\u001b[0m encoder \u001b[39m=\u001b[39m sklearn\u001b[39m.\u001b[39mpreprocessing\u001b[39m.\u001b[39mOneHotEncoder(categories\u001b[39m=\u001b[39m\u001b[39mlist\u001b[39m(\u001b[39mrange\u001b[39m(\u001b[39m10\u001b[39m)))\n\u001b[0;32m----> 4\u001b[0m encoder\u001b[39m.\u001b[39;49mfit_transform(np\u001b[39m.\u001b[39;49marray([\u001b[39m0\u001b[39;49m, \u001b[39m1\u001b[39;49m, \u001b[39m2\u001b[39;49m, \u001b[39m3\u001b[39;49m, \u001b[39m4\u001b[39;49m, \u001b[39m5\u001b[39;49m, \u001b[39m6\u001b[39;49m, \u001b[39m7\u001b[39;49m, \u001b[39m8\u001b[39;49m, \u001b[39m9\u001b[39;49m])\u001b[39m.\u001b[39;49mreshape(\u001b[39m-\u001b[39;49m\u001b[39m1\u001b[39;49m,\u001b[39m1\u001b[39;49m))\n",
      "File \u001b[0;32m/opt/conda/lib/python3.10/site-packages/sklearn/utils/_set_output.py:140\u001b[0m, in \u001b[0;36m_wrap_method_output.<locals>.wrapped\u001b[0;34m(self, X, *args, **kwargs)\u001b[0m\n\u001b[1;32m    138\u001b[0m \u001b[39m@wraps\u001b[39m(f)\n\u001b[1;32m    139\u001b[0m \u001b[39mdef\u001b[39;00m \u001b[39mwrapped\u001b[39m(\u001b[39mself\u001b[39m, X, \u001b[39m*\u001b[39margs, \u001b[39m*\u001b[39m\u001b[39m*\u001b[39mkwargs):\n\u001b[0;32m--> 140\u001b[0m     data_to_wrap \u001b[39m=\u001b[39m f(\u001b[39mself\u001b[39;49m, X, \u001b[39m*\u001b[39;49margs, \u001b[39m*\u001b[39;49m\u001b[39m*\u001b[39;49mkwargs)\n\u001b[1;32m    141\u001b[0m     \u001b[39mif\u001b[39;00m \u001b[39misinstance\u001b[39m(data_to_wrap, \u001b[39mtuple\u001b[39m):\n\u001b[1;32m    142\u001b[0m         \u001b[39m# only wrap the first output for cross decomposition\u001b[39;00m\n\u001b[1;32m    143\u001b[0m         \u001b[39mreturn\u001b[39;00m (\n\u001b[1;32m    144\u001b[0m             _wrap_data_with_container(method, data_to_wrap[\u001b[39m0\u001b[39m], X, \u001b[39mself\u001b[39m),\n\u001b[1;32m    145\u001b[0m             \u001b[39m*\u001b[39mdata_to_wrap[\u001b[39m1\u001b[39m:],\n\u001b[1;32m    146\u001b[0m         )\n",
      "File \u001b[0;32m/opt/conda/lib/python3.10/site-packages/sklearn/base.py:878\u001b[0m, in \u001b[0;36mTransformerMixin.fit_transform\u001b[0;34m(self, X, y, **fit_params)\u001b[0m\n\u001b[1;32m    874\u001b[0m \u001b[39m# non-optimized default implementation; override when a better\u001b[39;00m\n\u001b[1;32m    875\u001b[0m \u001b[39m# method is possible for a given clustering algorithm\u001b[39;00m\n\u001b[1;32m    876\u001b[0m \u001b[39mif\u001b[39;00m y \u001b[39mis\u001b[39;00m \u001b[39mNone\u001b[39;00m:\n\u001b[1;32m    877\u001b[0m     \u001b[39m# fit method of arity 1 (unsupervised transformation)\u001b[39;00m\n\u001b[0;32m--> 878\u001b[0m     \u001b[39mreturn\u001b[39;00m \u001b[39mself\u001b[39;49m\u001b[39m.\u001b[39;49mfit(X, \u001b[39m*\u001b[39;49m\u001b[39m*\u001b[39;49mfit_params)\u001b[39m.\u001b[39mtransform(X)\n\u001b[1;32m    879\u001b[0m \u001b[39melse\u001b[39;00m:\n\u001b[1;32m    880\u001b[0m     \u001b[39m# fit method of arity 2 (supervised transformation)\u001b[39;00m\n\u001b[1;32m    881\u001b[0m     \u001b[39mreturn\u001b[39;00m \u001b[39mself\u001b[39m\u001b[39m.\u001b[39mfit(X, y, \u001b[39m*\u001b[39m\u001b[39m*\u001b[39mfit_params)\u001b[39m.\u001b[39mtransform(X)\n",
      "File \u001b[0;32m/opt/conda/lib/python3.10/site-packages/sklearn/preprocessing/_encoders.py:878\u001b[0m, in \u001b[0;36mOneHotEncoder.fit\u001b[0;34m(self, X, y)\u001b[0m\n\u001b[1;32m    874\u001b[0m     \u001b[39mself\u001b[39m\u001b[39m.\u001b[39msparse_output \u001b[39m=\u001b[39m \u001b[39mself\u001b[39m\u001b[39m.\u001b[39msparse\n\u001b[1;32m    876\u001b[0m \u001b[39mself\u001b[39m\u001b[39m.\u001b[39m_check_infrequent_enabled()\n\u001b[0;32m--> 878\u001b[0m fit_results \u001b[39m=\u001b[39m \u001b[39mself\u001b[39;49m\u001b[39m.\u001b[39;49m_fit(\n\u001b[1;32m    879\u001b[0m     X,\n\u001b[1;32m    880\u001b[0m     handle_unknown\u001b[39m=\u001b[39;49m\u001b[39mself\u001b[39;49m\u001b[39m.\u001b[39;49mhandle_unknown,\n\u001b[1;32m    881\u001b[0m     force_all_finite\u001b[39m=\u001b[39;49m\u001b[39m\"\u001b[39;49m\u001b[39mallow-nan\u001b[39;49m\u001b[39m\"\u001b[39;49m,\n\u001b[1;32m    882\u001b[0m     return_counts\u001b[39m=\u001b[39;49m\u001b[39mself\u001b[39;49m\u001b[39m.\u001b[39;49m_infrequent_enabled,\n\u001b[1;32m    883\u001b[0m )\n\u001b[1;32m    884\u001b[0m \u001b[39mif\u001b[39;00m \u001b[39mself\u001b[39m\u001b[39m.\u001b[39m_infrequent_enabled:\n\u001b[1;32m    885\u001b[0m     \u001b[39mself\u001b[39m\u001b[39m.\u001b[39m_fit_infrequent_category_mapping(\n\u001b[1;32m    886\u001b[0m         fit_results[\u001b[39m\"\u001b[39m\u001b[39mn_samples\u001b[39m\u001b[39m\"\u001b[39m], fit_results[\u001b[39m\"\u001b[39m\u001b[39mcategory_counts\u001b[39m\u001b[39m\"\u001b[39m]\n\u001b[1;32m    887\u001b[0m     )\n",
      "File \u001b[0;32m/opt/conda/lib/python3.10/site-packages/sklearn/preprocessing/_encoders.py:81\u001b[0m, in \u001b[0;36m_BaseEncoder._fit\u001b[0;34m(self, X, handle_unknown, force_all_finite, return_counts)\u001b[0m\n\u001b[1;32m     79\u001b[0m \u001b[39mif\u001b[39;00m \u001b[39mself\u001b[39m\u001b[39m.\u001b[39mcategories \u001b[39m!=\u001b[39m \u001b[39m\"\u001b[39m\u001b[39mauto\u001b[39m\u001b[39m\"\u001b[39m:\n\u001b[1;32m     80\u001b[0m     \u001b[39mif\u001b[39;00m \u001b[39mlen\u001b[39m(\u001b[39mself\u001b[39m\u001b[39m.\u001b[39mcategories) \u001b[39m!=\u001b[39m n_features:\n\u001b[0;32m---> 81\u001b[0m         \u001b[39mraise\u001b[39;00m \u001b[39mValueError\u001b[39;00m(\n\u001b[1;32m     82\u001b[0m             \u001b[39m\"\u001b[39m\u001b[39mShape mismatch: if categories is an array,\u001b[39m\u001b[39m\"\u001b[39m\n\u001b[1;32m     83\u001b[0m             \u001b[39m\"\u001b[39m\u001b[39m it has to be of shape (n_features,).\u001b[39m\u001b[39m\"\u001b[39m\n\u001b[1;32m     84\u001b[0m         )\n\u001b[1;32m     86\u001b[0m \u001b[39mself\u001b[39m\u001b[39m.\u001b[39mcategories_ \u001b[39m=\u001b[39m []\n\u001b[1;32m     87\u001b[0m category_counts \u001b[39m=\u001b[39m []\n",
      "\u001b[0;31mValueError\u001b[0m: Shape mismatch: if categories is an array, it has to be of shape (n_features,)."
     ]
    }
   ],
   "source": [
    "import sklearn.preprocessing\n",
    "\n",
    "encoder = sklearn.preprocessing.OneHotEncoder(categories=list(range(10)))\n",
    "encoder.fit_transform(np.array([0, 1, 2, 3, 4, 5, 6, 7, 8, 9]).reshape(-1,1))"
   ]
  },
  {
   "cell_type": "code",
   "execution_count": 20,
   "metadata": {},
   "outputs": [
    {
     "name": "stderr",
     "output_type": "stream",
     "text": [
      "/tmp/ipykernel_5025/1101504859.py:1: DeprecationWarning: `np.int` is a deprecated alias for the builtin `int`. To silence this warning, use `int` by itself. Doing this will not modify any behavior and is safe. When replacing `np.int`, you may wish to use e.g. `np.int64` or `np.int32` to specify the precision. If you wish to review your current use, check the release note link for additional information.\n",
      "Deprecated in NumPy 1.20; for more details and guidance: https://numpy.org/devdocs/release/1.20.0-notes.html#deprecations\n",
      "  eye = np.eye(100, dtype=np.int)\n"
     ]
    }
   ],
   "source": [
    "eye = np.eye(100, dtype=np.int)\n",
    "\n",
    "x = np.random.randint(0, 100, size=50000)"
   ]
  },
  {
   "cell_type": "code",
   "execution_count": 23,
   "metadata": {},
   "outputs": [
    {
     "data": {
      "text/plain": [
       "1"
      ]
     },
     "execution_count": 23,
     "metadata": {},
     "output_type": "execute_result"
    }
   ],
   "source": [
    "eye[x][0,70]"
   ]
  },
  {
   "cell_type": "code",
   "execution_count": 22,
   "metadata": {},
   "outputs": [
    {
     "data": {
      "text/plain": [
       "array([70, 94, 33, ..., 81, 57, 19])"
      ]
     },
     "execution_count": 22,
     "metadata": {},
     "output_type": "execute_result"
    }
   ],
   "source": [
    "x"
   ]
  },
  {
   "cell_type": "code",
   "execution_count": 12,
   "metadata": {},
   "outputs": [
    {
     "ename": "ValueError",
     "evalue": "p must be 1-dimensional",
     "output_type": "error",
     "traceback": [
      "\u001b[0;31m---------------------------------------------------------------------------\u001b[0m",
      "\u001b[0;31mValueError\u001b[0m                                Traceback (most recent call last)",
      "Cell \u001b[0;32mIn[12], line 8\u001b[0m\n\u001b[1;32m      6\u001b[0m in_dist \u001b[39m=\u001b[39m eye[x]\n\u001b[1;32m      7\u001b[0m out_dist \u001b[39m=\u001b[39m in_dist \u001b[39m@\u001b[39m transition_matrix\n\u001b[0;32m----> 8\u001b[0m rng_generator\u001b[39m.\u001b[39;49mchoice(np\u001b[39m.\u001b[39;49marange(\u001b[39mlen\u001b[39;49m(out_dist)), size\u001b[39m=\u001b[39;49m\u001b[39mlen\u001b[39;49m(x), p\u001b[39m=\u001b[39;49mout_dist)\n",
      "File \u001b[0;32m_generator.pyx:738\u001b[0m, in \u001b[0;36mnumpy.random._generator.Generator.choice\u001b[0;34m()\u001b[0m\n",
      "\u001b[0;31mValueError\u001b[0m: p must be 1-dimensional"
     ]
    }
   ],
   "source": [
    "x = np.random.randint(0, 10, size=50000)\n",
    "rng_generator = np.random.default_rng(42)\n",
    "\n",
    "eye = np.eye(10, dtype=np.int32)\n",
    "transition_matrix = (1 - 0.2) * eye + 0.2 * np.roll(eye, 1, axis=1)\n",
    "in_dist = eye[x]\n",
    "out_dist = in_dist @ transition_matrix\n",
    "rng_generator.choice(np.arange(len(out_dist)), size=len(x), p=out_dist)\n"
   ]
  },
  {
   "cell_type": "code",
   "execution_count": 28,
   "metadata": {},
   "outputs": [
    {
     "data": {
      "text/plain": [
       "array([0, 7, 6, 4, 4])"
      ]
     },
     "execution_count": 28,
     "metadata": {},
     "output_type": "execute_result"
    }
   ],
   "source": [
    "rng = np.random.default_rng(42)\n",
    "\n",
    "rng.integers(0, 10, size=5)"
   ]
  },
  {
   "cell_type": "code",
   "execution_count": 32,
   "metadata": {},
   "outputs": [
    {
     "data": {
      "text/plain": [
       "array([[0. , 0. , 0. , ..., 0. , 0. , 0. ],\n",
       "       [0. , 0. , 0. , ..., 0.8, 0.2, 0. ],\n",
       "       [0. , 0. , 0. , ..., 0. , 0. , 0. ],\n",
       "       ...,\n",
       "       [0. , 0. , 0.8, ..., 0. , 0. , 0. ],\n",
       "       [0.2, 0. , 0. , ..., 0. , 0. , 0.8],\n",
       "       [0. , 0. , 0. , ..., 0.2, 0. , 0. ]])"
      ]
     },
     "execution_count": 32,
     "metadata": {},
     "output_type": "execute_result"
    }
   ],
   "source": [
    "out_dist"
   ]
  },
  {
   "cell_type": "code",
   "execution_count": 34,
   "metadata": {},
   "outputs": [],
   "source": [
    "import torch\n",
    "\n",
    "m = torch.distributions.categorical.Categorical(probs=torch.tensor(out_dist))"
   ]
  },
  {
   "cell_type": "code",
   "execution_count": 46,
   "metadata": {},
   "outputs": [
    {
     "data": {
      "text/plain": [
       "tensor([3, 7, 4,  ..., 2, 9, 6])"
      ]
     },
     "execution_count": 46,
     "metadata": {},
     "output_type": "execute_result"
    }
   ],
   "source": [
    "m.sample()"
   ]
  },
  {
   "cell_type": "code",
   "execution_count": 47,
   "metadata": {},
   "outputs": [
    {
     "data": {
      "text/plain": [
       "array([0. , 0. , 0. , 0.8, 0.2, 0. , 0. , 0. , 0. , 0. ])"
      ]
     },
     "execution_count": 47,
     "metadata": {},
     "output_type": "execute_result"
    }
   ],
   "source": [
    "out_dist[0]"
   ]
  },
  {
   "cell_type": "code",
   "execution_count": 49,
   "metadata": {},
   "outputs": [
    {
     "data": {
      "text/plain": [
       "array([0. , 0. , 0. , 0.8, 0.2, 0. , 0. , 0. , 0. , 0. ])"
      ]
     },
     "execution_count": 49,
     "metadata": {},
     "output_type": "execute_result"
    }
   ],
   "source": [
    "transition_matrix[x]"
   ]
  },
  {
   "cell_type": "code",
   "execution_count": null,
   "metadata": {},
   "outputs": [],
   "source": [
    "m.sample()"
   ]
  },
  {
   "cell_type": "code",
   "execution_count": 6,
   "metadata": {},
   "outputs": [
    {
     "name": "stdout",
     "output_type": "stream",
     "text": [
      "Files already downloaded and verified\n"
     ]
    }
   ],
   "source": [
    "from noisydataset import cifar\n",
    "\n",
    "dset = cifar.NoisyCIFAR10(\"./data\", download=True, noise_rate=0.2, noise_type=\"asymmetric\")"
   ]
  },
  {
   "cell_type": "code",
   "execution_count": 7,
   "metadata": {},
   "outputs": [
    {
     "data": {
      "text/plain": [
       "5091"
      ]
     },
     "execution_count": 7,
     "metadata": {},
     "output_type": "execute_result"
    }
   ],
   "source": [
    "(dset.targets != dset.targets_gt).sum()"
   ]
  },
  {
   "cell_type": "code",
   "execution_count": 10,
   "metadata": {},
   "outputs": [],
   "source": [
    "import torch\n",
    "\n",
    "rng = torch.Generator().manual_seed(42)"
   ]
  },
  {
   "cell_type": "code",
   "execution_count": 22,
   "metadata": {},
   "outputs": [
    {
     "name": "stdout",
     "output_type": "stream",
     "text": [
      "Files already downloaded and verified\n"
     ]
    },
    {
     "data": {
      "text/plain": [
       "array([19, 29, 93, ...,  3,  7, 73])"
      ]
     },
     "execution_count": 22,
     "metadata": {},
     "output_type": "execute_result"
    }
   ],
   "source": [
    "from datasets import NoisyCIFAR10, NoisyCIFAR100\n",
    "\n",
    "dset = NoisyCIFAR100(\"./data\", download=True, noise_rate=0.2, noise_type=\"symmetric\", random_seed=42)\n",
    "dset.targets"
   ]
  },
  {
   "cell_type": "code",
   "execution_count": 23,
   "metadata": {},
   "outputs": [
    {
     "name": "stdout",
     "output_type": "stream",
     "text": [
      "Files already downloaded and verified\n"
     ]
    },
    {
     "data": {
      "text/plain": [
       "array([19, 29, 93, ...,  3,  7, 73])"
      ]
     },
     "execution_count": 23,
     "metadata": {},
     "output_type": "execute_result"
    }
   ],
   "source": [
    "dset2 = NoisyCIFAR100(\"./data\", download=True, noise_rate=0.2, noise_type=\"symmetric\", random_seed=42)\n",
    "dset2.targets"
   ]
  },
  {
   "cell_type": "code",
   "execution_count": 24,
   "metadata": {},
   "outputs": [
    {
     "data": {
      "text/plain": [
       "True"
      ]
     },
     "execution_count": 24,
     "metadata": {},
     "output_type": "execute_result"
    }
   ],
   "source": [
    "(dset.targets == dset2.targets).all()"
   ]
  },
  {
   "cell_type": "code",
   "execution_count": 12,
   "metadata": {},
   "outputs": [],
   "source": [
    "xx  = dset.targets"
   ]
  },
  {
   "cell_type": "code",
   "execution_count": 34,
   "metadata": {},
   "outputs": [
    {
     "ename": "ScannerError",
     "evalue": "while scanning a simple key\n  in \"./configs/train_base.yml\", line 27, column 1\ncould not find expected ':'\n  in \"./configs/train_base.yml\", line 28, column 1",
     "output_type": "error",
     "traceback": [
      "\u001b[0;31m---------------------------------------------------------------------------\u001b[0m",
      "\u001b[0;31mScannerError\u001b[0m                              Traceback (most recent call last)",
      "Cell \u001b[0;32mIn[34], line 6\u001b[0m\n\u001b[1;32m      4\u001b[0m YamlIncludeConstructor\u001b[39m.\u001b[39madd_to_loader_class(loader_class\u001b[39m=\u001b[39myaml\u001b[39m.\u001b[39mFullLoader, base_dir\u001b[39m=\u001b[39m\u001b[39m'\u001b[39m\u001b[39m./\u001b[39m\u001b[39m'\u001b[39m)\n\u001b[1;32m      5\u001b[0m \u001b[39mwith\u001b[39;00m \u001b[39mopen\u001b[39m(\u001b[39m'\u001b[39m\u001b[39m./configs/train_base.yml\u001b[39m\u001b[39m'\u001b[39m, \u001b[39m'\u001b[39m\u001b[39mr\u001b[39m\u001b[39m'\u001b[39m) \u001b[39mas\u001b[39;00m file:\n\u001b[0;32m----> 6\u001b[0m     config \u001b[39m=\u001b[39m yaml\u001b[39m.\u001b[39;49mload(file, Loader\u001b[39m=\u001b[39;49myaml\u001b[39m.\u001b[39;49mFullLoader)\n\u001b[1;32m      7\u001b[0m \u001b[39mprint\u001b[39m(config)\n",
      "File \u001b[0;32m/opt/conda/lib/python3.10/site-packages/yaml/__init__.py:81\u001b[0m, in \u001b[0;36mload\u001b[0;34m(stream, Loader)\u001b[0m\n\u001b[1;32m     79\u001b[0m loader \u001b[39m=\u001b[39m Loader(stream)\n\u001b[1;32m     80\u001b[0m \u001b[39mtry\u001b[39;00m:\n\u001b[0;32m---> 81\u001b[0m     \u001b[39mreturn\u001b[39;00m loader\u001b[39m.\u001b[39;49mget_single_data()\n\u001b[1;32m     82\u001b[0m \u001b[39mfinally\u001b[39;00m:\n\u001b[1;32m     83\u001b[0m     loader\u001b[39m.\u001b[39mdispose()\n",
      "File \u001b[0;32m/opt/conda/lib/python3.10/site-packages/yaml/constructor.py:49\u001b[0m, in \u001b[0;36mBaseConstructor.get_single_data\u001b[0;34m(self)\u001b[0m\n\u001b[1;32m     47\u001b[0m \u001b[39mdef\u001b[39;00m \u001b[39mget_single_data\u001b[39m(\u001b[39mself\u001b[39m):\n\u001b[1;32m     48\u001b[0m     \u001b[39m# Ensure that the stream contains a single document and construct it.\u001b[39;00m\n\u001b[0;32m---> 49\u001b[0m     node \u001b[39m=\u001b[39m \u001b[39mself\u001b[39;49m\u001b[39m.\u001b[39;49mget_single_node()\n\u001b[1;32m     50\u001b[0m     \u001b[39mif\u001b[39;00m node \u001b[39mis\u001b[39;00m \u001b[39mnot\u001b[39;00m \u001b[39mNone\u001b[39;00m:\n\u001b[1;32m     51\u001b[0m         \u001b[39mreturn\u001b[39;00m \u001b[39mself\u001b[39m\u001b[39m.\u001b[39mconstruct_document(node)\n",
      "File \u001b[0;32m/opt/conda/lib/python3.10/site-packages/yaml/composer.py:36\u001b[0m, in \u001b[0;36mComposer.get_single_node\u001b[0;34m(self)\u001b[0m\n\u001b[1;32m     34\u001b[0m document \u001b[39m=\u001b[39m \u001b[39mNone\u001b[39;00m\n\u001b[1;32m     35\u001b[0m \u001b[39mif\u001b[39;00m \u001b[39mnot\u001b[39;00m \u001b[39mself\u001b[39m\u001b[39m.\u001b[39mcheck_event(StreamEndEvent):\n\u001b[0;32m---> 36\u001b[0m     document \u001b[39m=\u001b[39m \u001b[39mself\u001b[39;49m\u001b[39m.\u001b[39;49mcompose_document()\n\u001b[1;32m     38\u001b[0m \u001b[39m# Ensure that the stream contains no more documents.\u001b[39;00m\n\u001b[1;32m     39\u001b[0m \u001b[39mif\u001b[39;00m \u001b[39mnot\u001b[39;00m \u001b[39mself\u001b[39m\u001b[39m.\u001b[39mcheck_event(StreamEndEvent):\n",
      "File \u001b[0;32m/opt/conda/lib/python3.10/site-packages/yaml/composer.py:55\u001b[0m, in \u001b[0;36mComposer.compose_document\u001b[0;34m(self)\u001b[0m\n\u001b[1;32m     52\u001b[0m \u001b[39mself\u001b[39m\u001b[39m.\u001b[39mget_event()\n\u001b[1;32m     54\u001b[0m \u001b[39m# Compose the root node.\u001b[39;00m\n\u001b[0;32m---> 55\u001b[0m node \u001b[39m=\u001b[39m \u001b[39mself\u001b[39;49m\u001b[39m.\u001b[39;49mcompose_node(\u001b[39mNone\u001b[39;49;00m, \u001b[39mNone\u001b[39;49;00m)\n\u001b[1;32m     57\u001b[0m \u001b[39m# Drop the DOCUMENT-END event.\u001b[39;00m\n\u001b[1;32m     58\u001b[0m \u001b[39mself\u001b[39m\u001b[39m.\u001b[39mget_event()\n",
      "File \u001b[0;32m/opt/conda/lib/python3.10/site-packages/yaml/composer.py:84\u001b[0m, in \u001b[0;36mComposer.compose_node\u001b[0;34m(self, parent, index)\u001b[0m\n\u001b[1;32m     82\u001b[0m     node \u001b[39m=\u001b[39m \u001b[39mself\u001b[39m\u001b[39m.\u001b[39mcompose_sequence_node(anchor)\n\u001b[1;32m     83\u001b[0m \u001b[39melif\u001b[39;00m \u001b[39mself\u001b[39m\u001b[39m.\u001b[39mcheck_event(MappingStartEvent):\n\u001b[0;32m---> 84\u001b[0m     node \u001b[39m=\u001b[39m \u001b[39mself\u001b[39;49m\u001b[39m.\u001b[39;49mcompose_mapping_node(anchor)\n\u001b[1;32m     85\u001b[0m \u001b[39mself\u001b[39m\u001b[39m.\u001b[39mascend_resolver()\n\u001b[1;32m     86\u001b[0m \u001b[39mreturn\u001b[39;00m node\n",
      "File \u001b[0;32m/opt/conda/lib/python3.10/site-packages/yaml/composer.py:127\u001b[0m, in \u001b[0;36mComposer.compose_mapping_node\u001b[0;34m(self, anchor)\u001b[0m\n\u001b[1;32m    125\u001b[0m \u001b[39mif\u001b[39;00m anchor \u001b[39mis\u001b[39;00m \u001b[39mnot\u001b[39;00m \u001b[39mNone\u001b[39;00m:\n\u001b[1;32m    126\u001b[0m     \u001b[39mself\u001b[39m\u001b[39m.\u001b[39manchors[anchor] \u001b[39m=\u001b[39m node\n\u001b[0;32m--> 127\u001b[0m \u001b[39mwhile\u001b[39;00m \u001b[39mnot\u001b[39;00m \u001b[39mself\u001b[39;49m\u001b[39m.\u001b[39;49mcheck_event(MappingEndEvent):\n\u001b[1;32m    128\u001b[0m     \u001b[39m#key_event = self.peek_event()\u001b[39;00m\n\u001b[1;32m    129\u001b[0m     item_key \u001b[39m=\u001b[39m \u001b[39mself\u001b[39m\u001b[39m.\u001b[39mcompose_node(node, \u001b[39mNone\u001b[39;00m)\n\u001b[1;32m    130\u001b[0m     \u001b[39m#if item_key in node.value:\u001b[39;00m\n\u001b[1;32m    131\u001b[0m     \u001b[39m#    raise ComposerError(\"while composing a mapping\", start_event.start_mark,\u001b[39;00m\n\u001b[1;32m    132\u001b[0m     \u001b[39m#            \"found duplicate key\", key_event.start_mark)\u001b[39;00m\n",
      "File \u001b[0;32m/opt/conda/lib/python3.10/site-packages/yaml/parser.py:98\u001b[0m, in \u001b[0;36mParser.check_event\u001b[0;34m(self, *choices)\u001b[0m\n\u001b[1;32m     96\u001b[0m \u001b[39mif\u001b[39;00m \u001b[39mself\u001b[39m\u001b[39m.\u001b[39mcurrent_event \u001b[39mis\u001b[39;00m \u001b[39mNone\u001b[39;00m:\n\u001b[1;32m     97\u001b[0m     \u001b[39mif\u001b[39;00m \u001b[39mself\u001b[39m\u001b[39m.\u001b[39mstate:\n\u001b[0;32m---> 98\u001b[0m         \u001b[39mself\u001b[39m\u001b[39m.\u001b[39mcurrent_event \u001b[39m=\u001b[39m \u001b[39mself\u001b[39;49m\u001b[39m.\u001b[39;49mstate()\n\u001b[1;32m     99\u001b[0m \u001b[39mif\u001b[39;00m \u001b[39mself\u001b[39m\u001b[39m.\u001b[39mcurrent_event \u001b[39mis\u001b[39;00m \u001b[39mnot\u001b[39;00m \u001b[39mNone\u001b[39;00m:\n\u001b[1;32m    100\u001b[0m     \u001b[39mif\u001b[39;00m \u001b[39mnot\u001b[39;00m choices:\n",
      "File \u001b[0;32m/opt/conda/lib/python3.10/site-packages/yaml/parser.py:428\u001b[0m, in \u001b[0;36mParser.parse_block_mapping_key\u001b[0;34m(self)\u001b[0m\n\u001b[1;32m    427\u001b[0m \u001b[39mdef\u001b[39;00m \u001b[39mparse_block_mapping_key\u001b[39m(\u001b[39mself\u001b[39m):\n\u001b[0;32m--> 428\u001b[0m     \u001b[39mif\u001b[39;00m \u001b[39mself\u001b[39;49m\u001b[39m.\u001b[39;49mcheck_token(KeyToken):\n\u001b[1;32m    429\u001b[0m         token \u001b[39m=\u001b[39m \u001b[39mself\u001b[39m\u001b[39m.\u001b[39mget_token()\n\u001b[1;32m    430\u001b[0m         \u001b[39mif\u001b[39;00m \u001b[39mnot\u001b[39;00m \u001b[39mself\u001b[39m\u001b[39m.\u001b[39mcheck_token(KeyToken, ValueToken, BlockEndToken):\n",
      "File \u001b[0;32m/opt/conda/lib/python3.10/site-packages/yaml/scanner.py:115\u001b[0m, in \u001b[0;36mScanner.check_token\u001b[0;34m(self, *choices)\u001b[0m\n\u001b[1;32m    113\u001b[0m \u001b[39mdef\u001b[39;00m \u001b[39mcheck_token\u001b[39m(\u001b[39mself\u001b[39m, \u001b[39m*\u001b[39mchoices):\n\u001b[1;32m    114\u001b[0m     \u001b[39m# Check if the next token is one of the given types.\u001b[39;00m\n\u001b[0;32m--> 115\u001b[0m     \u001b[39mwhile\u001b[39;00m \u001b[39mself\u001b[39;49m\u001b[39m.\u001b[39;49mneed_more_tokens():\n\u001b[1;32m    116\u001b[0m         \u001b[39mself\u001b[39m\u001b[39m.\u001b[39mfetch_more_tokens()\n\u001b[1;32m    117\u001b[0m     \u001b[39mif\u001b[39;00m \u001b[39mself\u001b[39m\u001b[39m.\u001b[39mtokens:\n",
      "File \u001b[0;32m/opt/conda/lib/python3.10/site-packages/yaml/scanner.py:152\u001b[0m, in \u001b[0;36mScanner.need_more_tokens\u001b[0;34m(self)\u001b[0m\n\u001b[1;32m    149\u001b[0m     \u001b[39mreturn\u001b[39;00m \u001b[39mTrue\u001b[39;00m\n\u001b[1;32m    150\u001b[0m \u001b[39m# The current token may be a potential simple key, so we\u001b[39;00m\n\u001b[1;32m    151\u001b[0m \u001b[39m# need to look further.\u001b[39;00m\n\u001b[0;32m--> 152\u001b[0m \u001b[39mself\u001b[39;49m\u001b[39m.\u001b[39;49mstale_possible_simple_keys()\n\u001b[1;32m    153\u001b[0m \u001b[39mif\u001b[39;00m \u001b[39mself\u001b[39m\u001b[39m.\u001b[39mnext_possible_simple_key() \u001b[39m==\u001b[39m \u001b[39mself\u001b[39m\u001b[39m.\u001b[39mtokens_taken:\n\u001b[1;32m    154\u001b[0m     \u001b[39mreturn\u001b[39;00m \u001b[39mTrue\u001b[39;00m\n",
      "File \u001b[0;32m/opt/conda/lib/python3.10/site-packages/yaml/scanner.py:291\u001b[0m, in \u001b[0;36mScanner.stale_possible_simple_keys\u001b[0;34m(self)\u001b[0m\n\u001b[1;32m    288\u001b[0m \u001b[39mif\u001b[39;00m key\u001b[39m.\u001b[39mline \u001b[39m!=\u001b[39m \u001b[39mself\u001b[39m\u001b[39m.\u001b[39mline  \\\n\u001b[1;32m    289\u001b[0m         \u001b[39mor\u001b[39;00m \u001b[39mself\u001b[39m\u001b[39m.\u001b[39mindex\u001b[39m-\u001b[39mkey\u001b[39m.\u001b[39mindex \u001b[39m>\u001b[39m \u001b[39m1024\u001b[39m:\n\u001b[1;32m    290\u001b[0m     \u001b[39mif\u001b[39;00m key\u001b[39m.\u001b[39mrequired:\n\u001b[0;32m--> 291\u001b[0m         \u001b[39mraise\u001b[39;00m ScannerError(\u001b[39m\"\u001b[39m\u001b[39mwhile scanning a simple key\u001b[39m\u001b[39m\"\u001b[39m, key\u001b[39m.\u001b[39mmark,\n\u001b[1;32m    292\u001b[0m                 \u001b[39m\"\u001b[39m\u001b[39mcould not find expected \u001b[39m\u001b[39m'\u001b[39m\u001b[39m:\u001b[39m\u001b[39m'\u001b[39m\u001b[39m\"\u001b[39m, \u001b[39mself\u001b[39m\u001b[39m.\u001b[39mget_mark())\n\u001b[1;32m    293\u001b[0m     \u001b[39mdel\u001b[39;00m \u001b[39mself\u001b[39m\u001b[39m.\u001b[39mpossible_simple_keys[level]\n",
      "\u001b[0;31mScannerError\u001b[0m: while scanning a simple key\n  in \"./configs/train_base.yml\", line 27, column 1\ncould not find expected ':'\n  in \"./configs/train_base.yml\", line 28, column 1"
     ]
    }
   ],
   "source": [
    "import yaml\n",
    "from yamlinclude import YamlIncludeConstructor\n",
    "\n",
    "YamlIncludeConstructor.add_to_loader_class(loader_class=yaml.FullLoader, base_dir='./')\n",
    "with open('./configs/train_base.yml', 'r') as file:\n",
    "    config = yaml.load(file, Loader=yaml.FullLoader)\n",
    "print(config)\n"
   ]
  },
  {
   "cell_type": "code",
   "execution_count": 31,
   "metadata": {},
   "outputs": [
    {
     "ename": "ScannerError",
     "evalue": "while scanning a simple key\n  in \"<unicode string>\", line 29, column 9:\n            !include ./configs/noisycifar10/ ... \n            ^\ncould not find expected ':'\n  in \"<unicode string>\", line 30, column 9:\n            \n            ^",
     "output_type": "error",
     "traceback": [
      "\u001b[0;31m---------------------------------------------------------------------------\u001b[0m",
      "\u001b[0;31mScannerError\u001b[0m                              Traceback (most recent call last)",
      "Cell \u001b[0;32mIn[31], line 6\u001b[0m\n\u001b[1;32m      2\u001b[0m \u001b[39mfrom\u001b[39;00m \u001b[39myamlinclude\u001b[39;00m \u001b[39mimport\u001b[39;00m YamlIncludeConstructor\n\u001b[1;32m      4\u001b[0m YamlIncludeConstructor\u001b[39m.\u001b[39madd_to_loader_class(loader_class\u001b[39m=\u001b[39myaml\u001b[39m.\u001b[39mFullLoader, base_dir\u001b[39m=\u001b[39m\u001b[39m'\u001b[39m\u001b[39m/your/conf/dir\u001b[39m\u001b[39m'\u001b[39m)\n\u001b[0;32m----> 6\u001b[0m config \u001b[39m=\u001b[39m yaml\u001b[39m.\u001b[39;49mload(\u001b[39m\"\"\"\u001b[39;49m\n\u001b[1;32m      7\u001b[0m \u001b[39m        data:\u001b[39;49m\n\u001b[1;32m      8\u001b[0m \u001b[39m        dataset: noisy_cifar10\u001b[39;49m\n\u001b[1;32m      9\u001b[0m \u001b[39m        noise_rate: 0.2\u001b[39;49m\n\u001b[1;32m     10\u001b[0m \u001b[39m        noise_type: symmetric\u001b[39;49m\n\u001b[1;32m     11\u001b[0m \n\u001b[1;32m     12\u001b[0m \u001b[39m        model:\u001b[39;49m\n\u001b[1;32m     13\u001b[0m \u001b[39m        architecture: resnet18\u001b[39;49m\n\u001b[1;32m     14\u001b[0m \u001b[39m        num_classes: 10\u001b[39;49m\n\u001b[1;32m     15\u001b[0m \n\u001b[1;32m     16\u001b[0m \u001b[39m        wandb:\u001b[39;49m\n\u001b[1;32m     17\u001b[0m \u001b[39m        mode: disabled # \u001b[39;49m\u001b[39m\"\u001b[39;49m\u001b[39mdisabled\u001b[39;49m\u001b[39m\"\u001b[39;49m\u001b[39m or \u001b[39;49m\u001b[39m\"\u001b[39;49m\u001b[39monline\u001b[39;49m\u001b[39m\"\u001b[39;49m\n\u001b[1;32m     18\u001b[0m \u001b[39m        entity: siit-iitp\u001b[39;49m\n\u001b[1;32m     19\u001b[0m \u001b[39m        project: noisy-label\u001b[39;49m\n\u001b[1;32m     20\u001b[0m \n\u001b[1;32m     21\u001b[0m \u001b[39m        trainer:\u001b[39;49m\n\u001b[1;32m     22\u001b[0m \u001b[39m        optimizer: sgd\u001b[39;49m\n\u001b[1;32m     23\u001b[0m \u001b[39m        init_lr: 1.0e-1\u001b[39;49m\n\u001b[1;32m     24\u001b[0m \u001b[39m        momentum: 0.9\u001b[39;49m\n\u001b[1;32m     25\u001b[0m \u001b[39m        weight_decay: 1.0e-4\u001b[39;49m\n\u001b[1;32m     26\u001b[0m \u001b[39m        lr_scheduler: multistep\u001b[39;49m\n\u001b[1;32m     27\u001b[0m \u001b[39m        max_epoch: 200\u001b[39;49m\n\u001b[1;32m     28\u001b[0m \u001b[39m        loss_fn: mae\u001b[39;49m\n\u001b[1;32m     29\u001b[0m \u001b[39m        num_classes: 10\u001b[39;49m\n\u001b[1;32m     30\u001b[0m \u001b[39m        num_workers: 2\u001b[39;49m\n\u001b[1;32m     31\u001b[0m \u001b[39m        batch_size: 128\u001b[39;49m\n\u001b[1;32m     32\u001b[0m \u001b[39m        save_model: true\u001b[39;49m\n\u001b[1;32m     33\u001b[0m \n\u001b[1;32m     34\u001b[0m \u001b[39m        !include ./configs/noisycifar10/train_noisycifar10_ce_asymm10.yml\u001b[39;49m\n\u001b[1;32m     35\u001b[0m \u001b[39m        \u001b[39;49m\u001b[39m\"\"\"\u001b[39;49m,\n\u001b[1;32m     36\u001b[0m         Loader\u001b[39m=\u001b[39;49myaml\u001b[39m.\u001b[39;49mFullLoader)\n\u001b[1;32m     39\u001b[0m \u001b[39mprint\u001b[39m(config)\n",
      "File \u001b[0;32m/opt/conda/lib/python3.10/site-packages/yaml/__init__.py:81\u001b[0m, in \u001b[0;36mload\u001b[0;34m(stream, Loader)\u001b[0m\n\u001b[1;32m     79\u001b[0m loader \u001b[39m=\u001b[39m Loader(stream)\n\u001b[1;32m     80\u001b[0m \u001b[39mtry\u001b[39;00m:\n\u001b[0;32m---> 81\u001b[0m     \u001b[39mreturn\u001b[39;00m loader\u001b[39m.\u001b[39;49mget_single_data()\n\u001b[1;32m     82\u001b[0m \u001b[39mfinally\u001b[39;00m:\n\u001b[1;32m     83\u001b[0m     loader\u001b[39m.\u001b[39mdispose()\n",
      "File \u001b[0;32m/opt/conda/lib/python3.10/site-packages/yaml/constructor.py:49\u001b[0m, in \u001b[0;36mBaseConstructor.get_single_data\u001b[0;34m(self)\u001b[0m\n\u001b[1;32m     47\u001b[0m \u001b[39mdef\u001b[39;00m \u001b[39mget_single_data\u001b[39m(\u001b[39mself\u001b[39m):\n\u001b[1;32m     48\u001b[0m     \u001b[39m# Ensure that the stream contains a single document and construct it.\u001b[39;00m\n\u001b[0;32m---> 49\u001b[0m     node \u001b[39m=\u001b[39m \u001b[39mself\u001b[39;49m\u001b[39m.\u001b[39;49mget_single_node()\n\u001b[1;32m     50\u001b[0m     \u001b[39mif\u001b[39;00m node \u001b[39mis\u001b[39;00m \u001b[39mnot\u001b[39;00m \u001b[39mNone\u001b[39;00m:\n\u001b[1;32m     51\u001b[0m         \u001b[39mreturn\u001b[39;00m \u001b[39mself\u001b[39m\u001b[39m.\u001b[39mconstruct_document(node)\n",
      "File \u001b[0;32m/opt/conda/lib/python3.10/site-packages/yaml/composer.py:36\u001b[0m, in \u001b[0;36mComposer.get_single_node\u001b[0;34m(self)\u001b[0m\n\u001b[1;32m     34\u001b[0m document \u001b[39m=\u001b[39m \u001b[39mNone\u001b[39;00m\n\u001b[1;32m     35\u001b[0m \u001b[39mif\u001b[39;00m \u001b[39mnot\u001b[39;00m \u001b[39mself\u001b[39m\u001b[39m.\u001b[39mcheck_event(StreamEndEvent):\n\u001b[0;32m---> 36\u001b[0m     document \u001b[39m=\u001b[39m \u001b[39mself\u001b[39;49m\u001b[39m.\u001b[39;49mcompose_document()\n\u001b[1;32m     38\u001b[0m \u001b[39m# Ensure that the stream contains no more documents.\u001b[39;00m\n\u001b[1;32m     39\u001b[0m \u001b[39mif\u001b[39;00m \u001b[39mnot\u001b[39;00m \u001b[39mself\u001b[39m\u001b[39m.\u001b[39mcheck_event(StreamEndEvent):\n",
      "File \u001b[0;32m/opt/conda/lib/python3.10/site-packages/yaml/composer.py:55\u001b[0m, in \u001b[0;36mComposer.compose_document\u001b[0;34m(self)\u001b[0m\n\u001b[1;32m     52\u001b[0m \u001b[39mself\u001b[39m\u001b[39m.\u001b[39mget_event()\n\u001b[1;32m     54\u001b[0m \u001b[39m# Compose the root node.\u001b[39;00m\n\u001b[0;32m---> 55\u001b[0m node \u001b[39m=\u001b[39m \u001b[39mself\u001b[39;49m\u001b[39m.\u001b[39;49mcompose_node(\u001b[39mNone\u001b[39;49;00m, \u001b[39mNone\u001b[39;49;00m)\n\u001b[1;32m     57\u001b[0m \u001b[39m# Drop the DOCUMENT-END event.\u001b[39;00m\n\u001b[1;32m     58\u001b[0m \u001b[39mself\u001b[39m\u001b[39m.\u001b[39mget_event()\n",
      "File \u001b[0;32m/opt/conda/lib/python3.10/site-packages/yaml/composer.py:84\u001b[0m, in \u001b[0;36mComposer.compose_node\u001b[0;34m(self, parent, index)\u001b[0m\n\u001b[1;32m     82\u001b[0m     node \u001b[39m=\u001b[39m \u001b[39mself\u001b[39m\u001b[39m.\u001b[39mcompose_sequence_node(anchor)\n\u001b[1;32m     83\u001b[0m \u001b[39melif\u001b[39;00m \u001b[39mself\u001b[39m\u001b[39m.\u001b[39mcheck_event(MappingStartEvent):\n\u001b[0;32m---> 84\u001b[0m     node \u001b[39m=\u001b[39m \u001b[39mself\u001b[39;49m\u001b[39m.\u001b[39;49mcompose_mapping_node(anchor)\n\u001b[1;32m     85\u001b[0m \u001b[39mself\u001b[39m\u001b[39m.\u001b[39mascend_resolver()\n\u001b[1;32m     86\u001b[0m \u001b[39mreturn\u001b[39;00m node\n",
      "File \u001b[0;32m/opt/conda/lib/python3.10/site-packages/yaml/composer.py:127\u001b[0m, in \u001b[0;36mComposer.compose_mapping_node\u001b[0;34m(self, anchor)\u001b[0m\n\u001b[1;32m    125\u001b[0m \u001b[39mif\u001b[39;00m anchor \u001b[39mis\u001b[39;00m \u001b[39mnot\u001b[39;00m \u001b[39mNone\u001b[39;00m:\n\u001b[1;32m    126\u001b[0m     \u001b[39mself\u001b[39m\u001b[39m.\u001b[39manchors[anchor] \u001b[39m=\u001b[39m node\n\u001b[0;32m--> 127\u001b[0m \u001b[39mwhile\u001b[39;00m \u001b[39mnot\u001b[39;00m \u001b[39mself\u001b[39;49m\u001b[39m.\u001b[39;49mcheck_event(MappingEndEvent):\n\u001b[1;32m    128\u001b[0m     \u001b[39m#key_event = self.peek_event()\u001b[39;00m\n\u001b[1;32m    129\u001b[0m     item_key \u001b[39m=\u001b[39m \u001b[39mself\u001b[39m\u001b[39m.\u001b[39mcompose_node(node, \u001b[39mNone\u001b[39;00m)\n\u001b[1;32m    130\u001b[0m     \u001b[39m#if item_key in node.value:\u001b[39;00m\n\u001b[1;32m    131\u001b[0m     \u001b[39m#    raise ComposerError(\"while composing a mapping\", start_event.start_mark,\u001b[39;00m\n\u001b[1;32m    132\u001b[0m     \u001b[39m#            \"found duplicate key\", key_event.start_mark)\u001b[39;00m\n",
      "File \u001b[0;32m/opt/conda/lib/python3.10/site-packages/yaml/parser.py:98\u001b[0m, in \u001b[0;36mParser.check_event\u001b[0;34m(self, *choices)\u001b[0m\n\u001b[1;32m     96\u001b[0m \u001b[39mif\u001b[39;00m \u001b[39mself\u001b[39m\u001b[39m.\u001b[39mcurrent_event \u001b[39mis\u001b[39;00m \u001b[39mNone\u001b[39;00m:\n\u001b[1;32m     97\u001b[0m     \u001b[39mif\u001b[39;00m \u001b[39mself\u001b[39m\u001b[39m.\u001b[39mstate:\n\u001b[0;32m---> 98\u001b[0m         \u001b[39mself\u001b[39m\u001b[39m.\u001b[39mcurrent_event \u001b[39m=\u001b[39m \u001b[39mself\u001b[39;49m\u001b[39m.\u001b[39;49mstate()\n\u001b[1;32m     99\u001b[0m \u001b[39mif\u001b[39;00m \u001b[39mself\u001b[39m\u001b[39m.\u001b[39mcurrent_event \u001b[39mis\u001b[39;00m \u001b[39mnot\u001b[39;00m \u001b[39mNone\u001b[39;00m:\n\u001b[1;32m    100\u001b[0m     \u001b[39mif\u001b[39;00m \u001b[39mnot\u001b[39;00m choices:\n",
      "File \u001b[0;32m/opt/conda/lib/python3.10/site-packages/yaml/parser.py:428\u001b[0m, in \u001b[0;36mParser.parse_block_mapping_key\u001b[0;34m(self)\u001b[0m\n\u001b[1;32m    427\u001b[0m \u001b[39mdef\u001b[39;00m \u001b[39mparse_block_mapping_key\u001b[39m(\u001b[39mself\u001b[39m):\n\u001b[0;32m--> 428\u001b[0m     \u001b[39mif\u001b[39;00m \u001b[39mself\u001b[39;49m\u001b[39m.\u001b[39;49mcheck_token(KeyToken):\n\u001b[1;32m    429\u001b[0m         token \u001b[39m=\u001b[39m \u001b[39mself\u001b[39m\u001b[39m.\u001b[39mget_token()\n\u001b[1;32m    430\u001b[0m         \u001b[39mif\u001b[39;00m \u001b[39mnot\u001b[39;00m \u001b[39mself\u001b[39m\u001b[39m.\u001b[39mcheck_token(KeyToken, ValueToken, BlockEndToken):\n",
      "File \u001b[0;32m/opt/conda/lib/python3.10/site-packages/yaml/scanner.py:115\u001b[0m, in \u001b[0;36mScanner.check_token\u001b[0;34m(self, *choices)\u001b[0m\n\u001b[1;32m    113\u001b[0m \u001b[39mdef\u001b[39;00m \u001b[39mcheck_token\u001b[39m(\u001b[39mself\u001b[39m, \u001b[39m*\u001b[39mchoices):\n\u001b[1;32m    114\u001b[0m     \u001b[39m# Check if the next token is one of the given types.\u001b[39;00m\n\u001b[0;32m--> 115\u001b[0m     \u001b[39mwhile\u001b[39;00m \u001b[39mself\u001b[39;49m\u001b[39m.\u001b[39;49mneed_more_tokens():\n\u001b[1;32m    116\u001b[0m         \u001b[39mself\u001b[39m\u001b[39m.\u001b[39mfetch_more_tokens()\n\u001b[1;32m    117\u001b[0m     \u001b[39mif\u001b[39;00m \u001b[39mself\u001b[39m\u001b[39m.\u001b[39mtokens:\n",
      "File \u001b[0;32m/opt/conda/lib/python3.10/site-packages/yaml/scanner.py:152\u001b[0m, in \u001b[0;36mScanner.need_more_tokens\u001b[0;34m(self)\u001b[0m\n\u001b[1;32m    149\u001b[0m     \u001b[39mreturn\u001b[39;00m \u001b[39mTrue\u001b[39;00m\n\u001b[1;32m    150\u001b[0m \u001b[39m# The current token may be a potential simple key, so we\u001b[39;00m\n\u001b[1;32m    151\u001b[0m \u001b[39m# need to look further.\u001b[39;00m\n\u001b[0;32m--> 152\u001b[0m \u001b[39mself\u001b[39;49m\u001b[39m.\u001b[39;49mstale_possible_simple_keys()\n\u001b[1;32m    153\u001b[0m \u001b[39mif\u001b[39;00m \u001b[39mself\u001b[39m\u001b[39m.\u001b[39mnext_possible_simple_key() \u001b[39m==\u001b[39m \u001b[39mself\u001b[39m\u001b[39m.\u001b[39mtokens_taken:\n\u001b[1;32m    154\u001b[0m     \u001b[39mreturn\u001b[39;00m \u001b[39mTrue\u001b[39;00m\n",
      "File \u001b[0;32m/opt/conda/lib/python3.10/site-packages/yaml/scanner.py:291\u001b[0m, in \u001b[0;36mScanner.stale_possible_simple_keys\u001b[0;34m(self)\u001b[0m\n\u001b[1;32m    288\u001b[0m \u001b[39mif\u001b[39;00m key\u001b[39m.\u001b[39mline \u001b[39m!=\u001b[39m \u001b[39mself\u001b[39m\u001b[39m.\u001b[39mline  \\\n\u001b[1;32m    289\u001b[0m         \u001b[39mor\u001b[39;00m \u001b[39mself\u001b[39m\u001b[39m.\u001b[39mindex\u001b[39m-\u001b[39mkey\u001b[39m.\u001b[39mindex \u001b[39m>\u001b[39m \u001b[39m1024\u001b[39m:\n\u001b[1;32m    290\u001b[0m     \u001b[39mif\u001b[39;00m key\u001b[39m.\u001b[39mrequired:\n\u001b[0;32m--> 291\u001b[0m         \u001b[39mraise\u001b[39;00m ScannerError(\u001b[39m\"\u001b[39m\u001b[39mwhile scanning a simple key\u001b[39m\u001b[39m\"\u001b[39m, key\u001b[39m.\u001b[39mmark,\n\u001b[1;32m    292\u001b[0m                 \u001b[39m\"\u001b[39m\u001b[39mcould not find expected \u001b[39m\u001b[39m'\u001b[39m\u001b[39m:\u001b[39m\u001b[39m'\u001b[39m\u001b[39m\"\u001b[39m, \u001b[39mself\u001b[39m\u001b[39m.\u001b[39mget_mark())\n\u001b[1;32m    293\u001b[0m     \u001b[39mdel\u001b[39;00m \u001b[39mself\u001b[39m\u001b[39m.\u001b[39mpossible_simple_keys[level]\n",
      "\u001b[0;31mScannerError\u001b[0m: while scanning a simple key\n  in \"<unicode string>\", line 29, column 9:\n            !include ./configs/noisycifar10/ ... \n            ^\ncould not find expected ':'\n  in \"<unicode string>\", line 30, column 9:\n            \n            ^"
     ]
    }
   ],
   "source": [
    "import yaml\n",
    "from yamlinclude import YamlIncludeConstructor\n",
    "\n",
    "YamlIncludeConstructor.add_to_loader_class(loader_class=yaml.FullLoader, base_dir='/your/conf/dir')\n",
    "\n",
    "config = yaml.load(\"\"\"\n",
    "        data:\n",
    "        dataset: noisy_cifar10\n",
    "        noise_rate: 0.2\n",
    "        noise_type: symmetric\n",
    "\n",
    "        model:\n",
    "        architecture: resnet18\n",
    "        num_classes: 10\n",
    "\n",
    "        wandb:\n",
    "        mode: disabled # \"disabled\" or \"online\"\n",
    "        entity: siit-iitp\n",
    "        project: noisy-label\n",
    "\n",
    "        trainer:\n",
    "        optimizer: sgd\n",
    "        init_lr: 1.0e-1\n",
    "        momentum: 0.9\n",
    "        weight_decay: 1.0e-4\n",
    "        lr_scheduler: multistep\n",
    "        max_epoch: 200\n",
    "        loss_fn: mae\n",
    "        num_classes: 10\n",
    "        num_workers: 2\n",
    "        batch_size: 128\n",
    "        save_model: true\n",
    "\n",
    "        !include ./configs/noisycifar10/train_noisycifar10_ce_asymm10.yml\n",
    "        \"\"\",\n",
    "        Loader=yaml.FullLoader)\n",
    "\n",
    "\n",
    "print(config)\n"
   ]
  },
  {
   "cell_type": "code",
   "execution_count": 4,
   "metadata": {},
   "outputs": [
    {
     "name": "stdout",
     "output_type": "stream",
     "text": [
      "{'data': {'dataset': 'noisy_cifar10',\n",
      "          'noise_rate': 0.2,\n",
      "          'noise_type': 'symmetric'},\n",
      " 'model': {'architecture': 'resnet18', 'num_classes': 10},\n",
      " 'trainer': {'batch_size': 128,\n",
      "             'init_lr': 0.1,\n",
      "             'loss_fn': 'cross_entropy',\n",
      "             'lr_scheduler': 'multistep',\n",
      "             'max_epoch': 200,\n",
      "             'momentum': 0.9,\n",
      "             'num_classes': 10,\n",
      "             'num_workers': 2,\n",
      "             'optimizer': 'sgd',\n",
      "             'save_model': True,\n",
      "             'weight_decay': 0.0001},\n",
      " 'wandb': {'mode': 'online'}}\n"
     ]
    }
   ],
   "source": [
    "import yaml\n",
    "import pprint\n",
    "\n",
    "config = yaml.safe_load(\"\"\"\n",
    "data:\n",
    "  dataset: noisy_cifar10\n",
    "  noise_rate: 0.2\n",
    "  noise_type: symmetric\n",
    "\n",
    "model:\n",
    "  architecture: resnet18\n",
    "  num_classes: 10\n",
    "\n",
    "wandb:\n",
    "  mode: disabled # \"disabled\" or \"online\"\n",
    "  entity: siit-iitp\n",
    "  project: noisy-label\n",
    "\n",
    "trainer:\n",
    "  optimizer: sgd\n",
    "  init_lr: 1.0e-1\n",
    "  momentum: 0.9\n",
    "  weight_decay: 1.0e-4\n",
    "  lr_scheduler: multistep\n",
    "  max_epoch: 200\n",
    "  loss_fn: cross_entropy\n",
    "  num_classes: 10\n",
    "  num_workers: 2\n",
    "  batch_size: 128\n",
    "  save_model: true\n",
    "\n",
    "wandb:\n",
    "  mode: online # \"disabled\" or \"online\"\n",
    "\"\"\")\n",
    "\n",
    "pprint.pprint(config)"
   ]
  },
  {
   "cell_type": "code",
   "execution_count": 66,
   "metadata": {},
   "outputs": [
    {
     "data": {
      "text/plain": [
       "tensor([[3],\n",
       "        [0]])"
      ]
     },
     "execution_count": 66,
     "metadata": {},
     "output_type": "execute_result"
    }
   ],
   "source": [
    "import torch\n",
    "\n",
    "dist = torch.tensor([0.1, 0.2, 0.3, 0.4])\n",
    "dist2 = torch.tensor([0.6, 0.1, 0.1, 0.2])\n",
    "dist = torch.stack([dist, dist2])\n",
    "torch.multinomial(dist, 1, True)"
   ]
  },
  {
   "cell_type": "code",
   "execution_count": 56,
   "metadata": {},
   "outputs": [
    {
     "data": {
      "text/plain": [
       "tensor([[0.1000, 0.2000, 0.3000, 0.4000],\n",
       "        [0.6000, 0.1000, 0.1000, 0.2000]])"
      ]
     },
     "execution_count": 56,
     "metadata": {},
     "output_type": "execute_result"
    }
   ],
   "source": [
    "dist"
   ]
  },
  {
   "cell_type": "code",
   "execution_count": 74,
   "metadata": {},
   "outputs": [
    {
     "data": {
      "text/plain": [
       "tensor([3, 1])"
      ]
     },
     "execution_count": 74,
     "metadata": {},
     "output_type": "execute_result"
    }
   ],
   "source": [
    "torch.distributions.Categorical(probs=dist).sample()"
   ]
  },
  {
   "cell_type": "code",
   "execution_count": 107,
   "metadata": {},
   "outputs": [
    {
     "data": {
      "text/plain": [
       "tensor([[[[ 8.2760e-01,  9.6329e-01, -2.1919e-01,  ...,  1.3316e+00,\n",
       "            1.7193e+00, -2.0995e+00],\n",
       "          [-5.0996e-01, -5.2934e-01,  1.1378e+00,  ...,  1.2974e-01,\n",
       "            1.4479e+00, -3.3549e-01],\n",
       "          [ 9.8268e-01,  1.6418e+00,  2.0101e+00,  ..., -1.3435e+00,\n",
       "           -1.4017e+00,  1.0990e+00],\n",
       "          ...,\n",
       "          [ 1.9132e+00, -2.7734e-01,  1.7581e+00,  ...,  5.3683e-01,\n",
       "            2.4605e-01,  1.5836e+00],\n",
       "          [ 1.2928e+00,  1.7581e+00, -2.1189e+00,  ..., -1.7506e+00,\n",
       "           -8.7827e-01, -2.7734e-01],\n",
       "          [ 3.8175e-01,  2.0682e+00, -1.3629e+00,  ..., -2.0608e+00,\n",
       "            2.2233e+00,  1.6999e+00]],\n",
       "\n",
       "         [[-2.2806e+00, -1.8873e+00,  2.2428e+00,  ...,  3.5477e-01,\n",
       "            1.9871e+00,  1.0234e+00],\n",
       "          [-1.6906e+00,  2.0461e+00,  8.0711e-01,  ..., -3.1390e-01,\n",
       "            9.6444e-01,  7.0877e-01],\n",
       "          [-5.8924e-01, -5.3024e-01,  1.4364e+00,  ...,  3.7444e-01,\n",
       "            8.6611e-01, -4.7124e-01],\n",
       "          ...,\n",
       "          [ 3.9410e-01, -2.2609e+00,  1.1414e+00,  ..., -1.1399e+00,\n",
       "           -1.8873e+00,  3.5477e-01],\n",
       "          [-4.7124e-01,  2.5644e-01,  1.5810e-01,  ...,  2.9577e-01,\n",
       "            2.2625e+00, -2.1233e+00],\n",
       "          [ 8.0711e-01,  2.1051e+00,  9.2511e-01,  ...,  1.7904e+00,\n",
       "            6.1044e-01,  7.0877e-01]],\n",
       "\n",
       "         [[ 1.6026e+00, -2.8987e-01,  7.2466e-01,  ...,  2.3830e+00,\n",
       "            7.4417e-01,  9.5878e-01],\n",
       "          [ 2.1684e+00,  1.0368e+00, -8.9469e-01,  ...,  2.3635e+00,\n",
       "           -7.3861e-01,  4.9054e-01],\n",
       "          [-4.6547e-01,  1.0368e+00,  2.2855e+00,  ...,  9.3927e-01,\n",
       "            2.9543e-01, -5.8253e-01],\n",
       "          ...,\n",
       "          [-1.6751e+00,  2.6367e+00, -1.5330e-01,  ...,  2.5781e+00,\n",
       "            6.4662e-01, -1.1428e-01],\n",
       "          [-2.1434e+00,  1.5831e+00,  4.1801e-02,  ...,  2.5586e+00,\n",
       "            1.4856e+00,  1.8563e+00],\n",
       "          [ 6.2711e-01,  2.0319e+00, -1.9287e+00,  ..., -3.2889e-01,\n",
       "            2.1879e+00,  1.5886e-01]]],\n",
       "\n",
       "\n",
       "        [[[ 1.4913e-01,  2.4559e+00, -2.0414e+00,  ..., -9.9458e-01,\n",
       "            3.0421e-01,  1.6612e+00],\n",
       "          [-1.5955e+00,  1.7775e+00,  1.2541e+00,  ...,  1.2347e+00,\n",
       "           -1.1303e+00, -1.1690e+00],\n",
       "          [-1.5567e+00,  1.6224e+00,  2.1845e+00,  ..., -1.2466e+00,\n",
       "            6.9191e-01, -6.0688e-01],\n",
       "          ...,\n",
       "          [ 1.1959e+00, -1.9444e+00, -1.8042e-01,  ...,  4.7867e-01,\n",
       "            2.2667e-01,  1.2541e+00],\n",
       "          [-5.0996e-01, -1.8042e-01,  1.3510e+00,  ...,  1.7387e+00,\n",
       "           -2.7734e-01, -2.2158e+00],\n",
       "          [ 1.5836e+00,  1.6224e+00,  1.3316e+00,  ...,  1.6612e+00,\n",
       "            3.4298e-01, -1.2078e+00]],\n",
       "\n",
       "         [[-1.2776e+00,  9.8411e-01,  1.9675e+00,  ..., -4.7124e-01,\n",
       "           -1.9069e+00, -1.3562e+00],\n",
       "          [ 2.2231e+00,  2.9577e-01, -1.1792e+00,  ...,  7.6703e-04,\n",
       "            7.6777e-01,  1.3381e+00],\n",
       "          [-1.9463e+00, -7.7900e-02,  2.3215e+00,  ...,  1.2004e+00,\n",
       "            1.7777e-01, -4.9090e-01],\n",
       "          ...,\n",
       "          [-8.6457e-01, -5.8924e-01,  1.2398e+00,  ...,  1.1414e+00,\n",
       "           -1.8086e+00,  2.2231e+00],\n",
       "          [-3.9257e-01,  1.1808e+00, -4.3190e-01,  ...,  8.6611e-01,\n",
       "            2.0461e+00,  2.4395e+00],\n",
       "          [ 2.0068e+00,  1.2201e+00, -3.7290e-01,  ..., -1.9463e+00,\n",
       "           -6.8757e-01, -1.4939e+00]],\n",
       "\n",
       "         [[ 1.9788e-01, -1.3044e+00,  7.6368e-01,  ..., -7.9714e-01,\n",
       "            1.2709e+00,  2.2855e+00],\n",
       "          [ 1.5441e+00, -1.8702e+00, -4.2645e-01,  ...,  9.0025e-01,\n",
       "           -5.0449e-01,  1.1734e+00],\n",
       "          [ 2.3050e+00, -1.5580e+00,  1.4856e+00,  ...,  2.4221e+00,\n",
       "           -2.1043e+00,  2.3440e+00],\n",
       "          ...,\n",
       "          [ 1.8367e+00,  7.6368e-01,  9.0025e-01,  ...,  1.3880e+00,\n",
       "            1.3100e+00, -1.6730e-02],\n",
       "          [-1.8897e+00,  7.6368e-01,  1.7197e+00,  ...,  2.5391e+00,\n",
       "           -2.1629e+00,  1.5246e+00],\n",
       "          [ 2.2465e+00,  9.3927e-01, -1.2264e+00,  ..., -2.0068e+00,\n",
       "           -1.3044e+00,  4.7103e-01]]],\n",
       "\n",
       "\n",
       "        [[[-1.9980e-01, -9.1704e-01,  1.1378e+00,  ...,  1.1765e+00,\n",
       "           -2.3709e+00,  1.8550e+00],\n",
       "          [-1.7894e+00, -2.0026e+00,  1.6224e+00,  ..., -3.9365e-01,\n",
       "            1.2928e+00, -1.4165e-01],\n",
       "          [ 1.2541e+00,  5.1744e-01,  2.0728e-01,  ...,  4.3990e-01,\n",
       "           -1.1303e+00, -2.9672e-01],\n",
       "          ...,\n",
       "          [ 1.9325e+00, -2.1189e+00,  5.5621e-01,  ...,  1.3704e+00,\n",
       "            6.5314e-01, -1.1497e+00],\n",
       "          [-2.4097e+00, -1.8281e+00,  3.2359e-01,  ...,  1.2347e+00,\n",
       "            1.2541e+00, -1.5567e+00],\n",
       "          [-1.6103e-01,  2.1264e+00,  2.4172e+00,  ...,  2.4605e-01,\n",
       "            8.8576e-01, -3.5488e-01]],\n",
       "\n",
       "         [[ 6.8911e-01,  2.5181e+00, -1.8676e+00,  ..., -1.7623e-01,\n",
       "            1.2398e+00,  8.4644e-01],\n",
       "          [ 2.0855e+00,  1.0038e+00,  2.5968e+00,  ...,  1.3844e-01,\n",
       "            1.4758e+00, -9.4324e-01],\n",
       "          [-7.4657e-01,  9.4478e-01, -1.0022e+00,  ...,  6.8911e-01,\n",
       "            2.3677e-01,  9.4478e-01],\n",
       "          ...,\n",
       "          [-1.4742e+00, -9.4324e-01,  2.0461e+00,  ..., -4.3190e-01,\n",
       "           -7.4657e-01, -1.4742e+00],\n",
       "          [-1.4939e+00,  7.6703e-04, -1.4152e+00,  ...,  2.0434e-02,\n",
       "            1.4758e+00, -1.7889e+00],\n",
       "          [ 2.2821e+00,  1.6528e+00,  1.7314e+00,  ..., -4.7124e-01,\n",
       "           -2.0643e+00, -2.2609e+00]],\n",
       "\n",
       "         [[ 2.2465e+00,  2.5391e+00, -7.9714e-01,  ..., -1.6730e-02,\n",
       "           -9.5322e-01,  1.7587e+00],\n",
       "          [-2.1238e+00, -3.6240e-02, -2.1043e+00,  ..., -9.3371e-01,\n",
       "           -1.3825e+00, -1.0313e+00],\n",
       "          [-1.5330e-01, -1.3434e+00, -1.8897e+00,  ...,  1.9788e-01,\n",
       "            2.4611e+00, -1.8507e+00],\n",
       "          ...,\n",
       "          [ 1.6221e+00,  2.4416e+00, -4.4596e-01,  ...,  1.5246e+00,\n",
       "           -1.7922e+00,  2.1294e+00],\n",
       "          [-1.2069e+00, -1.1428e-01,  2.7802e-03,  ..., -1.9678e+00,\n",
       "            1.5636e+00,  9.1976e-01],\n",
       "          [-5.4351e-01, -1.3434e+00,  1.8953e+00,  ...,  1.4661e+00,\n",
       "            2.5196e+00, -7.7763e-01]]],\n",
       "\n",
       "\n",
       "        ...,\n",
       "\n",
       "\n",
       "        [[[-7.4258e-01,  4.9806e-01,  1.3122e+00,  ...,  1.8550e+00,\n",
       "            9.6329e-01, -2.3515e+00],\n",
       "          [ 4.3990e-01,  2.3590e+00, -1.3629e+00,  ...,  9.8268e-01,\n",
       "           -3.1611e-01,  6.1437e-01],\n",
       "          [ 1.5448e+00, -3.7426e-01,  1.3122e+00,  ...,  1.1571e+00,\n",
       "           -2.1383e+00,  1.9713e+00],\n",
       "          ...,\n",
       "          [ 1.7775e+00, -1.2660e+00, -1.8281e+00,  ...,  1.6851e-01,\n",
       "           -1.0915e+00,  6.9191e-01],\n",
       "          [-1.6537e+00, -1.3435e+00,  4.2052e-01,  ..., -1.4598e+00,\n",
       "           -2.1919e-01,  1.1184e+00],\n",
       "          [-1.6731e+00, -4.3242e-01, -1.4792e+00,  ...,  2.0101e+00,\n",
       "            1.0602e+00,  1.0990e+00]],\n",
       "\n",
       "         [[ 2.3805e+00, -1.0219e+00, -2.2609e+00,  ...,  6.1044e-01,\n",
       "           -7.6624e-01,  2.2231e+00],\n",
       "          [ 1.6921e+00, -2.0839e+00, -7.8591e-01,  ..., -1.0219e+00,\n",
       "           -1.3690e-01, -5.3024e-01],\n",
       "          [ 7.2844e-01,  2.0434e-02,  2.1445e+00,  ..., -8.2524e-01,\n",
       "            6.8911e-01,  2.5181e+00],\n",
       "          ...,\n",
       "          [-3.8567e-02,  1.0628e+00,  2.5575e+00,  ..., -3.1390e-01,\n",
       "           -2.2216e+00, -1.3956e+00],\n",
       "          [-2.1626e+00,  9.8411e-01, -1.7496e+00,  ..., -1.1399e+00,\n",
       "           -1.7496e+00, -1.0022e+00],\n",
       "          [ 7.0877e-01,  9.4478e-01,  1.4561e+00,  ...,  1.5810e-01,\n",
       "            2.4198e+00,  1.0234e+00]],\n",
       "\n",
       "         [[-1.8117e+00, -1.3379e-01, -2.2019e+00,  ..., -4.6547e-01,\n",
       "           -1.5776e+00, -1.1873e+00],\n",
       "          [-1.1483e+00,  8.8074e-01,  1.2905e+00,  ..., -3.4841e-01,\n",
       "            5.2956e-01, -1.9873e+00],\n",
       "          [-1.0313e+00,  9.0025e-01, -1.6361e+00,  ...,  1.0954e+00,\n",
       "            2.0904e+00, -1.1093e+00],\n",
       "          ...,\n",
       "          [-1.7531e+00, -2.1043e+00, -1.7922e+00,  ..., -2.0263e+00,\n",
       "            2.3690e-01,  1.4465e+00],\n",
       "          [-9.9224e-01, -5.8253e-01,  7.6368e-01,  ...,  2.6367e+00,\n",
       "           -3.6240e-02, -7.3861e-01],\n",
       "          [-6.0204e-01, -9.9224e-01,  4.1250e-01,  ..., -9.7273e-01,\n",
       "           -1.5385e+00, -8.7518e-01]]],\n",
       "\n",
       "\n",
       "        [[[-3.7426e-01,  9.8268e-01, -8.3950e-01,  ..., -1.6924e+00,\n",
       "            2.0101e+00,  7.3068e-01],\n",
       "          [-5.0996e-01,  1.8550e+00,  1.2541e+00,  ...,  1.4285e+00,\n",
       "           -2.7734e-01, -1.9638e+00],\n",
       "          [ 2.4172e+00, -1.5955e+00,  1.8550e+00,  ..., -7.4258e-01,\n",
       "            1.1378e+00, -6.4106e-02],\n",
       "          ...,\n",
       "          [ 1.4285e+00, -1.0721e+00,  2.0489e+00,  ..., -9.7520e-01,\n",
       "           -2.5336e-02,  1.3122e+00],\n",
       "          [ 1.3704e+00, -1.2078e+00, -1.4792e+00,  ...,  1.6851e-01,\n",
       "            9.6329e-01,  2.3396e+00],\n",
       "          [ 2.1458e+00, -2.3857e-01,  5.2204e-02,  ...,  9.8268e-01,\n",
       "            9.0974e-02, -5.6811e-01]],\n",
       "\n",
       "         [[-2.0839e+00,  2.5575e+00, -7.7900e-02,  ..., -8.2524e-01,\n",
       "            2.3411e+00,  2.0434e-02],\n",
       "          [-1.2382e+00,  7.2844e-01, -9.7567e-02,  ...,  2.4788e+00,\n",
       "           -1.9463e+00, -9.4324e-01],\n",
       "          [-2.2413e+00, -8.2524e-01, -1.9266e+00,  ...,  1.7118e+00,\n",
       "            2.3608e+00,  1.1808e+00],\n",
       "          ...,\n",
       "          [ 1.3844e-01,  4.1377e-01, -1.7692e+00,  ...,  2.0855e+00,\n",
       "           -1.3562e+00, -2.0446e+00],\n",
       "          [-2.1557e-01,  1.3844e-01, -1.6119e+00,  ..., -7.7900e-02,\n",
       "            1.4561e+00,  7.2844e-01],\n",
       "          [ 9.4478e-01,  1.9478e+00,  1.0431e+00,  ...,  1.4758e+00,\n",
       "           -1.9856e+00, -1.7692e+00]],\n",
       "\n",
       "         [[-8.9469e-01,  1.5051e+00, -1.6361e+00,  ..., -1.3044e+00,\n",
       "           -3.6792e-01,  5.4907e-01],\n",
       "          [-1.9232e-01, -3.2889e-01,  1.3295e+00,  ..., -1.1428e-01,\n",
       "            1.7587e+00, -9.3371e-01],\n",
       "          [-1.6556e+00,  1.5886e-01, -1.1428e-01,  ..., -6.4106e-01,\n",
       "            1.8563e+00,  2.5641e-01],\n",
       "          ...,\n",
       "          [ 4.5152e-01,  1.6612e+00, -2.8987e-01,  ...,  1.0173e+00,\n",
       "           -2.5085e-01,  2.0904e+00],\n",
       "          [-1.7141e+00, -2.1629e+00, -1.3379e-01,  ..., -8.1665e-01,\n",
       "           -1.2069e+00, -1.9678e+00],\n",
       "          [ 5.8809e-01, -2.3134e-01,  2.2270e+00,  ...,  5.8809e-01,\n",
       "            1.5636e+00,  2.0319e+00]]],\n",
       "\n",
       "\n",
       "        [[[ 1.7581e+00,  1.8550e+00,  2.1845e+00,  ...,  2.2815e+00,\n",
       "           -1.0288e-01, -1.6343e+00],\n",
       "          [-9.1704e-01,  1.3434e-02,  4.9806e-01,  ...,  1.4285e+00,\n",
       "            1.7968e+00,  1.2928e+00],\n",
       "          [-7.8135e-01,  8.4699e-01, -9.3643e-01,  ...,  2.1845e+00,\n",
       "           -2.5336e-02,  2.6544e-01],\n",
       "          ...,\n",
       "          [-1.7506e+00,  5.5621e-01, -2.3128e+00,  ..., -1.4404e+00,\n",
       "            2.3784e+00,  2.5141e+00],\n",
       "          [ 1.8356e+00, -2.3709e+00,  1.0408e+00,  ...,  2.2667e-01,\n",
       "            8.6637e-01,  2.3978e+00],\n",
       "          [-9.7520e-01,  1.6805e+00,  6.7252e-01,  ..., -1.3823e+00,\n",
       "            2.2233e+00,  1.6030e+00]],\n",
       "\n",
       "         [[ 1.1218e+00, -8.6457e-01,  2.1445e+00,  ..., -3.7290e-01,\n",
       "            1.1218e+00,  8.2677e-01],\n",
       "          [ 1.0628e+00,  4.9244e-01,  1.4168e+00,  ..., -2.5490e-01,\n",
       "            9.8411e-01, -1.2776e+00],\n",
       "          [-2.1429e+00, -1.5726e+00,  1.0628e+00,  ...,  5.9768e-02,\n",
       "           -8.2524e-01, -2.3593e+00],\n",
       "          ...,\n",
       "          [-7.4657e-01,  9.8411e-01, -2.2806e+00,  ...,  1.6724e+00,\n",
       "            9.2511e-01,  2.0434e-02],\n",
       "          [-2.1233e+00,  1.4758e+00,  1.6331e+00,  ..., -1.7299e+00,\n",
       "           -1.0022e+00, -5.4990e-01],\n",
       "          [-2.3199e+00, -1.4349e+00, -4.9090e-01,  ..., -1.3690e-01,\n",
       "            7.2844e-01, -3.1390e-01]],\n",
       "\n",
       "         [[ 1.9928e+00,  1.7782e+00,  2.6757e+00,  ..., -1.4410e+00,\n",
       "            1.5886e-01,  1.3880e+00],\n",
       "          [-1.7141e+00,  2.6172e+00, -5.2400e-01,  ..., -9.9224e-01,\n",
       "            1.3880e+00,  1.9343e+00],\n",
       "          [ 1.5051e+00,  2.0904e+00,  1.4465e+00,  ...,  6.0760e-01,\n",
       "           -1.4995e+00,  1.5831e+00],\n",
       "          ...,\n",
       "          [ 1.1539e+00, -3.4841e-01,  1.6807e+00,  ..., -1.6730e-02,\n",
       "           -6.2155e-01,  1.1149e+00],\n",
       "          [ 2.0514e+00, -1.9287e+00, -1.2264e+00,  ...,  8.2221e-01,\n",
       "           -4.0694e-01, -2.0458e+00],\n",
       "          [ 2.0514e+00, -1.0118e+00, -1.9873e+00,  ...,  1.7002e+00,\n",
       "           -1.5385e+00,  1.3100e+00]]]])"
      ]
     },
     "execution_count": 107,
     "metadata": {},
     "output_type": "execute_result"
    }
   ],
   "source": [
    "from torchvision import transforms\n",
    "from torchvision.transforms.autoaugment import AutoAugment, AutoAugmentPolicy\n",
    "import torchvision.transforms.functional as F\n",
    "import numpy as np\n",
    "\n",
    "x = torch.randint(0, 255, size=(16, 3, 32, 32), dtype=torch.uint8)\n",
    "x = AutoAugment(AutoAugmentPolicy.CIFAR10)(x)\n",
    "x = x/255.0\n",
    "# x = torch.tensor(x)\n",
    "x = transforms.Normalize([0.4914, 0.4822, 0.4465], [0.2023, 0.1994, 0.2010])(x)\n",
    "# x = transforms.Normalize([[0.4914, 0.4822, 0.4465]], [[0.2023, 0.1994, 0.2010]])(x)\n",
    "x"
   ]
  },
  {
   "cell_type": "code",
   "execution_count": 108,
   "metadata": {},
   "outputs": [
    {
     "data": {
      "text/plain": [
       "torch.Size([16, 3, 32, 32])"
      ]
     },
     "execution_count": 108,
     "metadata": {},
     "output_type": "execute_result"
    }
   ],
   "source": [
    "x.shape"
   ]
  },
  {
   "cell_type": "code",
   "execution_count": 111,
   "metadata": {},
   "outputs": [
    {
     "name": "stdout",
     "output_type": "stream",
     "text": [
      "tensor([[0.6928, 0.3077],\n",
      "        [0.4413, 0.1283]])\n"
     ]
    },
    {
     "data": {
      "text/plain": [
       "tensor([[0.7724, 0.4662],\n",
       "        [0.4300, 0.1987]])"
      ]
     },
     "execution_count": 111,
     "metadata": {},
     "output_type": "execute_result"
    }
   ],
   "source": [
    "import torch\n",
    "\n",
    "x = torch.rand((2,2))\n",
    "print(x)\n",
    "torch.normal(x, 0.1)"
   ]
  },
  {
   "cell_type": "code",
   "execution_count": 3,
   "metadata": {},
   "outputs": [],
   "source": [
    "import torch\n",
    "\n",
    "import torch\n",
    "noise_file = torch.load('./data/CIFAR-N/CIFAR-100_human.pt')\n"
   ]
  },
  {
   "cell_type": "code",
   "execution_count": 4,
   "metadata": {},
   "outputs": [
    {
     "data": {
      "text/plain": [
       "{'clean_label': array([19, 29,  0, ...,  3,  7, 73]),\n",
       " 'noisy_label': array([19, 63, 10, ..., 64, 24, 95]),\n",
       " 'noisy_coarse_label': array([14, 12, 18, ..., 12,  7,  4]),\n",
       " 'clean_coarse_label': array([14, 15,  4, ..., 18,  7,  1])}"
      ]
     },
     "execution_count": 4,
     "metadata": {},
     "output_type": "execute_result"
    }
   ],
   "source": [
    "noise_file"
   ]
  },
  {
   "cell_type": "code",
   "execution_count": 119,
   "metadata": {},
   "outputs": [
    {
     "name": "stdout",
     "output_type": "stream",
     "text": [
      "Downloading http://www.yliuu.com/web-cifarN/files/CIFAR-N-1.zip to ./data/CIFAR-N-1.zip\n"
     ]
    },
    {
     "name": "stderr",
     "output_type": "stream",
     "text": [
      "100%|██████████| 438874/438874 [00:00<00:00, 1977208.23it/s]"
     ]
    },
    {
     "name": "stdout",
     "output_type": "stream",
     "text": [
      "Extracting ./data/CIFAR-N-1.zip to ./data\n"
     ]
    },
    {
     "name": "stderr",
     "output_type": "stream",
     "text": [
      "\n"
     ]
    }
   ],
   "source": [
    "from torchvision.datasets.utils import download_and_extract_archive, check_integrity\n",
    "\n",
    "cifarn_url = 'http://www.yliuu.com/web-cifarN/files/CIFAR-N-1.zip'\n",
    "download_and_extract_archive(cifarn_url, './data', filename='CIFAR-N-1.zip', md5=None)"
   ]
  },
  {
   "cell_type": "code",
   "execution_count": 2,
   "metadata": {},
   "outputs": [
    {
     "name": "stdout",
     "output_type": "stream",
     "text": [
      "Files already downloaded and verified\n",
      "Files already downloaded and verified\n"
     ]
    }
   ],
   "source": [
    "import torchvision\n",
    "from torchvision.datasets.utils import download_and_extract_archive, check_integrity\n",
    "import os\n",
    "\n",
    "class CIFAR10N(torchvision.datasets.CIFAR10):\n",
    "    \"\"\"\n",
    "    Learning with Noisy Labels Revisited: A Study Using Real-World Human Annotations. (ICLR2022)\n",
    "    Re-annotation of the CIFAR-10/100 data which contains real-world human annotation errors.\n",
    "    \"\"\"\n",
    "    cifarn_url = 'http://www.yliuu.com/web-cifarN/files/CIFAR-N-1.zip'\n",
    "    md5 = '666bf3cff3a944c245f2b6f62af4b919'\n",
    "\n",
    "    def __init__(\n",
    "            self,\n",
    "            root: str,\n",
    "            train: bool = True,\n",
    "            transform = None,\n",
    "            target_transform = None,\n",
    "            download: bool = False,\n",
    "            noise_type: str = 'noisy_label',\n",
    "            ) -> None:\n",
    "        super().__init__(root, train=train, transform=transform,\n",
    "            target_transform=target_transform, download=download)\n",
    "        assert noise_type in ['clean_label', 'noisy_label', 'noisy_coarse_label', 'clean_coarse_label']\n",
    "\n",
    "        if download:\n",
    "            if check_integrity(os.path.join(self.root, 'CIFAR-N-1.zip'), self.md5):\n",
    "                print('Files already downloaded and verified')\n",
    "            else:\n",
    "                download_and_extract_archive(self.cifarn_url, root, md5=self.md5)\n",
    "        \n",
    "\n",
    "    def __getitem__(self, index: int):\n",
    "        img, target = super().__getitem__(index)\n",
    "        return {\n",
    "            \"image\": img,\n",
    "            \"target\": target,\n",
    "        }\n",
    "\n",
    "dset = CIFAR10N('./data', download=True)"
   ]
  },
  {
   "cell_type": "code",
   "execution_count": 5,
   "metadata": {},
   "outputs": [],
   "source": [
    "from trainer import MeanAbsoluteError\n",
    "\n",
    "criterion = MeanAbsoluteError('none')"
   ]
  },
  {
   "cell_type": "code",
   "execution_count": 10,
   "metadata": {},
   "outputs": [
    {
     "data": {
      "text/plain": [
       "tensor([0.9871, 0.9912])"
      ]
     },
     "execution_count": 10,
     "metadata": {},
     "output_type": "execute_result"
    }
   ],
   "source": [
    "output = torch.rand((2, 100))\n",
    "target = torch.randint(0, 100, size=(2,))\n",
    "criterion(output, target)"
   ]
  },
  {
   "cell_type": "code",
   "execution_count": 8,
   "metadata": {},
   "outputs": [
    {
     "name": "stderr",
     "output_type": "stream",
     "text": [
      "Cached Downloading: data/animal-10n/raw_image_ver.zip\n",
      "Downloading...\n",
      "From (uriginal): https://drive.google.com/uc?id=1oXacCyyCMgnnfGC2lRhDaLv6jjwTljHH\n",
      "From (redirected): https://drive.google.com/uc?id=1oXacCyyCMgnnfGC2lRhDaLv6jjwTljHH&confirm=t&uuid=4c2030b0-e274-4b8d-91de-04b14e357f25\n",
      "To: /home/user/.cache/gdown/tmpsmevpo8o/dl\n",
      "100%|██████████| 85.2M/85.2M [00:01<00:00, 47.4MB/s]\n"
     ]
    },
    {
     "name": "stdout",
     "output_type": "stream",
     "text": [
      "Computing MD5: data/animal-10n/raw_image_ver.zip\n",
      "MD5 matches: data/animal-10n/raw_image_ver.zip\n"
     ]
    },
    {
     "data": {
      "text/plain": [
       "['./data/animal-10n/training/0_img_1553496384691.jpg',\n",
       " './data/animal-10n/training/0_img_1553496385189.jpg',\n",
       " './data/animal-10n/training/0_img_1553496385396.jpg',\n",
       " './data/animal-10n/training/0_img_1553496385462.jpg',\n",
       " './data/animal-10n/training/0_img_1553496386012.jpg',\n",
       " './data/animal-10n/training/0_img_1553496386198.jpg',\n",
       " './data/animal-10n/training/0_img_1553496386272.jpg',\n",
       " './data/animal-10n/training/0_img_1553496386294.jpg',\n",
       " './data/animal-10n/training/0_img_1553496386490.jpg',\n",
       " './data/animal-10n/training/0_img_1553496386596.jpg',\n",
       " './data/animal-10n/training/0_img_1553496386622.jpg',\n",
       " './data/animal-10n/training/0_img_1553496386967.jpg',\n",
       " './data/animal-10n/training/0_img_1553496387296.jpg',\n",
       " './data/animal-10n/training/0_img_1553496387456.jpg',\n",
       " './data/animal-10n/training/0_img_1553496387681.jpg',\n",
       " './data/animal-10n/training/0_img_1553496387726.jpg',\n",
       " './data/animal-10n/training/0_img_1553496387899.jpg',\n",
       " './data/animal-10n/training/0_img_1553496388144.jpg',\n",
       " './data/animal-10n/training/0_img_1553496388464.jpg',\n",
       " './data/animal-10n/training/0_img_1553496388559.jpg',\n",
       " './data/animal-10n/training/0_img_1553496388595.jpg',\n",
       " './data/animal-10n/training/0_img_1553496388613.jpg',\n",
       " './data/animal-10n/training/0_img_1553496388736.jpg',\n",
       " './data/animal-10n/training/0_img_1553496388973.jpg',\n",
       " './data/animal-10n/training/0_img_1553496389070.jpg',\n",
       " './data/animal-10n/training/0_img_1553496389076.jpg',\n",
       " './data/animal-10n/training/0_img_1553496389198.jpg',\n",
       " './data/animal-10n/training/0_img_1553496389254.jpg',\n",
       " './data/animal-10n/training/0_img_1553496389445.jpg',\n",
       " './data/animal-10n/training/0_img_1553496389719.jpg',\n",
       " './data/animal-10n/training/0_img_1553496389927.jpg',\n",
       " './data/animal-10n/training/0_img_1553496389983.jpg',\n",
       " './data/animal-10n/training/0_img_1553496390210.jpg',\n",
       " './data/animal-10n/training/0_img_1553496390389.jpg',\n",
       " './data/animal-10n/training/0_img_1553496390647.jpg',\n",
       " './data/animal-10n/training/0_img_1553496390677.jpg',\n",
       " './data/animal-10n/training/0_img_1553496390859.jpg',\n",
       " './data/animal-10n/training/0_img_1553496391258.jpg',\n",
       " './data/animal-10n/training/0_img_1553496391361.jpg',\n",
       " './data/animal-10n/training/0_img_1553496391478.jpg',\n",
       " './data/animal-10n/training/0_img_1553496391484.jpg',\n",
       " './data/animal-10n/training/0_img_1553496391814.jpg',\n",
       " './data/animal-10n/training/0_img_1553496391882.jpg',\n",
       " './data/animal-10n/training/0_img_1553496392529.jpg',\n",
       " './data/animal-10n/training/0_img_1553496393020.jpg',\n",
       " './data/animal-10n/training/0_img_1553496393138.jpg',\n",
       " './data/animal-10n/training/0_img_1553496393381.jpg',\n",
       " './data/animal-10n/training/0_img_1553496393938.jpg',\n",
       " './data/animal-10n/training/0_img_1553496394013.jpg',\n",
       " './data/animal-10n/training/0_img_1553496394115.jpg',\n",
       " './data/animal-10n/training/0_img_1553496394569.jpg',\n",
       " './data/animal-10n/training/0_img_1553496394575.jpg',\n",
       " './data/animal-10n/training/0_img_1553496394818.jpg',\n",
       " './data/animal-10n/training/0_img_1553496394943.jpg',\n",
       " './data/animal-10n/training/0_img_1553496394954.jpg',\n",
       " './data/animal-10n/training/0_img_1553496395115.jpg',\n",
       " './data/animal-10n/training/0_img_1553496395400.jpg',\n",
       " './data/animal-10n/training/0_img_1553496395436.jpg',\n",
       " './data/animal-10n/training/0_img_1553496395466.jpg',\n",
       " './data/animal-10n/training/0_img_1553496395687.jpg',\n",
       " './data/animal-10n/training/0_img_1553496395778.jpg',\n",
       " './data/animal-10n/training/0_img_1553496395841.jpg',\n",
       " './data/animal-10n/training/0_img_1553496395870.jpg',\n",
       " './data/animal-10n/training/0_img_1553496396487.jpg',\n",
       " './data/animal-10n/training/0_img_1553496397298.jpg',\n",
       " './data/animal-10n/training/0_img_1553496397363.jpg',\n",
       " './data/animal-10n/training/0_img_1553496397426.jpg',\n",
       " './data/animal-10n/training/0_img_1553496397432.jpg',\n",
       " './data/animal-10n/training/0_img_1553496397444.jpg',\n",
       " './data/animal-10n/training/0_img_1553496397512.jpg',\n",
       " './data/animal-10n/training/0_img_1553496397704.jpg',\n",
       " './data/animal-10n/training/0_img_1553496398301.jpg',\n",
       " './data/animal-10n/training/0_img_1553496398543.jpg',\n",
       " './data/animal-10n/training/0_img_1553496398589.jpg',\n",
       " './data/animal-10n/training/0_img_1553496398608.jpg',\n",
       " './data/animal-10n/training/0_img_1553496398852.jpg',\n",
       " './data/animal-10n/training/0_img_1553496398893.jpg',\n",
       " './data/animal-10n/training/0_img_1553496399696.jpg',\n",
       " './data/animal-10n/training/0_img_1553496400052.jpg',\n",
       " './data/animal-10n/training/0_img_1553496400685.jpg',\n",
       " './data/animal-10n/training/0_img_1553496400839.jpg',\n",
       " './data/animal-10n/training/0_img_1553496400856.jpg',\n",
       " './data/animal-10n/training/0_img_1553496400887.jpg',\n",
       " './data/animal-10n/training/0_img_1553496400943.jpg',\n",
       " './data/animal-10n/training/0_img_1553496401032.jpg',\n",
       " './data/animal-10n/training/0_img_1553496401123.jpg',\n",
       " './data/animal-10n/training/0_img_1553496401211.jpg',\n",
       " './data/animal-10n/training/0_img_1553496401308.jpg',\n",
       " './data/animal-10n/training/0_img_1553496401320.jpg',\n",
       " './data/animal-10n/training/0_img_1553496402133.jpg',\n",
       " './data/animal-10n/training/0_img_1553496402495.jpg',\n",
       " './data/animal-10n/training/0_img_1553496402556.jpg',\n",
       " './data/animal-10n/training/0_img_1553496402726.jpg',\n",
       " './data/animal-10n/training/0_img_1553496403004.jpg',\n",
       " './data/animal-10n/training/0_img_1553496403084.jpg',\n",
       " './data/animal-10n/training/0_img_1553496403216.jpg',\n",
       " './data/animal-10n/training/0_img_1553496403418.jpg',\n",
       " './data/animal-10n/training/0_img_1553496403446.jpg',\n",
       " './data/animal-10n/training/0_img_1553496403534.jpg',\n",
       " './data/animal-10n/training/0_img_1553496403587.jpg',\n",
       " './data/animal-10n/training/0_img_1553496403631.jpg',\n",
       " './data/animal-10n/training/0_img_1553496403794.jpg',\n",
       " './data/animal-10n/training/0_img_1553496403861.jpg',\n",
       " './data/animal-10n/training/0_img_1553496404398.jpg',\n",
       " './data/animal-10n/training/0_img_1553496404499.jpg',\n",
       " './data/animal-10n/training/0_img_1553496404510.jpg',\n",
       " './data/animal-10n/training/0_img_1553496404570.jpg',\n",
       " './data/animal-10n/training/0_img_1553496405490.jpg',\n",
       " './data/animal-10n/training/0_img_1553496405589.jpg',\n",
       " './data/animal-10n/training/0_img_1553496405711.jpg',\n",
       " './data/animal-10n/training/0_img_1553496405777.jpg',\n",
       " './data/animal-10n/training/0_img_1553496405795.jpg',\n",
       " './data/animal-10n/training/0_img_1553496405959.jpg',\n",
       " './data/animal-10n/training/0_img_1553496406030.jpg',\n",
       " './data/animal-10n/training/0_img_1553496406053.jpg',\n",
       " './data/animal-10n/training/0_img_1553496406153.jpg',\n",
       " './data/animal-10n/training/0_img_1553496406201.jpg',\n",
       " './data/animal-10n/training/0_img_1553496406496.jpg',\n",
       " './data/animal-10n/training/0_img_1553496406593.jpg',\n",
       " './data/animal-10n/training/0_img_1553496406751.jpg',\n",
       " './data/animal-10n/training/0_img_1553496406796.jpg',\n",
       " './data/animal-10n/training/0_img_1553496406871.jpg',\n",
       " './data/animal-10n/training/0_img_1553496407039.jpg',\n",
       " './data/animal-10n/training/0_img_1553496407079.jpg',\n",
       " './data/animal-10n/training/0_img_1553496407158.jpg',\n",
       " './data/animal-10n/training/0_img_1553496407215.jpg',\n",
       " './data/animal-10n/training/0_img_1553496407291.jpg',\n",
       " './data/animal-10n/training/0_img_1553496408826.jpg',\n",
       " './data/animal-10n/training/0_img_1553496409400.jpg',\n",
       " './data/animal-10n/training/0_img_1553496409527.jpg',\n",
       " './data/animal-10n/training/0_img_1553496409619.jpg',\n",
       " './data/animal-10n/training/0_img_1553496409659.jpg',\n",
       " './data/animal-10n/training/0_img_1553496409912.jpg',\n",
       " './data/animal-10n/training/0_img_1553496409991.jpg',\n",
       " './data/animal-10n/training/0_img_1553496410609.jpg',\n",
       " './data/animal-10n/training/0_img_1553496410707.jpg',\n",
       " './data/animal-10n/training/0_img_1553496411243.jpg',\n",
       " './data/animal-10n/training/0_img_1553496411408.jpg',\n",
       " './data/animal-10n/training/0_img_1553496411480.jpg',\n",
       " './data/animal-10n/training/0_img_1553496411564.jpg',\n",
       " './data/animal-10n/training/0_img_1553496411839.jpg',\n",
       " './data/animal-10n/training/0_img_1553496412033.jpg',\n",
       " './data/animal-10n/training/0_img_1553496412232.jpg',\n",
       " './data/animal-10n/training/0_img_1553496413172.jpg',\n",
       " './data/animal-10n/training/0_img_1553496413268.jpg',\n",
       " './data/animal-10n/training/0_img_1553496413625.jpg',\n",
       " './data/animal-10n/training/0_img_1553496413875.jpg',\n",
       " './data/animal-10n/training/0_img_1553496413968.jpg',\n",
       " './data/animal-10n/training/0_img_1553496413981.jpg',\n",
       " './data/animal-10n/training/0_img_1553496413995.jpg',\n",
       " './data/animal-10n/training/0_img_1553496414122.jpg',\n",
       " './data/animal-10n/training/0_img_1553496414196.jpg',\n",
       " './data/animal-10n/training/0_img_1553496414620.jpg',\n",
       " './data/animal-10n/training/0_img_1553496414695.jpg',\n",
       " './data/animal-10n/training/0_img_1553496414747.jpg',\n",
       " './data/animal-10n/training/0_img_1553496414890.jpg',\n",
       " './data/animal-10n/training/0_img_1553496414986.jpg',\n",
       " './data/animal-10n/training/0_img_1553496415034.jpg',\n",
       " './data/animal-10n/training/0_img_1553496415043.jpg',\n",
       " './data/animal-10n/training/0_img_1553496415953.jpg',\n",
       " './data/animal-10n/training/0_img_1553496416334.jpg',\n",
       " './data/animal-10n/training/0_img_1553496416341.jpg',\n",
       " './data/animal-10n/training/0_img_1553496416749.jpg',\n",
       " './data/animal-10n/training/0_img_1553496416810.jpg',\n",
       " './data/animal-10n/training/0_img_1553496416935.jpg',\n",
       " './data/animal-10n/training/0_img_1553496417225.jpg',\n",
       " './data/animal-10n/training/0_img_1553496417244.jpg',\n",
       " './data/animal-10n/training/0_img_1553496417335.jpg',\n",
       " './data/animal-10n/training/0_img_1553496417371.jpg',\n",
       " './data/animal-10n/training/0_img_1553496417518.jpg',\n",
       " './data/animal-10n/training/0_img_1553496417665.jpg',\n",
       " './data/animal-10n/training/0_img_1553496418097.jpg',\n",
       " './data/animal-10n/training/0_img_1553496418463.jpg',\n",
       " './data/animal-10n/training/0_img_1553496418487.jpg',\n",
       " './data/animal-10n/training/0_img_1553496418703.jpg',\n",
       " './data/animal-10n/training/0_img_1553496419607.jpg',\n",
       " './data/animal-10n/training/0_img_1553496419734.jpg',\n",
       " './data/animal-10n/training/0_img_1553496419746.jpg',\n",
       " './data/animal-10n/training/0_img_1553496419752.jpg',\n",
       " './data/animal-10n/training/0_img_1553496419901.jpg',\n",
       " './data/animal-10n/training/0_img_1553496419930.jpg',\n",
       " './data/animal-10n/training/0_img_1553496419999.jpg',\n",
       " './data/animal-10n/training/0_img_1553496420013.jpg',\n",
       " './data/animal-10n/training/0_img_1553496420305.jpg',\n",
       " './data/animal-10n/training/0_img_1553496420973.jpg',\n",
       " './data/animal-10n/training/0_img_1553496420984.jpg',\n",
       " './data/animal-10n/training/0_img_1553496420990.jpg',\n",
       " './data/animal-10n/training/0_img_1553496421026.jpg',\n",
       " './data/animal-10n/training/0_img_1553496421049.jpg',\n",
       " './data/animal-10n/training/0_img_1553496421095.jpg',\n",
       " './data/animal-10n/training/0_img_1553496421146.jpg',\n",
       " './data/animal-10n/training/0_img_1553496421425.jpg',\n",
       " './data/animal-10n/training/0_img_1553496421553.jpg',\n",
       " './data/animal-10n/training/0_img_1553496421613.jpg',\n",
       " './data/animal-10n/training/0_img_1553496421680.jpg',\n",
       " './data/animal-10n/training/0_img_1553496421801.jpg',\n",
       " './data/animal-10n/training/0_img_1553496421893.jpg',\n",
       " './data/animal-10n/training/0_img_1553496422120.jpg',\n",
       " './data/animal-10n/training/0_img_1553496422163.jpg',\n",
       " './data/animal-10n/training/0_img_1553496422243.jpg',\n",
       " './data/animal-10n/training/0_img_1553496422290.jpg',\n",
       " './data/animal-10n/training/0_img_1553496422368.jpg',\n",
       " './data/animal-10n/training/0_img_1553496422487.jpg',\n",
       " './data/animal-10n/training/0_img_1553496422704.jpg',\n",
       " './data/animal-10n/training/0_img_1553496422863.jpg',\n",
       " './data/animal-10n/training/0_img_1553496422954.jpg',\n",
       " './data/animal-10n/training/0_img_1553496423365.jpg',\n",
       " './data/animal-10n/training/0_img_1553496423642.jpg',\n",
       " './data/animal-10n/training/0_img_1553496423754.jpg',\n",
       " './data/animal-10n/training/0_img_1553496423793.jpg',\n",
       " './data/animal-10n/training/0_img_1553496423968.jpg',\n",
       " './data/animal-10n/training/0_img_1553496424166.jpg',\n",
       " './data/animal-10n/training/0_img_1553496424189.jpg',\n",
       " './data/animal-10n/training/0_img_1553496424278.jpg',\n",
       " './data/animal-10n/training/0_img_1553496424435.jpg',\n",
       " './data/animal-10n/training/0_img_1553496424893.jpg',\n",
       " './data/animal-10n/training/0_img_1553496425157.jpg',\n",
       " './data/animal-10n/training/0_img_1553496425245.jpg',\n",
       " './data/animal-10n/training/0_img_1553496425302.jpg',\n",
       " './data/animal-10n/training/0_img_1553496425594.jpg',\n",
       " './data/animal-10n/training/0_img_1553496426131.jpg',\n",
       " './data/animal-10n/training/0_img_1553496426183.jpg',\n",
       " './data/animal-10n/training/0_img_1553496426257.jpg',\n",
       " './data/animal-10n/training/0_img_1553496426424.jpg',\n",
       " './data/animal-10n/training/0_img_1553496426511.jpg',\n",
       " './data/animal-10n/training/0_img_1553496426629.jpg',\n",
       " './data/animal-10n/training/0_img_1553496426741.jpg',\n",
       " './data/animal-10n/training/0_img_1553496426939.jpg',\n",
       " './data/animal-10n/training/0_img_1553496427640.jpg',\n",
       " './data/animal-10n/training/0_img_1553496427687.jpg',\n",
       " './data/animal-10n/training/0_img_1553496428145.jpg',\n",
       " './data/animal-10n/training/0_img_1553496428744.jpg',\n",
       " './data/animal-10n/training/0_img_1553496428898.jpg',\n",
       " './data/animal-10n/training/0_img_1553496428962.jpg',\n",
       " './data/animal-10n/training/0_img_1553496429395.jpg',\n",
       " './data/animal-10n/training/0_img_1553496429504.jpg',\n",
       " './data/animal-10n/training/0_img_1553496429550.jpg',\n",
       " './data/animal-10n/training/0_img_1553496429603.jpg',\n",
       " './data/animal-10n/training/0_img_1553496429745.jpg',\n",
       " './data/animal-10n/training/0_img_1553496429775.jpg',\n",
       " './data/animal-10n/training/0_img_1553496429800.jpg',\n",
       " './data/animal-10n/training/0_img_1553496429805.jpg',\n",
       " './data/animal-10n/training/0_img_1553496430120.jpg',\n",
       " './data/animal-10n/training/0_img_1553496430464.jpg',\n",
       " './data/animal-10n/training/0_img_1553496431471.jpg',\n",
       " './data/animal-10n/training/0_img_1553496431607.jpg',\n",
       " './data/animal-10n/training/0_img_1553496431702.jpg',\n",
       " './data/animal-10n/training/0_img_1553496431928.jpg',\n",
       " './data/animal-10n/training/0_img_1553496432007.jpg',\n",
       " './data/animal-10n/training/0_img_1553496432067.jpg',\n",
       " './data/animal-10n/training/0_img_1553496432073.jpg',\n",
       " './data/animal-10n/training/0_img_1553496432391.jpg',\n",
       " './data/animal-10n/training/0_img_1553496432580.jpg',\n",
       " './data/animal-10n/training/0_img_1553496432690.jpg',\n",
       " './data/animal-10n/training/0_img_1553496432732.jpg',\n",
       " './data/animal-10n/training/0_img_1553496432783.jpg',\n",
       " './data/animal-10n/training/0_img_1553496432826.jpg',\n",
       " './data/animal-10n/training/0_img_1553496432887.jpg',\n",
       " './data/animal-10n/training/0_img_1553496432920.jpg',\n",
       " './data/animal-10n/training/0_img_1553496433281.jpg',\n",
       " './data/animal-10n/training/0_img_1553496433941.jpg',\n",
       " './data/animal-10n/training/0_img_1553496434065.jpg',\n",
       " './data/animal-10n/training/0_img_1553496434178.jpg',\n",
       " './data/animal-10n/training/0_img_1553496434255.jpg',\n",
       " './data/animal-10n/training/0_img_1553496434384.jpg',\n",
       " './data/animal-10n/training/0_img_1553496434413.jpg',\n",
       " './data/animal-10n/training/0_img_1553496434554.jpg',\n",
       " './data/animal-10n/training/0_img_1553496434639.jpg',\n",
       " './data/animal-10n/training/0_img_1553496434652.jpg',\n",
       " './data/animal-10n/training/0_img_1553496434659.jpg',\n",
       " './data/animal-10n/training/0_img_1553496434749.jpg',\n",
       " './data/animal-10n/training/0_img_1553496434864.jpg',\n",
       " './data/animal-10n/training/0_img_1553496434895.jpg',\n",
       " './data/animal-10n/training/0_img_1553496435209.jpg',\n",
       " './data/animal-10n/training/0_img_1553496435230.jpg',\n",
       " './data/animal-10n/training/0_img_1553496435367.jpg',\n",
       " './data/animal-10n/training/0_img_1553496435432.jpg',\n",
       " './data/animal-10n/training/0_img_1553496435804.jpg',\n",
       " './data/animal-10n/training/0_img_1553496436556.jpg',\n",
       " './data/animal-10n/training/0_img_1553496436923.jpg',\n",
       " './data/animal-10n/training/0_img_1553496437151.jpg',\n",
       " './data/animal-10n/training/0_img_1553496437250.jpg',\n",
       " './data/animal-10n/training/0_img_1553496437508.jpg',\n",
       " './data/animal-10n/training/0_img_1553496437631.jpg',\n",
       " './data/animal-10n/training/0_img_1553496438021.jpg',\n",
       " './data/animal-10n/training/0_img_1553496438108.jpg',\n",
       " './data/animal-10n/training/0_img_1553496438552.jpg',\n",
       " './data/animal-10n/training/0_img_1553496438897.jpg',\n",
       " './data/animal-10n/training/0_img_1553496439103.jpg',\n",
       " './data/animal-10n/training/0_img_1553496439358.jpg',\n",
       " './data/animal-10n/training/0_img_1553496439514.jpg',\n",
       " './data/animal-10n/training/0_img_1553496439899.jpg',\n",
       " './data/animal-10n/training/0_img_1553496439915.jpg',\n",
       " './data/animal-10n/training/0_img_1553496440463.jpg',\n",
       " './data/animal-10n/training/0_img_1553496440544.jpg',\n",
       " './data/animal-10n/training/0_img_1553496440679.jpg',\n",
       " './data/animal-10n/training/0_img_1553496440799.jpg',\n",
       " './data/animal-10n/training/0_img_1553496441061.jpg',\n",
       " './data/animal-10n/training/0_img_1553496441174.jpg',\n",
       " './data/animal-10n/training/0_img_1553496441250.jpg',\n",
       " './data/animal-10n/training/0_img_1553496441318.jpg',\n",
       " './data/animal-10n/training/0_img_1553496441377.jpg',\n",
       " './data/animal-10n/training/0_img_1553496441828.jpg',\n",
       " './data/animal-10n/training/0_img_1553496442002.jpg',\n",
       " './data/animal-10n/training/0_img_1553496442073.jpg',\n",
       " './data/animal-10n/training/0_img_1553496442218.jpg',\n",
       " './data/animal-10n/training/0_img_1553496442230.jpg',\n",
       " './data/animal-10n/training/0_img_1553496442310.jpg',\n",
       " './data/animal-10n/training/0_img_1553496442430.jpg',\n",
       " './data/animal-10n/training/0_img_1553496442508.jpg',\n",
       " './data/animal-10n/training/0_img_1553496442683.jpg',\n",
       " './data/animal-10n/training/0_img_1553496442844.jpg',\n",
       " './data/animal-10n/training/0_img_1553496442876.jpg',\n",
       " './data/animal-10n/training/0_img_1553496442966.jpg',\n",
       " './data/animal-10n/training/0_img_1553496443318.jpg',\n",
       " './data/animal-10n/training/0_img_1553496443576.jpg',\n",
       " './data/animal-10n/training/0_img_1553496443761.jpg',\n",
       " './data/animal-10n/training/0_img_1553496443849.jpg',\n",
       " './data/animal-10n/training/0_img_1553496444301.jpg',\n",
       " './data/animal-10n/training/0_img_1553496444535.jpg',\n",
       " './data/animal-10n/training/0_img_1553496445128.jpg',\n",
       " './data/animal-10n/training/0_img_1553496445400.jpg',\n",
       " './data/animal-10n/training/0_img_1553496445509.jpg',\n",
       " './data/animal-10n/training/0_img_1553496446054.jpg',\n",
       " './data/animal-10n/training/0_img_1553496446064.jpg',\n",
       " './data/animal-10n/training/0_img_1553496447145.jpg',\n",
       " './data/animal-10n/training/0_img_1553496447278.jpg',\n",
       " './data/animal-10n/training/0_img_1553496447291.jpg',\n",
       " './data/animal-10n/training/0_img_1553496447311.jpg',\n",
       " './data/animal-10n/training/0_img_1553496447368.jpg',\n",
       " './data/animal-10n/training/0_img_1553496447470.jpg',\n",
       " './data/animal-10n/training/0_img_1553496447538.jpg',\n",
       " './data/animal-10n/training/0_img_1553496447634.jpg',\n",
       " './data/animal-10n/training/0_img_1553496447702.jpg',\n",
       " './data/animal-10n/training/0_img_1553496448212.jpg',\n",
       " './data/animal-10n/training/0_img_1553496448400.jpg',\n",
       " './data/animal-10n/training/0_img_1553496448488.jpg',\n",
       " './data/animal-10n/training/0_img_1553496448871.jpg',\n",
       " './data/animal-10n/training/0_img_1553496448956.jpg',\n",
       " './data/animal-10n/training/0_img_1553496449001.jpg',\n",
       " './data/animal-10n/training/0_img_1553496449012.jpg',\n",
       " './data/animal-10n/training/0_img_1553496449104.jpg',\n",
       " './data/animal-10n/training/0_img_1553496449153.jpg',\n",
       " './data/animal-10n/training/0_img_1553496449309.jpg',\n",
       " './data/animal-10n/training/0_img_1553496449424.jpg',\n",
       " './data/animal-10n/training/0_img_1553496450042.jpg',\n",
       " './data/animal-10n/training/0_img_1553496450127.jpg',\n",
       " './data/animal-10n/training/0_img_1553496450209.jpg',\n",
       " './data/animal-10n/training/0_img_1553496450513.jpg',\n",
       " './data/animal-10n/training/0_img_1553496450662.jpg',\n",
       " './data/animal-10n/training/0_img_1553496450700.jpg',\n",
       " './data/animal-10n/training/0_img_1553496450787.jpg',\n",
       " './data/animal-10n/training/0_img_1553496451061.jpg',\n",
       " './data/animal-10n/training/0_img_1553496451533.jpg',\n",
       " './data/animal-10n/training/0_img_1553496451669.jpg',\n",
       " './data/animal-10n/training/0_img_1553496452060.jpg',\n",
       " './data/animal-10n/training/0_img_1553496452370.jpg',\n",
       " './data/animal-10n/training/0_img_1553496452446.jpg',\n",
       " './data/animal-10n/training/0_img_1553496452542.jpg',\n",
       " './data/animal-10n/training/0_img_1553496452620.jpg',\n",
       " './data/animal-10n/training/0_img_1553496453156.jpg',\n",
       " './data/animal-10n/training/0_img_1553496453213.jpg',\n",
       " './data/animal-10n/training/0_img_1553496453243.jpg',\n",
       " './data/animal-10n/training/0_img_1553496453291.jpg',\n",
       " './data/animal-10n/training/0_img_1553496453574.jpg',\n",
       " './data/animal-10n/training/0_img_1553496453600.jpg',\n",
       " './data/animal-10n/training/0_img_1553496453697.jpg',\n",
       " './data/animal-10n/training/0_img_1553496453933.jpg',\n",
       " './data/animal-10n/training/0_img_1553496454250.jpg',\n",
       " './data/animal-10n/training/0_img_1553496454456.jpg',\n",
       " './data/animal-10n/training/0_img_1553496454802.jpg',\n",
       " './data/animal-10n/training/0_img_1553496455004.jpg',\n",
       " './data/animal-10n/training/0_img_1553496455009.jpg',\n",
       " './data/animal-10n/training/0_img_1553496455141.jpg',\n",
       " './data/animal-10n/training/0_img_1553496455286.jpg',\n",
       " './data/animal-10n/training/0_img_1553496455475.jpg',\n",
       " './data/animal-10n/training/0_img_1553496455545.jpg',\n",
       " './data/animal-10n/training/0_img_1553496455659.jpg',\n",
       " './data/animal-10n/training/0_img_1553496455793.jpg',\n",
       " './data/animal-10n/training/0_img_1553496455914.jpg',\n",
       " './data/animal-10n/training/0_img_1553496456158.jpg',\n",
       " './data/animal-10n/training/0_img_1553496456218.jpg',\n",
       " './data/animal-10n/training/0_img_1553496456249.jpg',\n",
       " './data/animal-10n/training/0_img_1553496456555.jpg',\n",
       " './data/animal-10n/training/0_img_1553496456599.jpg',\n",
       " './data/animal-10n/training/0_img_1553496457073.jpg',\n",
       " './data/animal-10n/training/0_img_1553496457214.jpg',\n",
       " './data/animal-10n/training/0_img_1553496457228.jpg',\n",
       " './data/animal-10n/training/0_img_1553496457430.jpg',\n",
       " './data/animal-10n/training/0_img_1553496457459.jpg',\n",
       " './data/animal-10n/training/0_img_1553496457479.jpg',\n",
       " './data/animal-10n/training/0_img_1553496457864.jpg',\n",
       " './data/animal-10n/training/0_img_1553496458026.jpg',\n",
       " './data/animal-10n/training/0_img_1553496458163.jpg',\n",
       " './data/animal-10n/training/0_img_1553496459692.jpg',\n",
       " './data/animal-10n/training/0_img_1553496459698.jpg',\n",
       " './data/animal-10n/training/0_img_1553496459906.jpg',\n",
       " './data/animal-10n/training/0_img_1553496459911.jpg',\n",
       " './data/animal-10n/training/0_img_1553496459966.jpg',\n",
       " './data/animal-10n/training/0_img_1553496460152.jpg',\n",
       " './data/animal-10n/training/0_img_1553496460243.jpg',\n",
       " './data/animal-10n/training/0_img_1553496460450.jpg',\n",
       " './data/animal-10n/training/0_img_1553496460583.jpg',\n",
       " './data/animal-10n/training/0_img_1553496460637.jpg',\n",
       " './data/animal-10n/training/0_img_1553496460702.jpg',\n",
       " './data/animal-10n/training/0_img_1553496460707.jpg',\n",
       " './data/animal-10n/training/0_img_1553496460988.jpg',\n",
       " './data/animal-10n/training/0_img_1553496461004.jpg',\n",
       " './data/animal-10n/training/0_img_1553496461068.jpg',\n",
       " './data/animal-10n/training/0_img_1553496461104.jpg',\n",
       " './data/animal-10n/training/0_img_1553496461145.jpg',\n",
       " './data/animal-10n/training/0_img_1553496461276.jpg',\n",
       " './data/animal-10n/training/0_img_1553496461329.jpg',\n",
       " './data/animal-10n/training/0_img_1553496461453.jpg',\n",
       " './data/animal-10n/training/0_img_1553496461791.jpg',\n",
       " './data/animal-10n/training/0_img_1553496461851.jpg',\n",
       " './data/animal-10n/training/0_img_1553496461958.jpg',\n",
       " './data/animal-10n/training/0_img_1553496462194.jpg',\n",
       " './data/animal-10n/training/0_img_1553496462506.jpg',\n",
       " './data/animal-10n/training/0_img_1553496462681.jpg',\n",
       " './data/animal-10n/training/0_img_1553496463250.jpg',\n",
       " './data/animal-10n/training/0_img_1553496463255.jpg',\n",
       " './data/animal-10n/training/0_img_1553496463351.jpg',\n",
       " './data/animal-10n/training/0_img_1553496463392.jpg',\n",
       " './data/animal-10n/training/0_img_1553496463511.jpg',\n",
       " './data/animal-10n/training/0_img_1553496463765.jpg',\n",
       " './data/animal-10n/training/0_img_1553496464511.jpg',\n",
       " './data/animal-10n/training/0_img_1553496464626.jpg',\n",
       " './data/animal-10n/training/0_img_1553496464692.jpg',\n",
       " './data/animal-10n/training/0_img_1553496465204.jpg',\n",
       " './data/animal-10n/training/0_img_1553496465331.jpg',\n",
       " './data/animal-10n/training/0_img_1553496465507.jpg',\n",
       " './data/animal-10n/training/0_img_1553496465733.jpg',\n",
       " './data/animal-10n/training/0_img_1553496466136.jpg',\n",
       " './data/animal-10n/training/0_img_1553496466142.jpg',\n",
       " './data/animal-10n/training/0_img_1553496466157.jpg',\n",
       " './data/animal-10n/training/0_img_1553496466374.jpg',\n",
       " './data/animal-10n/training/0_img_1553496466399.jpg',\n",
       " './data/animal-10n/training/0_img_1553496466508.jpg',\n",
       " './data/animal-10n/training/0_img_1553496466568.jpg',\n",
       " './data/animal-10n/training/0_img_1553496467417.jpg',\n",
       " './data/animal-10n/training/0_img_1553496467669.jpg',\n",
       " './data/animal-10n/training/0_img_1553496467820.jpg',\n",
       " './data/animal-10n/training/0_img_1553496467889.jpg',\n",
       " './data/animal-10n/training/0_img_1553496468021.jpg',\n",
       " './data/animal-10n/training/0_img_1553496468314.jpg',\n",
       " './data/animal-10n/training/0_img_1553496468711.jpg',\n",
       " './data/animal-10n/training/0_img_1553496469212.jpg',\n",
       " './data/animal-10n/training/0_img_1553496469240.jpg',\n",
       " './data/animal-10n/training/0_img_1553496469958.jpg',\n",
       " './data/animal-10n/training/0_img_1553496470390.jpg',\n",
       " './data/animal-10n/training/0_img_1553496470535.jpg',\n",
       " './data/animal-10n/training/0_img_1553496470849.jpg',\n",
       " './data/animal-10n/training/0_img_1553496470936.jpg',\n",
       " './data/animal-10n/training/0_img_1553496471164.jpg',\n",
       " './data/animal-10n/training/0_img_1553496471659.jpg',\n",
       " './data/animal-10n/training/0_img_1553496471755.jpg',\n",
       " './data/animal-10n/training/0_img_1553496471786.jpg',\n",
       " './data/animal-10n/training/0_img_1553496471826.jpg',\n",
       " './data/animal-10n/training/0_img_1553496471969.jpg',\n",
       " './data/animal-10n/training/0_img_1553496472093.jpg',\n",
       " './data/animal-10n/training/0_img_1553496472216.jpg',\n",
       " './data/animal-10n/training/0_img_1553496472422.jpg',\n",
       " './data/animal-10n/training/0_img_1553496472514.jpg',\n",
       " './data/animal-10n/training/0_img_1553496472565.jpg',\n",
       " './data/animal-10n/training/0_img_1553496472571.jpg',\n",
       " './data/animal-10n/training/0_img_1553496472627.jpg',\n",
       " './data/animal-10n/training/0_img_1553496473039.jpg',\n",
       " './data/animal-10n/training/0_img_1553496473088.jpg',\n",
       " './data/animal-10n/training/0_img_1553496473170.jpg',\n",
       " './data/animal-10n/training/0_img_1553496473308.jpg',\n",
       " './data/animal-10n/training/0_img_1553496473443.jpg',\n",
       " './data/animal-10n/training/0_img_1553496473478.jpg',\n",
       " './data/animal-10n/training/0_img_1553496473531.jpg',\n",
       " './data/animal-10n/training/0_img_1553496473705.jpg',\n",
       " './data/animal-10n/training/0_img_1553496473783.jpg',\n",
       " './data/animal-10n/training/0_img_1553496473797.jpg',\n",
       " './data/animal-10n/training/0_img_1553496473860.jpg',\n",
       " './data/animal-10n/training/0_img_1553496473866.jpg',\n",
       " './data/animal-10n/training/0_img_1553496473905.jpg',\n",
       " './data/animal-10n/training/0_img_1553496474267.jpg',\n",
       " './data/animal-10n/training/0_img_1553496474279.jpg',\n",
       " './data/animal-10n/training/0_img_1553496474773.jpg',\n",
       " './data/animal-10n/training/0_img_1553496474822.jpg',\n",
       " './data/animal-10n/training/0_img_1553496475455.jpg',\n",
       " './data/animal-10n/training/0_img_1553496475641.jpg',\n",
       " './data/animal-10n/training/0_img_1553496475736.jpg',\n",
       " './data/animal-10n/training/0_img_1553496475860.jpg',\n",
       " './data/animal-10n/training/0_img_1553496476094.jpg',\n",
       " './data/animal-10n/training/0_img_1553496476156.jpg',\n",
       " './data/animal-10n/training/0_img_1553496476162.jpg',\n",
       " './data/animal-10n/training/0_img_1553496476326.jpg',\n",
       " './data/animal-10n/training/0_img_1553496476371.jpg',\n",
       " './data/animal-10n/training/0_img_1553496476413.jpg',\n",
       " './data/animal-10n/training/0_img_1553496476439.jpg',\n",
       " './data/animal-10n/training/0_img_1553496476472.jpg',\n",
       " './data/animal-10n/training/0_img_1553496476522.jpg',\n",
       " './data/animal-10n/training/0_img_1553496476551.jpg',\n",
       " './data/animal-10n/training/0_img_1553496476658.jpg',\n",
       " './data/animal-10n/training/0_img_1553496476858.jpg',\n",
       " './data/animal-10n/training/0_img_1553496476868.jpg',\n",
       " './data/animal-10n/training/0_img_1553496476885.jpg',\n",
       " './data/animal-10n/training/0_img_1553496477455.jpg',\n",
       " './data/animal-10n/training/0_img_1553496477925.jpg',\n",
       " './data/animal-10n/training/0_img_1553496478576.jpg',\n",
       " './data/animal-10n/training/0_img_1553496478880.jpg',\n",
       " './data/animal-10n/training/0_img_1553496478968.jpg',\n",
       " './data/animal-10n/training/0_img_1553496479017.jpg',\n",
       " './data/animal-10n/training/0_img_1553496479131.jpg',\n",
       " './data/animal-10n/training/0_img_1553496479421.jpg',\n",
       " './data/animal-10n/training/0_img_1553496479847.jpg',\n",
       " './data/animal-10n/training/0_img_1553496480190.jpg',\n",
       " './data/animal-10n/training/0_img_1553496480263.jpg',\n",
       " './data/animal-10n/training/0_img_1553496480602.jpg',\n",
       " './data/animal-10n/training/0_img_1553496481120.jpg',\n",
       " './data/animal-10n/training/0_img_1553496481144.jpg',\n",
       " './data/animal-10n/training/0_img_1553496481169.jpg',\n",
       " './data/animal-10n/training/0_img_1553496481272.jpg',\n",
       " './data/animal-10n/training/0_img_1553496481509.jpg',\n",
       " './data/animal-10n/training/0_img_1553496481612.jpg',\n",
       " './data/animal-10n/training/0_img_1553496481674.jpg',\n",
       " './data/animal-10n/training/0_img_1553496481701.jpg',\n",
       " './data/animal-10n/training/0_img_1553496481913.jpg',\n",
       " './data/animal-10n/training/0_img_1553496482438.jpg',\n",
       " './data/animal-10n/training/0_img_1553496482758.jpg',\n",
       " './data/animal-10n/training/0_img_1553496482792.jpg',\n",
       " './data/animal-10n/training/0_img_1553496482959.jpg',\n",
       " './data/animal-10n/training/0_img_1553496483021.jpg',\n",
       " './data/animal-10n/training/0_img_1553496483433.jpg',\n",
       " './data/animal-10n/training/0_img_1553496483646.jpg',\n",
       " './data/animal-10n/training/0_img_1553496483721.jpg',\n",
       " './data/animal-10n/training/0_img_1553496483740.jpg',\n",
       " './data/animal-10n/training/0_img_1553496483965.jpg',\n",
       " './data/animal-10n/training/0_img_1553496484160.jpg',\n",
       " './data/animal-10n/training/0_img_1553496484175.jpg',\n",
       " './data/animal-10n/training/0_img_1553496484343.jpg',\n",
       " './data/animal-10n/training/0_img_1553496484477.jpg',\n",
       " './data/animal-10n/training/0_img_1553496484767.jpg',\n",
       " './data/animal-10n/training/0_img_1553496485135.jpg',\n",
       " './data/animal-10n/training/0_img_1553496485700.jpg',\n",
       " './data/animal-10n/training/0_img_1553496486746.jpg',\n",
       " './data/animal-10n/training/0_img_1553496486977.jpg',\n",
       " './data/animal-10n/training/0_img_1553496487457.jpg',\n",
       " './data/animal-10n/training/0_img_1553496487852.jpg',\n",
       " './data/animal-10n/training/0_img_1553496488042.jpg',\n",
       " './data/animal-10n/training/0_img_1553496488065.jpg',\n",
       " './data/animal-10n/training/0_img_1553496488428.jpg',\n",
       " './data/animal-10n/training/0_img_1553496488478.jpg',\n",
       " './data/animal-10n/training/0_img_1553496488549.jpg',\n",
       " './data/animal-10n/training/0_img_1553496489041.jpg',\n",
       " './data/animal-10n/training/0_img_1553496489052.jpg',\n",
       " './data/animal-10n/training/0_img_1553496489085.jpg',\n",
       " './data/animal-10n/training/0_img_1553496489206.jpg',\n",
       " './data/animal-10n/training/0_img_1553496489229.jpg',\n",
       " './data/animal-10n/training/0_img_1553496489475.jpg',\n",
       " './data/animal-10n/training/0_img_1553496489593.jpg',\n",
       " './data/animal-10n/training/0_img_1553496489644.jpg',\n",
       " './data/animal-10n/training/0_img_1553496489696.jpg',\n",
       " './data/animal-10n/training/0_img_1553496490693.jpg',\n",
       " './data/animal-10n/training/0_img_1553496491068.jpg',\n",
       " './data/animal-10n/training/0_img_1553496491280.jpg',\n",
       " './data/animal-10n/training/0_img_1553496491304.jpg',\n",
       " './data/animal-10n/training/0_img_1553496491448.jpg',\n",
       " './data/animal-10n/training/0_img_1553496491493.jpg',\n",
       " './data/animal-10n/training/0_img_1553496491861.jpg',\n",
       " './data/animal-10n/training/0_img_1553496492088.jpg',\n",
       " './data/animal-10n/training/0_img_1553496492105.jpg',\n",
       " './data/animal-10n/training/0_img_1553496492242.jpg',\n",
       " './data/animal-10n/training/0_img_1553496492463.jpg',\n",
       " './data/animal-10n/training/0_img_1553496492490.jpg',\n",
       " './data/animal-10n/training/0_img_1553496492642.jpg',\n",
       " './data/animal-10n/training/0_img_1553496493012.jpg',\n",
       " './data/animal-10n/training/0_img_1553496493076.jpg',\n",
       " './data/animal-10n/training/0_img_1553496493177.jpg',\n",
       " './data/animal-10n/training/0_img_1553496493285.jpg',\n",
       " './data/animal-10n/training/0_img_1553496493722.jpg',\n",
       " './data/animal-10n/training/0_img_1553496493948.jpg',\n",
       " './data/animal-10n/training/0_img_1553496493974.jpg',\n",
       " './data/animal-10n/training/0_img_1553496494007.jpg',\n",
       " './data/animal-10n/training/0_img_1553496494118.jpg',\n",
       " './data/animal-10n/training/0_img_1553496494158.jpg',\n",
       " './data/animal-10n/training/0_img_1553496494173.jpg',\n",
       " './data/animal-10n/training/0_img_1553496494333.jpg',\n",
       " './data/animal-10n/training/0_img_1553496494412.jpg',\n",
       " './data/animal-10n/training/0_img_1553496494488.jpg',\n",
       " './data/animal-10n/training/0_img_1553496494495.jpg',\n",
       " './data/animal-10n/training/0_img_1553496494596.jpg',\n",
       " './data/animal-10n/training/0_img_1553496494613.jpg',\n",
       " './data/animal-10n/training/0_img_1553496494698.jpg',\n",
       " './data/animal-10n/training/0_img_1553496494932.jpg',\n",
       " './data/animal-10n/training/0_img_1553496495319.jpg',\n",
       " './data/animal-10n/training/0_img_1553496495633.jpg',\n",
       " './data/animal-10n/training/0_img_1553496495676.jpg',\n",
       " './data/animal-10n/training/0_img_1553496495894.jpg',\n",
       " './data/animal-10n/training/0_img_1553496495931.jpg',\n",
       " './data/animal-10n/training/0_img_1553496496980.jpg',\n",
       " './data/animal-10n/training/0_img_1553496497459.jpg',\n",
       " './data/animal-10n/training/0_img_1553496497478.jpg',\n",
       " './data/animal-10n/training/0_img_1553496497591.jpg',\n",
       " './data/animal-10n/training/0_img_1553496498082.jpg',\n",
       " './data/animal-10n/training/0_img_1553496498142.jpg',\n",
       " './data/animal-10n/training/0_img_1553496498509.jpg',\n",
       " './data/animal-10n/training/0_img_1553496498637.jpg',\n",
       " './data/animal-10n/training/0_img_1553496499064.jpg',\n",
       " './data/animal-10n/training/0_img_1553496499428.jpg',\n",
       " './data/animal-10n/training/0_img_1553496499531.jpg',\n",
       " './data/animal-10n/training/0_img_1553496499537.jpg',\n",
       " './data/animal-10n/training/0_img_1553496499638.jpg',\n",
       " './data/animal-10n/training/0_img_1553496499707.jpg',\n",
       " './data/animal-10n/training/0_img_1553496499928.jpg',\n",
       " './data/animal-10n/training/0_img_1553496499984.jpg',\n",
       " './data/animal-10n/training/0_img_1553496500031.jpg',\n",
       " './data/animal-10n/training/0_img_1553496500370.jpg',\n",
       " './data/animal-10n/training/0_img_1553496500521.jpg',\n",
       " './data/animal-10n/training/0_img_1553496500537.jpg',\n",
       " './data/animal-10n/training/0_img_1553496500639.jpg',\n",
       " './data/animal-10n/training/0_img_1553496500729.jpg',\n",
       " './data/animal-10n/training/0_img_1553496501820.jpg',\n",
       " './data/animal-10n/training/0_img_1553496501960.jpg',\n",
       " './data/animal-10n/training/0_img_1553496502203.jpg',\n",
       " './data/animal-10n/training/0_img_1553496502221.jpg',\n",
       " './data/animal-10n/training/0_img_1553496502308.jpg',\n",
       " './data/animal-10n/training/0_img_1553496502350.jpg',\n",
       " './data/animal-10n/training/0_img_1553496502386.jpg',\n",
       " './data/animal-10n/training/0_img_1553496502696.jpg',\n",
       " './data/animal-10n/training/0_img_1553496502822.jpg',\n",
       " './data/animal-10n/training/0_img_1553496503038.jpg',\n",
       " './data/animal-10n/training/0_img_1553496503085.jpg',\n",
       " './data/animal-10n/training/0_img_1553496503317.jpg',\n",
       " './data/animal-10n/training/0_img_1553496503527.jpg',\n",
       " './data/animal-10n/training/0_img_1553496504001.jpg',\n",
       " './data/animal-10n/training/0_img_1553496504137.jpg',\n",
       " './data/animal-10n/training/0_img_1553496504383.jpg',\n",
       " './data/animal-10n/training/0_img_1553496504550.jpg',\n",
       " './data/animal-10n/training/0_img_1553496504559.jpg',\n",
       " './data/animal-10n/training/0_img_1553496504800.jpg',\n",
       " './data/animal-10n/training/0_img_1553496505230.jpg',\n",
       " './data/animal-10n/training/0_img_1553496505280.jpg',\n",
       " './data/animal-10n/training/0_img_1553496505473.jpg',\n",
       " './data/animal-10n/training/0_img_1553496505651.jpg',\n",
       " './data/animal-10n/training/0_img_1553496505698.jpg',\n",
       " './data/animal-10n/training/0_img_1553496505890.jpg',\n",
       " './data/animal-10n/training/0_img_1553496505921.jpg',\n",
       " './data/animal-10n/training/0_img_1553496506036.jpg',\n",
       " './data/animal-10n/training/0_img_1553496506147.jpg',\n",
       " './data/animal-10n/training/0_img_1553496506249.jpg',\n",
       " './data/animal-10n/training/0_img_1553496506279.jpg',\n",
       " './data/animal-10n/training/0_img_1553496506348.jpg',\n",
       " './data/animal-10n/training/0_img_1553496506369.jpg',\n",
       " './data/animal-10n/training/0_img_1553496506425.jpg',\n",
       " './data/animal-10n/training/0_img_1553496506701.jpg',\n",
       " './data/animal-10n/training/0_img_1553496506758.jpg',\n",
       " './data/animal-10n/training/0_img_1553496506832.jpg',\n",
       " './data/animal-10n/training/0_img_1553496507065.jpg',\n",
       " './data/animal-10n/training/0_img_1553496507076.jpg',\n",
       " './data/animal-10n/training/0_img_1553496507145.jpg',\n",
       " './data/animal-10n/training/0_img_1553496507179.jpg',\n",
       " './data/animal-10n/training/0_img_1553496507198.jpg',\n",
       " './data/animal-10n/training/0_img_1553496507695.jpg',\n",
       " './data/animal-10n/training/0_img_1553496507715.jpg',\n",
       " './data/animal-10n/training/0_img_1553496507871.jpg',\n",
       " './data/animal-10n/training/0_img_1553496507890.jpg',\n",
       " './data/animal-10n/training/0_img_1553496507926.jpg',\n",
       " './data/animal-10n/training/0_img_1553496508163.jpg',\n",
       " './data/animal-10n/training/0_img_1553496508193.jpg',\n",
       " './data/animal-10n/training/0_img_1553496508468.jpg',\n",
       " './data/animal-10n/training/0_img_1553496509304.jpg',\n",
       " './data/animal-10n/training/0_img_1553496509364.jpg',\n",
       " './data/animal-10n/training/0_img_1553496510834.jpg',\n",
       " './data/animal-10n/training/0_img_1553496511098.jpg',\n",
       " './data/animal-10n/training/0_img_1553496511312.jpg',\n",
       " './data/animal-10n/training/0_img_1553496511407.jpg',\n",
       " './data/animal-10n/training/0_img_1553496511921.jpg',\n",
       " './data/animal-10n/training/0_img_1553496512182.jpg',\n",
       " './data/animal-10n/training/0_img_1553496512215.jpg',\n",
       " './data/animal-10n/training/0_img_1553496512235.jpg',\n",
       " './data/animal-10n/training/0_img_1553496512326.jpg',\n",
       " './data/animal-10n/training/0_img_1553496512390.jpg',\n",
       " './data/animal-10n/training/0_img_1553496513098.jpg',\n",
       " './data/animal-10n/training/0_img_1553496513181.jpg',\n",
       " './data/animal-10n/training/0_img_1553496513471.jpg',\n",
       " './data/animal-10n/training/0_img_1553496513523.jpg',\n",
       " './data/animal-10n/training/0_img_1553496513807.jpg',\n",
       " './data/animal-10n/training/0_img_1553496513812.jpg',\n",
       " './data/animal-10n/training/0_img_1553496513860.jpg',\n",
       " './data/animal-10n/training/0_img_1553496513871.jpg',\n",
       " './data/animal-10n/training/0_img_1553496514155.jpg',\n",
       " './data/animal-10n/training/0_img_1553496514266.jpg',\n",
       " './data/animal-10n/training/0_img_1553496514597.jpg',\n",
       " './data/animal-10n/training/0_img_1553496514602.jpg',\n",
       " './data/animal-10n/training/0_img_1553496514741.jpg',\n",
       " './data/animal-10n/training/0_img_1553496514794.jpg',\n",
       " './data/animal-10n/training/0_img_1553496514800.jpg',\n",
       " './data/animal-10n/training/0_img_1553496515110.jpg',\n",
       " './data/animal-10n/training/0_img_1553496515232.jpg',\n",
       " './data/animal-10n/training/0_img_1553496515624.jpg',\n",
       " './data/animal-10n/training/0_img_1553496515639.jpg',\n",
       " './data/animal-10n/training/0_img_1553496515778.jpg',\n",
       " './data/animal-10n/training/0_img_1553496515783.jpg',\n",
       " './data/animal-10n/training/0_img_1553496515997.jpg',\n",
       " './data/animal-10n/training/0_img_1553496516117.jpg',\n",
       " './data/animal-10n/training/0_img_1553496516123.jpg',\n",
       " './data/animal-10n/training/0_img_1553496516158.jpg',\n",
       " './data/animal-10n/training/0_img_1553496516295.jpg',\n",
       " './data/animal-10n/training/0_img_1553496516478.jpg',\n",
       " './data/animal-10n/training/0_img_1553496516598.jpg',\n",
       " './data/animal-10n/training/0_img_1553496516633.jpg',\n",
       " './data/animal-10n/training/0_img_1553496516897.jpg',\n",
       " './data/animal-10n/training/0_img_1553496516910.jpg',\n",
       " './data/animal-10n/training/0_img_1553496516971.jpg',\n",
       " './data/animal-10n/training/0_img_1553496517102.jpg',\n",
       " './data/animal-10n/training/0_img_1553496517188.jpg',\n",
       " './data/animal-10n/training/0_img_1553496517300.jpg',\n",
       " './data/animal-10n/training/0_img_1553496517515.jpg',\n",
       " './data/animal-10n/training/0_img_1553496517740.jpg',\n",
       " './data/animal-10n/training/0_img_1553496517801.jpg',\n",
       " './data/animal-10n/training/0_img_1553496517833.jpg',\n",
       " './data/animal-10n/training/0_img_1553496517970.jpg',\n",
       " './data/animal-10n/training/0_img_1553496517983.jpg',\n",
       " './data/animal-10n/training/0_img_1553496518209.jpg',\n",
       " './data/animal-10n/training/0_img_1553496518264.jpg',\n",
       " './data/animal-10n/training/0_img_1553496518630.jpg',\n",
       " './data/animal-10n/training/0_img_1553496519000.jpg',\n",
       " './data/animal-10n/training/0_img_1553496519123.jpg',\n",
       " './data/animal-10n/training/0_img_1553496519202.jpg',\n",
       " './data/animal-10n/training/0_img_1553496519293.jpg',\n",
       " './data/animal-10n/training/0_img_1553496519495.jpg',\n",
       " './data/animal-10n/training/0_img_1553496519746.jpg',\n",
       " './data/animal-10n/training/0_img_1553496519805.jpg',\n",
       " './data/animal-10n/training/0_img_1553496519813.jpg',\n",
       " './data/animal-10n/training/0_img_1553496519868.jpg',\n",
       " './data/animal-10n/training/0_img_1553496520042.jpg',\n",
       " './data/animal-10n/training/0_img_1553496520297.jpg',\n",
       " './data/animal-10n/training/0_img_1553496520483.jpg',\n",
       " './data/animal-10n/training/0_img_1553496520800.jpg',\n",
       " './data/animal-10n/training/0_img_1553496520911.jpg',\n",
       " './data/animal-10n/training/0_img_1553496521238.jpg',\n",
       " './data/animal-10n/training/0_img_1553496521298.jpg',\n",
       " './data/animal-10n/training/0_img_1553496521491.jpg',\n",
       " './data/animal-10n/training/0_img_1553496521509.jpg',\n",
       " './data/animal-10n/training/0_img_1553496521520.jpg',\n",
       " './data/animal-10n/training/0_img_1553496521543.jpg',\n",
       " './data/animal-10n/training/0_img_1553496521715.jpg',\n",
       " './data/animal-10n/training/0_img_1553496521805.jpg',\n",
       " './data/animal-10n/training/0_img_1553496522077.jpg',\n",
       " './data/animal-10n/training/0_img_1553496522323.jpg',\n",
       " './data/animal-10n/training/0_img_1553496522345.jpg',\n",
       " './data/animal-10n/training/0_img_1553496522532.jpg',\n",
       " './data/animal-10n/training/0_img_1553496522706.jpg',\n",
       " './data/animal-10n/training/0_img_1553496522821.jpg',\n",
       " './data/animal-10n/training/0_img_1553496523593.jpg',\n",
       " './data/animal-10n/training/0_img_1553496523667.jpg',\n",
       " './data/animal-10n/training/0_img_1553496523748.jpg',\n",
       " './data/animal-10n/training/0_img_1553496523900.jpg',\n",
       " './data/animal-10n/training/0_img_1553496523983.jpg',\n",
       " './data/animal-10n/training/0_img_1553496523989.jpg',\n",
       " './data/animal-10n/training/0_img_1553496524020.jpg',\n",
       " './data/animal-10n/training/0_img_1553496524100.jpg',\n",
       " './data/animal-10n/training/0_img_1553496524442.jpg',\n",
       " './data/animal-10n/training/0_img_1553496524711.jpg',\n",
       " './data/animal-10n/training/0_img_1553496524717.jpg',\n",
       " './data/animal-10n/training/0_img_1553496524802.jpg',\n",
       " './data/animal-10n/training/0_img_1553496525051.jpg',\n",
       " './data/animal-10n/training/0_img_1553496525069.jpg',\n",
       " './data/animal-10n/training/0_img_1553496526385.jpg',\n",
       " './data/animal-10n/training/0_img_1553496526655.jpg',\n",
       " './data/animal-10n/training/0_img_1553496526682.jpg',\n",
       " './data/animal-10n/training/0_img_1553496527017.jpg',\n",
       " './data/animal-10n/training/0_img_1553496527107.jpg',\n",
       " './data/animal-10n/training/0_img_1553496527124.jpg',\n",
       " './data/animal-10n/training/0_img_1553496527252.jpg',\n",
       " './data/animal-10n/training/0_img_1553496527383.jpg',\n",
       " './data/animal-10n/training/0_img_1553496527501.jpg',\n",
       " './data/animal-10n/training/0_img_1553496528012.jpg',\n",
       " './data/animal-10n/training/0_img_1553496528263.jpg',\n",
       " './data/animal-10n/training/0_img_1553496528454.jpg',\n",
       " './data/animal-10n/training/0_img_1553496528489.jpg',\n",
       " './data/animal-10n/training/0_img_1553496528506.jpg',\n",
       " './data/animal-10n/training/0_img_1553496528517.jpg',\n",
       " './data/animal-10n/training/0_img_1553496529186.jpg',\n",
       " './data/animal-10n/training/0_img_1553496529242.jpg',\n",
       " './data/animal-10n/training/0_img_1553496529364.jpg',\n",
       " './data/animal-10n/training/0_img_1553496529418.jpg',\n",
       " './data/animal-10n/training/0_img_1553496529540.jpg',\n",
       " './data/animal-10n/training/0_img_1553496529670.jpg',\n",
       " './data/animal-10n/training/0_img_1553496529892.jpg',\n",
       " './data/animal-10n/training/0_img_1553496529951.jpg',\n",
       " './data/animal-10n/training/0_img_1553496530149.jpg',\n",
       " './data/animal-10n/training/0_img_1553496530195.jpg',\n",
       " './data/animal-10n/training/0_img_1553496530465.jpg',\n",
       " './data/animal-10n/training/0_img_1553496530914.jpg',\n",
       " './data/animal-10n/training/0_img_1553496531066.jpg',\n",
       " './data/animal-10n/training/0_img_1553496531274.jpg',\n",
       " './data/animal-10n/training/0_img_1553496531358.jpg',\n",
       " './data/animal-10n/training/0_img_1553496531370.jpg',\n",
       " './data/animal-10n/training/0_img_1553496531590.jpg',\n",
       " './data/animal-10n/training/0_img_1553496531616.jpg',\n",
       " './data/animal-10n/training/0_img_1553496532143.jpg',\n",
       " './data/animal-10n/training/0_img_1553496532209.jpg',\n",
       " './data/animal-10n/training/0_img_1553496532215.jpg',\n",
       " './data/animal-10n/training/0_img_1553496532428.jpg',\n",
       " './data/animal-10n/training/0_img_1553496532479.jpg',\n",
       " './data/animal-10n/training/0_img_1553496532485.jpg',\n",
       " './data/animal-10n/training/0_img_1553496532567.jpg',\n",
       " './data/animal-10n/training/0_img_1553496532649.jpg',\n",
       " './data/animal-10n/training/0_img_1553496533045.jpg',\n",
       " './data/animal-10n/training/0_img_1553496533075.jpg',\n",
       " './data/animal-10n/training/0_img_1553496533214.jpg',\n",
       " './data/animal-10n/training/0_img_1553496533655.jpg',\n",
       " './data/animal-10n/training/0_img_1553496533728.jpg',\n",
       " './data/animal-10n/training/0_img_1553496533833.jpg',\n",
       " './data/animal-10n/training/0_img_1553496533846.jpg',\n",
       " './data/animal-10n/training/0_img_1553496534041.jpg',\n",
       " './data/animal-10n/training/0_img_1553496534182.jpg',\n",
       " './data/animal-10n/training/0_img_1553496534262.jpg',\n",
       " './data/animal-10n/training/0_img_1553496534348.jpg',\n",
       " './data/animal-10n/training/0_img_1553496534359.jpg',\n",
       " './data/animal-10n/training/0_img_1553496534599.jpg',\n",
       " './data/animal-10n/training/0_img_1553496534805.jpg',\n",
       " './data/animal-10n/training/0_img_1553496534888.jpg',\n",
       " './data/animal-10n/training/0_img_1553496534894.jpg',\n",
       " './data/animal-10n/training/0_img_1553496534954.jpg',\n",
       " './data/animal-10n/training/0_img_1553496535076.jpg',\n",
       " './data/animal-10n/training/0_img_1553496535200.jpg',\n",
       " './data/animal-10n/training/0_img_1553496535266.jpg',\n",
       " './data/animal-10n/training/0_img_1553496535883.jpg',\n",
       " './data/animal-10n/training/0_img_1553496535901.jpg',\n",
       " './data/animal-10n/training/0_img_1553496536084.jpg',\n",
       " './data/animal-10n/training/0_img_1553496536335.jpg',\n",
       " './data/animal-10n/training/0_img_1553496536500.jpg',\n",
       " './data/animal-10n/training/0_img_1553496536659.jpg',\n",
       " './data/animal-10n/training/0_img_1553496536733.jpg',\n",
       " './data/animal-10n/training/0_img_1553496536912.jpg',\n",
       " './data/animal-10n/training/0_img_1553496537043.jpg',\n",
       " './data/animal-10n/training/0_img_1553496537430.jpg',\n",
       " './data/animal-10n/training/0_img_1553496537707.jpg',\n",
       " './data/animal-10n/training/0_img_1553496537955.jpg',\n",
       " './data/animal-10n/training/0_img_1553496538665.jpg',\n",
       " './data/animal-10n/training/0_img_1553496538779.jpg',\n",
       " './data/animal-10n/training/0_img_1553496538974.jpg',\n",
       " './data/animal-10n/training/0_img_1553496539155.jpg',\n",
       " './data/animal-10n/training/0_img_1553496539439.jpg',\n",
       " './data/animal-10n/training/0_img_1553496539571.jpg',\n",
       " './data/animal-10n/training/0_img_1553496539672.jpg',\n",
       " './data/animal-10n/training/0_img_1553496539993.jpg',\n",
       " './data/animal-10n/training/0_img_1553496540109.jpg',\n",
       " './data/animal-10n/training/0_img_1553496540135.jpg',\n",
       " './data/animal-10n/training/0_img_1553496540284.jpg',\n",
       " './data/animal-10n/training/0_img_1553496540290.jpg',\n",
       " './data/animal-10n/training/0_img_1553496540333.jpg',\n",
       " './data/animal-10n/training/0_img_1553496540404.jpg',\n",
       " './data/animal-10n/training/0_img_1553496540876.jpg',\n",
       " './data/animal-10n/training/0_img_1553496540930.jpg',\n",
       " './data/animal-10n/training/0_img_1553496541029.jpg',\n",
       " './data/animal-10n/training/0_img_1553496541194.jpg',\n",
       " './data/animal-10n/training/0_img_1553496541443.jpg',\n",
       " './data/animal-10n/training/0_img_1553496541478.jpg',\n",
       " './data/animal-10n/training/0_img_1553496541526.jpg',\n",
       " './data/animal-10n/training/0_img_1553496541582.jpg',\n",
       " './data/animal-10n/training/0_img_1553496541606.jpg',\n",
       " './data/animal-10n/training/0_img_1553496541719.jpg',\n",
       " './data/animal-10n/training/0_img_1553496541758.jpg',\n",
       " './data/animal-10n/training/0_img_1553496541833.jpg',\n",
       " './data/animal-10n/training/0_img_1553496542020.jpg',\n",
       " './data/animal-10n/training/0_img_1553496542235.jpg',\n",
       " './data/animal-10n/training/0_img_1553496542241.jpg',\n",
       " './data/animal-10n/training/0_img_1553496542264.jpg',\n",
       " './data/animal-10n/training/0_img_1553496542394.jpg',\n",
       " './data/animal-10n/training/0_img_1553496542427.jpg',\n",
       " './data/animal-10n/training/0_img_1553496542521.jpg',\n",
       " './data/animal-10n/training/0_img_1553496542867.jpg',\n",
       " './data/animal-10n/training/0_img_1553496543008.jpg',\n",
       " './data/animal-10n/training/0_img_1553496543095.jpg',\n",
       " './data/animal-10n/training/0_img_1553496543355.jpg',\n",
       " './data/animal-10n/training/0_img_1553496543483.jpg',\n",
       " './data/animal-10n/training/0_img_1553496543518.jpg',\n",
       " './data/animal-10n/training/0_img_1553496543582.jpg',\n",
       " './data/animal-10n/training/0_img_1553496543617.jpg',\n",
       " './data/animal-10n/training/0_img_1553496543679.jpg',\n",
       " './data/animal-10n/training/0_img_1553496543985.jpg',\n",
       " './data/animal-10n/training/0_img_1553496544037.jpg',\n",
       " './data/animal-10n/training/0_img_1553496544332.jpg',\n",
       " './data/animal-10n/training/0_img_1553496544738.jpg',\n",
       " './data/animal-10n/training/0_img_1553496544849.jpg',\n",
       " './data/animal-10n/training/0_img_1553496544854.jpg',\n",
       " './data/animal-10n/training/0_img_1553496544918.jpg',\n",
       " './data/animal-10n/training/0_img_1553496545094.jpg',\n",
       " './data/animal-10n/training/0_img_1553496545146.jpg',\n",
       " './data/animal-10n/training/0_img_1553496545241.jpg',\n",
       " './data/animal-10n/training/0_img_1553496545428.jpg',\n",
       " './data/animal-10n/training/0_img_1553496545518.jpg',\n",
       " './data/animal-10n/training/0_img_1553496545739.jpg',\n",
       " './data/animal-10n/training/0_img_1553496545816.jpg',\n",
       " './data/animal-10n/training/0_img_1553496545882.jpg',\n",
       " './data/animal-10n/training/0_img_1553496545932.jpg',\n",
       " './data/animal-10n/training/0_img_1553496546049.jpg',\n",
       " './data/animal-10n/training/0_img_1553496546165.jpg',\n",
       " './data/animal-10n/training/0_img_1553496546181.jpg',\n",
       " './data/animal-10n/training/0_img_1553496546192.jpg',\n",
       " './data/animal-10n/training/0_img_1553496546484.jpg',\n",
       " './data/animal-10n/training/0_img_1553496546554.jpg',\n",
       " './data/animal-10n/training/0_img_1553496546566.jpg',\n",
       " './data/animal-10n/training/0_img_1553496547375.jpg',\n",
       " './data/animal-10n/training/0_img_1553496547528.jpg',\n",
       " './data/animal-10n/training/0_img_1553496547689.jpg',\n",
       " './data/animal-10n/training/0_img_1553496547887.jpg',\n",
       " './data/animal-10n/training/0_img_1553496547986.jpg',\n",
       " './data/animal-10n/training/0_img_1553496548038.jpg',\n",
       " './data/animal-10n/training/0_img_1553496548083.jpg',\n",
       " './data/animal-10n/training/0_img_1553496548130.jpg',\n",
       " './data/animal-10n/training/0_img_1553496548354.jpg',\n",
       " './data/animal-10n/training/0_img_1553496548481.jpg',\n",
       " './data/animal-10n/training/0_img_1553496548673.jpg',\n",
       " './data/animal-10n/training/0_img_1553496548811.jpg',\n",
       " './data/animal-10n/training/0_img_1553496548853.jpg',\n",
       " './data/animal-10n/training/0_img_1553496548909.jpg',\n",
       " './data/animal-10n/training/0_img_1553496548963.jpg',\n",
       " './data/animal-10n/training/0_img_1553496548982.jpg',\n",
       " './data/animal-10n/training/0_img_1553496548994.jpg',\n",
       " './data/animal-10n/training/0_img_1553496549181.jpg',\n",
       " './data/animal-10n/training/0_img_1553496549193.jpg',\n",
       " './data/animal-10n/training/0_img_1553496549259.jpg',\n",
       " './data/animal-10n/training/0_img_1553496549513.jpg',\n",
       " './data/animal-10n/training/0_img_1553496549595.jpg',\n",
       " './data/animal-10n/training/0_img_1553496549607.jpg',\n",
       " './data/animal-10n/training/0_img_1553496549816.jpg',\n",
       " './data/animal-10n/training/0_img_1553496549915.jpg',\n",
       " './data/animal-10n/training/0_img_1553496549961.jpg',\n",
       " './data/animal-10n/training/0_img_1553496550195.jpg',\n",
       " './data/animal-10n/training/0_img_1553496550250.jpg',\n",
       " './data/animal-10n/training/0_img_1553496550262.jpg',\n",
       " './data/animal-10n/training/0_img_1553496550315.jpg',\n",
       " './data/animal-10n/training/0_img_1553496550452.jpg',\n",
       " './data/animal-10n/training/0_img_1553496550693.jpg',\n",
       " './data/animal-10n/training/0_img_1553496550788.jpg',\n",
       " './data/animal-10n/training/0_img_1553496550855.jpg',\n",
       " './data/animal-10n/training/0_img_1553496551002.jpg',\n",
       " './data/animal-10n/training/0_img_1553496551049.jpg',\n",
       " './data/animal-10n/training/0_img_1553496551101.jpg',\n",
       " './data/animal-10n/training/0_img_1553496551106.jpg',\n",
       " './data/animal-10n/training/0_img_1553496551318.jpg',\n",
       " './data/animal-10n/training/0_img_1553496551427.jpg',\n",
       " './data/animal-10n/training/0_img_1553496551479.jpg',\n",
       " './data/animal-10n/training/0_img_1553496551494.jpg',\n",
       " './data/animal-10n/training/0_img_1553496551691.jpg',\n",
       " './data/animal-10n/training/0_img_1553496552262.jpg',\n",
       " './data/animal-10n/training/0_img_1553496552467.jpg',\n",
       " './data/animal-10n/training/0_img_1553496552930.jpg',\n",
       " './data/animal-10n/training/0_img_1553496553166.jpg',\n",
       " './data/animal-10n/training/0_img_1553496553353.jpg',\n",
       " './data/animal-10n/training/0_img_1553496553375.jpg',\n",
       " './data/animal-10n/training/0_img_1553496553469.jpg',\n",
       " './data/animal-10n/training/0_img_1553496553631.jpg',\n",
       " './data/animal-10n/training/0_img_1553496553789.jpg',\n",
       " './data/animal-10n/training/0_img_1553496553862.jpg',\n",
       " './data/animal-10n/training/0_img_1553496553898.jpg',\n",
       " './data/animal-10n/training/0_img_1553496553909.jpg',\n",
       " './data/animal-10n/training/0_img_1553496554330.jpg',\n",
       " './data/animal-10n/training/0_img_1553496554491.jpg',\n",
       " './data/animal-10n/training/0_img_1553496554502.jpg',\n",
       " './data/animal-10n/training/0_img_1553496554514.jpg',\n",
       " './data/animal-10n/training/0_img_1553496554699.jpg',\n",
       " './data/animal-10n/training/0_img_1553496555141.jpg',\n",
       " './data/animal-10n/training/0_img_1553496555210.jpg',\n",
       " './data/animal-10n/training/0_img_1553496555251.jpg',\n",
       " './data/animal-10n/training/0_img_1553496555315.jpg',\n",
       " './data/animal-10n/training/0_img_1553496555594.jpg',\n",
       " './data/animal-10n/training/0_img_1553496555641.jpg',\n",
       " './data/animal-10n/training/0_img_1553496556127.jpg',\n",
       " './data/animal-10n/training/0_img_1553496556160.jpg',\n",
       " './data/animal-10n/training/0_img_1553496556398.jpg',\n",
       " './data/animal-10n/training/0_img_1553496556420.jpg',\n",
       " './data/animal-10n/training/0_img_1553496556596.jpg',\n",
       " './data/animal-10n/training/0_img_1553496556908.jpg',\n",
       " './data/animal-10n/training/0_img_1553496556937.jpg',\n",
       " './data/animal-10n/training/0_img_1553496557209.jpg',\n",
       " './data/animal-10n/training/0_img_1553496557486.jpg',\n",
       " './data/animal-10n/training/0_img_1553496557520.jpg',\n",
       " './data/animal-10n/training/0_img_1553496557871.jpg',\n",
       " './data/animal-10n/training/0_img_1553496557946.jpg',\n",
       " './data/animal-10n/training/0_img_1553496558057.jpg',\n",
       " './data/animal-10n/training/0_img_1553496558134.jpg',\n",
       " './data/animal-10n/training/0_img_1553496558182.jpg',\n",
       " './data/animal-10n/training/0_img_1553496558359.jpg',\n",
       " './data/animal-10n/training/0_img_1553496558379.jpg',\n",
       " './data/animal-10n/training/0_img_1553496558548.jpg',\n",
       " './data/animal-10n/training/0_img_1553496558654.jpg',\n",
       " './data/animal-10n/training/0_img_1553496558693.jpg',\n",
       " './data/animal-10n/training/0_img_1553496558942.jpg',\n",
       " './data/animal-10n/training/0_img_1553496558987.jpg',\n",
       " './data/animal-10n/training/0_img_1553496559028.jpg',\n",
       " './data/animal-10n/training/0_img_1553496559219.jpg',\n",
       " './data/animal-10n/training/0_img_1553496559426.jpg',\n",
       " './data/animal-10n/training/0_img_1553496559496.jpg',\n",
       " './data/animal-10n/training/0_img_1553496559657.jpg',\n",
       " './data/animal-10n/training/0_img_1553496560025.jpg',\n",
       " './data/animal-10n/training/0_img_1553496560055.jpg',\n",
       " './data/animal-10n/training/0_img_1553496560162.jpg',\n",
       " './data/animal-10n/training/0_img_1553496560168.jpg',\n",
       " './data/animal-10n/training/0_img_1553496560216.jpg',\n",
       " ...]"
      ]
     },
     "execution_count": 8,
     "metadata": {},
     "output_type": "execute_result"
    }
   ],
   "source": [
    "import gdown\n",
    "import os\n",
    "\n",
    "url = 'https://drive.google.com/open?id=1oXacCyyCMgnnfGC2lRhDaLv6jjwTljHH'\n",
    "md5 = 'f0f2b420c3371b516728ed0ef9fb2108'\n",
    "filename = 'raw_image_ver.zip'\n",
    "root = 'data/'\n",
    "\n",
    "\n",
    "# gdown.download(url, fuzzy=True)\n",
    "gdown.cached_download(url, os.path.join(root, 'animal-10n', filename), md5=md5, postprocess=gdown.extractall, fuzzy=True)\n",
    "gdown.extractall('./data/animal-10n/raw_image.zip')"
   ]
  },
  {
   "cell_type": "code",
   "execution_count": null,
   "metadata": {},
   "outputs": [],
   "source": [
    "import gdown\n",
    "from torchvision.datasets.utils import download_and_extract_archive, check_integrity\n",
    "\n",
    "if download:\n",
    "    if check_integrity(os.path.join(self.root, 'CIFAR-N-1.zip'), self.md5):\n",
    "        print('Files already downloaded and verified')\n",
    "    else:\n",
    "        download_and_extract_archive(self.cifarn_url, root, md5=self.md5)\n",
    "\n",
    "\n",
    "url = 'https://drive.google.com/open?id=1oXacCyyCMgnnfGC2lRhDaLv6jjwTljHH'\n",
    "md5 = 'f0f2b420c3371b516728ed0ef9fb2108'\n",
    "# md5 = '3787114f69ed08a6bbfce21fca2d3fdc'\n",
    "\n",
    "gdown.cached_download(url, md5=md5, postprocess=gdown.extractall, fuzzy=True)\n",
    "gdown.download(url, fuzzy=True)"
   ]
  },
  {
   "cell_type": "code",
   "execution_count": null,
   "metadata": {},
   "outputs": [],
   "source": [
    "import wandb\n",
    "\n",
    "wandb.init(\n",
    "    entity='siit-iitp',\n",
    "    project='noisy-label',\n",
    "    resume=True,\n",
    "    \n",
    ")"
   ]
  },
  {
   "cell_type": "code",
   "execution_count": 1,
   "metadata": {},
   "outputs": [
    {
     "name": "stdout",
     "output_type": "stream",
     "text": [
      "Files already downloaded and verified\n"
     ]
    }
   ],
   "source": [
    "import torch\n",
    "from datasets import NoisyCIFAR3\n",
    "\n",
    "dset = NoisyCIFAR3('./data', download=True)"
   ]
  },
  {
   "cell_type": "code",
   "execution_count": 8,
   "metadata": {},
   "outputs": [
    {
     "data": {
      "image/png": "[encoded data removed]",
      "text/plain": [
       "<PIL.Image.Image image mode=RGB size=32x32>"
      ]
     },
     "execution_count": 8,
     "metadata": {},
     "output_type": "execute_result"
    }
   ],
   "source": [
    "dset[2]['image']"
   ]
  },
  {
   "cell_type": "code",
   "execution_count": 7,
   "metadata": {},
   "outputs": [
    {
     "data": {
      "text/plain": [
       "{'image': <PIL.Image.Image image mode=RGB size=32x32>,\n",
       " 'target': 0,\n",
       " 'target_gt': 0}"
      ]
     },
     "execution_count": 7,
     "metadata": {},
     "output_type": "execute_result"
    }
   ],
   "source": [
    "dset[2]"
   ]
  },
  {
   "cell_type": "code",
   "execution_count": 9,
   "metadata": {},
   "outputs": [
    {
     "ename": "NameError",
     "evalue": "name 'df_noisy' is not defined",
     "output_type": "error",
     "traceback": [
      "\u001b[0;31m---------------------------------------------------------------------------\u001b[0m",
      "\u001b[0;31mNameError\u001b[0m                                 Traceback (most recent call last)",
      "Cell \u001b[0;32mIn[9], line 7\u001b[0m\n\u001b[1;32m      5\u001b[0m \u001b[39mimport\u001b[39;00m \u001b[39mnumpy\u001b[39;00m \u001b[39mas\u001b[39;00m \u001b[39mnp\u001b[39;00m\n\u001b[1;32m      6\u001b[0m \u001b[39mfrom\u001b[39;00m \u001b[39mscipy\u001b[39;00m\u001b[39m.\u001b[39;00m\u001b[39mspecial\u001b[39;00m \u001b[39mimport\u001b[39;00m softmax\n\u001b[0;32m----> 7\u001b[0m \u001b[39mfor\u001b[39;00m idx, row \u001b[39min\u001b[39;00m df_noisy\u001b[39m.\u001b[39miterrows():\n\u001b[1;32m      9\u001b[0m     \u001b[39mif\u001b[39;00m idx \u001b[39m<\u001b[39m \u001b[39m5\u001b[39m:\n\u001b[1;32m     10\u001b[0m         \u001b[39mcontinue\u001b[39;00m\n",
      "\u001b[0;31mNameError\u001b[0m: name 'df_noisy' is not defined"
     ]
    }
   ],
   "source": [
    "import numpy.random as nprn\n",
    "import matplotlib.pyplot as plt\n",
    "import pandas as pd\n",
    "import seaborn as sb\n",
    "import numpy as np\n",
    "from scipy.special import softmax\n",
    "\n",
    "\n",
    "for idx, row in df_noisy.iterrows():\n",
    "    \n",
    "    if idx < 5:\n",
    "        continue\n",
    "    pca = PCA(n_components=3)\n",
    "    X = row['output'] # (n_samples, n_features)\n",
    "    X_reduced = pca.fit_transform(X)\n",
    "    \n",
    "    # print('Set the three positive values, a1, a2, a3...')\n",
    "\n",
    "    # a1 = 1.0\n",
    "    # a2 = 1.0\n",
    "    # a3 = 1.0\n",
    "\n",
    "    # raw_data = nprn.dirichlet([a1, a2, a3], 5000)\n",
    "    raw_data = X_reduced\n",
    "\n",
    "    # raw_data = softmax(raw_data, axis=1)\n",
    "\n",
    "    data = pd.DataFrame({'theta_1': raw_data.T[0], 'theta_2': raw_data.T[1],\n",
    "                            'theta_3': raw_data.T[2]})\n",
    "\n",
    "\n",
    "    sb.pairplot(data)\n",
    "\n",
    "    plt.show()\n",
    "\n",
    "\n",
    "    p1 = np.array([0.0, (3.0**0.5) - 1.0])\n",
    "    p2 = np.array([-1.0, -1.0])\n",
    "    p3 = np.array([1.0, -1.0])\n",
    "    plt.figure(figsize = (5, 5))\n",
    "\n",
    "    plt.plot([-1.0, 1.0, 0.0, -1.0],\n",
    "            [-1.0, -1.0, (3.0**0.5) - 1.0, -1.0])\n",
    "\n",
    "\n",
    "    points = []\n",
    "    for t1, t2, t3 in raw_data:\n",
    "        points.append(p1 * t1 + p2 * t2 + p3 * t3)\n",
    "    points = np.array(points)\n",
    "\n",
    "    print(points.shape)\n",
    "\n",
    "    # plt.title('a = [{0}, {1}, {2}]'.format(a1, a2, a3), fontsize = 16)\n",
    "    # plt.xlim(-1.2, 1.2)\n",
    "    # plt.ylim(-1.2, 1.2)\n",
    "    print(points.T[0])\n",
    "    plt.scatter(points.T[0], points.T[1] , edgecolors = '#ffffff', alpha = 0.7, s=50)\n",
    "    plt.text(p1[0]-0.1, p1[1]+0.1, 'P1', fontsize = 16)\n",
    "    plt.text(p2[0]-0.1, p2[1]-0.15, 'P2', fontsize = 16)\n",
    "    plt.text(p3[0], p3[1]-0.15, 'P3', fontsize = 16)\n",
    "    plt.xticks([])\n",
    "    plt.yticks([])\n",
    "    plt.show()\n",
    "\n",
    "\n",
    "\n",
    "\n",
    "    break"
   ]
  },
  {
   "cell_type": "code",
   "execution_count": 2,
   "metadata": {},
   "outputs": [
    {
     "name": "stderr",
     "output_type": "stream",
     "text": [
      "/opt/conda/lib/python3.10/site-packages/seaborn/_oldcore.py:917: FutureWarning: elementwise comparison failed; returning scalar instead, but in the future will perform elementwise comparison\n",
      "  val in data\n"
     ]
    },
    {
     "ename": "ValueError",
     "evalue": "Could not interpret value `Patient` for parameter `x`",
     "output_type": "error",
     "traceback": [
      "\u001b[0;31m---------------------------------------------------------------------------\u001b[0m",
      "\u001b[0;31mValueError\u001b[0m                                Traceback (most recent call last)",
      "Cell \u001b[0;32mIn[2], line 9\u001b[0m\n\u001b[1;32m      6\u001b[0m x \u001b[39m=\u001b[39m torch\u001b[39m.\u001b[39mrand((\u001b[39m10\u001b[39m, \u001b[39m10\u001b[39m))\u001b[39m.\u001b[39msoftmax(\u001b[39m-\u001b[39m\u001b[39m1\u001b[39m)\u001b[39m.\u001b[39mnumpy()\n\u001b[1;32m      8\u001b[0m plt\u001b[39m.\u001b[39mfigure(figsize\u001b[39m=\u001b[39m(\u001b[39m30\u001b[39m,\u001b[39m10\u001b[39m))\n\u001b[0;32m----> 9\u001b[0m sns\u001b[39m.\u001b[39;49mhistplot(data\u001b[39m=\u001b[39;49mx, y\u001b[39m=\u001b[39;49m\u001b[39m'\u001b[39;49m\u001b[39mHU\u001b[39;49m\u001b[39m'\u001b[39;49m, x\u001b[39m=\u001b[39;49m\u001b[39m'\u001b[39;49m\u001b[39mPatient\u001b[39;49m\u001b[39m'\u001b[39;49m, hue\u001b[39m=\u001b[39;49m\u001b[39m'\u001b[39;49m\u001b[39mPatient\u001b[39;49m\u001b[39m'\u001b[39;49m, weights\u001b[39m=\u001b[39;49m\u001b[39m'\u001b[39;49m\u001b[39mCount\u001b[39;49m\u001b[39m'\u001b[39;49m, legend\u001b[39m=\u001b[39;49m\u001b[39mFalse\u001b[39;49;00m, bins\u001b[39m=\u001b[39;49m\u001b[39m100\u001b[39;49m)\n\u001b[1;32m     10\u001b[0m plt\u001b[39m.\u001b[39mxlabel(\u001b[39m'\u001b[39m\u001b[39mPatient\u001b[39m\u001b[39m'\u001b[39m)\n\u001b[1;32m     11\u001b[0m plt\u001b[39m.\u001b[39mylabel(\u001b[39m'\u001b[39m\u001b[39mHU value\u001b[39m\u001b[39m'\u001b[39m)\n",
      "File \u001b[0;32m/opt/conda/lib/python3.10/site-packages/seaborn/distributions.py:1395\u001b[0m, in \u001b[0;36mhistplot\u001b[0;34m(data, x, y, hue, weights, stat, bins, binwidth, binrange, discrete, cumulative, common_bins, common_norm, multiple, element, fill, shrink, kde, kde_kws, line_kws, thresh, pthresh, pmax, cbar, cbar_ax, cbar_kws, palette, hue_order, hue_norm, color, log_scale, legend, ax, **kwargs)\u001b[0m\n\u001b[1;32m   1374\u001b[0m \u001b[39mdef\u001b[39;00m \u001b[39mhistplot\u001b[39m(\n\u001b[1;32m   1375\u001b[0m     data\u001b[39m=\u001b[39m\u001b[39mNone\u001b[39;00m, \u001b[39m*\u001b[39m,\n\u001b[1;32m   1376\u001b[0m     \u001b[39m# Vector variables\u001b[39;00m\n\u001b[0;32m   (...)\u001b[0m\n\u001b[1;32m   1392\u001b[0m     \u001b[39m*\u001b[39m\u001b[39m*\u001b[39mkwargs,\n\u001b[1;32m   1393\u001b[0m ):\n\u001b[0;32m-> 1395\u001b[0m     p \u001b[39m=\u001b[39m _DistributionPlotter(\n\u001b[1;32m   1396\u001b[0m         data\u001b[39m=\u001b[39;49mdata,\n\u001b[1;32m   1397\u001b[0m         variables\u001b[39m=\u001b[39;49m_DistributionPlotter\u001b[39m.\u001b[39;49mget_semantics(\u001b[39mlocals\u001b[39;49m())\n\u001b[1;32m   1398\u001b[0m     )\n\u001b[1;32m   1400\u001b[0m     p\u001b[39m.\u001b[39mmap_hue(palette\u001b[39m=\u001b[39mpalette, order\u001b[39m=\u001b[39mhue_order, norm\u001b[39m=\u001b[39mhue_norm)\n\u001b[1;32m   1402\u001b[0m     \u001b[39mif\u001b[39;00m ax \u001b[39mis\u001b[39;00m \u001b[39mNone\u001b[39;00m:\n",
      "File \u001b[0;32m/opt/conda/lib/python3.10/site-packages/seaborn/distributions.py:113\u001b[0m, in \u001b[0;36m_DistributionPlotter.__init__\u001b[0;34m(self, data, variables)\u001b[0m\n\u001b[1;32m    107\u001b[0m \u001b[39mdef\u001b[39;00m \u001b[39m__init__\u001b[39m(\n\u001b[1;32m    108\u001b[0m     \u001b[39mself\u001b[39m,\n\u001b[1;32m    109\u001b[0m     data\u001b[39m=\u001b[39m\u001b[39mNone\u001b[39;00m,\n\u001b[1;32m    110\u001b[0m     variables\u001b[39m=\u001b[39m{},\n\u001b[1;32m    111\u001b[0m ):\n\u001b[0;32m--> 113\u001b[0m     \u001b[39msuper\u001b[39;49m()\u001b[39m.\u001b[39;49m\u001b[39m__init__\u001b[39;49m(data\u001b[39m=\u001b[39;49mdata, variables\u001b[39m=\u001b[39;49mvariables)\n",
      "File \u001b[0;32m/opt/conda/lib/python3.10/site-packages/seaborn/_oldcore.py:640\u001b[0m, in \u001b[0;36mVectorPlotter.__init__\u001b[0;34m(self, data, variables)\u001b[0m\n\u001b[1;32m    635\u001b[0m \u001b[39m# var_ordered is relevant only for categorical axis variables, and may\u001b[39;00m\n\u001b[1;32m    636\u001b[0m \u001b[39m# be better handled by an internal axis information object that tracks\u001b[39;00m\n\u001b[1;32m    637\u001b[0m \u001b[39m# such information and is set up by the scale_* methods. The analogous\u001b[39;00m\n\u001b[1;32m    638\u001b[0m \u001b[39m# information for numeric axes would be information about log scales.\u001b[39;00m\n\u001b[1;32m    639\u001b[0m \u001b[39mself\u001b[39m\u001b[39m.\u001b[39m_var_ordered \u001b[39m=\u001b[39m {\u001b[39m\"\u001b[39m\u001b[39mx\u001b[39m\u001b[39m\"\u001b[39m: \u001b[39mFalse\u001b[39;00m, \u001b[39m\"\u001b[39m\u001b[39my\u001b[39m\u001b[39m\"\u001b[39m: \u001b[39mFalse\u001b[39;00m}  \u001b[39m# alt., used DefaultDict\u001b[39;00m\n\u001b[0;32m--> 640\u001b[0m \u001b[39mself\u001b[39;49m\u001b[39m.\u001b[39;49massign_variables(data, variables)\n\u001b[1;32m    642\u001b[0m \u001b[39mfor\u001b[39;00m var, \u001b[39mcls\u001b[39m \u001b[39min\u001b[39;00m \u001b[39mself\u001b[39m\u001b[39m.\u001b[39m_semantic_mappings\u001b[39m.\u001b[39mitems():\n\u001b[1;32m    643\u001b[0m \n\u001b[1;32m    644\u001b[0m     \u001b[39m# Create the mapping function\u001b[39;00m\n\u001b[1;32m    645\u001b[0m     map_func \u001b[39m=\u001b[39m partial(\u001b[39mcls\u001b[39m\u001b[39m.\u001b[39mmap, plotter\u001b[39m=\u001b[39m\u001b[39mself\u001b[39m)\n",
      "File \u001b[0;32m/opt/conda/lib/python3.10/site-packages/seaborn/_oldcore.py:701\u001b[0m, in \u001b[0;36mVectorPlotter.assign_variables\u001b[0;34m(self, data, variables)\u001b[0m\n\u001b[1;32m    699\u001b[0m \u001b[39melse\u001b[39;00m:\n\u001b[1;32m    700\u001b[0m     \u001b[39mself\u001b[39m\u001b[39m.\u001b[39minput_format \u001b[39m=\u001b[39m \u001b[39m\"\u001b[39m\u001b[39mlong\u001b[39m\u001b[39m\"\u001b[39m\n\u001b[0;32m--> 701\u001b[0m     plot_data, variables \u001b[39m=\u001b[39m \u001b[39mself\u001b[39;49m\u001b[39m.\u001b[39;49m_assign_variables_longform(\n\u001b[1;32m    702\u001b[0m         data, \u001b[39m*\u001b[39;49m\u001b[39m*\u001b[39;49mvariables,\n\u001b[1;32m    703\u001b[0m     )\n\u001b[1;32m    705\u001b[0m \u001b[39mself\u001b[39m\u001b[39m.\u001b[39mplot_data \u001b[39m=\u001b[39m plot_data\n\u001b[1;32m    706\u001b[0m \u001b[39mself\u001b[39m\u001b[39m.\u001b[39mvariables \u001b[39m=\u001b[39m variables\n",
      "File \u001b[0;32m/opt/conda/lib/python3.10/site-packages/seaborn/_oldcore.py:938\u001b[0m, in \u001b[0;36mVectorPlotter._assign_variables_longform\u001b[0;34m(self, data, **kwargs)\u001b[0m\n\u001b[1;32m    933\u001b[0m \u001b[39melif\u001b[39;00m \u001b[39misinstance\u001b[39m(val, (\u001b[39mstr\u001b[39m, \u001b[39mbytes\u001b[39m)):\n\u001b[1;32m    934\u001b[0m \n\u001b[1;32m    935\u001b[0m     \u001b[39m# This looks like a column name but we don't know what it means!\u001b[39;00m\n\u001b[1;32m    937\u001b[0m     err \u001b[39m=\u001b[39m \u001b[39mf\u001b[39m\u001b[39m\"\u001b[39m\u001b[39mCould not interpret value `\u001b[39m\u001b[39m{\u001b[39;00mval\u001b[39m}\u001b[39;00m\u001b[39m` for parameter `\u001b[39m\u001b[39m{\u001b[39;00mkey\u001b[39m}\u001b[39;00m\u001b[39m`\u001b[39m\u001b[39m\"\u001b[39m\n\u001b[0;32m--> 938\u001b[0m     \u001b[39mraise\u001b[39;00m \u001b[39mValueError\u001b[39;00m(err)\n\u001b[1;32m    940\u001b[0m \u001b[39melse\u001b[39;00m:\n\u001b[1;32m    941\u001b[0m \n\u001b[1;32m    942\u001b[0m     \u001b[39m# Otherwise, assume the value is itself data\u001b[39;00m\n\u001b[1;32m    943\u001b[0m \n\u001b[1;32m    944\u001b[0m     \u001b[39m# Raise when data object is present and a vector can't matched\u001b[39;00m\n\u001b[1;32m    945\u001b[0m     \u001b[39mif\u001b[39;00m \u001b[39misinstance\u001b[39m(data, pd\u001b[39m.\u001b[39mDataFrame) \u001b[39mand\u001b[39;00m \u001b[39mnot\u001b[39;00m \u001b[39misinstance\u001b[39m(val, pd\u001b[39m.\u001b[39mSeries):\n",
      "\u001b[0;31mValueError\u001b[0m: Could not interpret value `Patient` for parameter `x`"
     ]
    },
    {
     "data": {
      "text/plain": [
       "<Figure size 3000x1000 with 0 Axes>"
      ]
     },
     "metadata": {},
     "output_type": "display_data"
    }
   ],
   "source": [
    "import torch\n",
    "import pandas as pd\n",
    "import seaborn as sns\n",
    "import matplotlib.pyplot as plt\n",
    "\n",
    "x = torch.rand((10, 10)).softmax(-1).numpy()\n",
    "\n",
    "plt.figure(figsize=(30,10))\n",
    "sns.histplot(data=x, y='HU', x='Patient', hue='Patient', weights='Count', legend=False, bins=100)\n",
    "plt.xlabel('Patient')\n",
    "plt.ylabel('HU value')\n",
    "plt.xticks(fontsize=7)\n",
    "# plt.title(f'Histogram of HU values for {tag}')\n",
    "plt.show()\n"
   ]
  },
  {
   "cell_type": "code",
   "execution_count": 3,
   "metadata": {},
   "outputs": [
    {
     "name": "stderr",
     "output_type": "stream",
     "text": [
      "/home/user/.local/lib/python3.10/site-packages/ternary/plotting.py:148: UserWarning: No data for colormapping provided via 'c'. Parameters 'vmin', 'vmax' will be ignored\n",
      "  ax.scatter(xs, ys, vmin=vmin, vmax=vmax, **kwargs)\n"
     ]
    },
    {
     "data": {
      "image/png": "[encoded data removed]",
      "text/plain": [
       "<Figure size 640x480 with 1 Axes>"
      ]
     },
     "metadata": {},
     "output_type": "display_data"
    }
   ],
   "source": [
    "import ternary\n",
    "import matplotlib.pyplot as plt\n",
    "\n",
    "def plot_ternary_plot(probability_vectors, class_labels):\n",
    "    figure, tax = ternary.figure(scale=1.0)\n",
    "    tax.boundary(linewidth=2.0)\n",
    "    tax.gridlines(multiple=0.1, color=\"blue\")\n",
    "    \n",
    "    # Plot the probability vectors\n",
    "    for probability_vector in probability_vectors:\n",
    "        tax.scatter([probability_vector], marker='o', color='red', s=30)\n",
    "\n",
    "    # Set the labels\n",
    "    tax.left_axis_label(class_labels[0], fontsize=10, offset=0.12)\n",
    "    tax.right_axis_label(class_labels[1], fontsize=10, offset=0.12)\n",
    "    tax.bottom_axis_label(class_labels[2], fontsize=10, offset=0.12)\n",
    "\n",
    "    # Remove the default Matplotlib axis\n",
    "    tax.get_axes().axis('off')\n",
    "    tax.clear_matplotlib_ticks()\n",
    "\n",
    "    plt.show()\n",
    "\n",
    "# Example probability vectors\n",
    "probability_vectors = [\n",
    "    [0.2, 0.5, 0.3],\n",
    "    [0.7, 0.1, 0.2],\n",
    "    [0.3, 0.3, 0.4]\n",
    "]\n",
    "\n",
    "# Example class labels\n",
    "class_labels = ['Class A', 'Class B', 'Class C']\n",
    "\n",
    "plot_ternary_plot(probability_vectors, class_labels)\n"
   ]
  },
  {
   "cell_type": "code",
   "execution_count": 40,
   "metadata": {},
   "outputs": [
    {
     "data": {
      "image/png": "[encoded data removed]",
      "text/plain": [
       "<Figure size 300x300 with 1 Axes>"
      ]
     },
     "metadata": {},
     "output_type": "display_data"
    }
   ],
   "source": [
    "import numpy as np\n",
    "import matplotlib.pyplot as plt\n",
    "\n",
    "# Generate random data for the radar chart\n",
    "data = np.random.dirichlet(np.random.rand(10), size=5)\n",
    "\n",
    "# Create a list of angles that divide the circle into equal parts\n",
    "angles = np.linspace(0, 2*np.pi, data.shape[-1], endpoint=False)\n",
    "\n",
    "# Close the plot by adding the first angle at the end\n",
    "angles = np.concatenate((angles,[angles[0]]))\n",
    "\n",
    "# Create the polar plot\n",
    "fig = plt.figure(figsize=(3,3))\n",
    "ax = fig.add_subplot(111, polar=True)\n",
    "for x in data:\n",
    "    x = np.concatenate((x,[x[0]]))\n",
    "    ax.plot(angles, x, '-', linewidth=0)\n",
    "\n",
    "    # Fill the area inside the plot\n",
    "    ax.fill(angles, x, alpha=0.25, color='r')\n",
    "\n",
    "# Set the labels for each axis\n",
    "ax.set_thetagrids(np.degrees(angles[:-1]), [f\"C{i}\" for i in range(data.shape[-1])])\n",
    "\n",
    "# Set the limits for the plot\n",
    "ax.set_ylim(0, 1)\n",
    "\n",
    "# Add a title to the plot\n",
    "# plt.title('prob')\n",
    "\n",
    "# Show the plot\n",
    "plt.show()\n"
   ]
  },
  {
   "cell_type": "code",
   "execution_count": null,
   "metadata": {},
   "outputs": [],
   "source": [
    "from PIL import Image\n",
    "\n",
    "Image.Image\n",
    "\n",
    "from torchvision import transforms\n",
    "\n",
    "transforms.ToTensor"
   ]
  },
  {
   "cell_type": "code",
   "execution_count": 1,
   "metadata": {},
   "outputs": [],
   "source": [
    "import numpy as np\n",
    "\n",
    "x = np.array([(0.4914, 0.4822, 0.4465), (0.2023, 0.1994, 0.2010)])"
   ]
  },
  {
   "cell_type": "code",
   "execution_count": 2,
   "metadata": {},
   "outputs": [
    {
     "data": {
      "text/plain": [
       "array([[125.307 , 122.961 , 113.8575],\n",
       "       [ 51.5865,  50.847 ,  51.255 ]])"
      ]
     },
     "execution_count": 2,
     "metadata": {},
     "output_type": "execute_result"
    }
   ],
   "source": [
    "x * 255.0"
   ]
  },
  {
   "cell_type": "code",
   "execution_count": 6,
   "metadata": {},
   "outputs": [],
   "source": [
    "import torch\n",
    "from torchvision import transforms\n",
    "from torch import nn\n",
    "import torch.nn.functional as F\n",
    "\n",
    "autoaugment = torch.jit.script(transforms.AutoAugment(transforms.AutoAugmentPolicy.CIFAR10))\n",
    "x = torch.randint(0, 255, (16, 3, 32, 32), dtype=torch.uint8)"
   ]
  },
  {
   "cell_type": "code",
   "execution_count": 7,
   "metadata": {},
   "outputs": [],
   "source": [
    "transform_teacher = transforms.Compose([\n",
    "    torch.jit.script(transforms.AutoAugment(transforms.AutoAugmentPolicy.CIFAR10)),\n",
    "    transforms.Lambda(lambda x: x/255.0),\n",
    "    transforms.Normalize((0.4914, 0.4822, 0.4465), (0.2023, 0.1994, 0.2010)),\n",
    "    # transforms.Normalize([125.307 , 122.961 , 113.8575], [ 51.5865,  50.847 ,  51.255 ])\n",
    "])\n",
    "transform_student = transforms.Compose([\n",
    "    transforms.RandomCrop(32, padding=[4,4]),\n",
    "    transforms.RandomHorizontalFlip(),\n",
    "    transforms.Lambda(lambda x: x/255.0),\n",
    "    transforms.Normalize((0.4914, 0.4822, 0.4465), (0.2023, 0.1994, 0.2010)),\n",
    "    # transforms.Normalize([125.307 , 122.961 , 113.8575], [ 51.5865,  50.847 ,  51.255 ])\n",
    "])\n"
   ]
  },
  {
   "cell_type": "code",
   "execution_count": 8,
   "metadata": {},
   "outputs": [
    {
     "ename": "RuntimeError",
     "evalue": "The following operation failed in the TorchScript interpreter.\nTraceback of TorchScript (most recent call last):\n  File \"/opt/conda/lib/python3.10/site-packages/torch/nn/modules/container.py\", line 217, in forward\n    def forward(self, input):\n        for module in self:\n            input = module(input)\n                    ~~~~~~ <--- HERE\n        return input\n  File \"/tmp/ipykernel_55669/1965040381.py\", line 22, in forward\n        shape = x.size()\n        x = x.view(-1, shape[-3], shape[-2], shape[-1])\n        x = (x - self.mean[None, ...]) / self.std[None, ...]\n             ~~~~~~~~~~~~~~~~~~~~~~~~ <--- HERE\n        x = x.view(shape)\n        return x\nRuntimeError: The size of tensor a (32) must match the size of tensor b (3) at non-singleton dimension 3\n",
     "output_type": "error",
     "traceback": [
      "\u001b[0;31m---------------------------------------------------------------------------\u001b[0m",
      "\u001b[0;31mRuntimeError\u001b[0m                              Traceback (most recent call last)",
      "Cell \u001b[0;32mIn[8], line 34\u001b[0m\n\u001b[1;32m     24\u001b[0m         \u001b[39mreturn\u001b[39;00m x\n\u001b[1;32m     26\u001b[0m transform_teacher \u001b[39m=\u001b[39m nn\u001b[39m.\u001b[39mSequential(\n\u001b[1;32m     27\u001b[0m     transforms\u001b[39m.\u001b[39mAutoAugment(transforms\u001b[39m.\u001b[39mAutoAugmentPolicy\u001b[39m.\u001b[39mCIFAR10),\n\u001b[1;32m     28\u001b[0m     \u001b[39m# transforms.Lambda(lambda x: x/255.0),\u001b[39;00m\n\u001b[0;32m   (...)\u001b[0m\n\u001b[1;32m     31\u001b[0m     NNormalize((\u001b[39m0.4914\u001b[39m, \u001b[39m0.4822\u001b[39m, \u001b[39m0.4465\u001b[39m), (\u001b[39m0.2023\u001b[39m, \u001b[39m0.1994\u001b[39m, \u001b[39m0.2010\u001b[39m)),\n\u001b[1;32m     32\u001b[0m )\n\u001b[0;32m---> 34\u001b[0m torch\u001b[39m.\u001b[39;49mjit\u001b[39m.\u001b[39;49mscript(transform_teacher)(x)\n",
      "File \u001b[0;32m/opt/conda/lib/python3.10/site-packages/torch/nn/modules/module.py:1501\u001b[0m, in \u001b[0;36mModule._call_impl\u001b[0;34m(self, *args, **kwargs)\u001b[0m\n\u001b[1;32m   1496\u001b[0m \u001b[39m# If we don't have any hooks, we want to skip the rest of the logic in\u001b[39;00m\n\u001b[1;32m   1497\u001b[0m \u001b[39m# this function, and just call forward.\u001b[39;00m\n\u001b[1;32m   1498\u001b[0m \u001b[39mif\u001b[39;00m \u001b[39mnot\u001b[39;00m (\u001b[39mself\u001b[39m\u001b[39m.\u001b[39m_backward_hooks \u001b[39mor\u001b[39;00m \u001b[39mself\u001b[39m\u001b[39m.\u001b[39m_backward_pre_hooks \u001b[39mor\u001b[39;00m \u001b[39mself\u001b[39m\u001b[39m.\u001b[39m_forward_hooks \u001b[39mor\u001b[39;00m \u001b[39mself\u001b[39m\u001b[39m.\u001b[39m_forward_pre_hooks\n\u001b[1;32m   1499\u001b[0m         \u001b[39mor\u001b[39;00m _global_backward_pre_hooks \u001b[39mor\u001b[39;00m _global_backward_hooks\n\u001b[1;32m   1500\u001b[0m         \u001b[39mor\u001b[39;00m _global_forward_hooks \u001b[39mor\u001b[39;00m _global_forward_pre_hooks):\n\u001b[0;32m-> 1501\u001b[0m     \u001b[39mreturn\u001b[39;00m forward_call(\u001b[39m*\u001b[39;49margs, \u001b[39m*\u001b[39;49m\u001b[39m*\u001b[39;49mkwargs)\n\u001b[1;32m   1502\u001b[0m \u001b[39m# Do not call functions when jit is used\u001b[39;00m\n\u001b[1;32m   1503\u001b[0m full_backward_hooks, non_full_backward_hooks \u001b[39m=\u001b[39m [], []\n",
      "\u001b[0;31mRuntimeError\u001b[0m: The following operation failed in the TorchScript interpreter.\nTraceback of TorchScript (most recent call last):\n  File \"/opt/conda/lib/python3.10/site-packages/torch/nn/modules/container.py\", line 217, in forward\n    def forward(self, input):\n        for module in self:\n            input = module(input)\n                    ~~~~~~ <--- HERE\n        return input\n  File \"/tmp/ipykernel_55669/1965040381.py\", line 22, in forward\n        shape = x.size()\n        x = x.view(-1, shape[-3], shape[-2], shape[-1])\n        x = (x - self.mean[None, ...]) / self.std[None, ...]\n             ~~~~~~~~~~~~~~~~~~~~~~~~ <--- HERE\n        x = x.view(shape)\n        return x\nRuntimeError: The size of tensor a (32) must match the size of tensor b (3) at non-singleton dimension 3\n"
     ]
    }
   ],
   "source": [
    "\n",
    "\n",
    "# transform_teacher = transforms.Compose([\n",
    "#     transforms.AutoAugment(transforms.AutoAugmentPolicy.CIFAR10),\n",
    "#     # transforms.Lambda(lambda x: x/255.0),\n",
    "#     # transforms.Normalize((0.4914, 0.4822, 0.4465), (0.2023, 0.1994, 0.2010)),\n",
    "#     transforms.Normalize([125.307 , 122.961 , 113.8575], [ 51.5865,  50.847 ,  51.255 ])\n",
    "# ])\n",
    "\n",
    "class NNormalize(nn.Module):\n",
    "    def __init__(self, mean, std):\n",
    "        super().__init__()\n",
    "        self.register_buffer('mean', torch.tensor(mean))\n",
    "        self.register_buffer('std', torch.tensor(std))\n",
    "\n",
    "    def forward(self, x):\n",
    "        x = x.to(torch.float32).div(255.0)\n",
    "        # return F.normalize(x.div(255.0), self.mean, self.std, self.inplace)\n",
    "        shape = x.size()\n",
    "        x = x.view(-1, shape[-3], shape[-2], shape[-1])\n",
    "        x = (x - self.mean[None, ...]) / self.std[None, ...]\n",
    "        x = x.view(shape)\n",
    "        return x\n",
    "\n",
    "transform_teacher = nn.Sequential(\n",
    "    transforms.AutoAugment(transforms.AutoAugmentPolicy.CIFAR10),\n",
    "    # transforms.Lambda(lambda x: x/255.0),\n",
    "    # transforms.Normalize((0.4914, 0.4822, 0.4465), (0.2023, 0.1994, 0.2010)),\n",
    "    # transforms.Normalize([125.307 , 122.961 , 113.8575], [ 51.5865,  50.847 ,  51.255 ])\n",
    "    NNormalize((0.4914, 0.4822, 0.4465), (0.2023, 0.1994, 0.2010)),\n",
    ")\n",
    "\n",
    "torch.jit.script(transform_teacher)(x)"
   ]
  },
  {
   "cell_type": "code",
   "execution_count": null,
   "metadata": {},
   "outputs": [
    {
     "ename": "NameError",
     "evalue": "name 'torch' is not defined",
     "output_type": "error",
     "traceback": [
      "\u001b[0;31m---------------------------------------------------------------------------\u001b[0m",
      "\u001b[0;31mNameError\u001b[0m                                 Traceback (most recent call last)",
      "Cell \u001b[0;32mIn[4], line 1\u001b[0m\n\u001b[0;32m----> 1\u001b[0m torch\u001b[39m.\u001b[39mjit\u001b[39m.\u001b[39mtrace(transforms\u001b[39m.\u001b[39mNormalize((\u001b[39m0.4914\u001b[39m, \u001b[39m0.4822\u001b[39m, \u001b[39m0.4465\u001b[39m), (\u001b[39m0.2023\u001b[39m, \u001b[39m0.1994\u001b[39m, \u001b[39m0.2010\u001b[39m)), x\u001b[39m.\u001b[39mfloat())\n",
      "\u001b[0;31mNameError\u001b[0m: name 'torch' is not defined"
     ]
    }
   ],
   "source": [
    "torch.jit.trace(transforms.Normalize((0.4914, 0.4822, 0.4465), (0.2023, 0.1994, 0.2010)), x.float())"
   ]
  },
  {
   "cell_type": "code",
   "execution_count": 1,
   "metadata": {},
   "outputs": [
    {
     "name": "stderr",
     "output_type": "stream",
     "text": [
      "/opt/conda/lib/python3.10/site-packages/torch/_inductor/compile_fx.py:90: UserWarning: TensorFloat32 tensor cores for float32 matrix multiplication available but not enabled. Consider setting `torch.set_float32_matmul_precision('high')` for better performance.\n",
      "  warnings.warn(\n",
      "[2023-05-09 10:26:45,550] torch._dynamo.convert_frame: [WARNING] torch._dynamo hit config.cache_size_limit (64)\n",
      "   function: '<graph break in _scale_channel>' (/opt/conda/lib/python3.10/site-packages/torchvision/transforms/_functional_tensor.py:873)\n",
      "   reasons:  tensor '___stack0' size mismatch at index 0. expected 234, actual 180\n",
      "to diagnose recompilation issues, see https://pytorch.org/docs/master/dynamo/troubleshooting.html.\n"
     ]
    },
    {
     "name": "stdout",
     "output_type": "stream",
     "text": [
      "tensor([[[[-1.2660, -0.0060, -0.5681,  ..., -1.9832, -1.4211, -1.7312],\n",
      "          [-0.0447, -1.5761, -0.4518,  ..., -2.1964, -1.2078, -1.3823],\n",
      "          [-0.2967, -0.1998, -2.0995,  ...,  0.2461, -1.6149, -0.7620],\n",
      "          ...,\n",
      "          [-2.1771, -2.1964, -0.9558,  ...,  0.0910, -1.9832, -0.7232],\n",
      "          [-1.3629, -1.7700, -1.0915,  ..., -0.5681, -1.7312, -0.7038],\n",
      "          [-1.7894, -0.9946, -0.3743,  ..., -0.9946, -0.6650, -0.6457]],\n",
      "\n",
      "         [[-2.3003, -1.5726, -2.1036,  ..., -1.7692, -0.2746, -1.7299],\n",
      "          [-0.7662, -1.3956, -1.4349,  ..., -1.3956, -2.0446, -2.1429],\n",
      "          [-0.9039, -1.8086, -0.6286,  ..., -0.5499, -1.9659, -0.9432],\n",
      "          ...,\n",
      "          [-0.7859, -0.2942, -2.2609,  ..., -0.8252, -1.2972, -0.2942],\n",
      "          [-1.0022, -1.7299, -0.5106,  ..., -1.1596,  0.2958, -1.7889],\n",
      "          [-2.3789, -0.2746, -2.3593,  ..., -0.4319, -0.9826,  0.3744]],\n",
      "\n",
      "         [[-0.5435, -1.4020, -2.0068,  ...,  0.1589, -0.9727, -2.2019],\n",
      "          [-0.4655, -2.1824, -0.1533,  ..., -2.0848, -0.0948, -0.4655],\n",
      "          [-2.0848,  0.2174, -0.9727,  ..., -0.3484, -0.4655, -0.6606],\n",
      "          ...,\n",
      "          [-1.1873, -2.2019, -0.6020,  ..., -1.7531,  0.4320, -1.5190],\n",
      "          [-0.9142, -0.8557, -1.4605,  ...,  0.1394, -0.6020, -0.3679],\n",
      "          [-1.6361, -1.7727, -0.6411,  ..., -1.8117, -2.1238, -1.3239]]],\n",
      "\n",
      "\n",
      "        [[[-2.3128, -1.7312, -0.3936,  ..., -2.1189, -1.1109, -1.2854],\n",
      "          [-1.1497, -0.4518, -2.2158,  ...,  0.1685, -1.1497, -0.3743],\n",
      "          [-0.8783, -2.0801, -1.9444,  ..., -1.3047, -0.5100, -0.6069],\n",
      "          ...,\n",
      "          [-1.9444, -0.4130, -1.4017,  ..., -1.7700, -0.8589, -1.2854],\n",
      "          [-0.3161, -0.9946, -1.2078,  ..., -1.2272, -1.0721, -0.2967],\n",
      "          [-1.1109, -0.2773, -1.0527,  ..., -1.8863, -0.5487, -0.5875]],\n",
      "\n",
      "         [[-0.7072, -0.9629, -0.3532,  ..., -1.7299,  0.1778, -1.3956],\n",
      "          [-0.4122, -1.1792, -0.5106,  ..., -0.4909, -0.1959, -1.3366],\n",
      "          [-1.9069, -2.0446, -0.0189,  ..., -1.9463, -1.7299, -0.8252],\n",
      "          ...,\n",
      "          [-1.0809, -0.3729, -2.0249,  ..., -1.6316, -1.0416, -1.7692],\n",
      "          [-1.4939, -1.1792, -1.5529,  ..., -1.0416, -0.0976, -2.2413],\n",
      "          [-1.3366,  0.0401, -1.7102,  ..., -1.9463, -2.2806, -2.1823]],\n",
      "\n",
      "         [[-1.0703, -0.0167, -1.9873,  ..., -0.0753, -1.0118, -1.2849],\n",
      "          [-1.9287, -0.0753, -0.9142,  ..., -0.9337, -0.6801, -0.6215],\n",
      "          [-2.0653, -0.5630, -1.6556,  ..., -1.8897, -0.2899, -2.1043],\n",
      "          ...,\n",
      "          [-2.1043, -1.3825, -1.6751,  ...,  0.1784, -0.9727, -1.1678],\n",
      "          [-2.0653, -0.1923, -1.0508,  ..., -1.4020,  0.0223, -0.2899],\n",
      "          [-0.7191, -1.4800, -0.6996,  ..., -2.1043, -1.4800, -2.0653]]],\n",
      "\n",
      "\n",
      "        [[[-0.4518, -0.7038, -1.4211,  ..., -2.3515, -0.9558, -0.8007],\n",
      "          [-1.5180, -1.1690, -1.8281,  ..., -0.2580, -2.1189, -1.8475],\n",
      "          [-1.3241, -0.8007, -1.2660,  ..., -0.7038, -0.3355, -2.1189],\n",
      "          ...,\n",
      "          [-0.4518, -1.4598, -0.3355,  ..., -0.0447, -1.6343, -1.4404],\n",
      "          [-1.5567, -1.9832, -0.9170,  ..., -2.0220, -0.6650, -2.0026],\n",
      "          [-1.2854, -0.0447, -2.0801,  ..., -0.9364, -1.2660, -1.4404]],\n",
      "\n",
      "         [[-0.2746, -0.8842, -0.6482,  ..., -0.8252, -2.2413,  0.1581],\n",
      "          [-1.8086, -1.1989, -0.9629,  ..., -1.4742, -0.7466, -1.5726],\n",
      "          [ 0.1581, -1.0416, -0.8842,  ..., -2.1036, -1.8479, -0.4712],\n",
      "          ...,\n",
      "          [-0.0976, -1.7889, -0.5106,  ...,  0.0204, -0.5499, -0.9236],\n",
      "          [-1.4742, -1.4349, -0.4516,  ..., -1.2972, -0.0582, -1.8676],\n",
      "          [-1.1006, -1.9266, -1.1792,  ..., -0.5106, -0.9432, -2.3003]],\n",
      "\n",
      "         [[-2.2019, -1.4410, -1.1093,  ..., -0.2313, -0.8557, -1.5385],\n",
      "          [-1.8897,  0.2954, -1.0118,  ...,  0.1003,  0.0808, -0.3484],\n",
      "          [-1.8897, -0.0948, -1.3434,  ..., -1.4215, -0.1728, -0.5435],\n",
      "          ...,\n",
      "          [-0.1923, -1.9092,  0.3345,  ..., -2.2019, -1.5385, -1.9873],\n",
      "          [-0.7971, -0.6996, -2.2019,  ..., -1.2849, -1.3434,  0.0418],\n",
      "          [-1.1093, -1.6361, -1.9678,  ..., -1.7727, -1.3434, -2.2214]]],\n",
      "\n",
      "\n",
      "        ...,\n",
      "\n",
      "\n",
      "        [[[-1.6731, -0.8783, -0.4130,  ..., -1.4598,  0.3236,  0.0134],\n",
      "          [-2.1383, -1.2854, -2.0220,  ..., -2.2740, -0.7232, -1.5955],\n",
      "          [-0.2580, -0.5293,  0.3042,  ..., -1.6537, -0.1029, -0.4906],\n",
      "          ...,\n",
      "          [-0.0835, -1.6149, -1.7118,  ..., -2.0801, -0.7232,  0.3236],\n",
      "          [ 0.2848, -0.5293, -1.4986,  ..., -0.4518,  0.3042, -1.4017],\n",
      "          [-1.3047, -1.9638, -1.4792,  ..., -0.2773, -1.2854,  0.2654]],\n",
      "\n",
      "         [[-1.8086, -0.9236, -2.1036,  ..., -1.3366, -1.7692, -1.0219],\n",
      "          [-0.4319, -2.1429, -0.9039,  ..., -0.8449, -1.5726, -0.2942],\n",
      "          [-0.4516, -0.1172, -0.1959,  ...,  0.3154, -1.1596, -1.8872],\n",
      "          ...,\n",
      "          [-1.6512, -1.5332,  0.2958,  ..., -1.9463,  0.3351, -1.8282],\n",
      "          [-0.7859, -1.7102, -1.5529,  ..., -2.3396, -0.0779, -2.0053],\n",
      "          [-1.8872, -0.6876, -0.6679,  ..., -2.3003, -0.0189, -2.2609]],\n",
      "\n",
      "         [[-1.4800, -2.1043, -0.3289,  ..., -2.1043, -0.3289, -0.5825],\n",
      "          [-0.2118, -0.6215, -1.6946,  ..., -0.6996, -1.0313, -0.6020],\n",
      "          [-1.3825, -1.5580, -0.5825,  ..., -0.6606, -0.6801, -0.6606],\n",
      "          ...,\n",
      "          [-0.8557,  0.2564, -0.7971,  ..., -0.6215, -0.1728, -1.5971],\n",
      "          [-0.3094, -2.0653,  0.1784,  ...,  0.0418, -0.0753, -1.8702],\n",
      "          [-1.8312, -1.7922,  0.4125,  ..., -0.8362, -1.8312, -2.0263]]],\n",
      "\n",
      "\n",
      "        [[[-1.7118, -0.7426, -1.6343,  ..., -0.4906, -1.3629, -1.9444],\n",
      "          [-1.5374, -0.7232, -0.5293,  ..., -1.2466, -1.8475, -2.2546],\n",
      "          [-1.4792, -0.1029, -1.0915,  ..., -0.3355, -1.0527, -2.4291],\n",
      "          ...,\n",
      "          [-0.8589, -1.3047, -1.2078,  ..., -0.6069, -0.9752, -1.2078],\n",
      "          [-2.3128, -1.9638, -1.8475,  ..., -0.8977, -0.1416, -0.4906],\n",
      "          [-2.3321, -1.8475, -1.2272,  ..., -0.8007, -0.4712, -0.9752]],\n",
      "\n",
      "         [[-2.3396, -0.8252, -1.3759,  ...,  0.3154, -1.9463, -1.6512],\n",
      "          [-0.9629, -1.0809, -0.5106,  ..., -1.2186, -1.7496, -1.5726],\n",
      "          [-0.4122, -0.5696, -1.2186,  ..., -0.4516, -1.6512, -1.7496],\n",
      "          ...,\n",
      "          [-1.5726, -1.3956, -0.2746,  ..., -2.1036, -2.1626, -0.2549],\n",
      "          [-2.3199, -0.9826, -2.0446,  ..., -1.1596, -1.3366, -1.7692],\n",
      "          [-0.8646, -0.6482, -0.9236,  ..., -1.0416, -1.8086, -0.8252]],\n",
      "\n",
      "         [[ 0.4320, -2.1824, -1.8897,  ..., -2.0653, -0.3094, -1.1678],\n",
      "          [-1.0898, -1.6946, -1.3629,  ..., -1.6556, -1.7336, -0.8167],\n",
      "          [-1.8897, -0.3874, -0.1338,  ..., -1.3629, -0.3679, -1.5776],\n",
      "          ...,\n",
      "          [-0.6996, -1.8507, -1.9287,  ..., -0.8557, -0.6215, -0.0362],\n",
      "          [-0.2899, -1.9873, -0.4655,  ..., -1.4410, -1.7727, -1.3044],\n",
      "          [-0.9142, -1.2849, -1.7531,  ..., -0.7971, -0.2313, -0.6801]]],\n",
      "\n",
      "\n",
      "        [[[-0.7232, -1.1497, -1.1884,  ..., -1.8669, -0.4518, -1.7700],\n",
      "          [-0.0641, -1.6343, -0.4518,  ..., -1.4792, -1.1497,  0.2073],\n",
      "          [-0.3549, -2.0026, -1.8087,  ..., -1.1690, -2.2740, -0.5100],\n",
      "          ...,\n",
      "          [-2.3128, -1.0721, -1.6537,  ..., -1.5567, -1.9057, -0.7813],\n",
      "          [-0.9364, -0.9170, -0.0253,  ..., -2.2934,  0.2267,  0.1685],\n",
      "          [-0.9946, -0.3936, -0.4324,  ...,  0.1685, -1.8281, -2.2546]],\n",
      "\n",
      "         [[-1.2972, -1.1202, -2.2216,  ..., -0.5499, -2.1626, -1.1596],\n",
      "          [-0.3139, -0.9039, -0.1369,  ..., -1.7496, -1.2972, -0.8056],\n",
      "          [-2.3003, -1.6316, -0.8056,  ...,  0.2761, -2.2806, -0.3139],\n",
      "          ...,\n",
      "          [-0.0582, -2.1823, -0.7662,  ..., -0.7859, -0.9432, -1.6709],\n",
      "          [-0.4319, -1.3562, -0.2746,  ..., -0.4516, -1.8872, -1.1006],\n",
      "          [-0.3532, -0.1959, -1.0416,  ..., -2.0446, -1.0612, -1.9856]],\n",
      "\n",
      "         [[-0.3289, -1.9482, -0.1143,  ..., -1.4995, -1.5580, -1.1678],\n",
      "          [-1.7727, -0.5630,  0.1784,  ..., -0.7581,  0.0418,  0.5100],\n",
      "          [-0.6215, -0.6996, -0.3094,  ...,  0.3930, -1.5190, -0.4850],\n",
      "          ...,\n",
      "          [ 0.2564,  0.3930, -0.4655,  ..., -0.4850, -1.2654, -0.8362],\n",
      "          [-1.2264, -2.0848, -1.2849,  ..., -0.5240, -0.9727, -0.4655],\n",
      "          [-0.6801, -1.4605, -1.2849,  ..., -1.3825, -1.1678, -0.5045]]]],\n",
      "       device='cuda:0')\n"
     ]
    }
   ],
   "source": [
    "import os\n",
    "os.environ['CUDA_VISIBLE_DEVICES'] = '2'\n",
    "import torch\n",
    "from torchvision import transforms\n",
    "from torch import nn\n",
    "import torch.nn.functional as F\n",
    "\n",
    "class LambdaLayer(nn.Module):\n",
    "    def __init__(self, func):\n",
    "        super().__init__()\n",
    "        self.func = func\n",
    "\n",
    "    def forward(self, x):\n",
    "        return self.func(x)\n",
    "\n",
    "\n",
    "transform_teacher = nn.Sequential(\n",
    "    transforms.AutoAugment(transforms.AutoAugmentPolicy.CIFAR10),\n",
    "    LambdaLayer(lambda x: x/255.0),\n",
    "    transforms.Normalize((0.4914, 0.4822, 0.4465), (0.2023, 0.1994, 0.2010)),\n",
    ")\n",
    "\n",
    "transform = torch.compile(transform_teacher)\n",
    "\n",
    "for _ in range(100):\n",
    "    x = torch.randint(0, 255, (128, 3, 32, 32), dtype=torch.uint8, device='cuda:0')\n",
    "    y = transform(x)\n",
    "print(y)"
   ]
  },
  {
   "cell_type": "code",
   "execution_count": 12,
   "metadata": {},
   "outputs": [
    {
     "name": "stdout",
     "output_type": "stream",
     "text": [
      "woo\n"
     ]
    },
    {
     "data": {
      "text/plain": [
       "6"
      ]
     },
     "execution_count": 12,
     "metadata": {},
     "output_type": "execute_result"
    }
   ],
   "source": [
    "import torch\n",
    "import torch._dynamo as dynamo\n",
    "torch._dynamo.config.verbose=True\n",
    "\n",
    "def toy_example(a, b):\n",
    "    x = a / (torch.abs(a) + 1)\n",
    "    print(\"woo\")\n",
    "    if b.sum() < 0:\n",
    "        b = b * -1\n",
    "    return x * b\n",
    "\n",
    "\n",
    "len(\n",
    "    dynamo.explain(toy_example, torch.randn(10), torch.randn(10))\n",
    ")"
   ]
  },
  {
   "cell_type": "code",
   "execution_count": 13,
   "metadata": {},
   "outputs": [
    {
     "name": "stdout",
     "output_type": "stream",
     "text": [
      "woo\n"
     ]
    }
   ],
   "source": [
    "output = dynamo.explain(toy_example, torch.randn(10), torch.randn(10))"
   ]
  },
  {
   "cell_type": "code",
   "execution_count": 14,
   "metadata": {},
   "outputs": [
    {
     "data": {
      "text/plain": [
       "'Dynamo produced 3 graphs with 2 graph break and 6 ops'"
      ]
     },
     "execution_count": 14,
     "metadata": {},
     "output_type": "execute_result"
    }
   ],
   "source": [
    "output[0]"
   ]
  },
  {
   "cell_type": "code",
   "execution_count": 11,
   "metadata": {},
   "outputs": [
    {
     "data": {
      "text/plain": [
       "'2.0.0'"
      ]
     },
     "execution_count": 11,
     "metadata": {},
     "output_type": "execute_result"
    }
   ],
   "source": [
    "torch.__version__"
   ]
  },
  {
   "cell_type": "code",
   "execution_count": 17,
   "metadata": {},
   "outputs": [],
   "source": [
    "from models import resnet18\n",
    "\n",
    "model = resnet18(in_channels=3)\n",
    "model = torch.compile(model)"
   ]
  },
  {
   "cell_type": "code",
   "execution_count": 18,
   "metadata": {},
   "outputs": [
    {
     "ename": "KeyboardInterrupt",
     "evalue": "",
     "output_type": "error",
     "traceback": [
      "\u001b[0;31m---------------------------------------------------------------------------\u001b[0m",
      "\u001b[0;31mKeyboardInterrupt\u001b[0m                         Traceback (most recent call last)",
      "Cell \u001b[0;32mIn[18], line 2\u001b[0m\n\u001b[1;32m      1\u001b[0m \u001b[39mfor\u001b[39;00m _ \u001b[39min\u001b[39;00m \u001b[39mrange\u001b[39m(\u001b[39m100\u001b[39m):\n\u001b[0;32m----> 2\u001b[0m     model(torch\u001b[39m.\u001b[39;49mrandn(\u001b[39m128\u001b[39;49m, \u001b[39m3\u001b[39;49m, \u001b[39m32\u001b[39;49m, \u001b[39m32\u001b[39;49m))\n",
      "File \u001b[0;32m/opt/conda/lib/python3.10/site-packages/torch/nn/modules/module.py:1501\u001b[0m, in \u001b[0;36mModule._call_impl\u001b[0;34m(self, *args, **kwargs)\u001b[0m\n\u001b[1;32m   1496\u001b[0m \u001b[39m# If we don't have any hooks, we want to skip the rest of the logic in\u001b[39;00m\n\u001b[1;32m   1497\u001b[0m \u001b[39m# this function, and just call forward.\u001b[39;00m\n\u001b[1;32m   1498\u001b[0m \u001b[39mif\u001b[39;00m \u001b[39mnot\u001b[39;00m (\u001b[39mself\u001b[39m\u001b[39m.\u001b[39m_backward_hooks \u001b[39mor\u001b[39;00m \u001b[39mself\u001b[39m\u001b[39m.\u001b[39m_backward_pre_hooks \u001b[39mor\u001b[39;00m \u001b[39mself\u001b[39m\u001b[39m.\u001b[39m_forward_hooks \u001b[39mor\u001b[39;00m \u001b[39mself\u001b[39m\u001b[39m.\u001b[39m_forward_pre_hooks\n\u001b[1;32m   1499\u001b[0m         \u001b[39mor\u001b[39;00m _global_backward_pre_hooks \u001b[39mor\u001b[39;00m _global_backward_hooks\n\u001b[1;32m   1500\u001b[0m         \u001b[39mor\u001b[39;00m _global_forward_hooks \u001b[39mor\u001b[39;00m _global_forward_pre_hooks):\n\u001b[0;32m-> 1501\u001b[0m     \u001b[39mreturn\u001b[39;00m forward_call(\u001b[39m*\u001b[39;49margs, \u001b[39m*\u001b[39;49m\u001b[39m*\u001b[39;49mkwargs)\n\u001b[1;32m   1502\u001b[0m \u001b[39m# Do not call functions when jit is used\u001b[39;00m\n\u001b[1;32m   1503\u001b[0m full_backward_hooks, non_full_backward_hooks \u001b[39m=\u001b[39m [], []\n",
      "File \u001b[0;32m/opt/conda/lib/python3.10/site-packages/torch/_dynamo/eval_frame.py:82\u001b[0m, in \u001b[0;36mOptimizedModule.forward\u001b[0;34m(self, *args, **kwargs)\u001b[0m\n\u001b[1;32m     81\u001b[0m \u001b[39mdef\u001b[39;00m \u001b[39mforward\u001b[39m(\u001b[39mself\u001b[39m, \u001b[39m*\u001b[39margs, \u001b[39m*\u001b[39m\u001b[39m*\u001b[39mkwargs):\n\u001b[0;32m---> 82\u001b[0m     \u001b[39mreturn\u001b[39;00m \u001b[39mself\u001b[39;49m\u001b[39m.\u001b[39;49mdynamo_ctx(\u001b[39mself\u001b[39;49m\u001b[39m.\u001b[39;49m_orig_mod\u001b[39m.\u001b[39;49mforward)(\u001b[39m*\u001b[39;49margs, \u001b[39m*\u001b[39;49m\u001b[39m*\u001b[39;49mkwargs)\n",
      "File \u001b[0;32m/opt/conda/lib/python3.10/site-packages/torch/_dynamo/eval_frame.py:209\u001b[0m, in \u001b[0;36m_TorchDynamoContext.__call__.<locals>._fn\u001b[0;34m(*args, **kwargs)\u001b[0m\n\u001b[1;32m    207\u001b[0m dynamic_ctx\u001b[39m.\u001b[39m\u001b[39m__enter__\u001b[39m()\n\u001b[1;32m    208\u001b[0m \u001b[39mtry\u001b[39;00m:\n\u001b[0;32m--> 209\u001b[0m     \u001b[39mreturn\u001b[39;00m fn(\u001b[39m*\u001b[39;49margs, \u001b[39m*\u001b[39;49m\u001b[39m*\u001b[39;49mkwargs)\n\u001b[1;32m    210\u001b[0m \u001b[39mfinally\u001b[39;00m:\n\u001b[1;32m    211\u001b[0m     set_eval_frame(prior)\n",
      "File \u001b[0;32m/opt/conda/lib/python3.10/site-packages/torch/_dynamo/eval_frame.py:337\u001b[0m, in \u001b[0;36mcatch_errors_wrapper.<locals>.catch_errors\u001b[0;34m(frame, cache_size)\u001b[0m\n\u001b[1;32m    334\u001b[0m             \u001b[39mreturn\u001b[39;00m hijacked_callback(frame, cache_size, hooks)\n\u001b[1;32m    336\u001b[0m \u001b[39mwith\u001b[39;00m compile_lock:\n\u001b[0;32m--> 337\u001b[0m     \u001b[39mreturn\u001b[39;00m callback(frame, cache_size, hooks)\n",
      "File \u001b[0;32m/opt/conda/lib/python3.10/site-packages/torch/_dynamo/convert_frame.py:404\u001b[0m, in \u001b[0;36mconvert_frame.<locals>._convert_frame\u001b[0;34m(frame, cache_size, hooks)\u001b[0m\n\u001b[1;32m    402\u001b[0m counters[\u001b[39m\"\u001b[39m\u001b[39mframes\u001b[39m\u001b[39m\"\u001b[39m][\u001b[39m\"\u001b[39m\u001b[39mtotal\u001b[39m\u001b[39m\"\u001b[39m] \u001b[39m+\u001b[39m\u001b[39m=\u001b[39m \u001b[39m1\u001b[39m\n\u001b[1;32m    403\u001b[0m \u001b[39mtry\u001b[39;00m:\n\u001b[0;32m--> 404\u001b[0m     result \u001b[39m=\u001b[39m inner_convert(frame, cache_size, hooks)\n\u001b[1;32m    405\u001b[0m     counters[\u001b[39m\"\u001b[39m\u001b[39mframes\u001b[39m\u001b[39m\"\u001b[39m][\u001b[39m\"\u001b[39m\u001b[39mok\u001b[39m\u001b[39m\"\u001b[39m] \u001b[39m+\u001b[39m\u001b[39m=\u001b[39m \u001b[39m1\u001b[39m\n\u001b[1;32m    406\u001b[0m     \u001b[39mreturn\u001b[39;00m result\n",
      "File \u001b[0;32m/opt/conda/lib/python3.10/site-packages/torch/_dynamo/convert_frame.py:104\u001b[0m, in \u001b[0;36mwrap_convert_context.<locals>._fn\u001b[0;34m(*args, **kwargs)\u001b[0m\n\u001b[1;32m    102\u001b[0m torch\u001b[39m.\u001b[39mfx\u001b[39m.\u001b[39mgraph_module\u001b[39m.\u001b[39m_forward_from_src \u001b[39m=\u001b[39m fx_forward_from_src_skip_result\n\u001b[1;32m    103\u001b[0m \u001b[39mtry\u001b[39;00m:\n\u001b[0;32m--> 104\u001b[0m     \u001b[39mreturn\u001b[39;00m fn(\u001b[39m*\u001b[39;49margs, \u001b[39m*\u001b[39;49m\u001b[39m*\u001b[39;49mkwargs)\n\u001b[1;32m    105\u001b[0m \u001b[39mfinally\u001b[39;00m:\n\u001b[1;32m    106\u001b[0m     torch\u001b[39m.\u001b[39m_C\u001b[39m.\u001b[39m_set_grad_enabled(prior_grad_mode)\n",
      "File \u001b[0;32m/opt/conda/lib/python3.10/site-packages/torch/_dynamo/convert_frame.py:262\u001b[0m, in \u001b[0;36mconvert_frame_assert.<locals>._convert_frame_assert\u001b[0;34m(frame, cache_size, hooks)\u001b[0m\n\u001b[1;32m    259\u001b[0m \u001b[39mglobal\u001b[39;00m initial_grad_state\n\u001b[1;32m    260\u001b[0m initial_grad_state \u001b[39m=\u001b[39m torch\u001b[39m.\u001b[39mis_grad_enabled()\n\u001b[0;32m--> 262\u001b[0m \u001b[39mreturn\u001b[39;00m _compile(\n\u001b[1;32m    263\u001b[0m     frame\u001b[39m.\u001b[39;49mf_code,\n\u001b[1;32m    264\u001b[0m     frame\u001b[39m.\u001b[39;49mf_globals,\n\u001b[1;32m    265\u001b[0m     frame\u001b[39m.\u001b[39;49mf_locals,\n\u001b[1;32m    266\u001b[0m     frame\u001b[39m.\u001b[39;49mf_builtins,\n\u001b[1;32m    267\u001b[0m     compiler_fn,\n\u001b[1;32m    268\u001b[0m     one_graph,\n\u001b[1;32m    269\u001b[0m     export,\n\u001b[1;32m    270\u001b[0m     hooks,\n\u001b[1;32m    271\u001b[0m     frame,\n\u001b[1;32m    272\u001b[0m )\n",
      "File \u001b[0;32m/opt/conda/lib/python3.10/site-packages/torch/_dynamo/utils.py:163\u001b[0m, in \u001b[0;36mdynamo_timed.<locals>.dynamo_timed_inner.<locals>.time_wrapper\u001b[0;34m(*args, **kwargs)\u001b[0m\n\u001b[1;32m    161\u001b[0m     compilation_metrics[key] \u001b[39m=\u001b[39m []\n\u001b[1;32m    162\u001b[0m t0 \u001b[39m=\u001b[39m time\u001b[39m.\u001b[39mtime()\n\u001b[0;32m--> 163\u001b[0m r \u001b[39m=\u001b[39m func(\u001b[39m*\u001b[39;49margs, \u001b[39m*\u001b[39;49m\u001b[39m*\u001b[39;49mkwargs)\n\u001b[1;32m    164\u001b[0m time_spent \u001b[39m=\u001b[39m time\u001b[39m.\u001b[39mtime() \u001b[39m-\u001b[39m t0\n\u001b[1;32m    165\u001b[0m \u001b[39m# print(f\"Dynamo timer: key={key}, latency={latency:.2f} sec\")\u001b[39;00m\n",
      "File \u001b[0;32m/opt/conda/lib/python3.10/site-packages/torch/_dynamo/convert_frame.py:324\u001b[0m, in \u001b[0;36m_compile\u001b[0;34m(code, globals, locals, builtins, compiler_fn, one_graph, export, hooks, frame)\u001b[0m\n\u001b[1;32m    322\u001b[0m \u001b[39mfor\u001b[39;00m attempt \u001b[39min\u001b[39;00m itertools\u001b[39m.\u001b[39mcount():\n\u001b[1;32m    323\u001b[0m     \u001b[39mtry\u001b[39;00m:\n\u001b[0;32m--> 324\u001b[0m         out_code \u001b[39m=\u001b[39m transform_code_object(code, transform)\n\u001b[1;32m    325\u001b[0m         orig_code_map[out_code] \u001b[39m=\u001b[39m code\n\u001b[1;32m    326\u001b[0m         \u001b[39mbreak\u001b[39;00m\n",
      "File \u001b[0;32m/opt/conda/lib/python3.10/site-packages/torch/_dynamo/bytecode_transformation.py:445\u001b[0m, in \u001b[0;36mtransform_code_object\u001b[0;34m(code, transformations, safe)\u001b[0m\n\u001b[1;32m    442\u001b[0m instructions \u001b[39m=\u001b[39m cleaned_instructions(code, safe)\n\u001b[1;32m    443\u001b[0m propagate_line_nums(instructions)\n\u001b[0;32m--> 445\u001b[0m transformations(instructions, code_options)\n\u001b[1;32m    446\u001b[0m \u001b[39mreturn\u001b[39;00m clean_and_assemble_instructions(instructions, keys, code_options)[\u001b[39m1\u001b[39m]\n",
      "File \u001b[0;32m/opt/conda/lib/python3.10/site-packages/torch/_dynamo/convert_frame.py:311\u001b[0m, in \u001b[0;36m_compile.<locals>.transform\u001b[0;34m(instructions, code_options)\u001b[0m\n\u001b[1;32m    298\u001b[0m \u001b[39mnonlocal\u001b[39;00m output\n\u001b[1;32m    299\u001b[0m tracer \u001b[39m=\u001b[39m InstructionTranslator(\n\u001b[1;32m    300\u001b[0m     instructions,\n\u001b[1;32m    301\u001b[0m     code,\n\u001b[0;32m   (...)\u001b[0m\n\u001b[1;32m    309\u001b[0m     mutated_closure_cell_contents,\n\u001b[1;32m    310\u001b[0m )\n\u001b[0;32m--> 311\u001b[0m tracer\u001b[39m.\u001b[39;49mrun()\n\u001b[1;32m    312\u001b[0m output \u001b[39m=\u001b[39m tracer\u001b[39m.\u001b[39moutput\n\u001b[1;32m    313\u001b[0m \u001b[39massert\u001b[39;00m output \u001b[39mis\u001b[39;00m \u001b[39mnot\u001b[39;00m \u001b[39mNone\u001b[39;00m\n",
      "File \u001b[0;32m/opt/conda/lib/python3.10/site-packages/torch/_dynamo/symbolic_convert.py:1726\u001b[0m, in \u001b[0;36mInstructionTranslator.run\u001b[0;34m(self)\u001b[0m\n\u001b[1;32m   1724\u001b[0m \u001b[39mdef\u001b[39;00m \u001b[39mrun\u001b[39m(\u001b[39mself\u001b[39m):\n\u001b[1;32m   1725\u001b[0m     _step_logger()(logging\u001b[39m.\u001b[39mINFO, \u001b[39mf\u001b[39m\u001b[39m\"\u001b[39m\u001b[39mtorchdynamo start tracing \u001b[39m\u001b[39m{\u001b[39;00m\u001b[39mself\u001b[39m\u001b[39m.\u001b[39mf_code\u001b[39m.\u001b[39mco_name\u001b[39m}\u001b[39;00m\u001b[39m\"\u001b[39m)\n\u001b[0;32m-> 1726\u001b[0m     \u001b[39msuper\u001b[39;49m()\u001b[39m.\u001b[39;49mrun()\n",
      "File \u001b[0;32m/opt/conda/lib/python3.10/site-packages/torch/_dynamo/symbolic_convert.py:576\u001b[0m, in \u001b[0;36mInstructionTranslatorBase.run\u001b[0;34m(self)\u001b[0m\n\u001b[1;32m    571\u001b[0m \u001b[39mtry\u001b[39;00m:\n\u001b[1;32m    572\u001b[0m     \u001b[39mself\u001b[39m\u001b[39m.\u001b[39moutput\u001b[39m.\u001b[39mpush_tx(\u001b[39mself\u001b[39m)\n\u001b[1;32m    573\u001b[0m     \u001b[39mwhile\u001b[39;00m (\n\u001b[1;32m    574\u001b[0m         \u001b[39mself\u001b[39m\u001b[39m.\u001b[39minstruction_pointer \u001b[39mis\u001b[39;00m \u001b[39mnot\u001b[39;00m \u001b[39mNone\u001b[39;00m\n\u001b[1;32m    575\u001b[0m         \u001b[39mand\u001b[39;00m \u001b[39mnot\u001b[39;00m \u001b[39mself\u001b[39m\u001b[39m.\u001b[39moutput\u001b[39m.\u001b[39mshould_exit\n\u001b[0;32m--> 576\u001b[0m         \u001b[39mand\u001b[39;00m \u001b[39mself\u001b[39;49m\u001b[39m.\u001b[39;49mstep()\n\u001b[1;32m    577\u001b[0m     ):\n\u001b[1;32m    578\u001b[0m         \u001b[39mpass\u001b[39;00m\n\u001b[1;32m    579\u001b[0m \u001b[39mexcept\u001b[39;00m BackendCompilerFailed:\n",
      "File \u001b[0;32m/opt/conda/lib/python3.10/site-packages/torch/_dynamo/symbolic_convert.py:540\u001b[0m, in \u001b[0;36mInstructionTranslatorBase.step\u001b[0;34m(self)\u001b[0m\n\u001b[1;32m    538\u001b[0m     \u001b[39mif\u001b[39;00m \u001b[39mnot\u001b[39;00m \u001b[39mhasattr\u001b[39m(\u001b[39mself\u001b[39m, inst\u001b[39m.\u001b[39mopname):\n\u001b[1;32m    539\u001b[0m         unimplemented(\u001b[39mf\u001b[39m\u001b[39m\"\u001b[39m\u001b[39mmissing: \u001b[39m\u001b[39m{\u001b[39;00minst\u001b[39m.\u001b[39mopname\u001b[39m}\u001b[39;00m\u001b[39m\"\u001b[39m)\n\u001b[0;32m--> 540\u001b[0m     \u001b[39mgetattr\u001b[39;49m(\u001b[39mself\u001b[39;49m, inst\u001b[39m.\u001b[39;49mopname)(inst)\n\u001b[1;32m    542\u001b[0m     \u001b[39mreturn\u001b[39;00m inst\u001b[39m.\u001b[39mopname \u001b[39m!=\u001b[39m \u001b[39m\"\u001b[39m\u001b[39mRETURN_VALUE\u001b[39m\u001b[39m\"\u001b[39m\n\u001b[1;32m    543\u001b[0m \u001b[39mexcept\u001b[39;00m BackendCompilerFailed:\n",
      "File \u001b[0;32m/opt/conda/lib/python3.10/site-packages/torch/_dynamo/symbolic_convert.py:1792\u001b[0m, in \u001b[0;36mInstructionTranslator.RETURN_VALUE\u001b[0;34m(self, inst)\u001b[0m\n\u001b[1;32m   1787\u001b[0m _step_logger()(\n\u001b[1;32m   1788\u001b[0m     logging\u001b[39m.\u001b[39mINFO,\n\u001b[1;32m   1789\u001b[0m     \u001b[39mf\u001b[39m\u001b[39m\"\u001b[39m\u001b[39mtorchdynamo done tracing \u001b[39m\u001b[39m{\u001b[39;00m\u001b[39mself\u001b[39m\u001b[39m.\u001b[39mf_code\u001b[39m.\u001b[39mco_name\u001b[39m}\u001b[39;00m\u001b[39m (RETURN_VALUE)\u001b[39m\u001b[39m\"\u001b[39m,\n\u001b[1;32m   1790\u001b[0m )\n\u001b[1;32m   1791\u001b[0m log\u001b[39m.\u001b[39mdebug(\u001b[39m\"\u001b[39m\u001b[39mRETURN_VALUE triggered compile\u001b[39m\u001b[39m\"\u001b[39m)\n\u001b[0;32m-> 1792\u001b[0m \u001b[39mself\u001b[39;49m\u001b[39m.\u001b[39;49moutput\u001b[39m.\u001b[39;49mcompile_subgraph(\n\u001b[1;32m   1793\u001b[0m     \u001b[39mself\u001b[39;49m, reason\u001b[39m=\u001b[39;49mGraphCompileReason(\u001b[39m\"\u001b[39;49m\u001b[39mreturn_value\u001b[39;49m\u001b[39m\"\u001b[39;49m, [\u001b[39mself\u001b[39;49m\u001b[39m.\u001b[39;49mframe_summary()])\n\u001b[1;32m   1794\u001b[0m )\n\u001b[1;32m   1795\u001b[0m \u001b[39mself\u001b[39m\u001b[39m.\u001b[39moutput\u001b[39m.\u001b[39madd_output_instructions([create_instruction(\u001b[39m\"\u001b[39m\u001b[39mRETURN_VALUE\u001b[39m\u001b[39m\"\u001b[39m)])\n",
      "File \u001b[0;32m/opt/conda/lib/python3.10/site-packages/torch/_dynamo/output_graph.py:517\u001b[0m, in \u001b[0;36mOutputGraph.compile_subgraph\u001b[0;34m(self, tx, partial_convert, reason)\u001b[0m\n\u001b[1;32m    503\u001b[0m     \u001b[39mself\u001b[39m\u001b[39m.\u001b[39madd_output_instructions(random_calls_instructions)\n\u001b[1;32m    505\u001b[0m \u001b[39mif\u001b[39;00m (\n\u001b[1;32m    506\u001b[0m     stack_values\n\u001b[1;32m    507\u001b[0m     \u001b[39mand\u001b[39;00m \u001b[39mall\u001b[39m(\n\u001b[0;32m   (...)\u001b[0m\n\u001b[1;32m    514\u001b[0m \n\u001b[1;32m    515\u001b[0m     \u001b[39m# optimization to generate better code in a common case\u001b[39;00m\n\u001b[1;32m    516\u001b[0m     \u001b[39mself\u001b[39m\u001b[39m.\u001b[39madd_output_instructions(\n\u001b[0;32m--> 517\u001b[0m         \u001b[39mself\u001b[39;49m\u001b[39m.\u001b[39;49mcompile_and_call_fx_graph(tx, \u001b[39mlist\u001b[39;49m(\u001b[39mreversed\u001b[39;49m(stack_values)), root)\n\u001b[1;32m    518\u001b[0m         \u001b[39m+\u001b[39m [create_instruction(\u001b[39m\"\u001b[39m\u001b[39mUNPACK_SEQUENCE\u001b[39m\u001b[39m\"\u001b[39m, \u001b[39mlen\u001b[39m(stack_values))]\n\u001b[1;32m    519\u001b[0m     )\n\u001b[1;32m    520\u001b[0m \u001b[39melse\u001b[39;00m:\n\u001b[1;32m    521\u001b[0m     graph_output_var \u001b[39m=\u001b[39m \u001b[39mself\u001b[39m\u001b[39m.\u001b[39mnew_var(\u001b[39m\"\u001b[39m\u001b[39mgraph_out\u001b[39m\u001b[39m\"\u001b[39m)\n",
      "File \u001b[0;32m/opt/conda/lib/python3.10/site-packages/torch/_dynamo/output_graph.py:588\u001b[0m, in \u001b[0;36mOutputGraph.compile_and_call_fx_graph\u001b[0;34m(self, tx, rv, root)\u001b[0m\n\u001b[1;32m    586\u001b[0m assert_no_fake_params_or_buffers(gm)\n\u001b[1;32m    587\u001b[0m \u001b[39mwith\u001b[39;00m tracing(\u001b[39mself\u001b[39m\u001b[39m.\u001b[39mtracing_context):\n\u001b[0;32m--> 588\u001b[0m     compiled_fn \u001b[39m=\u001b[39m \u001b[39mself\u001b[39;49m\u001b[39m.\u001b[39;49mcall_user_compiler(gm)\n\u001b[1;32m    589\u001b[0m compiled_fn \u001b[39m=\u001b[39m disable(compiled_fn)\n\u001b[1;32m    591\u001b[0m counters[\u001b[39m\"\u001b[39m\u001b[39mstats\u001b[39m\u001b[39m\"\u001b[39m][\u001b[39m\"\u001b[39m\u001b[39munique_graphs\u001b[39m\u001b[39m\"\u001b[39m] \u001b[39m+\u001b[39m\u001b[39m=\u001b[39m \u001b[39m1\u001b[39m\n",
      "File \u001b[0;32m/opt/conda/lib/python3.10/site-packages/torch/_dynamo/utils.py:163\u001b[0m, in \u001b[0;36mdynamo_timed.<locals>.dynamo_timed_inner.<locals>.time_wrapper\u001b[0;34m(*args, **kwargs)\u001b[0m\n\u001b[1;32m    161\u001b[0m     compilation_metrics[key] \u001b[39m=\u001b[39m []\n\u001b[1;32m    162\u001b[0m t0 \u001b[39m=\u001b[39m time\u001b[39m.\u001b[39mtime()\n\u001b[0;32m--> 163\u001b[0m r \u001b[39m=\u001b[39m func(\u001b[39m*\u001b[39;49margs, \u001b[39m*\u001b[39;49m\u001b[39m*\u001b[39;49mkwargs)\n\u001b[1;32m    164\u001b[0m time_spent \u001b[39m=\u001b[39m time\u001b[39m.\u001b[39mtime() \u001b[39m-\u001b[39m t0\n\u001b[1;32m    165\u001b[0m \u001b[39m# print(f\"Dynamo timer: key={key}, latency={latency:.2f} sec\")\u001b[39;00m\n",
      "File \u001b[0;32m/opt/conda/lib/python3.10/site-packages/torch/_dynamo/output_graph.py:670\u001b[0m, in \u001b[0;36mOutputGraph.call_user_compiler\u001b[0;34m(self, gm)\u001b[0m\n\u001b[1;32m    668\u001b[0m     compiled_fn \u001b[39m=\u001b[39m compiler_fn(gm, \u001b[39mself\u001b[39m\u001b[39m.\u001b[39mexample_inputs())\n\u001b[1;32m    669\u001b[0m \u001b[39melse\u001b[39;00m:\n\u001b[0;32m--> 670\u001b[0m     compiled_fn \u001b[39m=\u001b[39m compiler_fn(gm, \u001b[39mself\u001b[39;49m\u001b[39m.\u001b[39;49mfake_example_inputs())\n\u001b[1;32m    671\u001b[0m _step_logger()(logging\u001b[39m.\u001b[39mINFO, \u001b[39mf\u001b[39m\u001b[39m\"\u001b[39m\u001b[39mdone compiler function \u001b[39m\u001b[39m{\u001b[39;00mname\u001b[39m}\u001b[39;00m\u001b[39m\"\u001b[39m)\n\u001b[1;32m    672\u001b[0m \u001b[39massert\u001b[39;00m callable(compiled_fn), \u001b[39m\"\u001b[39m\u001b[39mcompiler_fn did not return callable\u001b[39m\u001b[39m\"\u001b[39m\n",
      "File \u001b[0;32m/opt/conda/lib/python3.10/site-packages/torch/_dynamo/debug_utils.py:1055\u001b[0m, in \u001b[0;36mwrap_backend_debug.<locals>.debug_wrapper\u001b[0;34m(gm, example_inputs, **kwargs)\u001b[0m\n\u001b[1;32m   1053\u001b[0m             \u001b[39mraise\u001b[39;00m\n\u001b[1;32m   1054\u001b[0m \u001b[39melse\u001b[39;00m:\n\u001b[0;32m-> 1055\u001b[0m     compiled_gm \u001b[39m=\u001b[39m compiler_fn(gm, example_inputs)\n\u001b[1;32m   1057\u001b[0m \u001b[39mreturn\u001b[39;00m compiled_gm\n",
      "File \u001b[0;32m/opt/conda/lib/python3.10/site-packages/torch/__init__.py:1390\u001b[0m, in \u001b[0;36m_TorchCompileInductorWrapper.__call__\u001b[0;34m(self, model_, inputs_)\u001b[0m\n\u001b[1;32m   1387\u001b[0m \u001b[39mdef\u001b[39;00m \u001b[39m__call__\u001b[39m(\u001b[39mself\u001b[39m, model_, inputs_):\n\u001b[1;32m   1388\u001b[0m     \u001b[39mfrom\u001b[39;00m \u001b[39mtorch\u001b[39;00m\u001b[39m.\u001b[39;00m\u001b[39m_inductor\u001b[39;00m\u001b[39m.\u001b[39;00m\u001b[39mcompile_fx\u001b[39;00m \u001b[39mimport\u001b[39;00m compile_fx\n\u001b[0;32m-> 1390\u001b[0m     \u001b[39mreturn\u001b[39;00m compile_fx(model_, inputs_, config_patches\u001b[39m=\u001b[39;49m\u001b[39mself\u001b[39;49m\u001b[39m.\u001b[39;49mconfig)\n",
      "File \u001b[0;32m/opt/conda/lib/python3.10/site-packages/torch/_inductor/compile_fx.py:455\u001b[0m, in \u001b[0;36mcompile_fx\u001b[0;34m(model_, example_inputs_, inner_compile, config_patches)\u001b[0m\n\u001b[1;32m    441\u001b[0m     \u001b[39mreturn\u001b[39;00m inner_compile(\n\u001b[1;32m    442\u001b[0m         model,\n\u001b[1;32m    443\u001b[0m         example_inputs,\n\u001b[0;32m   (...)\u001b[0m\n\u001b[1;32m    447\u001b[0m         graph_id\u001b[39m=\u001b[39mgraph_id,\n\u001b[1;32m    448\u001b[0m     )\n\u001b[1;32m    450\u001b[0m \u001b[39mwith\u001b[39;00m overrides\u001b[39m.\u001b[39mpatch_functions():\n\u001b[1;32m    451\u001b[0m \n\u001b[1;32m    452\u001b[0m     \u001b[39m# TODO: can add logging before/after the call to create_aot_dispatcher_function\u001b[39;00m\n\u001b[1;32m    453\u001b[0m     \u001b[39m# in torch._functorch/aot_autograd.py::aot_module_simplified::aot_function_simplified::new_func\u001b[39;00m\n\u001b[1;32m    454\u001b[0m     \u001b[39m# once torchdynamo is merged into pytorch\u001b[39;00m\n\u001b[0;32m--> 455\u001b[0m     \u001b[39mreturn\u001b[39;00m aot_autograd(\n\u001b[1;32m    456\u001b[0m         fw_compiler\u001b[39m=\u001b[39;49mfw_compiler,\n\u001b[1;32m    457\u001b[0m         bw_compiler\u001b[39m=\u001b[39;49mbw_compiler,\n\u001b[1;32m    458\u001b[0m         decompositions\u001b[39m=\u001b[39;49mselect_decomp_table(),\n\u001b[1;32m    459\u001b[0m         partition_fn\u001b[39m=\u001b[39;49mfunctools\u001b[39m.\u001b[39;49mpartial(\n\u001b[1;32m    460\u001b[0m             min_cut_rematerialization_partition, compiler\u001b[39m=\u001b[39;49m\u001b[39m\"\u001b[39;49m\u001b[39minductor\u001b[39;49m\u001b[39m\"\u001b[39;49m\n\u001b[1;32m    461\u001b[0m         ),\n\u001b[1;32m    462\u001b[0m         keep_inference_input_mutations\u001b[39m=\u001b[39;49m\u001b[39mTrue\u001b[39;49;00m,\n\u001b[1;32m    463\u001b[0m     )(model_, example_inputs_)\n",
      "File \u001b[0;32m/opt/conda/lib/python3.10/site-packages/torch/_dynamo/backends/common.py:48\u001b[0m, in \u001b[0;36maot_autograd.<locals>.compiler_fn\u001b[0;34m(gm, example_inputs)\u001b[0m\n\u001b[1;32m     45\u001b[0m \u001b[39mtry\u001b[39;00m:\n\u001b[1;32m     46\u001b[0m     \u001b[39m# NB: NOT cloned!\u001b[39;00m\n\u001b[1;32m     47\u001b[0m     \u001b[39mwith\u001b[39;00m enable_aot_logging():\n\u001b[0;32m---> 48\u001b[0m         cg \u001b[39m=\u001b[39m aot_module_simplified(gm, example_inputs, \u001b[39m*\u001b[39;49m\u001b[39m*\u001b[39;49mkwargs)\n\u001b[1;32m     49\u001b[0m         counters[\u001b[39m\"\u001b[39m\u001b[39maot_autograd\u001b[39m\u001b[39m\"\u001b[39m][\u001b[39m\"\u001b[39m\u001b[39mok\u001b[39m\u001b[39m\"\u001b[39m] \u001b[39m+\u001b[39m\u001b[39m=\u001b[39m \u001b[39m1\u001b[39m\n\u001b[1;32m     50\u001b[0m         \u001b[39mreturn\u001b[39;00m eval_frame\u001b[39m.\u001b[39mdisable(cg)\n",
      "File \u001b[0;32m/opt/conda/lib/python3.10/site-packages/torch/_functorch/aot_autograd.py:2805\u001b[0m, in \u001b[0;36maot_module_simplified\u001b[0;34m(mod, args, fw_compiler, bw_compiler, partition_fn, decompositions, hasher_type, static_argnums, keep_inference_input_mutations)\u001b[0m\n\u001b[1;32m   2802\u001b[0m full_args\u001b[39m.\u001b[39mextend(params_flat)\n\u001b[1;32m   2803\u001b[0m full_args\u001b[39m.\u001b[39mextend(args)\n\u001b[0;32m-> 2805\u001b[0m compiled_fn \u001b[39m=\u001b[39m create_aot_dispatcher_function(\n\u001b[1;32m   2806\u001b[0m     functional_call,\n\u001b[1;32m   2807\u001b[0m     full_args,\n\u001b[1;32m   2808\u001b[0m     aot_config,\n\u001b[1;32m   2809\u001b[0m )\n\u001b[1;32m   2811\u001b[0m \u001b[39m# TODO: There is something deeply wrong here; compiled_fn running with\u001b[39;00m\n\u001b[1;32m   2812\u001b[0m \u001b[39m# the boxed calling convention, but aot_module_simplified somehow\u001b[39;00m\n\u001b[1;32m   2813\u001b[0m \u001b[39m# historically returned a function that was not the boxed calling\u001b[39;00m\n\u001b[1;32m   2814\u001b[0m \u001b[39m# convention.  This should get fixed...\u001b[39;00m\n\u001b[1;32m   2815\u001b[0m \u001b[39mdef\u001b[39;00m \u001b[39mforward\u001b[39m(\u001b[39m*\u001b[39mruntime_args):\n",
      "File \u001b[0;32m/opt/conda/lib/python3.10/site-packages/torch/_dynamo/utils.py:163\u001b[0m, in \u001b[0;36mdynamo_timed.<locals>.dynamo_timed_inner.<locals>.time_wrapper\u001b[0;34m(*args, **kwargs)\u001b[0m\n\u001b[1;32m    161\u001b[0m     compilation_metrics[key] \u001b[39m=\u001b[39m []\n\u001b[1;32m    162\u001b[0m t0 \u001b[39m=\u001b[39m time\u001b[39m.\u001b[39mtime()\n\u001b[0;32m--> 163\u001b[0m r \u001b[39m=\u001b[39m func(\u001b[39m*\u001b[39;49margs, \u001b[39m*\u001b[39;49m\u001b[39m*\u001b[39;49mkwargs)\n\u001b[1;32m    164\u001b[0m time_spent \u001b[39m=\u001b[39m time\u001b[39m.\u001b[39mtime() \u001b[39m-\u001b[39m t0\n\u001b[1;32m    165\u001b[0m \u001b[39m# print(f\"Dynamo timer: key={key}, latency={latency:.2f} sec\")\u001b[39;00m\n",
      "File \u001b[0;32m/opt/conda/lib/python3.10/site-packages/torch/_functorch/aot_autograd.py:2498\u001b[0m, in \u001b[0;36mcreate_aot_dispatcher_function\u001b[0;34m(flat_fn, flat_args, aot_config)\u001b[0m\n\u001b[1;32m   2495\u001b[0m compiler_fn \u001b[39m=\u001b[39m partial(aot_wrapper_dedupe, compiler_fn\u001b[39m=\u001b[39mcompiler_fn)\n\u001b[1;32m   2496\u001b[0m \u001b[39m# You can put more passes here\u001b[39;00m\n\u001b[0;32m-> 2498\u001b[0m compiled_fn \u001b[39m=\u001b[39m compiler_fn(flat_fn, fake_flat_args, aot_config)\n\u001b[1;32m   2500\u001b[0m \u001b[39mif\u001b[39;00m \u001b[39mnot\u001b[39;00m \u001b[39mhasattr\u001b[39m(compiled_fn, \u001b[39m\"\u001b[39m\u001b[39m_boxed_call\u001b[39m\u001b[39m\"\u001b[39m):\n\u001b[1;32m   2501\u001b[0m     compiled_fn \u001b[39m=\u001b[39m make_boxed_func(compiled_fn)\n",
      "File \u001b[0;32m/opt/conda/lib/python3.10/site-packages/torch/_functorch/aot_autograd.py:1713\u001b[0m, in \u001b[0;36maot_wrapper_dedupe\u001b[0;34m(flat_fn, flat_args, aot_config, compiler_fn)\u001b[0m\n\u001b[1;32m   1710\u001b[0m             \u001b[39mbreak\u001b[39;00m\n\u001b[1;32m   1712\u001b[0m     \u001b[39mif\u001b[39;00m ok:\n\u001b[0;32m-> 1713\u001b[0m         \u001b[39mreturn\u001b[39;00m compiler_fn(flat_fn, leaf_flat_args, aot_config)\n\u001b[1;32m   1715\u001b[0m \u001b[39m# Strategy 2: Duplicate specialize.\u001b[39;00m\n\u001b[1;32m   1716\u001b[0m \u001b[39m#\u001b[39;00m\n\u001b[1;32m   1717\u001b[0m \u001b[39m# In Haskell types, suppose you have:\u001b[39;00m\n\u001b[0;32m   (...)\u001b[0m\n\u001b[1;32m   1749\u001b[0m \u001b[39m#   }\u001b[39;00m\n\u001b[1;32m   1750\u001b[0m \u001b[39m#   keep_arg_mask = [True, True, False, True]\u001b[39;00m\n\u001b[1;32m   1752\u001b[0m seen_args \u001b[39m=\u001b[39m {}\n",
      "File \u001b[0;32m/opt/conda/lib/python3.10/site-packages/torch/_functorch/aot_autograd.py:2133\u001b[0m, in \u001b[0;36maot_dispatch_autograd\u001b[0;34m(flat_fn, flat_args, aot_config)\u001b[0m\n\u001b[1;32m   2130\u001b[0m         log\u001b[39m.\u001b[39mdebug(bw_module\u001b[39m.\u001b[39mprint_readable(print_output\u001b[39m=\u001b[39m\u001b[39mFalse\u001b[39;00m))\n\u001b[1;32m   2132\u001b[0m     \u001b[39mwith\u001b[39;00m track_graph_compiling(aot_config, \u001b[39m\"\u001b[39m\u001b[39mforward\u001b[39m\u001b[39m\"\u001b[39m):\n\u001b[0;32m-> 2133\u001b[0m         compiled_fw_func \u001b[39m=\u001b[39m aot_config\u001b[39m.\u001b[39;49mfw_compiler(\n\u001b[1;32m   2134\u001b[0m             fw_module, flat_args_with_views_handled\n\u001b[1;32m   2135\u001b[0m         )\n\u001b[1;32m   2137\u001b[0m \u001b[39mclass\u001b[39;00m \u001b[39mCompiledFunction\u001b[39;00m(torch\u001b[39m.\u001b[39mautograd\u001b[39m.\u001b[39mFunction):\n\u001b[1;32m   2138\u001b[0m     compiled_fw \u001b[39m=\u001b[39m compiled_fw_func\n",
      "File \u001b[0;32m/opt/conda/lib/python3.10/site-packages/torch/_dynamo/utils.py:163\u001b[0m, in \u001b[0;36mdynamo_timed.<locals>.dynamo_timed_inner.<locals>.time_wrapper\u001b[0;34m(*args, **kwargs)\u001b[0m\n\u001b[1;32m    161\u001b[0m     compilation_metrics[key] \u001b[39m=\u001b[39m []\n\u001b[1;32m    162\u001b[0m t0 \u001b[39m=\u001b[39m time\u001b[39m.\u001b[39mtime()\n\u001b[0;32m--> 163\u001b[0m r \u001b[39m=\u001b[39m func(\u001b[39m*\u001b[39;49margs, \u001b[39m*\u001b[39;49m\u001b[39m*\u001b[39;49mkwargs)\n\u001b[1;32m    164\u001b[0m time_spent \u001b[39m=\u001b[39m time\u001b[39m.\u001b[39mtime() \u001b[39m-\u001b[39m t0\n\u001b[1;32m    165\u001b[0m \u001b[39m# print(f\"Dynamo timer: key={key}, latency={latency:.2f} sec\")\u001b[39;00m\n",
      "File \u001b[0;32m/opt/conda/lib/python3.10/site-packages/torch/_inductor/compile_fx.py:430\u001b[0m, in \u001b[0;36mcompile_fx.<locals>.fw_compiler\u001b[0;34m(model, example_inputs)\u001b[0m\n\u001b[1;32m    426\u001b[0m \u001b[39m# Why convert outplace op to inplace? Inductor can support inplace operations well and for custom\u001b[39;00m\n\u001b[1;32m    427\u001b[0m \u001b[39m# inplace ops which are lowered as ExternKernel, it is beneficial to performance when the inplace\u001b[39;00m\n\u001b[1;32m    428\u001b[0m \u001b[39m# implementation is used if available.\u001b[39;00m\n\u001b[1;32m    429\u001b[0m model \u001b[39m=\u001b[39m convert_outplace_to_inplace(model)\n\u001b[0;32m--> 430\u001b[0m \u001b[39mreturn\u001b[39;00m inner_compile(\n\u001b[1;32m    431\u001b[0m     model,\n\u001b[1;32m    432\u001b[0m     example_inputs,\n\u001b[1;32m    433\u001b[0m     num_fixed\u001b[39m=\u001b[39;49mfixed,\n\u001b[1;32m    434\u001b[0m     cudagraphs\u001b[39m=\u001b[39;49mcudagraphs,\n\u001b[1;32m    435\u001b[0m     graph_id\u001b[39m=\u001b[39;49mgraph_id,\n\u001b[1;32m    436\u001b[0m )\n",
      "File \u001b[0;32m/opt/conda/lib/python3.10/site-packages/torch/_dynamo/debug_utils.py:595\u001b[0m, in \u001b[0;36mwrap_compiler_debug.<locals>.debug_wrapper\u001b[0;34m(gm, example_inputs, **kwargs)\u001b[0m\n\u001b[1;32m    593\u001b[0m     compiled_fn\u001b[39m.\u001b[39m_boxed_call \u001b[39m=\u001b[39m \u001b[39mTrue\u001b[39;00m\n\u001b[1;32m    594\u001b[0m \u001b[39melse\u001b[39;00m:\n\u001b[0;32m--> 595\u001b[0m     compiled_fn \u001b[39m=\u001b[39m compiler_fn(gm, example_inputs)\n\u001b[1;32m    597\u001b[0m \u001b[39mreturn\u001b[39;00m compiled_fn\n",
      "File \u001b[0;32m/opt/conda/lib/python3.10/site-packages/torch/_inductor/debug.py:239\u001b[0m, in \u001b[0;36mDebugContext.wrap.<locals>.inner\u001b[0;34m(*args, **kwargs)\u001b[0m\n\u001b[1;32m    236\u001b[0m \u001b[39m@functools\u001b[39m\u001b[39m.\u001b[39mwraps(fn)\n\u001b[1;32m    237\u001b[0m \u001b[39mdef\u001b[39;00m \u001b[39minner\u001b[39m(\u001b[39m*\u001b[39margs, \u001b[39m*\u001b[39m\u001b[39m*\u001b[39mkwargs):\n\u001b[1;32m    238\u001b[0m     \u001b[39mwith\u001b[39;00m DebugContext():\n\u001b[0;32m--> 239\u001b[0m         \u001b[39mreturn\u001b[39;00m fn(\u001b[39m*\u001b[39;49margs, \u001b[39m*\u001b[39;49m\u001b[39m*\u001b[39;49mkwargs)\n",
      "File \u001b[0;32m/opt/conda/lib/python3.10/contextlib.py:79\u001b[0m, in \u001b[0;36mContextDecorator.__call__.<locals>.inner\u001b[0;34m(*args, **kwds)\u001b[0m\n\u001b[1;32m     76\u001b[0m \u001b[39m@wraps\u001b[39m(func)\n\u001b[1;32m     77\u001b[0m \u001b[39mdef\u001b[39;00m \u001b[39minner\u001b[39m(\u001b[39m*\u001b[39margs, \u001b[39m*\u001b[39m\u001b[39m*\u001b[39mkwds):\n\u001b[1;32m     78\u001b[0m     \u001b[39mwith\u001b[39;00m \u001b[39mself\u001b[39m\u001b[39m.\u001b[39m_recreate_cm():\n\u001b[0;32m---> 79\u001b[0m         \u001b[39mreturn\u001b[39;00m func(\u001b[39m*\u001b[39;49margs, \u001b[39m*\u001b[39;49m\u001b[39m*\u001b[39;49mkwds)\n",
      "File \u001b[0;32m/opt/conda/lib/python3.10/site-packages/torch/_inductor/compile_fx.py:177\u001b[0m, in \u001b[0;36mcompile_fx_inner\u001b[0;34m(gm, example_inputs, cudagraphs, num_fixed, is_backward, graph_id)\u001b[0m\n\u001b[1;32m    175\u001b[0m     \u001b[39mwith\u001b[39;00m V\u001b[39m.\u001b[39mset_graph_handler(graph):\n\u001b[1;32m    176\u001b[0m         graph\u001b[39m.\u001b[39mrun(\u001b[39m*\u001b[39mexample_inputs)\n\u001b[0;32m--> 177\u001b[0m         compiled_fn \u001b[39m=\u001b[39m graph\u001b[39m.\u001b[39;49mcompile_to_fn()\n\u001b[1;32m    179\u001b[0m \u001b[39mif\u001b[39;00m cudagraphs:\n\u001b[1;32m    180\u001b[0m     complex_memory_overlap_inputs \u001b[39m=\u001b[39m \u001b[39many\u001b[39m(\n\u001b[1;32m    181\u001b[0m         complex_memory_overlap(t) \u001b[39mfor\u001b[39;00m t \u001b[39min\u001b[39;00m example_inputs\n\u001b[1;32m    182\u001b[0m     )\n",
      "File \u001b[0;32m/opt/conda/lib/python3.10/site-packages/torch/_inductor/graph.py:586\u001b[0m, in \u001b[0;36mGraphLowering.compile_to_fn\u001b[0;34m(self)\u001b[0m\n\u001b[1;32m    585\u001b[0m \u001b[39mdef\u001b[39;00m \u001b[39mcompile_to_fn\u001b[39m(\u001b[39mself\u001b[39m):\n\u001b[0;32m--> 586\u001b[0m     \u001b[39mreturn\u001b[39;00m \u001b[39mself\u001b[39;49m\u001b[39m.\u001b[39;49mcompile_to_module()\u001b[39m.\u001b[39mcall\n",
      "File \u001b[0;32m/opt/conda/lib/python3.10/site-packages/torch/_dynamo/utils.py:163\u001b[0m, in \u001b[0;36mdynamo_timed.<locals>.dynamo_timed_inner.<locals>.time_wrapper\u001b[0;34m(*args, **kwargs)\u001b[0m\n\u001b[1;32m    161\u001b[0m     compilation_metrics[key] \u001b[39m=\u001b[39m []\n\u001b[1;32m    162\u001b[0m t0 \u001b[39m=\u001b[39m time\u001b[39m.\u001b[39mtime()\n\u001b[0;32m--> 163\u001b[0m r \u001b[39m=\u001b[39m func(\u001b[39m*\u001b[39;49margs, \u001b[39m*\u001b[39;49m\u001b[39m*\u001b[39;49mkwargs)\n\u001b[1;32m    164\u001b[0m time_spent \u001b[39m=\u001b[39m time\u001b[39m.\u001b[39mtime() \u001b[39m-\u001b[39m t0\n\u001b[1;32m    165\u001b[0m \u001b[39m# print(f\"Dynamo timer: key={key}, latency={latency:.2f} sec\")\u001b[39;00m\n",
      "File \u001b[0;32m/opt/conda/lib/python3.10/site-packages/torch/_inductor/graph.py:571\u001b[0m, in \u001b[0;36mGraphLowering.compile_to_module\u001b[0;34m(self)\u001b[0m\n\u001b[1;32m    567\u001b[0m \u001b[39m@dynamo_timed\u001b[39m\n\u001b[1;32m    568\u001b[0m \u001b[39mdef\u001b[39;00m \u001b[39mcompile_to_module\u001b[39m(\u001b[39mself\u001b[39m):\n\u001b[1;32m    569\u001b[0m     \u001b[39mfrom\u001b[39;00m \u001b[39m.\u001b[39;00m\u001b[39mcodecache\u001b[39;00m \u001b[39mimport\u001b[39;00m PyCodeCache\n\u001b[0;32m--> 571\u001b[0m     code \u001b[39m=\u001b[39m \u001b[39mself\u001b[39;49m\u001b[39m.\u001b[39;49mcodegen()\n\u001b[1;32m    572\u001b[0m     \u001b[39mif\u001b[39;00m config\u001b[39m.\u001b[39mdebug:\n\u001b[1;32m    573\u001b[0m         \u001b[39mprint\u001b[39m(code)\n",
      "File \u001b[0;32m/opt/conda/lib/python3.10/site-packages/torch/_inductor/graph.py:520\u001b[0m, in \u001b[0;36mGraphLowering.codegen\u001b[0;34m(self)\u001b[0m\n\u001b[1;32m    516\u001b[0m \u001b[39mfrom\u001b[39;00m \u001b[39m.\u001b[39;00m\u001b[39mscheduler\u001b[39;00m \u001b[39mimport\u001b[39;00m Scheduler\n\u001b[1;32m    518\u001b[0m \u001b[39mself\u001b[39m\u001b[39m.\u001b[39minit_wrapper_code()\n\u001b[0;32m--> 520\u001b[0m \u001b[39mself\u001b[39m\u001b[39m.\u001b[39mscheduler \u001b[39m=\u001b[39m Scheduler(\u001b[39mself\u001b[39;49m\u001b[39m.\u001b[39;49mbuffers)\n\u001b[1;32m    521\u001b[0m \u001b[39massert\u001b[39;00m \u001b[39mself\u001b[39m\u001b[39m.\u001b[39mscheduler \u001b[39mis\u001b[39;00m \u001b[39mnot\u001b[39;00m \u001b[39mNone\u001b[39;00m  \u001b[39m# mypy can't figure this out\u001b[39;00m\n\u001b[1;32m    522\u001b[0m \u001b[39mself\u001b[39m\u001b[39m.\u001b[39mscheduler\u001b[39m.\u001b[39mcodegen()\n",
      "File \u001b[0;32m/opt/conda/lib/python3.10/site-packages/torch/_dynamo/utils.py:163\u001b[0m, in \u001b[0;36mdynamo_timed.<locals>.dynamo_timed_inner.<locals>.time_wrapper\u001b[0;34m(*args, **kwargs)\u001b[0m\n\u001b[1;32m    161\u001b[0m     compilation_metrics[key] \u001b[39m=\u001b[39m []\n\u001b[1;32m    162\u001b[0m t0 \u001b[39m=\u001b[39m time\u001b[39m.\u001b[39mtime()\n\u001b[0;32m--> 163\u001b[0m r \u001b[39m=\u001b[39m func(\u001b[39m*\u001b[39;49margs, \u001b[39m*\u001b[39;49m\u001b[39m*\u001b[39;49mkwargs)\n\u001b[1;32m    164\u001b[0m time_spent \u001b[39m=\u001b[39m time\u001b[39m.\u001b[39mtime() \u001b[39m-\u001b[39m t0\n\u001b[1;32m    165\u001b[0m \u001b[39m# print(f\"Dynamo timer: key={key}, latency={latency:.2f} sec\")\u001b[39;00m\n",
      "File \u001b[0;32m/opt/conda/lib/python3.10/site-packages/torch/_inductor/scheduler.py:606\u001b[0m, in \u001b[0;36mScheduler.__init__\u001b[0;34m(self, nodes)\u001b[0m\n\u001b[1;32m    604\u001b[0m \u001b[39melif\u001b[39;00m \u001b[39misinstance\u001b[39m(node, (ir\u001b[39m.\u001b[39mComputedBuffer, ir\u001b[39m.\u001b[39mTemplateBuffer)):\n\u001b[1;32m    605\u001b[0m     group_fn \u001b[39m=\u001b[39m \u001b[39mself\u001b[39m\u001b[39m.\u001b[39mget_backend(node\u001b[39m.\u001b[39mget_device())\u001b[39m.\u001b[39mgroup_fn\n\u001b[0;32m--> 606\u001b[0m     \u001b[39mself\u001b[39m\u001b[39m.\u001b[39mnodes\u001b[39m.\u001b[39mappend(SchedulerNode(\u001b[39mself\u001b[39;49m, node, group_fn))\n\u001b[1;32m    607\u001b[0m \u001b[39melif\u001b[39;00m \u001b[39misinstance\u001b[39m(node, ir\u001b[39m.\u001b[39mExternKernel):\n\u001b[1;32m    608\u001b[0m     \u001b[39mself\u001b[39m\u001b[39m.\u001b[39mnodes\u001b[39m.\u001b[39mappend(ExternKernelSchedulerNode(\u001b[39mself\u001b[39m, node))\n",
      "File \u001b[0;32m/opt/conda/lib/python3.10/site-packages/torch/_inductor/scheduler.py:327\u001b[0m, in \u001b[0;36mSchedulerNode.__init__\u001b[0;34m(self, scheduler, node, group_fn)\u001b[0m\n\u001b[1;32m    322\u001b[0m \u001b[39mdef\u001b[39;00m \u001b[39m__init__\u001b[39m(\u001b[39mself\u001b[39m, scheduler: \u001b[39m\"\u001b[39m\u001b[39mScheduler\u001b[39m\u001b[39m\"\u001b[39m, node: ir\u001b[39m.\u001b[39mComputedBuffer, group_fn):\n\u001b[1;32m    323\u001b[0m     \u001b[39msuper\u001b[39m()\u001b[39m.\u001b[39m\u001b[39m__init__\u001b[39m(scheduler, node)\n\u001b[1;32m    324\u001b[0m     (\n\u001b[1;32m    325\u001b[0m         \u001b[39mself\u001b[39m\u001b[39m.\u001b[39m_sizes,\n\u001b[1;32m    326\u001b[0m         \u001b[39mself\u001b[39m\u001b[39m.\u001b[39m_body,\n\u001b[0;32m--> 327\u001b[0m     ) \u001b[39m=\u001b[39m node\u001b[39m.\u001b[39;49msimplify_and_reorder()\n\u001b[1;32m    329\u001b[0m     \u001b[39mself\u001b[39m\u001b[39m.\u001b[39mgroup \u001b[39m=\u001b[39m (node\u001b[39m.\u001b[39mget_device(), group_fn(\u001b[39mself\u001b[39m\u001b[39m.\u001b[39m_sizes))\n\u001b[1;32m    331\u001b[0m     \u001b[39mif\u001b[39;00m \u001b[39mself\u001b[39m\u001b[39m.\u001b[39mis_template():\n",
      "File \u001b[0;32m/opt/conda/lib/python3.10/site-packages/torch/_inductor/ir.py:2244\u001b[0m, in \u001b[0;36mComputedBuffer.simplify_and_reorder\u001b[0;34m(self)\u001b[0m\n\u001b[1;32m   2240\u001b[0m \u001b[39m# retrace the loop body with simplification and reordering applied\u001b[39;00m\n\u001b[1;32m   2241\u001b[0m (iter_vars, reduce_vars), var_ranges \u001b[39m=\u001b[39m dependencies\u001b[39m.\u001b[39mindex_vars_no_squeeze(\n\u001b[1;32m   2242\u001b[0m     iter_ranges, reduce_ranges, prefix\u001b[39m=\u001b[39m\u001b[39m\"\u001b[39m\u001b[39mz\u001b[39m\u001b[39m\"\u001b[39m\n\u001b[1;32m   2243\u001b[0m )\n\u001b[0;32m-> 2244\u001b[0m body \u001b[39m=\u001b[39m LoopBody(\n\u001b[1;32m   2245\u001b[0m     body, [iter_reindex(iter_vars), reduce_reindex(reduce_vars)], var_ranges\n\u001b[1;32m   2246\u001b[0m )\n\u001b[1;32m   2247\u001b[0m \u001b[39mreturn\u001b[39;00m (iter_ranges, reduce_ranges), body\n",
      "File \u001b[0;32m/opt/conda/lib/python3.10/site-packages/torch/_inductor/ir.py:4025\u001b[0m, in \u001b[0;36mLoopBody.__init__\u001b[0;34m(self, fn, args, var_ranges)\u001b[0m\n\u001b[1;32m   4023\u001b[0m \u001b[39mself\u001b[39m\u001b[39m.\u001b[39msubblocks \u001b[39m=\u001b[39m {}\n\u001b[1;32m   4024\u001b[0m \u001b[39mself\u001b[39m\u001b[39m.\u001b[39mindirect_vars \u001b[39m=\u001b[39m []\n\u001b[0;32m-> 4025\u001b[0m \u001b[39mself\u001b[39m\u001b[39m.\u001b[39mroot_block \u001b[39m=\u001b[39m LoopBodyBlock(\u001b[39mself\u001b[39;49m, fn, args)\n\u001b[1;32m   4026\u001b[0m \u001b[39mself\u001b[39m\u001b[39m.\u001b[39mindexing \u001b[39m=\u001b[39m \u001b[39mNone\u001b[39;00m\n",
      "File \u001b[0;32m/opt/conda/lib/python3.10/site-packages/torch/_inductor/ir.py:4168\u001b[0m, in \u001b[0;36mLoopBodyBlock.__init__\u001b[0;34m(self, body, fn, args)\u001b[0m\n\u001b[1;32m   4166\u001b[0m tracer \u001b[39m=\u001b[39m torch\u001b[39m.\u001b[39mfx\u001b[39m.\u001b[39mTracer()\n\u001b[1;32m   4167\u001b[0m tracer\u001b[39m.\u001b[39mgraph \u001b[39m=\u001b[39m torch\u001b[39m.\u001b[39mfx\u001b[39m.\u001b[39mGraph(tracer_cls\u001b[39m=\u001b[39mtracer\u001b[39m.\u001b[39m\u001b[39m__class__\u001b[39m)\n\u001b[0;32m-> 4168\u001b[0m proxy_ops \u001b[39m=\u001b[39m tracer\u001b[39m.\u001b[39;49mcreate_proxy(\u001b[39m\"\u001b[39;49m\u001b[39mplaceholder\u001b[39;49m\u001b[39m\"\u001b[39;49m, \u001b[39m\"\u001b[39;49m\u001b[39mops\u001b[39;49m\u001b[39m\"\u001b[39;49m, (), {})\n\u001b[1;32m   4169\u001b[0m \u001b[39mfrom\u001b[39;00m \u001b[39m.\u001b[39;00m\u001b[39msizevars\u001b[39;00m \u001b[39mimport\u001b[39;00m SimplifyIndexing\n\u001b[1;32m   4171\u001b[0m \u001b[39mwith\u001b[39;00m V\u001b[39m.\u001b[39mset_ops_handler(\n\u001b[1;32m   4172\u001b[0m     SimplifyIndexing(CaptureIndexing(proxy_ops), \u001b[39mself\u001b[39m\u001b[39m.\u001b[39mbody\u001b[39m.\u001b[39mvar_ranges)\n\u001b[1;32m   4173\u001b[0m ):\n",
      "File \u001b[0;32m/opt/conda/lib/python3.10/site-packages/torch/fx/proxy.py:156\u001b[0m, in \u001b[0;36mTracerBase.create_proxy\u001b[0;34m(self, kind, target, args, kwargs, name, type_expr, proxy_factory_fn)\u001b[0m\n\u001b[1;32m    153\u001b[0m \u001b[39massert\u001b[39;00m \u001b[39misinstance\u001b[39m(args_, \u001b[39mtuple\u001b[39m)\n\u001b[1;32m    154\u001b[0m \u001b[39massert\u001b[39;00m \u001b[39misinstance\u001b[39m(kwargs_, \u001b[39mdict\u001b[39m)\n\u001b[0;32m--> 156\u001b[0m node \u001b[39m=\u001b[39m \u001b[39mself\u001b[39;49m\u001b[39m.\u001b[39;49mcreate_node(kind, target, args_, kwargs_, name, type_expr)\n\u001b[1;32m    158\u001b[0m \u001b[39mif\u001b[39;00m \u001b[39mnot\u001b[39;00m proxy_factory_fn:\n\u001b[1;32m    159\u001b[0m     proxy \u001b[39m=\u001b[39m \u001b[39mself\u001b[39m\u001b[39m.\u001b[39mproxy(node)\n",
      "File \u001b[0;32m/opt/conda/lib/python3.10/site-packages/torch/fx/proxy.py:122\u001b[0m, in \u001b[0;36mTracerBase.create_node\u001b[0;34m(self, kind, target, args, kwargs, name, type_expr)\u001b[0m\n\u001b[1;32m    119\u001b[0m \u001b[39mif\u001b[39;00m kind \u001b[39m==\u001b[39m \u001b[39m'\u001b[39m\u001b[39mcall_function\u001b[39m\u001b[39m'\u001b[39m \u001b[39mand\u001b[39;00m \u001b[39mself\u001b[39m\u001b[39m.\u001b[39mcheck_mutable_operations:\n\u001b[1;32m    120\u001b[0m     check_for_mutable_operation(target, args, kwargs)\n\u001b[0;32m--> 122\u001b[0m node \u001b[39m=\u001b[39m \u001b[39mself\u001b[39;49m\u001b[39m.\u001b[39;49mgraph\u001b[39m.\u001b[39;49mcreate_node(kind, target, args, kwargs, name, type_expr)\n\u001b[1;32m    123\u001b[0m \u001b[39m# TODO node_name_to_scope will be depricated in favor of\u001b[39;00m\n\u001b[1;32m    124\u001b[0m \u001b[39m# node.meta['nn_module_stack']\u001b[39;00m\n\u001b[1;32m    125\u001b[0m \u001b[39mself\u001b[39m\u001b[39m.\u001b[39mnode_name_to_scope[node\u001b[39m.\u001b[39mname] \u001b[39m=\u001b[39m (\n\u001b[1;32m    126\u001b[0m     \u001b[39mself\u001b[39m\u001b[39m.\u001b[39mscope\u001b[39m.\u001b[39mmodule_path,\n\u001b[1;32m    127\u001b[0m     \u001b[39mself\u001b[39m\u001b[39m.\u001b[39mscope\u001b[39m.\u001b[39mmodule_type,\n\u001b[1;32m    128\u001b[0m )\n",
      "File \u001b[0;32m/opt/conda/lib/python3.10/site-packages/torch/fx/graph.py:842\u001b[0m, in \u001b[0;36mGraph.create_node\u001b[0;34m(self, op, target, args, kwargs, name, type_expr)\u001b[0m\n\u001b[1;32m    840\u001b[0m candidate \u001b[39m=\u001b[39m name \u001b[39mif\u001b[39;00m name \u001b[39mis\u001b[39;00m \u001b[39mnot\u001b[39;00m \u001b[39mNone\u001b[39;00m \u001b[39melse\u001b[39;00m \u001b[39mself\u001b[39m\u001b[39m.\u001b[39m_target_to_str(target)\n\u001b[1;32m    841\u001b[0m name \u001b[39m=\u001b[39m \u001b[39mself\u001b[39m\u001b[39m.\u001b[39m_graph_namespace\u001b[39m.\u001b[39mcreate_name(candidate, \u001b[39mNone\u001b[39;00m)\n\u001b[0;32m--> 842\u001b[0m n \u001b[39m=\u001b[39m Node(\u001b[39mself\u001b[39;49m, name, op, target, args, kwargs, type_expr)\n\u001b[1;32m    844\u001b[0m \u001b[39mself\u001b[39m\u001b[39m.\u001b[39m_graph_namespace\u001b[39m.\u001b[39massociate_name_with_obj(name, n)\n\u001b[1;32m    846\u001b[0m \u001b[39mself\u001b[39m\u001b[39m.\u001b[39m_insert(n)\n",
      "File \u001b[0;32m/opt/conda/lib/python3.10/site-packages/torch/fx/node.py:183\u001b[0m, in \u001b[0;36mNode.__init__\u001b[0;34m(self, graph, name, op, target, args, kwargs, return_type)\u001b[0m\n\u001b[1;32m    177\u001b[0m \u001b[39m# being invoked, e.g add, layer1, or torch.add\u001b[39;00m\n\u001b[1;32m    178\u001b[0m \n\u001b[1;32m    179\u001b[0m \u001b[39m# All `Node`-valued inputs. Key is the Node, value is don't-care.\u001b[39;00m\n\u001b[1;32m    180\u001b[0m \u001b[39m# The public API for this is `all_input_nodes`, this private attribute\u001b[39;00m\n\u001b[1;32m    181\u001b[0m \u001b[39m# should not be accessed directly.\u001b[39;00m\n\u001b[1;32m    182\u001b[0m \u001b[39mself\u001b[39m\u001b[39m.\u001b[39m_input_nodes : Dict[Node, \u001b[39mNone\u001b[39;00m] \u001b[39m=\u001b[39m {}\n\u001b[0;32m--> 183\u001b[0m \u001b[39mself\u001b[39;49m\u001b[39m.\u001b[39;49m__update_args_kwargs(map_arg(args, \u001b[39mlambda\u001b[39;49;00m x: x), map_arg(kwargs, \u001b[39mlambda\u001b[39;49;00m x: x))  \u001b[39m# type: ignore[arg-type]\u001b[39;00m\n\u001b[1;32m    185\u001b[0m \u001b[39m# All of the nodes that use the value produced by this Node\u001b[39;00m\n\u001b[1;32m    186\u001b[0m \u001b[39m# Note one user may correspond to several uses, e.g. the node fo ``x + x``\u001b[39;00m\n\u001b[1;32m    187\u001b[0m \u001b[39m# would appear once here, but represents two uses.\u001b[39;00m\n\u001b[1;32m    188\u001b[0m \u001b[39m#\u001b[39;00m\n\u001b[1;32m    189\u001b[0m \u001b[39m# Is a dict to act as an \"ordered set\". Keys are significant, value dont-care\u001b[39;00m\n\u001b[1;32m    190\u001b[0m \u001b[39mself\u001b[39m\u001b[39m.\u001b[39musers : Dict[\u001b[39m'\u001b[39m\u001b[39mNode\u001b[39m\u001b[39m'\u001b[39m, \u001b[39mNone\u001b[39;00m] \u001b[39m=\u001b[39m {}\n",
      "File \u001b[0;32m/opt/conda/lib/python3.10/site-packages/torch/fx/node.py:388\u001b[0m, in \u001b[0;36mNode.__update_args_kwargs\u001b[0;34m(self, new_args, new_kwargs)\u001b[0m\n\u001b[1;32m    386\u001b[0m \u001b[39mself\u001b[39m\u001b[39m.\u001b[39m_input_nodes \u001b[39m=\u001b[39m {}\n\u001b[1;32m    387\u001b[0m map_arg(\u001b[39mself\u001b[39m\u001b[39m.\u001b[39m_args, \u001b[39mlambda\u001b[39;00m n: \u001b[39mself\u001b[39m\u001b[39m.\u001b[39m_input_nodes\u001b[39m.\u001b[39msetdefault(n))\n\u001b[0;32m--> 388\u001b[0m map_arg(\u001b[39mself\u001b[39;49m\u001b[39m.\u001b[39;49m_kwargs, \u001b[39mlambda\u001b[39;49;00m n: \u001b[39mself\u001b[39;49m\u001b[39m.\u001b[39;49m_input_nodes\u001b[39m.\u001b[39;49msetdefault(n))\n\u001b[1;32m    390\u001b[0m \u001b[39mfor\u001b[39;00m new_use \u001b[39min\u001b[39;00m \u001b[39mself\u001b[39m\u001b[39m.\u001b[39m_input_nodes\u001b[39m.\u001b[39mkeys():\n\u001b[1;32m    391\u001b[0m     new_use\u001b[39m.\u001b[39musers\u001b[39m.\u001b[39msetdefault(\u001b[39mself\u001b[39m)\n",
      "File \u001b[0;32m/opt/conda/lib/python3.10/site-packages/torch/fx/node.py:621\u001b[0m, in \u001b[0;36mmap_arg\u001b[0;34m(a, fn)\u001b[0m\n\u001b[1;32m    617\u001b[0m \u001b[39m\"\"\"\u001b[39;00m\n\u001b[1;32m    618\u001b[0m \u001b[39mApply fn to each Node appearing arg. arg may be a list, tuple, slice, or dict with string keys.\u001b[39;00m\n\u001b[1;32m    619\u001b[0m \u001b[39m\"\"\"\u001b[39;00m\n\u001b[1;32m    620\u001b[0m \u001b[39massert\u001b[39;00m callable(fn), \u001b[39m\"\u001b[39m\u001b[39mtorch.fx.map_arg(a, fn): fn must be a callable\u001b[39m\u001b[39m\"\u001b[39m\n\u001b[0;32m--> 621\u001b[0m \u001b[39mreturn\u001b[39;00m map_aggregate(a, \u001b[39mlambda\u001b[39;49;00m x: fn(x) \u001b[39mif\u001b[39;49;00m \u001b[39misinstance\u001b[39;49m(x, Node) \u001b[39melse\u001b[39;49;00m x)\n",
      "File \u001b[0;32m/opt/conda/lib/python3.10/site-packages/torch/fx/node.py:632\u001b[0m, in \u001b[0;36mmap_aggregate\u001b[0;34m(a, fn)\u001b[0m\n\u001b[1;32m    630\u001b[0m     \u001b[39m# Support NamedTuple (if it has `_fields`) by repacking into original type.\u001b[39;00m\n\u001b[1;32m    631\u001b[0m     \u001b[39mreturn\u001b[39;00m t \u001b[39mif\u001b[39;00m \u001b[39mnot\u001b[39;00m \u001b[39mhasattr\u001b[39m(a, \u001b[39m'\u001b[39m\u001b[39m_fields\u001b[39m\u001b[39m'\u001b[39m) \u001b[39melse\u001b[39;00m \u001b[39mtype\u001b[39m(a)(\u001b[39m*\u001b[39mt)\n\u001b[0;32m--> 632\u001b[0m \u001b[39melif\u001b[39;00m \u001b[39misinstance\u001b[39;49m(a, \u001b[39mlist\u001b[39;49m):\n\u001b[1;32m    633\u001b[0m     \u001b[39mreturn\u001b[39;00m immutable_list(map_aggregate(elem, fn) \u001b[39mfor\u001b[39;00m elem \u001b[39min\u001b[39;00m a)\n\u001b[1;32m    634\u001b[0m \u001b[39melif\u001b[39;00m \u001b[39misinstance\u001b[39m(a, \u001b[39mdict\u001b[39m):\n",
      "\u001b[0;31mKeyboardInterrupt\u001b[0m: "
     ]
    }
   ],
   "source": [
    "for _ in range(100):\n",
    "    model(torch.randn(128, 3, 32, 32))"
   ]
  },
  {
   "cell_type": "code",
   "execution_count": 7,
   "metadata": {},
   "outputs": [
    {
     "ename": "RuntimeError",
     "evalue": "Index tensor must have the same number of dimensions as input tensor",
     "output_type": "error",
     "traceback": [
      "\u001b[0;31m---------------------------------------------------------------------------\u001b[0m",
      "\u001b[0;31mRuntimeError\u001b[0m                              Traceback (most recent call last)",
      "Cell \u001b[0;32mIn[7], line 6\u001b[0m\n\u001b[1;32m      3\u001b[0m pred \u001b[39m=\u001b[39m torch\u001b[39m.\u001b[39mrand((\u001b[39m16\u001b[39m, \u001b[39m5\u001b[39m))\n\u001b[1;32m      4\u001b[0m targets \u001b[39m=\u001b[39m torch\u001b[39m.\u001b[39mrandint(\u001b[39m0\u001b[39m, \u001b[39m5\u001b[39m, (\u001b[39m16\u001b[39m,))\n\u001b[0;32m----> 6\u001b[0m pred\u001b[39m.\u001b[39;49mgather(\u001b[39m-\u001b[39;49m\u001b[39m1\u001b[39;49m, targets)\n",
      "\u001b[0;31mRuntimeError\u001b[0m: Index tensor must have the same number of dimensions as input tensor"
     ]
    }
   ],
   "source": [
    "import torch\n",
    "\n",
    "pred = torch.rand((16, 5))\n",
    "targets = torch.randint(0, 5, (16,))\n",
    "\n",
    "pred.gather(-1, targets)"
   ]
  },
  {
   "cell_type": "code",
   "execution_count": 11,
   "metadata": {},
   "outputs": [
    {
     "data": {
      "text/plain": [
       "tensor([[0.2210, 0.7040, 0.4161, 0.0273, 0.6902],\n",
       "        [0.7466, 0.8821, 0.4505, 0.5285, 0.4970],\n",
       "        [0.0588, 0.9751, 0.8761, 0.8675, 0.8407],\n",
       "        [0.0035, 0.5374, 0.9740, 0.0327, 0.0066],\n",
       "        [0.0437, 0.4543, 0.7378, 0.1812, 0.7737],\n",
       "        [0.7320, 0.7815, 0.5251, 0.3953, 0.8363],\n",
       "        [0.9534, 0.4789, 0.5365, 0.5184, 0.0762],\n",
       "        [0.7276, 0.0134, 0.3733, 0.2014, 0.0687],\n",
       "        [0.5973, 0.5040, 0.3830, 0.8360, 0.1340],\n",
       "        [0.3320, 0.1993, 0.1671, 0.7066, 0.1615],\n",
       "        [0.1017, 0.6391, 0.7264, 0.6258, 0.0306],\n",
       "        [0.8389, 0.6345, 0.2120, 0.1363, 0.7379],\n",
       "        [0.5635, 0.8438, 0.8260, 0.9601, 0.1803],\n",
       "        [0.1183, 0.4450, 0.5017, 0.8711, 0.7920],\n",
       "        [0.7960, 0.6440, 0.1637, 0.3214, 0.7297],\n",
       "        [0.8142, 0.5155, 0.9135, 0.0790, 0.1703]])"
      ]
     },
     "execution_count": 11,
     "metadata": {},
     "output_type": "execute_result"
    }
   ],
   "source": [
    "pred"
   ]
  },
  {
   "cell_type": "code",
   "execution_count": 10,
   "metadata": {},
   "outputs": [
    {
     "data": {
      "text/plain": [
       "tensor([1, 3, 0, 2, 0, 1, 3, 0, 0, 2, 1, 3, 1, 2, 3, 0])"
      ]
     },
     "execution_count": 10,
     "metadata": {},
     "output_type": "execute_result"
    }
   ],
   "source": [
    "targets"
   ]
  },
  {
   "cell_type": "code",
   "execution_count": 14,
   "metadata": {},
   "outputs": [
    {
     "data": {
      "text/plain": [
       "tensor([0.7040, 0.0273, 0.2210, 0.4161, 0.2210, 0.7040, 0.0273, 0.2210, 0.2210,\n",
       "        0.4161, 0.7040, 0.0273, 0.7040, 0.4161, 0.0273, 0.2210])"
      ]
     },
     "execution_count": 14,
     "metadata": {},
     "output_type": "execute_result"
    }
   ],
   "source": [
    "pred[..., targets][1]"
   ]
  },
  {
   "cell_type": "code",
   "execution_count": 3,
   "metadata": {},
   "outputs": [
    {
     "data": {
      "text/plain": [
       "tensor([[0.4619, 0.0745, 0.1234, 0.2242, 0.2427],\n",
       "        [0.8855, 0.1737, 0.0940, 0.2266, 0.1445],\n",
       "        [0.2405, 0.6437, 0.4272, 0.8162, 0.7046],\n",
       "        [0.5221, 0.8794, 0.2868, 0.9593, 0.2470],\n",
       "        [0.2389, 0.7022, 0.7075, 0.8321, 0.1301],\n",
       "        [0.2389, 0.7022, 0.7075, 0.8321, 0.1301],\n",
       "        [0.2389, 0.7022, 0.7075, 0.8321, 0.1301],\n",
       "        [0.8855, 0.1737, 0.0940, 0.2266, 0.1445],\n",
       "        [0.8855, 0.1737, 0.0940, 0.2266, 0.1445],\n",
       "        [0.5221, 0.8794, 0.2868, 0.9593, 0.2470],\n",
       "        [0.4619, 0.0745, 0.1234, 0.2242, 0.2427],\n",
       "        [0.2405, 0.6437, 0.4272, 0.8162, 0.7046],\n",
       "        [0.5221, 0.8794, 0.2868, 0.9593, 0.2470],\n",
       "        [0.2405, 0.6437, 0.4272, 0.8162, 0.7046],\n",
       "        [0.2405, 0.6437, 0.4272, 0.8162, 0.7046],\n",
       "        [0.5221, 0.8794, 0.2868, 0.9593, 0.2470]])"
      ]
     },
     "execution_count": 3,
     "metadata": {},
     "output_type": "execute_result"
    }
   ],
   "source": [
    "pred[targets]"
   ]
  },
  {
   "cell_type": "code",
   "execution_count": null,
   "metadata": {},
   "outputs": [],
   "source": [
    "import torchvision.transforms\n",
    "import torchvision.transforms.v2\n",
    "\n",
    "torchvision.transforms.AutoAugment\n",
    "torchvision.transforms.v2.AutoAugment"
   ]
  },
  {
   "cell_type": "code",
   "execution_count": 2,
   "metadata": {},
   "outputs": [
    {
     "name": "stdout",
     "output_type": "stream",
     "text": [
      "It's an apple!\n",
      "It's a banana!\n",
      "It's an orange!\n"
     ]
    },
    {
     "ename": "ValueError",
     "evalue": "",
     "output_type": "error",
     "traceback": [
      "\u001b[0;31m---------------------------------------------------------------------------\u001b[0m",
      "\u001b[0;31mValueError\u001b[0m                                Traceback (most recent call last)",
      "Cell \u001b[0;32mIn[2], line 15\u001b[0m\n\u001b[1;32m     13\u001b[0m classify_fruit(\u001b[39m'\u001b[39m\u001b[39mbanana\u001b[39m\u001b[39m'\u001b[39m)\n\u001b[1;32m     14\u001b[0m classify_fruit(\u001b[39m'\u001b[39m\u001b[39morange\u001b[39m\u001b[39m'\u001b[39m)\n\u001b[0;32m---> 15\u001b[0m classify_fruit(\u001b[39m'\u001b[39;49m\u001b[39mgrape\u001b[39;49m\u001b[39m'\u001b[39;49m)\n",
      "Cell \u001b[0;32mIn[2], line 10\u001b[0m, in \u001b[0;36mclassify_fruit\u001b[0;34m(fruit)\u001b[0m\n\u001b[1;32m      1\u001b[0m \u001b[39mdef\u001b[39;00m \u001b[39mclassify_fruit\u001b[39m(fruit):\n\u001b[1;32m      2\u001b[0m     \u001b[39mmatch\u001b[39;00m fruit:\n\u001b[1;32m      3\u001b[0m         \u001b[39mcase\u001b[39;00m \u001b[39m'\u001b[39m\u001b[39mapple\u001b[39m\u001b[39m'\u001b[39m:\n\u001b[1;32m      4\u001b[0m             \u001b[39mprint\u001b[39m(\u001b[39m\"\u001b[39m\u001b[39mIt\u001b[39m\u001b[39m'\u001b[39m\u001b[39ms an apple!\u001b[39m\u001b[39m\"\u001b[39m)\n\u001b[1;32m      5\u001b[0m         \u001b[39mcase\u001b[39;00m \u001b[39m'\u001b[39m\u001b[39mbanana\u001b[39m\u001b[39m'\u001b[39m:\n\u001b[1;32m      6\u001b[0m             \u001b[39mprint\u001b[39m(\u001b[39m\"\u001b[39m\u001b[39mIt\u001b[39m\u001b[39m'\u001b[39m\u001b[39ms a banana!\u001b[39m\u001b[39m\"\u001b[39m)\n\u001b[1;32m      7\u001b[0m         \u001b[39mcase\u001b[39;00m \u001b[39m'\u001b[39m\u001b[39morange\u001b[39m\u001b[39m'\u001b[39m:\n\u001b[1;32m      8\u001b[0m             \u001b[39mprint\u001b[39m(\u001b[39m\"\u001b[39m\u001b[39mIt\u001b[39m\u001b[39m'\u001b[39m\u001b[39ms an orange!\u001b[39m\u001b[39m\"\u001b[39m)\n\u001b[1;32m      9\u001b[0m         \u001b[39mcase\u001b[39;00m \u001b[39m_\u001b[39;00m:\n\u001b[0;32m---> 10\u001b[0m             \u001b[39mraise\u001b[39;00m \u001b[39mValueError\u001b[39;00m\n",
      "\u001b[0;31mValueError\u001b[0m: "
     ]
    }
   ],
   "source": [
    "def classify_fruit(fruit):\n",
    "    match fruit:\n",
    "        case 'apple':\n",
    "            print(\"It's an apple!\")\n",
    "        case 'banana':\n",
    "            print(\"It's a banana!\")\n",
    "        case 'orange':\n",
    "            print(\"It's an orange!\")\n",
    "        case _:\n",
    "            raise ValueError\n",
    "\n",
    "classify_fruit('apple')\n",
    "classify_fruit('banana')\n",
    "classify_fruit('orange')\n",
    "classify_fruit('grape')\n"
   ]
  },
  {
   "cell_type": "code",
   "execution_count": 4,
   "metadata": {},
   "outputs": [
    {
     "ename": "NotImplementedError",
     "evalue": "123",
     "output_type": "error",
     "traceback": [
      "\u001b[0;31m---------------------------------------------------------------------------\u001b[0m",
      "\u001b[0;31mNotImplementedError\u001b[0m                       Traceback (most recent call last)",
      "Cell \u001b[0;32mIn[4], line 1\u001b[0m\n\u001b[0;32m----> 1\u001b[0m \u001b[39mraise\u001b[39;00m \u001b[39mNotImplementedError\u001b[39;00m(\u001b[39m123\u001b[39m)\n",
      "\u001b[0;31mNotImplementedError\u001b[0m: 123"
     ]
    }
   ],
   "source": [
    "raise NotImplementedError(123)"
   ]
  },
  {
   "cell_type": "code",
   "execution_count": 5,
   "metadata": {},
   "outputs": [
    {
     "ename": "RuntimeError",
     "evalue": "stack expects each tensor to be equal size, but got [3, 2] at entry 0 and [2, 2] at entry 1",
     "output_type": "error",
     "traceback": [
      "\u001b[0;31m---------------------------------------------------------------------------\u001b[0m",
      "\u001b[0;31mRuntimeError\u001b[0m                              Traceback (most recent call last)",
      "Cell \u001b[0;32mIn[5], line 6\u001b[0m\n\u001b[1;32m      3\u001b[0m x1 \u001b[39m=\u001b[39m torch\u001b[39m.\u001b[39mrand((\u001b[39m3\u001b[39m,\u001b[39m2\u001b[39m))\n\u001b[1;32m      4\u001b[0m x2 \u001b[39m=\u001b[39m torch\u001b[39m.\u001b[39mrand((\u001b[39m2\u001b[39m,\u001b[39m2\u001b[39m))\n\u001b[0;32m----> 6\u001b[0m torch\u001b[39m.\u001b[39;49mstack([x1,x2])\n",
      "\u001b[0;31mRuntimeError\u001b[0m: stack expects each tensor to be equal size, but got [3, 2] at entry 0 and [2, 2] at entry 1"
     ]
    }
   ],
   "source": [
    "import torch\n",
    "\n",
    "x1 = torch.rand((3,2))\n",
    "x2 = torch.rand((2,2))\n",
    "\n",
    "torch.stack([x1,x2])"
   ]
  },
  {
   "cell_type": "code",
   "execution_count": 6,
   "metadata": {},
   "outputs": [
    {
     "data": {
      "text/plain": [
       "tensor([[1, 2],\n",
       "        [3, 4],\n",
       "        [1, 2],\n",
       "        [3, 4]])"
      ]
     },
     "execution_count": 6,
     "metadata": {},
     "output_type": "execute_result"
    }
   ],
   "source": [
    "import torch\n",
    "\n",
    "x = torch.tensor([[1,2], [3,4]])\n",
    "x.repeat(2,1)"
   ]
  },
  {
   "cell_type": "code",
   "execution_count": 8,
   "metadata": {},
   "outputs": [
    {
     "data": {
      "text/plain": [
       "tensor([[[1, 2],\n",
       "         [1, 2]],\n",
       "\n",
       "        [[3, 4],\n",
       "         [3, 4]]])"
      ]
     },
     "execution_count": 8,
     "metadata": {},
     "output_type": "execute_result"
    }
   ],
   "source": [
    "x[:,None,:].repeat(1,2,1).view(4,2).view(2,2,2)"
   ]
  },
  {
   "cell_type": "code",
   "execution_count": 13,
   "metadata": {},
   "outputs": [],
   "source": [
    "import einops\n",
    "\n",
    "x = torch.tensor([[1,2], [3,4]])\n",
    "x = einops.repeat(x, 'b c -> (b n) c', n=2)"
   ]
  },
  {
   "cell_type": "code",
   "execution_count": 12,
   "metadata": {},
   "outputs": [
    {
     "data": {
      "text/plain": [
       "tensor([[1, 2],\n",
       "        [1, 2],\n",
       "        [3, 4],\n",
       "        [3, 4]])"
      ]
     },
     "execution_count": 12,
     "metadata": {},
     "output_type": "execute_result"
    }
   ],
   "source": [
    "einops.rearrange(x, 'b n c -> (b n) c')"
   ]
  },
  {
   "cell_type": "code",
   "execution_count": 15,
   "metadata": {},
   "outputs": [
    {
     "data": {
      "text/plain": [
       "tensor([[1, 2],\n",
       "        [1, 2],\n",
       "        [3, 4],\n",
       "        [3, 4]])"
      ]
     },
     "execution_count": 15,
     "metadata": {},
     "output_type": "execute_result"
    }
   ],
   "source": [
    "x"
   ]
  },
  {
   "cell_type": "code",
   "execution_count": 3,
   "metadata": {},
   "outputs": [],
   "source": [
    "import torch\n",
    "\n",
    "\n",
    "logits = torch.randn((2, 3, 4))\n",
    "targets = torch.randint(0, 3, (2, 4))\n",
    "\n",
    "loss = torch.nn.functional.cross_entropy(logits, targets, reduction='none')"
   ]
  },
  {
   "cell_type": "code",
   "execution_count": 7,
   "metadata": {},
   "outputs": [
    {
     "data": {
      "image/png": "[encoded data removed]",
      "text/plain": [
       "<Figure size 640x480 with 4 Axes>"
      ]
     },
     "metadata": {},
     "output_type": "display_data"
    }
   ],
   "source": []
  },
  {
   "cell_type": "code",
   "execution_count": 13,
   "metadata": {},
   "outputs": [
    {
     "data": {
      "image/png": "[encoded data removed]",
      "text/plain": [
       "<Figure size 640x480 with 4 Axes>"
      ]
     },
     "metadata": {},
     "output_type": "display_data"
    }
   ],
   "source": [
    "from torchvision import transforms\n",
    "import torch\n",
    "import torchshow\n",
    "\n",
    "x = torch.randint(0, 255, (4, 3, 32, 32), dtype=torch.uint8)\n",
    "random_crop = transforms.Compose([\n",
    "    transforms.RandomCrop(32, padding=4),\n",
    "    transforms.RandomHorizontalFlip(),\n",
    "])\n",
    "auto_augment = transforms.AutoAugment(transforms.AutoAugmentPolicy.CIFAR10)\n",
    "\n",
    "torchshow.show(auto_augment(x))"
   ]
  },
  {
   "cell_type": "code",
   "execution_count": 19,
   "metadata": {},
   "outputs": [],
   "source": [
    "fn = torch.vmap(torch.compile(auto_augment), randomness=\"different\")"
   ]
  },
  {
   "cell_type": "code",
   "execution_count": 20,
   "metadata": {},
   "outputs": [
    {
     "ename": "InternalTorchDynamoError",
     "evalue": "",
     "output_type": "error",
     "traceback": [
      "\u001b[0;31m---------------------------------------------------------------------------\u001b[0m",
      "\u001b[0;31mNotImplementedError\u001b[0m                       Traceback (most recent call last)",
      "File \u001b[0;32m/opt/conda/lib/python3.10/site-packages/torch/_dynamo/convert_frame.py:324\u001b[0m, in \u001b[0;36m_compile\u001b[0;34m(code, globals, locals, builtins, compiler_fn, one_graph, export, hooks, frame)\u001b[0m\n\u001b[1;32m    323\u001b[0m \u001b[39mtry\u001b[39;00m:\n\u001b[0;32m--> 324\u001b[0m     out_code \u001b[39m=\u001b[39m transform_code_object(code, transform)\n\u001b[1;32m    325\u001b[0m     orig_code_map[out_code] \u001b[39m=\u001b[39m code\n",
      "File \u001b[0;32m/opt/conda/lib/python3.10/site-packages/torch/_dynamo/bytecode_transformation.py:445\u001b[0m, in \u001b[0;36mtransform_code_object\u001b[0;34m(code, transformations, safe)\u001b[0m\n\u001b[1;32m    443\u001b[0m propagate_line_nums(instructions)\n\u001b[0;32m--> 445\u001b[0m transformations(instructions, code_options)\n\u001b[1;32m    446\u001b[0m \u001b[39mreturn\u001b[39;00m clean_and_assemble_instructions(instructions, keys, code_options)[\u001b[39m1\u001b[39m]\n",
      "File \u001b[0;32m/opt/conda/lib/python3.10/site-packages/torch/_dynamo/convert_frame.py:299\u001b[0m, in \u001b[0;36m_compile.<locals>.transform\u001b[0;34m(instructions, code_options)\u001b[0m\n\u001b[1;32m    298\u001b[0m \u001b[39mnonlocal\u001b[39;00m output\n\u001b[0;32m--> 299\u001b[0m tracer \u001b[39m=\u001b[39m InstructionTranslator(\n\u001b[1;32m    300\u001b[0m     instructions,\n\u001b[1;32m    301\u001b[0m     code,\n\u001b[1;32m    302\u001b[0m     \u001b[39mlocals\u001b[39;49m,\n\u001b[1;32m    303\u001b[0m     \u001b[39mglobals\u001b[39;49m,\n\u001b[1;32m    304\u001b[0m     builtins,\n\u001b[1;32m    305\u001b[0m     code_options,\n\u001b[1;32m    306\u001b[0m     compiler_fn,\n\u001b[1;32m    307\u001b[0m     one_graph,\n\u001b[1;32m    308\u001b[0m     export,\n\u001b[1;32m    309\u001b[0m     mutated_closure_cell_contents,\n\u001b[1;32m    310\u001b[0m )\n\u001b[1;32m    311\u001b[0m tracer\u001b[39m.\u001b[39mrun()\n",
      "File \u001b[0;32m/opt/conda/lib/python3.10/site-packages/torch/_dynamo/symbolic_convert.py:1670\u001b[0m, in \u001b[0;36mInstructionTranslator.__init__\u001b[0;34m(self, instructions, f_code, f_locals, f_globals, f_builtins, code_options, compiler_fn, one_graph, export, mutated_closure_cell_contents)\u001b[0m\n\u001b[1;32m   1668\u001b[0m \u001b[39mvars\u001b[39m\u001b[39m.\u001b[39mextend(x \u001b[39mfor\u001b[39;00m x \u001b[39min\u001b[39;00m \u001b[39mself\u001b[39m\u001b[39m.\u001b[39mcell_and_freevars() \u001b[39mif\u001b[39;00m x \u001b[39mnot\u001b[39;00m \u001b[39min\u001b[39;00m \u001b[39mvars\u001b[39m)\n\u001b[0;32m-> 1670\u001b[0m \u001b[39mself\u001b[39m\u001b[39m.\u001b[39msymbolic_locals \u001b[39m=\u001b[39m collections\u001b[39m.\u001b[39;49mOrderedDict(\n\u001b[1;32m   1671\u001b[0m     (\n\u001b[1;32m   1672\u001b[0m         k,\n\u001b[1;32m   1673\u001b[0m         VariableBuilder(\n\u001b[1;32m   1674\u001b[0m             \u001b[39mself\u001b[39;49m,\n\u001b[1;32m   1675\u001b[0m             LocalInputSource(k, code_options[\u001b[39m\"\u001b[39;49m\u001b[39mco_varnames\u001b[39;49m\u001b[39m\"\u001b[39;49m]\u001b[39m.\u001b[39;49mindex(k))\n\u001b[1;32m   1676\u001b[0m             \u001b[39mif\u001b[39;49;00m k \u001b[39min\u001b[39;49;00m code_options[\u001b[39m\"\u001b[39;49m\u001b[39mco_varnames\u001b[39;49m\u001b[39m\"\u001b[39;49m]\n\u001b[1;32m   1677\u001b[0m             \u001b[39melse\u001b[39;49;00m LocalSource((k)),\n\u001b[1;32m   1678\u001b[0m         )(f_locals[k]),\n\u001b[1;32m   1679\u001b[0m     )\n\u001b[1;32m   1680\u001b[0m     \u001b[39mfor\u001b[39;49;00m k \u001b[39min\u001b[39;49;00m \u001b[39mvars\u001b[39;49m\n\u001b[1;32m   1681\u001b[0m     \u001b[39mif\u001b[39;49;00m k \u001b[39min\u001b[39;49;00m f_locals\n\u001b[1;32m   1682\u001b[0m )\n\u001b[1;32m   1684\u001b[0m \u001b[39m# symbolic_locals contains the mapping from original f_locals to the\u001b[39;00m\n\u001b[1;32m   1685\u001b[0m \u001b[39m# Variable objects. During the Variable building phase, each object also\u001b[39;00m\n\u001b[1;32m   1686\u001b[0m \u001b[39m# has its associated guards. At the end, we will accumulate these\u001b[39;00m\n\u001b[0;32m   (...)\u001b[0m\n\u001b[1;32m   1699\u001b[0m \u001b[39m# next invocation when args is not a list, and args[0] is a runtime\u001b[39;00m\n\u001b[1;32m   1700\u001b[0m \u001b[39m# error. Therefore, we recursively add guards for list/dict variable here.\u001b[39;00m\n",
      "File \u001b[0;32m/opt/conda/lib/python3.10/site-packages/torch/_dynamo/symbolic_convert.py:1673\u001b[0m, in \u001b[0;36m<genexpr>\u001b[0;34m(.0)\u001b[0m\n\u001b[1;32m   1668\u001b[0m \u001b[39mvars\u001b[39m\u001b[39m.\u001b[39mextend(x \u001b[39mfor\u001b[39;00m x \u001b[39min\u001b[39;00m \u001b[39mself\u001b[39m\u001b[39m.\u001b[39mcell_and_freevars() \u001b[39mif\u001b[39;00m x \u001b[39mnot\u001b[39;00m \u001b[39min\u001b[39;00m \u001b[39mvars\u001b[39m)\n\u001b[1;32m   1670\u001b[0m \u001b[39mself\u001b[39m\u001b[39m.\u001b[39msymbolic_locals \u001b[39m=\u001b[39m collections\u001b[39m.\u001b[39mOrderedDict(\n\u001b[1;32m   1671\u001b[0m     (\n\u001b[1;32m   1672\u001b[0m         k,\n\u001b[0;32m-> 1673\u001b[0m         VariableBuilder(\n\u001b[1;32m   1674\u001b[0m             \u001b[39mself\u001b[39;49m,\n\u001b[1;32m   1675\u001b[0m             LocalInputSource(k, code_options[\u001b[39m\"\u001b[39;49m\u001b[39mco_varnames\u001b[39;49m\u001b[39m\"\u001b[39;49m]\u001b[39m.\u001b[39;49mindex(k))\n\u001b[1;32m   1676\u001b[0m             \u001b[39mif\u001b[39;49;00m k \u001b[39min\u001b[39;49;00m code_options[\u001b[39m\"\u001b[39;49m\u001b[39mco_varnames\u001b[39;49m\u001b[39m\"\u001b[39;49m]\n\u001b[1;32m   1677\u001b[0m             \u001b[39melse\u001b[39;49;00m LocalSource((k)),\n\u001b[1;32m   1678\u001b[0m         )(f_locals[k]),\n\u001b[1;32m   1679\u001b[0m     )\n\u001b[1;32m   1680\u001b[0m     \u001b[39mfor\u001b[39;00m k \u001b[39min\u001b[39;00m \u001b[39mvars\u001b[39m\n\u001b[1;32m   1681\u001b[0m     \u001b[39mif\u001b[39;00m k \u001b[39min\u001b[39;00m f_locals\n\u001b[1;32m   1682\u001b[0m )\n\u001b[1;32m   1684\u001b[0m \u001b[39m# symbolic_locals contains the mapping from original f_locals to the\u001b[39;00m\n\u001b[1;32m   1685\u001b[0m \u001b[39m# Variable objects. During the Variable building phase, each object also\u001b[39;00m\n\u001b[1;32m   1686\u001b[0m \u001b[39m# has its associated guards. At the end, we will accumulate these\u001b[39;00m\n\u001b[0;32m   (...)\u001b[0m\n\u001b[1;32m   1699\u001b[0m \u001b[39m# next invocation when args is not a list, and args[0] is a runtime\u001b[39;00m\n\u001b[1;32m   1700\u001b[0m \u001b[39m# error. Therefore, we recursively add guards for list/dict variable here.\u001b[39;00m\n",
      "File \u001b[0;32m/opt/conda/lib/python3.10/site-packages/torch/_dynamo/variables/builder.py:172\u001b[0m, in \u001b[0;36mVariableBuilder.__call__\u001b[0;34m(self, value)\u001b[0m\n\u001b[1;32m    171\u001b[0m     \u001b[39mreturn\u001b[39;00m \u001b[39mself\u001b[39m\u001b[39m.\u001b[39mtx\u001b[39m.\u001b[39moutput\u001b[39m.\u001b[39mside_effects[value]\n\u001b[0;32m--> 172\u001b[0m \u001b[39mreturn\u001b[39;00m \u001b[39mself\u001b[39;49m\u001b[39m.\u001b[39;49m_wrap(value)\u001b[39m.\u001b[39mclone(\u001b[39m*\u001b[39m\u001b[39m*\u001b[39m\u001b[39mself\u001b[39m\u001b[39m.\u001b[39moptions())\n",
      "File \u001b[0;32m/opt/conda/lib/python3.10/site-packages/torch/_dynamo/variables/builder.py:238\u001b[0m, in \u001b[0;36mVariableBuilder._wrap\u001b[0;34m(self, value)\u001b[0m\n\u001b[1;32m    237\u001b[0m \u001b[39mif\u001b[39;00m istensor(value):\n\u001b[0;32m--> 238\u001b[0m     \u001b[39mreturn\u001b[39;00m \u001b[39mself\u001b[39;49m\u001b[39m.\u001b[39;49mwrap_tensor(value)\n\u001b[1;32m    239\u001b[0m \u001b[39melif\u001b[39;00m istype(value, (\u001b[39mtuple\u001b[39m, \u001b[39mlist\u001b[39m, odict_values)) \u001b[39mor\u001b[39;00m is_namedtuple(value):\n\u001b[1;32m    240\u001b[0m     \u001b[39m# One can index a tensor with a list/tuple. Therefore, we need to\u001b[39;00m\n\u001b[1;32m    241\u001b[0m     \u001b[39m# have a stricter match.\u001b[39;00m\n",
      "File \u001b[0;32m/opt/conda/lib/python3.10/site-packages/torch/_dynamo/variables/builder.py:639\u001b[0m, in \u001b[0;36mVariableBuilder.wrap_tensor\u001b[0;34m(self, value)\u001b[0m\n\u001b[1;32m    636\u001b[0m tensor_proxy \u001b[39m=\u001b[39m \u001b[39mself\u001b[39m\u001b[39m.\u001b[39mtx\u001b[39m.\u001b[39moutput\u001b[39m.\u001b[39mcreate_graph_input(\n\u001b[1;32m    637\u001b[0m     re\u001b[39m.\u001b[39msub(\u001b[39mr\u001b[39m\u001b[39m\"\u001b[39m\u001b[39m[^a-zA-Z0-9]+\u001b[39m\u001b[39m\"\u001b[39m, \u001b[39m\"\u001b[39m\u001b[39m_\u001b[39m\u001b[39m\"\u001b[39m, \u001b[39mself\u001b[39m\u001b[39m.\u001b[39mname), \u001b[39mtype\u001b[39m(value)\n\u001b[1;32m    638\u001b[0m )\n\u001b[0;32m--> 639\u001b[0m tensor_variable \u001b[39m=\u001b[39m wrap_fx_proxy(\n\u001b[1;32m    640\u001b[0m     tx\u001b[39m=\u001b[39;49m\u001b[39mself\u001b[39;49m\u001b[39m.\u001b[39;49mtx,\n\u001b[1;32m    641\u001b[0m     proxy\u001b[39m=\u001b[39;49mtensor_proxy,\n\u001b[1;32m    642\u001b[0m     example_value\u001b[39m=\u001b[39;49mvalue,\n\u001b[1;32m    643\u001b[0m     guards\u001b[39m=\u001b[39;49m\u001b[39mself\u001b[39;49m\u001b[39m.\u001b[39;49mmake_guards(GuardBuilder\u001b[39m.\u001b[39;49mTENSOR_MATCH),\n\u001b[1;32m    644\u001b[0m     should_specialize\u001b[39m=\u001b[39;49m\u001b[39mself\u001b[39;49m\u001b[39m.\u001b[39;49mtensor_should_specialize(),\n\u001b[1;32m    645\u001b[0m     ignore_subclass\u001b[39m=\u001b[39;49mignore_subclass,\n\u001b[1;32m    646\u001b[0m     source\u001b[39m=\u001b[39;49m\u001b[39mself\u001b[39;49m\u001b[39m.\u001b[39;49mget_source(),\n\u001b[1;32m    647\u001b[0m )\n\u001b[1;32m    648\u001b[0m \u001b[39massert\u001b[39;00m \u001b[39m\"\u001b[39m\u001b[39mtensor_dict\u001b[39m\u001b[39m\"\u001b[39m \u001b[39mnot\u001b[39;00m \u001b[39min\u001b[39;00m tensor_proxy\u001b[39m.\u001b[39mnode\u001b[39m.\u001b[39mmeta\n",
      "File \u001b[0;32m/opt/conda/lib/python3.10/site-packages/torch/_dynamo/variables/builder.py:754\u001b[0m, in \u001b[0;36mwrap_fx_proxy\u001b[0;34m(tx, proxy, example_value, **options)\u001b[0m\n\u001b[1;32m    753\u001b[0m \u001b[39mdef\u001b[39;00m \u001b[39mwrap_fx_proxy\u001b[39m(tx, proxy, example_value\u001b[39m=\u001b[39m\u001b[39mNone\u001b[39;00m, \u001b[39m*\u001b[39m\u001b[39m*\u001b[39moptions):\n\u001b[0;32m--> 754\u001b[0m     \u001b[39mreturn\u001b[39;00m wrap_fx_proxy_cls(\n\u001b[1;32m    755\u001b[0m         target_cls\u001b[39m=\u001b[39;49mTensorVariable,\n\u001b[1;32m    756\u001b[0m         tx\u001b[39m=\u001b[39;49mtx,\n\u001b[1;32m    757\u001b[0m         proxy\u001b[39m=\u001b[39;49mproxy,\n\u001b[1;32m    758\u001b[0m         example_value\u001b[39m=\u001b[39;49mexample_value,\n\u001b[1;32m    759\u001b[0m         \u001b[39m*\u001b[39;49m\u001b[39m*\u001b[39;49moptions,\n\u001b[1;32m    760\u001b[0m     )\n",
      "File \u001b[0;32m/opt/conda/lib/python3.10/site-packages/torch/_dynamo/variables/builder.py:814\u001b[0m, in \u001b[0;36mwrap_fx_proxy_cls\u001b[0;34m(target_cls, tx, proxy, example_value, ignore_subclass, **options)\u001b[0m\n\u001b[1;32m    813\u001b[0m         kwargs[\u001b[39m\"\u001b[39m\u001b[39msource\u001b[39m\u001b[39m\"\u001b[39m] \u001b[39m=\u001b[39m options[\u001b[39m\"\u001b[39m\u001b[39msource\u001b[39m\u001b[39m\"\u001b[39m]\n\u001b[0;32m--> 814\u001b[0m         example_value \u001b[39m=\u001b[39m wrap_to_fake_tensor_and_record(\n\u001b[1;32m    815\u001b[0m             example_value, tx\u001b[39m=\u001b[39;49mtx, \u001b[39m*\u001b[39;49m\u001b[39m*\u001b[39;49mkwargs\n\u001b[1;32m    816\u001b[0m         )\n\u001b[1;32m    818\u001b[0m \u001b[39mif\u001b[39;00m \u001b[39misinstance\u001b[39m(example_value, torch\u001b[39m.\u001b[39mTensor):\n",
      "File \u001b[0;32m/opt/conda/lib/python3.10/site-packages/torch/_dynamo/variables/builder.py:957\u001b[0m, in \u001b[0;36mwrap_to_fake_tensor_and_record\u001b[0;34m(e, tx, ignore_subclass, source, is_tensor)\u001b[0m\n\u001b[1;32m    951\u001b[0m static_shapes \u001b[39m=\u001b[39m (\n\u001b[1;32m    952\u001b[0m     source \u001b[39mis\u001b[39;00m \u001b[39mNone\u001b[39;00m\n\u001b[1;32m    953\u001b[0m     \u001b[39mor\u001b[39;00m \u001b[39mtype\u001b[39m(e) \u001b[39mis\u001b[39;00m torch\u001b[39m.\u001b[39mnn\u001b[39m.\u001b[39mParameter\n\u001b[1;32m    954\u001b[0m     \u001b[39mor\u001b[39;00m config\u001b[39m.\u001b[39mdynamic_shapes \u001b[39mis\u001b[39;00m \u001b[39mFalse\u001b[39;00m\n\u001b[1;32m    955\u001b[0m     \u001b[39mor\u001b[39;00m \u001b[39mnot\u001b[39;00m is_tensor\n\u001b[1;32m    956\u001b[0m )\n\u001b[0;32m--> 957\u001b[0m fake_e \u001b[39m=\u001b[39m wrap_fake_exception(\n\u001b[1;32m    958\u001b[0m     \u001b[39mlambda\u001b[39;49;00m: tx\u001b[39m.\u001b[39;49mfake_mode\u001b[39m.\u001b[39;49mfrom_tensor(\n\u001b[1;32m    959\u001b[0m         e,\n\u001b[1;32m    960\u001b[0m         static_shapes\u001b[39m=\u001b[39;49mstatic_shapes,\n\u001b[1;32m    961\u001b[0m         ignore_subclass\u001b[39m=\u001b[39;49mignore_subclass,\n\u001b[1;32m    962\u001b[0m         source\u001b[39m=\u001b[39;49msource,\n\u001b[1;32m    963\u001b[0m     )\n\u001b[1;32m    964\u001b[0m )\n\u001b[1;32m    965\u001b[0m \u001b[39mif\u001b[39;00m is_tensor:\n",
      "File \u001b[0;32m/opt/conda/lib/python3.10/site-packages/torch/_dynamo/utils.py:808\u001b[0m, in \u001b[0;36mwrap_fake_exception\u001b[0;34m(fn)\u001b[0m\n\u001b[1;32m    807\u001b[0m \u001b[39mtry\u001b[39;00m:\n\u001b[0;32m--> 808\u001b[0m     \u001b[39mreturn\u001b[39;00m fn()\n\u001b[1;32m    809\u001b[0m \u001b[39mexcept\u001b[39;00m UnsupportedFakeTensorException \u001b[39mas\u001b[39;00m e:\n",
      "File \u001b[0;32m/opt/conda/lib/python3.10/site-packages/torch/_dynamo/variables/builder.py:958\u001b[0m, in \u001b[0;36mwrap_to_fake_tensor_and_record.<locals>.<lambda>\u001b[0;34m()\u001b[0m\n\u001b[1;32m    951\u001b[0m static_shapes \u001b[39m=\u001b[39m (\n\u001b[1;32m    952\u001b[0m     source \u001b[39mis\u001b[39;00m \u001b[39mNone\u001b[39;00m\n\u001b[1;32m    953\u001b[0m     \u001b[39mor\u001b[39;00m \u001b[39mtype\u001b[39m(e) \u001b[39mis\u001b[39;00m torch\u001b[39m.\u001b[39mnn\u001b[39m.\u001b[39mParameter\n\u001b[1;32m    954\u001b[0m     \u001b[39mor\u001b[39;00m config\u001b[39m.\u001b[39mdynamic_shapes \u001b[39mis\u001b[39;00m \u001b[39mFalse\u001b[39;00m\n\u001b[1;32m    955\u001b[0m     \u001b[39mor\u001b[39;00m \u001b[39mnot\u001b[39;00m is_tensor\n\u001b[1;32m    956\u001b[0m )\n\u001b[1;32m    957\u001b[0m fake_e \u001b[39m=\u001b[39m wrap_fake_exception(\n\u001b[0;32m--> 958\u001b[0m     \u001b[39mlambda\u001b[39;00m: tx\u001b[39m.\u001b[39;49mfake_mode\u001b[39m.\u001b[39;49mfrom_tensor(\n\u001b[1;32m    959\u001b[0m         e,\n\u001b[1;32m    960\u001b[0m         static_shapes\u001b[39m=\u001b[39;49mstatic_shapes,\n\u001b[1;32m    961\u001b[0m         ignore_subclass\u001b[39m=\u001b[39;49mignore_subclass,\n\u001b[1;32m    962\u001b[0m         source\u001b[39m=\u001b[39;49msource,\n\u001b[1;32m    963\u001b[0m     )\n\u001b[1;32m    964\u001b[0m )\n\u001b[1;32m    965\u001b[0m \u001b[39mif\u001b[39;00m is_tensor:\n",
      "File \u001b[0;32m/opt/conda/lib/python3.10/site-packages/torch/_subclasses/fake_tensor.py:1324\u001b[0m, in \u001b[0;36mFakeTensorMode.from_tensor\u001b[0;34m(self, tensor, static_shapes, ignore_subclass, source)\u001b[0m\n\u001b[1;32m   1323\u001b[0m \u001b[39mif\u001b[39;00m static_shapes:\n\u001b[0;32m-> 1324\u001b[0m     \u001b[39mreturn\u001b[39;00m \u001b[39mself\u001b[39;49m\u001b[39m.\u001b[39;49mfake_tensor_converter(\n\u001b[1;32m   1325\u001b[0m         \u001b[39mself\u001b[39;49m, tensor, ignore_subclass\u001b[39m=\u001b[39;49mignore_subclass, source\u001b[39m=\u001b[39;49msource\n\u001b[1;32m   1326\u001b[0m     )\n\u001b[1;32m   1327\u001b[0m \u001b[39mreturn\u001b[39;00m \u001b[39mself\u001b[39m\u001b[39m.\u001b[39mfake_tensor_converter(\n\u001b[1;32m   1328\u001b[0m     \u001b[39mself\u001b[39m,\n\u001b[1;32m   1329\u001b[0m     tensor,\n\u001b[0;32m   (...)\u001b[0m\n\u001b[1;32m   1332\u001b[0m     source\u001b[39m=\u001b[39msource,\n\u001b[1;32m   1333\u001b[0m )\n",
      "File \u001b[0;32m/opt/conda/lib/python3.10/site-packages/torch/_subclasses/fake_tensor.py:314\u001b[0m, in \u001b[0;36mFakeTensorConverter.__call__\u001b[0;34m(self, fake_mode, t, make_constant, shape_env, ignore_subclass, source)\u001b[0m\n\u001b[1;32m    304\u001b[0m \u001b[39mdef\u001b[39;00m \u001b[39m__call__\u001b[39m(\n\u001b[1;32m    305\u001b[0m     \u001b[39mself\u001b[39m,\n\u001b[1;32m    306\u001b[0m     fake_mode,\n\u001b[0;32m   (...)\u001b[0m\n\u001b[1;32m    312\u001b[0m     source\u001b[39m=\u001b[39m\u001b[39mNone\u001b[39;00m,\n\u001b[1;32m    313\u001b[0m ):\n\u001b[0;32m--> 314\u001b[0m     \u001b[39mreturn\u001b[39;00m \u001b[39mself\u001b[39;49m\u001b[39m.\u001b[39;49mfrom_real_tensor(\n\u001b[1;32m    315\u001b[0m         fake_mode,\n\u001b[1;32m    316\u001b[0m         t,\n\u001b[1;32m    317\u001b[0m         make_constant,\n\u001b[1;32m    318\u001b[0m         shape_env\u001b[39m=\u001b[39;49mshape_env,\n\u001b[1;32m    319\u001b[0m         ignore_subclass\u001b[39m=\u001b[39;49mignore_subclass,\n\u001b[1;32m    320\u001b[0m         source\u001b[39m=\u001b[39;49msource,\n\u001b[1;32m    321\u001b[0m     )\n",
      "File \u001b[0;32m/opt/conda/lib/python3.10/site-packages/torch/_subclasses/fake_tensor.py:272\u001b[0m, in \u001b[0;36mFakeTensorConverter.from_real_tensor\u001b[0;34m(self, fake_mode, t, make_constant, shape_env, ignore_subclass, source)\u001b[0m\n\u001b[1;32m    265\u001b[0m         \u001b[39mreturn\u001b[39;00m FakeTensor(\n\u001b[1;32m    266\u001b[0m             fake_mode,\n\u001b[1;32m    267\u001b[0m             make_meta_t(),\n\u001b[1;32m    268\u001b[0m             existing_device,\n\u001b[1;32m    269\u001b[0m             constant\u001b[39m=\u001b[39mt \u001b[39mif\u001b[39;00m make_constant \u001b[39melse\u001b[39;00m \u001b[39mNone\u001b[39;00m,\n\u001b[1;32m    270\u001b[0m         )\n\u001b[0;32m--> 272\u001b[0m out \u001b[39m=\u001b[39m \u001b[39mself\u001b[39;49m\u001b[39m.\u001b[39;49mmeta_converter(\n\u001b[1;32m    273\u001b[0m     t,\n\u001b[1;32m    274\u001b[0m     shape_env\u001b[39m=\u001b[39;49mshape_env,\n\u001b[1;32m    275\u001b[0m     callback\u001b[39m=\u001b[39;49mmk_fake_tensor,\n\u001b[1;32m    276\u001b[0m     ignore_subclass\u001b[39m=\u001b[39;49mignore_subclass,\n\u001b[1;32m    277\u001b[0m     source\u001b[39m=\u001b[39;49msource,\n\u001b[1;32m    278\u001b[0m )\n\u001b[1;32m    279\u001b[0m \u001b[39mif\u001b[39;00m out \u001b[39mis\u001b[39;00m \u001b[39mNotImplemented\u001b[39m:\n",
      "File \u001b[0;32m/opt/conda/lib/python3.10/site-packages/torch/_subclasses/meta_utils.py:502\u001b[0m, in \u001b[0;36mMetaConverter.__call__\u001b[0;34m(self, t, shape_env, callback, ignore_subclass, source)\u001b[0m\n\u001b[1;32m    501\u001b[0m \u001b[39mwith\u001b[39;00m ctx:\n\u001b[0;32m--> 502\u001b[0m     r \u001b[39m=\u001b[39m \u001b[39mself\u001b[39;49m\u001b[39m.\u001b[39;49mmeta_tensor(\n\u001b[1;32m    503\u001b[0m         t, shape_env\u001b[39m=\u001b[39;49mshape_env, callback\u001b[39m=\u001b[39;49mcallback, source\u001b[39m=\u001b[39;49msource\n\u001b[1;32m    504\u001b[0m     )\n\u001b[1;32m    505\u001b[0m \u001b[39m# TODO: this is suspicious, now that we have callback argument\u001b[39;00m\n",
      "File \u001b[0;32m/opt/conda/lib/python3.10/site-packages/torch/_subclasses/meta_utils.py:381\u001b[0m, in \u001b[0;36mMetaConverter.meta_tensor\u001b[0;34m(self, t, shape_env, callback, source)\u001b[0m\n\u001b[1;32m    379\u001b[0m             r \u001b[39m=\u001b[39m r\u001b[39m.\u001b[39mclone(memory_format\u001b[39m=\u001b[39mtorch\u001b[39m.\u001b[39mpreserve_format)\n\u001b[0;32m--> 381\u001b[0m s \u001b[39m=\u001b[39m t\u001b[39m.\u001b[39;49muntyped_storage()\n\u001b[1;32m    382\u001b[0m swr \u001b[39m=\u001b[39m StorageWeakRef(s)\n",
      "\u001b[0;31mNotImplementedError\u001b[0m: Cannot access storage of BatchedTensorImpl\n\nSet torch._dynamo.config.verbose=True for more information\n\n\nYou can suppress this exception and fall back to eager by setting:\n    torch._dynamo.config.suppress_errors = True\n",
      "\nThe above exception was the direct cause of the following exception:\n",
      "\u001b[0;31mInternalTorchDynamoError\u001b[0m                  Traceback (most recent call last)",
      "Cell \u001b[0;32mIn[20], line 1\u001b[0m\n\u001b[0;32m----> 1\u001b[0m fn(torch\u001b[39m.\u001b[39;49mrandint(\u001b[39m0\u001b[39;49m, \u001b[39m255\u001b[39;49m, (\u001b[39m1\u001b[39;49m, \u001b[39m3\u001b[39;49m, \u001b[39m32\u001b[39;49m, \u001b[39m32\u001b[39;49m), dtype\u001b[39m=\u001b[39;49mtorch\u001b[39m.\u001b[39;49muint8))\n",
      "File \u001b[0;32m/opt/conda/lib/python3.10/site-packages/torch/_functorch/vmap.py:434\u001b[0m, in \u001b[0;36mvmap.<locals>.wrapped\u001b[0;34m(*args, **kwargs)\u001b[0m\n\u001b[1;32m    430\u001b[0m     \u001b[39mreturn\u001b[39;00m _chunked_vmap(func, flat_in_dims, chunks_flat_args,\n\u001b[1;32m    431\u001b[0m                          args_spec, out_dims, randomness, \u001b[39m*\u001b[39m\u001b[39m*\u001b[39mkwargs)\n\u001b[1;32m    433\u001b[0m \u001b[39m# If chunk_size is not specified.\u001b[39;00m\n\u001b[0;32m--> 434\u001b[0m \u001b[39mreturn\u001b[39;00m _flat_vmap(\n\u001b[1;32m    435\u001b[0m     func, batch_size, flat_in_dims, flat_args, args_spec, out_dims, randomness, \u001b[39m*\u001b[39;49m\u001b[39m*\u001b[39;49mkwargs\n\u001b[1;32m    436\u001b[0m )\n",
      "File \u001b[0;32m/opt/conda/lib/python3.10/site-packages/torch/_functorch/vmap.py:39\u001b[0m, in \u001b[0;36mdoesnt_support_saved_tensors_hooks.<locals>.fn\u001b[0;34m(*args, **kwargs)\u001b[0m\n\u001b[1;32m     36\u001b[0m \u001b[39m@functools\u001b[39m\u001b[39m.\u001b[39mwraps(f)\n\u001b[1;32m     37\u001b[0m \u001b[39mdef\u001b[39;00m \u001b[39mfn\u001b[39m(\u001b[39m*\u001b[39margs, \u001b[39m*\u001b[39m\u001b[39m*\u001b[39mkwargs):\n\u001b[1;32m     38\u001b[0m     \u001b[39mwith\u001b[39;00m torch\u001b[39m.\u001b[39mautograd\u001b[39m.\u001b[39mgraph\u001b[39m.\u001b[39mdisable_saved_tensors_hooks(message):\n\u001b[0;32m---> 39\u001b[0m         \u001b[39mreturn\u001b[39;00m f(\u001b[39m*\u001b[39;49margs, \u001b[39m*\u001b[39;49m\u001b[39m*\u001b[39;49mkwargs)\n",
      "File \u001b[0;32m/opt/conda/lib/python3.10/site-packages/torch/_functorch/vmap.py:619\u001b[0m, in \u001b[0;36m_flat_vmap\u001b[0;34m(func, batch_size, flat_in_dims, flat_args, args_spec, out_dims, randomness, **kwargs)\u001b[0m\n\u001b[1;32m    617\u001b[0m \u001b[39mtry\u001b[39;00m:\n\u001b[1;32m    618\u001b[0m     batched_inputs \u001b[39m=\u001b[39m _create_batched_inputs(flat_in_dims, flat_args, vmap_level, args_spec)\n\u001b[0;32m--> 619\u001b[0m     batched_outputs \u001b[39m=\u001b[39m func(\u001b[39m*\u001b[39;49mbatched_inputs, \u001b[39m*\u001b[39;49m\u001b[39m*\u001b[39;49mkwargs)\n\u001b[1;32m    620\u001b[0m     \u001b[39mreturn\u001b[39;00m _unwrap_batched(batched_outputs, out_dims, vmap_level, batch_size, func)\n\u001b[1;32m    621\u001b[0m \u001b[39mfinally\u001b[39;00m:\n",
      "File \u001b[0;32m/opt/conda/lib/python3.10/site-packages/torch/nn/modules/module.py:1501\u001b[0m, in \u001b[0;36mModule._call_impl\u001b[0;34m(self, *args, **kwargs)\u001b[0m\n\u001b[1;32m   1496\u001b[0m \u001b[39m# If we don't have any hooks, we want to skip the rest of the logic in\u001b[39;00m\n\u001b[1;32m   1497\u001b[0m \u001b[39m# this function, and just call forward.\u001b[39;00m\n\u001b[1;32m   1498\u001b[0m \u001b[39mif\u001b[39;00m \u001b[39mnot\u001b[39;00m (\u001b[39mself\u001b[39m\u001b[39m.\u001b[39m_backward_hooks \u001b[39mor\u001b[39;00m \u001b[39mself\u001b[39m\u001b[39m.\u001b[39m_backward_pre_hooks \u001b[39mor\u001b[39;00m \u001b[39mself\u001b[39m\u001b[39m.\u001b[39m_forward_hooks \u001b[39mor\u001b[39;00m \u001b[39mself\u001b[39m\u001b[39m.\u001b[39m_forward_pre_hooks\n\u001b[1;32m   1499\u001b[0m         \u001b[39mor\u001b[39;00m _global_backward_pre_hooks \u001b[39mor\u001b[39;00m _global_backward_hooks\n\u001b[1;32m   1500\u001b[0m         \u001b[39mor\u001b[39;00m _global_forward_hooks \u001b[39mor\u001b[39;00m _global_forward_pre_hooks):\n\u001b[0;32m-> 1501\u001b[0m     \u001b[39mreturn\u001b[39;00m forward_call(\u001b[39m*\u001b[39;49margs, \u001b[39m*\u001b[39;49m\u001b[39m*\u001b[39;49mkwargs)\n\u001b[1;32m   1502\u001b[0m \u001b[39m# Do not call functions when jit is used\u001b[39;00m\n\u001b[1;32m   1503\u001b[0m full_backward_hooks, non_full_backward_hooks \u001b[39m=\u001b[39m [], []\n",
      "File \u001b[0;32m/opt/conda/lib/python3.10/site-packages/torch/_dynamo/eval_frame.py:82\u001b[0m, in \u001b[0;36mOptimizedModule.forward\u001b[0;34m(self, *args, **kwargs)\u001b[0m\n\u001b[1;32m     81\u001b[0m \u001b[39mdef\u001b[39;00m \u001b[39mforward\u001b[39m(\u001b[39mself\u001b[39m, \u001b[39m*\u001b[39margs, \u001b[39m*\u001b[39m\u001b[39m*\u001b[39mkwargs):\n\u001b[0;32m---> 82\u001b[0m     \u001b[39mreturn\u001b[39;00m \u001b[39mself\u001b[39;49m\u001b[39m.\u001b[39;49mdynamo_ctx(\u001b[39mself\u001b[39;49m\u001b[39m.\u001b[39;49m_orig_mod\u001b[39m.\u001b[39;49mforward)(\u001b[39m*\u001b[39;49margs, \u001b[39m*\u001b[39;49m\u001b[39m*\u001b[39;49mkwargs)\n",
      "File \u001b[0;32m/opt/conda/lib/python3.10/site-packages/torch/_dynamo/eval_frame.py:209\u001b[0m, in \u001b[0;36m_TorchDynamoContext.__call__.<locals>._fn\u001b[0;34m(*args, **kwargs)\u001b[0m\n\u001b[1;32m    207\u001b[0m dynamic_ctx\u001b[39m.\u001b[39m\u001b[39m__enter__\u001b[39m()\n\u001b[1;32m    208\u001b[0m \u001b[39mtry\u001b[39;00m:\n\u001b[0;32m--> 209\u001b[0m     \u001b[39mreturn\u001b[39;00m fn(\u001b[39m*\u001b[39;49margs, \u001b[39m*\u001b[39;49m\u001b[39m*\u001b[39;49mkwargs)\n\u001b[1;32m    210\u001b[0m \u001b[39mfinally\u001b[39;00m:\n\u001b[1;32m    211\u001b[0m     set_eval_frame(prior)\n",
      "File \u001b[0;32m/opt/conda/lib/python3.10/site-packages/torch/_dynamo/eval_frame.py:337\u001b[0m, in \u001b[0;36mcatch_errors_wrapper.<locals>.catch_errors\u001b[0;34m(frame, cache_size)\u001b[0m\n\u001b[1;32m    334\u001b[0m             \u001b[39mreturn\u001b[39;00m hijacked_callback(frame, cache_size, hooks)\n\u001b[1;32m    336\u001b[0m \u001b[39mwith\u001b[39;00m compile_lock:\n\u001b[0;32m--> 337\u001b[0m     \u001b[39mreturn\u001b[39;00m callback(frame, cache_size, hooks)\n",
      "File \u001b[0;32m/opt/conda/lib/python3.10/site-packages/torch/_dynamo/convert_frame.py:404\u001b[0m, in \u001b[0;36mconvert_frame.<locals>._convert_frame\u001b[0;34m(frame, cache_size, hooks)\u001b[0m\n\u001b[1;32m    402\u001b[0m counters[\u001b[39m\"\u001b[39m\u001b[39mframes\u001b[39m\u001b[39m\"\u001b[39m][\u001b[39m\"\u001b[39m\u001b[39mtotal\u001b[39m\u001b[39m\"\u001b[39m] \u001b[39m+\u001b[39m\u001b[39m=\u001b[39m \u001b[39m1\u001b[39m\n\u001b[1;32m    403\u001b[0m \u001b[39mtry\u001b[39;00m:\n\u001b[0;32m--> 404\u001b[0m     result \u001b[39m=\u001b[39m inner_convert(frame, cache_size, hooks)\n\u001b[1;32m    405\u001b[0m     counters[\u001b[39m\"\u001b[39m\u001b[39mframes\u001b[39m\u001b[39m\"\u001b[39m][\u001b[39m\"\u001b[39m\u001b[39mok\u001b[39m\u001b[39m\"\u001b[39m] \u001b[39m+\u001b[39m\u001b[39m=\u001b[39m \u001b[39m1\u001b[39m\n\u001b[1;32m    406\u001b[0m     \u001b[39mreturn\u001b[39;00m result\n",
      "File \u001b[0;32m/opt/conda/lib/python3.10/site-packages/torch/_dynamo/convert_frame.py:104\u001b[0m, in \u001b[0;36mwrap_convert_context.<locals>._fn\u001b[0;34m(*args, **kwargs)\u001b[0m\n\u001b[1;32m    102\u001b[0m torch\u001b[39m.\u001b[39mfx\u001b[39m.\u001b[39mgraph_module\u001b[39m.\u001b[39m_forward_from_src \u001b[39m=\u001b[39m fx_forward_from_src_skip_result\n\u001b[1;32m    103\u001b[0m \u001b[39mtry\u001b[39;00m:\n\u001b[0;32m--> 104\u001b[0m     \u001b[39mreturn\u001b[39;00m fn(\u001b[39m*\u001b[39;49margs, \u001b[39m*\u001b[39;49m\u001b[39m*\u001b[39;49mkwargs)\n\u001b[1;32m    105\u001b[0m \u001b[39mfinally\u001b[39;00m:\n\u001b[1;32m    106\u001b[0m     torch\u001b[39m.\u001b[39m_C\u001b[39m.\u001b[39m_set_grad_enabled(prior_grad_mode)\n",
      "File \u001b[0;32m/opt/conda/lib/python3.10/site-packages/torch/_dynamo/convert_frame.py:262\u001b[0m, in \u001b[0;36mconvert_frame_assert.<locals>._convert_frame_assert\u001b[0;34m(frame, cache_size, hooks)\u001b[0m\n\u001b[1;32m    259\u001b[0m \u001b[39mglobal\u001b[39;00m initial_grad_state\n\u001b[1;32m    260\u001b[0m initial_grad_state \u001b[39m=\u001b[39m torch\u001b[39m.\u001b[39mis_grad_enabled()\n\u001b[0;32m--> 262\u001b[0m \u001b[39mreturn\u001b[39;00m _compile(\n\u001b[1;32m    263\u001b[0m     frame\u001b[39m.\u001b[39;49mf_code,\n\u001b[1;32m    264\u001b[0m     frame\u001b[39m.\u001b[39;49mf_globals,\n\u001b[1;32m    265\u001b[0m     frame\u001b[39m.\u001b[39;49mf_locals,\n\u001b[1;32m    266\u001b[0m     frame\u001b[39m.\u001b[39;49mf_builtins,\n\u001b[1;32m    267\u001b[0m     compiler_fn,\n\u001b[1;32m    268\u001b[0m     one_graph,\n\u001b[1;32m    269\u001b[0m     export,\n\u001b[1;32m    270\u001b[0m     hooks,\n\u001b[1;32m    271\u001b[0m     frame,\n\u001b[1;32m    272\u001b[0m )\n",
      "File \u001b[0;32m/opt/conda/lib/python3.10/site-packages/torch/_dynamo/utils.py:163\u001b[0m, in \u001b[0;36mdynamo_timed.<locals>.dynamo_timed_inner.<locals>.time_wrapper\u001b[0;34m(*args, **kwargs)\u001b[0m\n\u001b[1;32m    161\u001b[0m     compilation_metrics[key] \u001b[39m=\u001b[39m []\n\u001b[1;32m    162\u001b[0m t0 \u001b[39m=\u001b[39m time\u001b[39m.\u001b[39mtime()\n\u001b[0;32m--> 163\u001b[0m r \u001b[39m=\u001b[39m func(\u001b[39m*\u001b[39;49margs, \u001b[39m*\u001b[39;49m\u001b[39m*\u001b[39;49mkwargs)\n\u001b[1;32m    164\u001b[0m time_spent \u001b[39m=\u001b[39m time\u001b[39m.\u001b[39mtime() \u001b[39m-\u001b[39m t0\n\u001b[1;32m    165\u001b[0m \u001b[39m# print(f\"Dynamo timer: key={key}, latency={latency:.2f} sec\")\u001b[39;00m\n",
      "File \u001b[0;32m/opt/conda/lib/python3.10/site-packages/torch/_dynamo/convert_frame.py:394\u001b[0m, in \u001b[0;36m_compile\u001b[0;34m(code, globals, locals, builtins, compiler_fn, one_graph, export, hooks, frame)\u001b[0m\n\u001b[1;32m    392\u001b[0m \u001b[39mexcept\u001b[39;00m \u001b[39mException\u001b[39;00m \u001b[39mas\u001b[39;00m e:\n\u001b[1;32m    393\u001b[0m     exception_handler(e, code, frame)\n\u001b[0;32m--> 394\u001b[0m     \u001b[39mraise\u001b[39;00m InternalTorchDynamoError() \u001b[39mfrom\u001b[39;00m \u001b[39me\u001b[39;00m\n",
      "\u001b[0;31mInternalTorchDynamoError\u001b[0m: "
     ]
    }
   ],
   "source": [
    "fn(torch.randint(0, 255, (1, 3, 32, 32), dtype=torch.uint8))"
   ]
  },
  {
   "cell_type": "code",
   "execution_count": 2,
   "metadata": {},
   "outputs": [],
   "source": [
    "import torch\n",
    "import functorch.compile\n",
    "import models\n",
    "\n",
    "model = models.get_model('resnet18', num_classes=10)"
   ]
  },
  {
   "cell_type": "code",
   "execution_count": 9,
   "metadata": {},
   "outputs": [],
   "source": [
    "def print_compile_fn(fx_module, args):\n",
    "    return fx_module\n",
    "mod = functorch.compile.aot_module(model, print_compile_fn)"
   ]
  },
  {
   "cell_type": "code",
   "execution_count": 10,
   "metadata": {},
   "outputs": [
    {
     "name": "stderr",
     "output_type": "stream",
     "text": [
      "/opt/conda/lib/python3.10/site-packages/torch/_functorch/aot_autograd.py:1251: UserWarning: Your compiler for AOTAutograd is returning a a function that doesn't take boxed arguments. Please wrap it with functorch.compile.make_boxed_func or handle the boxed arguments yourself. See https://github.com/pytorch/pytorch/pull/83137#issuecomment-1211320670 for rationale.\n",
      "  warnings.warn(\n"
     ]
    }
   ],
   "source": [
    "loss = mod(torch.randn(1, 3, 32, 32)).sum()\n",
    "loss.backward()"
   ]
  },
  {
   "cell_type": "code",
   "execution_count": 13,
   "metadata": {},
   "outputs": [
    {
     "data": {
      "text/plain": [
       "tensor([[[[-0.2314,  0.7139,  0.3867],\n",
       "          [ 0.3511, -0.1561, -0.0397],\n",
       "          [-0.5728,  0.2211,  0.1738]],\n",
       "\n",
       "         [[-0.3171,  0.2384, -0.6948],\n",
       "          [-0.6202, -0.3028, -0.1352],\n",
       "          [ 0.3918, -0.5904,  0.0369]],\n",
       "\n",
       "         [[ 0.4736,  0.2815,  0.2963],\n",
       "          [-0.2278,  0.2655,  0.6160],\n",
       "          [-0.0532, -0.3137,  0.1516]]],\n",
       "\n",
       "\n",
       "        [[[-0.4164, -0.1777, -1.0315],\n",
       "          [ 0.1505,  0.3788,  0.3262],\n",
       "          [ 0.3753,  0.0867, -0.3724]],\n",
       "\n",
       "         [[ 0.3055, -0.2387, -0.1132],\n",
       "          [-0.0914, -0.2376,  0.4098],\n",
       "          [ 0.0309, -0.0118, -0.0049]],\n",
       "\n",
       "         [[-0.2586,  0.3179, -0.1033],\n",
       "          [-0.0567,  0.1804,  1.0221],\n",
       "          [-0.0279, -0.4547, -0.0124]]],\n",
       "\n",
       "\n",
       "        [[[ 0.0981, -0.1832, -0.5168],\n",
       "          [-0.0458,  0.8709, -0.0834],\n",
       "          [ 0.3162, -0.4993,  0.8853]],\n",
       "\n",
       "         [[-0.0868,  0.2762, -0.3368],\n",
       "          [ 0.5863,  0.0703, -0.5801],\n",
       "          [-0.4807,  0.0533, -0.2581]],\n",
       "\n",
       "         [[-0.0869, -0.3096, -0.1167],\n",
       "          [ 0.2713, -0.0142, -0.0965],\n",
       "          [-0.3515,  0.7602, -0.0465]]],\n",
       "\n",
       "\n",
       "        ...,\n",
       "\n",
       "\n",
       "        [[[ 0.4355,  0.2099, -0.8422],\n",
       "          [-0.1274, -1.0642, -0.9426],\n",
       "          [-0.3270,  0.1734,  0.3223]],\n",
       "\n",
       "         [[ 0.5435,  0.0320, -0.5909],\n",
       "          [ 0.0810,  0.1633, -0.2527],\n",
       "          [-0.6521,  0.2087,  0.0502]],\n",
       "\n",
       "         [[-0.1622, -0.2380, -0.0358],\n",
       "          [ 0.1902, -0.2536, -0.4786],\n",
       "          [ 0.8504,  0.2346,  0.7283]]],\n",
       "\n",
       "\n",
       "        [[[-0.0715, -0.2424, -0.1866],\n",
       "          [-0.7103,  0.3539, -0.8789],\n",
       "          [-0.4345, -0.8874,  0.1542]],\n",
       "\n",
       "         [[ 0.4182, -0.4375, -0.2720],\n",
       "          [ 0.2304, -0.0630,  0.2874],\n",
       "          [ 0.6140, -0.1441, -0.8448]],\n",
       "\n",
       "         [[-0.8949,  0.1582, -0.5194],\n",
       "          [ 0.4883,  0.5964, -0.6774],\n",
       "          [ 0.5310,  0.0158, -0.1329]]],\n",
       "\n",
       "\n",
       "        [[[-0.6546, -0.2945, -0.5337],\n",
       "          [-1.0110, -0.5577, -1.1231],\n",
       "          [ 0.6482,  0.8334,  0.1591]],\n",
       "\n",
       "         [[ 1.1869, -0.1390,  0.5168],\n",
       "          [ 0.0774, -0.8189,  0.1361],\n",
       "          [-0.5133,  0.5155, -0.7007]],\n",
       "\n",
       "         [[-0.0652, -0.0139,  0.3416],\n",
       "          [ 0.2472, -0.3365,  0.2606],\n",
       "          [ 0.7319, -0.1696, -0.8645]]]])"
      ]
     },
     "execution_count": 13,
     "metadata": {},
     "output_type": "execute_result"
    }
   ],
   "source": [
    "list(mod.parameters())[0].grad"
   ]
  },
  {
   "cell_type": "code",
   "execution_count": 6,
   "metadata": {},
   "outputs": [
    {
     "name": "stdout",
     "output_type": "stream",
     "text": [
      "Value is apple, banana, or orange\n"
     ]
    }
   ],
   "source": [
    "value = 'apple'\n",
    "match value:\n",
    "    case 1 | 2 | 3:\n",
    "        print(\"Value is 1, 2, or 3\")\n",
    "    case \"apple\" | \"banana\" | \"orange\":\n",
    "        print(\"Value is apple, banana, or orange\")\n",
    "    case _:\n",
    "        print(\"Value does not match any conditions\")\n"
   ]
  },
  {
   "cell_type": "code",
   "execution_count": 8,
   "metadata": {},
   "outputs": [
    {
     "name": "stderr",
     "output_type": "stream",
     "text": [
      "/opt/conda/lib/python3.10/site-packages/torch/jit/_check.py:172: UserWarning: The TorchScript type system doesn't support instance-level annotations on empty non-base types in `__init__`. Instead, either 1) use a type annotation in the class body, or 2) wrap the type in `torch.jit.Attribute`.\n",
      "  warnings.warn(\"The TorchScript type system doesn't support \"\n"
     ]
    },
    {
     "data": {
      "text/plain": [
       "tensor([[[[ 2.7837e-01, -2.9877e-01, -4.8527e-01],\n",
       "          [ 4.2731e-01,  6.8757e-01, -6.2114e-01],\n",
       "          [-5.3570e-01,  5.4753e-01, -2.6880e-02]],\n",
       "\n",
       "         [[-3.7153e-01,  3.7165e-02, -4.8461e-01],\n",
       "          [ 2.7260e-01, -5.5997e-01, -3.5210e-01],\n",
       "          [ 6.0514e-01,  3.0594e-01,  6.1835e-01]],\n",
       "\n",
       "         [[ 4.5850e-01,  5.5574e-01,  4.0024e-01],\n",
       "          [ 2.8168e-03,  2.6491e-01,  2.8501e-01],\n",
       "          [ 6.6985e-01, -1.6276e-02,  1.8957e-01]]],\n",
       "\n",
       "\n",
       "        [[[ 7.7454e-01, -1.6101e-01, -5.0032e-01],\n",
       "          [ 1.6849e-01,  9.9424e-01,  7.5906e-02],\n",
       "          [-1.7729e-03,  9.7458e-04,  2.5804e-01]],\n",
       "\n",
       "         [[ 1.6734e-01, -6.3392e-01,  1.2890e-01],\n",
       "          [ 3.9222e-01,  2.6664e-01, -4.9085e-01],\n",
       "          [ 5.9999e-01,  5.3224e-01, -1.0477e+00]],\n",
       "\n",
       "         [[ 2.0653e-01, -1.7664e-02, -3.4635e-02],\n",
       "          [ 3.3399e-01, -5.8654e-01, -4.0890e-01],\n",
       "          [ 2.9002e-01,  7.0458e-01,  1.6469e-01]]],\n",
       "\n",
       "\n",
       "        [[[ 2.1221e-01,  1.5872e-02, -8.5272e-02],\n",
       "          [ 8.9010e-03, -5.5475e-01,  8.2926e-01],\n",
       "          [ 4.7670e-01,  2.6269e-01, -2.2168e-01]],\n",
       "\n",
       "         [[-1.7565e-01,  3.3164e-01,  9.3830e-02],\n",
       "          [-2.6404e-01,  4.4557e-01, -6.3423e-01],\n",
       "          [-4.7113e-01,  6.4325e-01, -1.0902e+00]],\n",
       "\n",
       "         [[ 7.6909e-01, -3.9582e-01, -2.8532e-01],\n",
       "          [ 2.7745e-01,  8.6951e-02,  8.7806e-02],\n",
       "          [-3.4970e-01, -1.0364e-01,  7.3408e-02]]],\n",
       "\n",
       "\n",
       "        ...,\n",
       "\n",
       "\n",
       "        [[[-4.0719e-01,  5.1311e-02, -1.2342e-01],\n",
       "          [-1.1351e-01,  2.9673e-02,  3.0539e-01],\n",
       "          [-4.5575e-01, -5.3691e-01,  2.1714e-01]],\n",
       "\n",
       "         [[-3.3136e-01, -9.4594e-02, -5.4580e-01],\n",
       "          [-3.3859e-02,  3.0499e-01,  7.2668e-02],\n",
       "          [ 8.1082e-02,  5.3440e-01, -1.6116e-01]],\n",
       "\n",
       "         [[ 3.7582e-01,  2.5698e-01, -3.3095e-01],\n",
       "          [-5.0157e-01,  4.9568e-01,  7.0480e-01],\n",
       "          [ 9.3287e-01, -6.1103e-01, -2.6564e-01]]],\n",
       "\n",
       "\n",
       "        [[[-2.1417e-01,  9.8380e-02,  2.4422e-01],\n",
       "          [-3.0945e-01, -5.6050e-01, -5.6254e-02],\n",
       "          [-7.8341e-02, -3.1195e-01,  2.3899e-01]],\n",
       "\n",
       "         [[ 2.6923e-02,  6.0697e-01, -6.7776e-01],\n",
       "          [ 2.1954e-01, -7.5668e-01, -1.2295e-01],\n",
       "          [-5.4837e-01,  1.6585e-01,  8.4791e-01]],\n",
       "\n",
       "         [[-3.5034e-01, -2.9293e-01, -4.7787e-01],\n",
       "          [ 3.0025e-02,  1.3081e-01, -4.9146e-01],\n",
       "          [-1.0521e-01, -4.9618e-01,  1.2465e-01]]],\n",
       "\n",
       "\n",
       "        [[[ 3.7579e-01,  8.3320e-01,  3.9423e-04],\n",
       "          [ 3.1567e-01,  1.6839e-01, -1.0084e+00],\n",
       "          [ 1.1813e-02, -5.9127e-01,  5.8352e-01]],\n",
       "\n",
       "         [[-3.7048e-02, -7.3505e-01, -2.5213e-02],\n",
       "          [-1.3135e-01,  4.4486e-02, -5.4267e-01],\n",
       "          [-3.2890e-01,  3.0910e-01,  3.1226e-01]],\n",
       "\n",
       "         [[-1.9610e-01,  8.8036e-01, -1.7246e-01],\n",
       "          [ 8.6854e-02, -2.6359e-01,  2.6123e-01],\n",
       "          [ 3.7937e-01, -1.1805e-01,  6.0027e-01]]]])"
      ]
     },
     "execution_count": 8,
     "metadata": {},
     "output_type": "execute_result"
    }
   ],
   "source": [
    "import torch\n",
    "import functorch.compile\n",
    "import models\n",
    "\n",
    "model = models.get_model('resnet18', num_classes=10)\n",
    "model = functorch.compile.memory_efficient_fusion(model)\n",
    "\n",
    "loss = model(torch.randn(1, 3, 32, 32)).sum()\n",
    "loss.backward()\n",
    "\n",
    "list(model.parameters())[0].grad"
   ]
  },
  {
   "cell_type": "code",
   "execution_count": 3,
   "metadata": {},
   "outputs": [
    {
     "name": "stderr",
     "output_type": "stream",
     "text": [
      "/opt/conda/lib/python3.10/site-packages/torch/jit/_check.py:172: UserWarning: The TorchScript type system doesn't support instance-level annotations on empty non-base types in `__init__`. Instead, either 1) use a type annotation in the class body, or 2) wrap the type in `torch.jit.Attribute`.\n",
      "  warnings.warn(\"The TorchScript type system doesn't support \"\n"
     ]
    },
    {
     "data": {
      "text/plain": [
       "tensor([[[[ 0.0196, -1.1790, -0.8832],\n",
       "          [ 0.5623, -0.5732, -0.2988],\n",
       "          [ 0.3192,  0.7790,  0.2281]],\n",
       "\n",
       "         [[-1.9852, -1.0430, -3.1573],\n",
       "          [-0.3932,  0.4228, -0.1140],\n",
       "          [-0.1995,  0.2080,  1.5228]],\n",
       "\n",
       "         [[ 0.1731,  0.2754, -0.7854],\n",
       "          [-0.7709, -1.1567,  0.0757],\n",
       "          [ 0.1797,  0.3703, -1.4611]]],\n",
       "\n",
       "\n",
       "        [[[ 0.2566, -0.7404,  0.2427],\n",
       "          [ 0.3634, -1.0738,  0.7265],\n",
       "          [-1.2608,  0.3433, -1.1525]],\n",
       "\n",
       "         [[-0.5453, -0.3682, -0.9016],\n",
       "          [-0.5729, -0.1070, -1.5324],\n",
       "          [-0.6856, -0.9128, -0.0293]],\n",
       "\n",
       "         [[-1.6296,  0.8429, -0.2850],\n",
       "          [ 1.8651, -1.3524, -0.2121],\n",
       "          [ 1.0496, -0.0808,  0.4816]]],\n",
       "\n",
       "\n",
       "        [[[-0.0969, -0.5152,  0.2889],\n",
       "          [-0.1683, -0.1159, -0.6596],\n",
       "          [-0.4678,  1.3908,  0.0369]],\n",
       "\n",
       "         [[-1.0080, -0.7671,  0.3769],\n",
       "          [-1.5358, -0.6276, -0.2072],\n",
       "          [-1.0903,  0.8863, -0.6832]],\n",
       "\n",
       "         [[ 0.5675, -0.4215,  0.6289],\n",
       "          [-0.3117, -0.0882, -0.6940],\n",
       "          [ 0.2202, -0.0779, -0.1158]]],\n",
       "\n",
       "\n",
       "        ...,\n",
       "\n",
       "\n",
       "        [[[ 0.7805, -0.5085,  1.0850],\n",
       "          [-0.2732,  0.6459,  0.0747],\n",
       "          [ 1.2243, -0.6250,  1.1204]],\n",
       "\n",
       "         [[ 0.7410,  1.0727, -0.8755],\n",
       "          [-1.1267, -0.5216,  1.2059],\n",
       "          [-1.0123,  0.0208,  0.6184]],\n",
       "\n",
       "         [[-0.7894, -0.7917, -0.3882],\n",
       "          [ 0.3115,  0.7584, -0.4227],\n",
       "          [-0.1449, -1.0872, -1.0363]]],\n",
       "\n",
       "\n",
       "        [[[ 0.7386,  0.7941, -1.2610],\n",
       "          [ 0.3212, -0.5103, -0.1884],\n",
       "          [ 1.6330, -0.3707,  0.0950]],\n",
       "\n",
       "         [[-0.5968,  0.4835,  1.4788],\n",
       "          [-0.6042, -1.5310,  0.0643],\n",
       "          [-0.1153,  0.1345, -0.3019]],\n",
       "\n",
       "         [[ 0.7312,  0.5996, -0.1264],\n",
       "          [-0.0995, -2.1261, -0.3153],\n",
       "          [-0.9834,  0.7720,  0.3926]]],\n",
       "\n",
       "\n",
       "        [[[-0.1513,  0.1358,  0.9325],\n",
       "          [ 1.1171,  0.0763, -0.5087],\n",
       "          [ 0.6574, -0.9162,  0.4919]],\n",
       "\n",
       "         [[-1.3505, -0.9415,  0.9788],\n",
       "          [ 0.3770,  1.4981, -0.3334],\n",
       "          [-0.9557,  1.6423,  1.0193]],\n",
       "\n",
       "         [[-1.2672, -0.1660,  1.7399],\n",
       "          [ 0.1213, -1.2736,  0.8005],\n",
       "          [ 0.5780,  0.0173, -0.1153]]]], device='cuda:0')"
      ]
     },
     "execution_count": 3,
     "metadata": {},
     "output_type": "execute_result"
    }
   ],
   "source": [
    "import os\n",
    "os.environ['CUDA_VISIBLE_DEVICES'] = '0'\n",
    "import torch\n",
    "import functorch.compile\n",
    "import models\n",
    "\n",
    "model = models.get_model('resnet18', num_classes=10).cuda()\n",
    "model = functorch.compile.memory_efficient_fusion(model)\n",
    "\n",
    "# model = model\n",
    "# model = torch.nn.DataParallel(model).cuda()\n",
    "\n",
    "loss = model(torch.randn(4, 3, 32, 32).cuda()).sum()\n",
    "loss.backward()\n",
    "\n",
    "list(model.parameters())[0].grad"
   ]
  },
  {
   "cell_type": "code",
   "execution_count": 5,
   "metadata": {},
   "outputs": [
    {
     "name": "stderr",
     "output_type": "stream",
     "text": [
      "Failed to collect metadata on function, produced code may be suboptimal.  Known situations this can occur are inference mode only compilation involving resize_ or prims (!schema.hasAnyAliasInfo() INTERNAL ASSERT FAILED); if your situation looks different please file a bug to PyTorch.\n",
      "Traceback (most recent call last):\n",
      "  File \"/opt/conda/lib/python3.10/site-packages/torch/_functorch/aot_autograd.py\", line 1674, in aot_wrapper_dedupe\n",
      "    fw_metadata, _out = run_functionalized_fw_and_collect_metadata(\n",
      "  File \"/opt/conda/lib/python3.10/site-packages/torch/_functorch/aot_autograd.py\", line 606, in inner\n",
      "    flat_f_outs = f(*flat_f_args)\n",
      "  File \"/opt/conda/lib/python3.10/site-packages/torch/_functorch/aot_autograd.py\", line 2630, in flat_fn\n",
      "    tree_out = fn(*args, **kwargs)\n",
      "  File \"/opt/conda/lib/python3.10/site-packages/torch/_functorch/aot_autograd.py\", line 2691, in functional_call\n",
      "    return torch.func.functional_call(mod, params_and_buffers, args, kwargs)\n",
      "  File \"/opt/conda/lib/python3.10/site-packages/torch/_functorch/functional_call.py\", line 143, in functional_call\n",
      "    return nn.utils.stateless._functional_call(\n",
      "  File \"/opt/conda/lib/python3.10/site-packages/torch/nn/utils/stateless.py\", line 262, in _functional_call\n",
      "    return module(*args, **kwargs)\n",
      "  File \"/opt/conda/lib/python3.10/site-packages/torch/nn/modules/module.py\", line 1501, in _call_impl\n",
      "    return forward_call(*args, **kwargs)\n",
      "  File \"/workspace/noisy-label/models/resnet.py\", line 142, in forward\n",
      "    x = self.get_feature(x)\n",
      "  File \"/workspace/noisy-label/models/resnet.py\", line 129, in get_feature\n",
      "    x = self.bn1(x)\n",
      "  File \"/opt/conda/lib/python3.10/site-packages/torch/nn/modules/module.py\", line 1501, in _call_impl\n",
      "    return forward_call(*args, **kwargs)\n",
      "  File \"/opt/conda/lib/python3.10/site-packages/torch/nn/modules/batchnorm.py\", line 171, in forward\n",
      "    return F.batch_norm(\n",
      "  File \"/opt/conda/lib/python3.10/site-packages/torch/nn/functional.py\", line 2450, in batch_norm\n",
      "    return torch.batch_norm(\n",
      "  File \"/opt/conda/lib/python3.10/site-packages/torch/_decomp/decompositions.py\", line 1578, in cudnn_batch_norm\n",
      "    a, b, c = aten.native_batch_norm(\n",
      "  File \"/opt/conda/lib/python3.10/site-packages/torch/_ops.py\", line 502, in __call__\n",
      "    return self._op(*args, **kwargs or {})\n",
      "  File \"/opt/conda/lib/python3.10/site-packages/torch/_decomp/decompositions.py\", line 1444, in native_batch_norm_decomposition\n",
      "    return aten._native_batch_norm_legit(\n",
      "  File \"/opt/conda/lib/python3.10/site-packages/torch/_ops.py\", line 502, in __call__\n",
      "    return self._op(*args, **kwargs or {})\n",
      "  File \"/opt/conda/lib/python3.10/site-packages/torch/utils/_stats.py\", line 20, in wrapper\n",
      "    return fn(*args, **kwargs)\n",
      "  File \"/opt/conda/lib/python3.10/site-packages/torch/_subclasses/fake_tensor.py\", line 987, in __torch_dispatch__\n",
      "    return self.dispatch(func, types, args, kwargs)\n",
      "  File \"/opt/conda/lib/python3.10/site-packages/torch/_subclasses/fake_tensor.py\", line 1140, in dispatch\n",
      "    return decomposition_table[func](*args, **kwargs)\n",
      "  File \"/opt/conda/lib/python3.10/site-packages/torch/_decomp/decompositions.py\", line 1510, in _native_batch_norm_legit_functional\n",
      "    ) = native_batch_norm_helper(\n",
      "  File \"/opt/conda/lib/python3.10/site-packages/torch/_decomp/decompositions.py\", line 1339, in native_batch_norm_helper\n",
      "    new_running_mean = momentum * save_mean + (1 - momentum) * running_mean\n",
      "  File \"/opt/conda/lib/python3.10/site-packages/torch/utils/_stats.py\", line 20, in wrapper\n",
      "    return fn(*args, **kwargs)\n",
      "  File \"/opt/conda/lib/python3.10/site-packages/torch/_subclasses/fake_tensor.py\", line 987, in __torch_dispatch__\n",
      "    return self.dispatch(func, types, args, kwargs)\n",
      "  File \"/opt/conda/lib/python3.10/site-packages/torch/_subclasses/fake_tensor.py\", line 1177, in dispatch\n",
      "    return self.wrap_meta_outputs_with_default_device_logic(r, func, args, kwargs)\n",
      "  File \"/opt/conda/lib/python3.10/site-packages/torch/_subclasses/fake_tensor.py\", line 1233, in wrap_meta_outputs_with_default_device_logic\n",
      "    return tree_map(partial(wrap), r)\n",
      "  File \"/opt/conda/lib/python3.10/site-packages/torch/utils/_pytree.py\", line 196, in tree_map\n",
      "    return tree_unflatten([fn(i) for i in flat_args], spec)\n",
      "  File \"/opt/conda/lib/python3.10/site-packages/torch/utils/_pytree.py\", line 196, in <listcomp>\n",
      "    return tree_unflatten([fn(i) for i in flat_args], spec)\n",
      "  File \"/opt/conda/lib/python3.10/site-packages/torch/_subclasses/fake_tensor.py\", line 1254, in wrap\n",
      "    ) = FakeTensor._find_common_device(func, args, kwargs)\n",
      "  File \"/opt/conda/lib/python3.10/site-packages/torch/_subclasses/fake_tensor.py\", line 924, in _find_common_device\n",
      "    tree_map(merge_devices, args)\n",
      "  File \"/opt/conda/lib/python3.10/site-packages/torch/utils/_pytree.py\", line 196, in tree_map\n",
      "    return tree_unflatten([fn(i) for i in flat_args], spec)\n",
      "  File \"/opt/conda/lib/python3.10/site-packages/torch/utils/_pytree.py\", line 196, in <listcomp>\n",
      "    return tree_unflatten([fn(i) for i in flat_args], spec)\n",
      "  File \"/opt/conda/lib/python3.10/site-packages/torch/_subclasses/fake_tensor.py\", line 920, in merge_devices\n",
      "    raise RuntimeError(\n",
      "RuntimeError: Unhandled FakeTensor Device Propagation for aten.add.Tensor, found two different devices cuda:0, cpu\n"
     ]
    },
    {
     "ename": "RuntimeError",
     "evalue": "Unhandled FakeTensor Device Propagation for aten.add.Tensor, found two different devices cuda:0, cpu",
     "output_type": "error",
     "traceback": [
      "\u001b[0;31m---------------------------------------------------------------------------\u001b[0m",
      "\u001b[0;31mRuntimeError\u001b[0m                              Traceback (most recent call last)",
      "Cell \u001b[0;32mIn[5], line 1\u001b[0m\n\u001b[0;32m----> 1\u001b[0m model(torch\u001b[39m.\u001b[39;49mrandn(\u001b[39m4\u001b[39;49m, \u001b[39m3\u001b[39;49m, \u001b[39m32\u001b[39;49m, \u001b[39m32\u001b[39;49m)\u001b[39m.\u001b[39;49mcuda())\n",
      "File \u001b[0;32m/opt/conda/lib/python3.10/site-packages/torch/nn/modules/module.py:1501\u001b[0m, in \u001b[0;36mModule._call_impl\u001b[0;34m(self, *args, **kwargs)\u001b[0m\n\u001b[1;32m   1496\u001b[0m \u001b[39m# If we don't have any hooks, we want to skip the rest of the logic in\u001b[39;00m\n\u001b[1;32m   1497\u001b[0m \u001b[39m# this function, and just call forward.\u001b[39;00m\n\u001b[1;32m   1498\u001b[0m \u001b[39mif\u001b[39;00m \u001b[39mnot\u001b[39;00m (\u001b[39mself\u001b[39m\u001b[39m.\u001b[39m_backward_hooks \u001b[39mor\u001b[39;00m \u001b[39mself\u001b[39m\u001b[39m.\u001b[39m_backward_pre_hooks \u001b[39mor\u001b[39;00m \u001b[39mself\u001b[39m\u001b[39m.\u001b[39m_forward_hooks \u001b[39mor\u001b[39;00m \u001b[39mself\u001b[39m\u001b[39m.\u001b[39m_forward_pre_hooks\n\u001b[1;32m   1499\u001b[0m         \u001b[39mor\u001b[39;00m _global_backward_pre_hooks \u001b[39mor\u001b[39;00m _global_backward_hooks\n\u001b[1;32m   1500\u001b[0m         \u001b[39mor\u001b[39;00m _global_forward_hooks \u001b[39mor\u001b[39;00m _global_forward_pre_hooks):\n\u001b[0;32m-> 1501\u001b[0m     \u001b[39mreturn\u001b[39;00m forward_call(\u001b[39m*\u001b[39;49margs, \u001b[39m*\u001b[39;49m\u001b[39m*\u001b[39;49mkwargs)\n\u001b[1;32m   1502\u001b[0m \u001b[39m# Do not call functions when jit is used\u001b[39;00m\n\u001b[1;32m   1503\u001b[0m full_backward_hooks, non_full_backward_hooks \u001b[39m=\u001b[39m [], []\n",
      "File \u001b[0;32m/opt/conda/lib/python3.10/site-packages/torch/nn/parallel/data_parallel.py:169\u001b[0m, in \u001b[0;36mDataParallel.forward\u001b[0;34m(self, *inputs, **kwargs)\u001b[0m\n\u001b[1;32m    166\u001b[0m     kwargs \u001b[39m=\u001b[39m ({},)\n\u001b[1;32m    168\u001b[0m \u001b[39mif\u001b[39;00m \u001b[39mlen\u001b[39m(\u001b[39mself\u001b[39m\u001b[39m.\u001b[39mdevice_ids) \u001b[39m==\u001b[39m \u001b[39m1\u001b[39m:\n\u001b[0;32m--> 169\u001b[0m     \u001b[39mreturn\u001b[39;00m \u001b[39mself\u001b[39;49m\u001b[39m.\u001b[39;49mmodule(\u001b[39m*\u001b[39;49minputs[\u001b[39m0\u001b[39;49m], \u001b[39m*\u001b[39;49m\u001b[39m*\u001b[39;49mkwargs[\u001b[39m0\u001b[39;49m])\n\u001b[1;32m    170\u001b[0m replicas \u001b[39m=\u001b[39m \u001b[39mself\u001b[39m\u001b[39m.\u001b[39mreplicate(\u001b[39mself\u001b[39m\u001b[39m.\u001b[39mmodule, \u001b[39mself\u001b[39m\u001b[39m.\u001b[39mdevice_ids[:\u001b[39mlen\u001b[39m(inputs)])\n\u001b[1;32m    171\u001b[0m outputs \u001b[39m=\u001b[39m \u001b[39mself\u001b[39m\u001b[39m.\u001b[39mparallel_apply(replicas, inputs, kwargs)\n",
      "File \u001b[0;32m/opt/conda/lib/python3.10/site-packages/torch/nn/modules/module.py:1501\u001b[0m, in \u001b[0;36mModule._call_impl\u001b[0;34m(self, *args, **kwargs)\u001b[0m\n\u001b[1;32m   1496\u001b[0m \u001b[39m# If we don't have any hooks, we want to skip the rest of the logic in\u001b[39;00m\n\u001b[1;32m   1497\u001b[0m \u001b[39m# this function, and just call forward.\u001b[39;00m\n\u001b[1;32m   1498\u001b[0m \u001b[39mif\u001b[39;00m \u001b[39mnot\u001b[39;00m (\u001b[39mself\u001b[39m\u001b[39m.\u001b[39m_backward_hooks \u001b[39mor\u001b[39;00m \u001b[39mself\u001b[39m\u001b[39m.\u001b[39m_backward_pre_hooks \u001b[39mor\u001b[39;00m \u001b[39mself\u001b[39m\u001b[39m.\u001b[39m_forward_hooks \u001b[39mor\u001b[39;00m \u001b[39mself\u001b[39m\u001b[39m.\u001b[39m_forward_pre_hooks\n\u001b[1;32m   1499\u001b[0m         \u001b[39mor\u001b[39;00m _global_backward_pre_hooks \u001b[39mor\u001b[39;00m _global_backward_hooks\n\u001b[1;32m   1500\u001b[0m         \u001b[39mor\u001b[39;00m _global_forward_hooks \u001b[39mor\u001b[39;00m _global_forward_pre_hooks):\n\u001b[0;32m-> 1501\u001b[0m     \u001b[39mreturn\u001b[39;00m forward_call(\u001b[39m*\u001b[39;49margs, \u001b[39m*\u001b[39;49m\u001b[39m*\u001b[39;49mkwargs)\n\u001b[1;32m   1502\u001b[0m \u001b[39m# Do not call functions when jit is used\u001b[39;00m\n\u001b[1;32m   1503\u001b[0m full_backward_hooks, non_full_backward_hooks \u001b[39m=\u001b[39m [], []\n",
      "File \u001b[0;32m/opt/conda/lib/python3.10/site-packages/torch/_functorch/aot_autograd.py:2706\u001b[0m, in \u001b[0;36maot_module.<locals>.AOTModule.forward\u001b[0;34m(self, *args, **kwargs)\u001b[0m\n\u001b[1;32m   2705\u001b[0m \u001b[39mdef\u001b[39;00m \u001b[39mforward\u001b[39m(\u001b[39mself\u001b[39m, \u001b[39m*\u001b[39margs, \u001b[39m*\u001b[39m\u001b[39m*\u001b[39mkwargs):\n\u001b[0;32m-> 2706\u001b[0m     \u001b[39mreturn\u001b[39;00m compiled_f(\n\u001b[1;32m   2707\u001b[0m         named_params,\n\u001b[1;32m   2708\u001b[0m         named_buffers,\n\u001b[1;32m   2709\u001b[0m         \u001b[39m*\u001b[39;49margs,\n\u001b[1;32m   2710\u001b[0m         \u001b[39m*\u001b[39;49m\u001b[39m*\u001b[39;49mkwargs,\n\u001b[1;32m   2711\u001b[0m     )\n",
      "File \u001b[0;32m/opt/conda/lib/python3.10/site-packages/torch/_functorch/aot_autograd.py:2650\u001b[0m, in \u001b[0;36maot_function.<locals>.returned_function\u001b[0;34m(*args, **kwargs)\u001b[0m\n\u001b[1;32m   2647\u001b[0m         out_spec\u001b[39m.\u001b[39mset(spec)\n\u001b[1;32m   2648\u001b[0m         \u001b[39mreturn\u001b[39;00m flat_out\n\u001b[0;32m-> 2650\u001b[0m     compiled_fn \u001b[39m=\u001b[39m create_aot_dispatcher_function(\n\u001b[1;32m   2651\u001b[0m         flat_fn,\n\u001b[1;32m   2652\u001b[0m         flat_args,\n\u001b[1;32m   2653\u001b[0m         aot_config,\n\u001b[1;32m   2654\u001b[0m     )\n\u001b[1;32m   2655\u001b[0m     cached_res \u001b[39m=\u001b[39m (compiled_fn, out_spec)\n\u001b[1;32m   2657\u001b[0m cached_fn, out_spec \u001b[39m=\u001b[39m cached_res\n",
      "File \u001b[0;32m/opt/conda/lib/python3.10/site-packages/torch/_dynamo/utils.py:163\u001b[0m, in \u001b[0;36mdynamo_timed.<locals>.dynamo_timed_inner.<locals>.time_wrapper\u001b[0;34m(*args, **kwargs)\u001b[0m\n\u001b[1;32m    161\u001b[0m     compilation_metrics[key] \u001b[39m=\u001b[39m []\n\u001b[1;32m    162\u001b[0m t0 \u001b[39m=\u001b[39m time\u001b[39m.\u001b[39mtime()\n\u001b[0;32m--> 163\u001b[0m r \u001b[39m=\u001b[39m func(\u001b[39m*\u001b[39;49margs, \u001b[39m*\u001b[39;49m\u001b[39m*\u001b[39;49mkwargs)\n\u001b[1;32m    164\u001b[0m time_spent \u001b[39m=\u001b[39m time\u001b[39m.\u001b[39mtime() \u001b[39m-\u001b[39m t0\n\u001b[1;32m    165\u001b[0m \u001b[39m# print(f\"Dynamo timer: key={key}, latency={latency:.2f} sec\")\u001b[39;00m\n",
      "File \u001b[0;32m/opt/conda/lib/python3.10/site-packages/torch/_functorch/aot_autograd.py:2498\u001b[0m, in \u001b[0;36mcreate_aot_dispatcher_function\u001b[0;34m(flat_fn, flat_args, aot_config)\u001b[0m\n\u001b[1;32m   2495\u001b[0m compiler_fn \u001b[39m=\u001b[39m partial(aot_wrapper_dedupe, compiler_fn\u001b[39m=\u001b[39mcompiler_fn)\n\u001b[1;32m   2496\u001b[0m \u001b[39m# You can put more passes here\u001b[39;00m\n\u001b[0;32m-> 2498\u001b[0m compiled_fn \u001b[39m=\u001b[39m compiler_fn(flat_fn, fake_flat_args, aot_config)\n\u001b[1;32m   2500\u001b[0m \u001b[39mif\u001b[39;00m \u001b[39mnot\u001b[39;00m \u001b[39mhasattr\u001b[39m(compiled_fn, \u001b[39m\"\u001b[39m\u001b[39m_boxed_call\u001b[39m\u001b[39m\"\u001b[39m):\n\u001b[1;32m   2501\u001b[0m     compiled_fn \u001b[39m=\u001b[39m make_boxed_func(compiled_fn)\n",
      "File \u001b[0;32m/opt/conda/lib/python3.10/site-packages/torch/_functorch/aot_autograd.py:1802\u001b[0m, in \u001b[0;36maot_wrapper_dedupe\u001b[0;34m(flat_fn, flat_args, aot_config, compiler_fn)\u001b[0m\n\u001b[1;32m   1798\u001b[0m \u001b[39m@wraps\u001b[39m(flat_fn)\n\u001b[1;32m   1799\u001b[0m \u001b[39mdef\u001b[39;00m \u001b[39mwrapped_flat_fn\u001b[39m(\u001b[39m*\u001b[39margs):\n\u001b[1;32m   1800\u001b[0m     \u001b[39mreturn\u001b[39;00m flat_fn(\u001b[39m*\u001b[39madd_dupe_args(args))\n\u001b[0;32m-> 1802\u001b[0m compiled_fn \u001b[39m=\u001b[39m compiler_fn(wrapped_flat_fn, deduped_flat_args, aot_config)\n\u001b[1;32m   1804\u001b[0m \u001b[39mif\u001b[39;00m \u001b[39mnot\u001b[39;00m \u001b[39mhasattr\u001b[39m(compiled_fn, \u001b[39m\"\u001b[39m\u001b[39m_boxed_call\u001b[39m\u001b[39m\"\u001b[39m):\n\u001b[1;32m   1805\u001b[0m     compiled_fn \u001b[39m=\u001b[39m make_boxed_func(compiled_fn)\n",
      "File \u001b[0;32m/opt/conda/lib/python3.10/site-packages/torch/_functorch/aot_autograd.py:2036\u001b[0m, in \u001b[0;36maot_dispatch_autograd\u001b[0;34m(flat_fn, flat_args, aot_config)\u001b[0m\n\u001b[1;32m   2033\u001b[0m \u001b[39mdef\u001b[39;00m \u001b[39maot_dispatch_autograd\u001b[39m(flat_fn, flat_args: List[Any], aot_config: AOTConfig):\n\u001b[1;32m   2035\u001b[0m     \u001b[39mwith\u001b[39;00m enable_python_dispatcher():\n\u001b[0;32m-> 2036\u001b[0m         _fw_metadata, out \u001b[39m=\u001b[39m run_functionalized_fw_and_collect_metadata(\n\u001b[1;32m   2037\u001b[0m             flat_fn,\n\u001b[1;32m   2038\u001b[0m             \u001b[39m# Note: in the non-inference path, we are currently not passing input mutations into the graph directly.\u001b[39;49;00m\n\u001b[1;32m   2039\u001b[0m             \u001b[39m# This is mainly difficult due to the partitioner, but we are leaving (a bit of) perf on the table.\u001b[39;49;00m\n\u001b[1;32m   2040\u001b[0m             keep_input_mutations\u001b[39m=\u001b[39;49m\u001b[39mFalse\u001b[39;49;00m,\n\u001b[1;32m   2041\u001b[0m         )(\n\u001b[1;32m   2042\u001b[0m             \u001b[39m*\u001b[39;49mflat_args\n\u001b[1;32m   2043\u001b[0m         )\n\u001b[1;32m   2046\u001b[0m     \u001b[39m# out here corresponds to the set of outputs in the traced forward that should get grad_outputs in the traced backward.\u001b[39;00m\n\u001b[1;32m   2047\u001b[0m     \u001b[39m# It includes outputs of the original forward, *and* any updated inputs due to input mutations.\u001b[39;00m\n\u001b[1;32m   2048\u001b[0m     \u001b[39m# However, it does *not* include any outputs that are aliases of inputs or intermediates, or any metadata-only input mutations.\u001b[39;00m\n\u001b[1;32m   2049\u001b[0m     out \u001b[39m=\u001b[39m pytree\u001b[39m.\u001b[39mtree_map(\n\u001b[1;32m   2050\u001b[0m         \u001b[39mlambda\u001b[39;00m x: x\u001b[39m.\u001b[39mdetach()\u001b[39m.\u001b[39mcontiguous() \u001b[39mif\u001b[39;00m \u001b[39misinstance\u001b[39m(x, Tensor) \u001b[39melse\u001b[39;00m x,\n\u001b[1;32m   2051\u001b[0m         out,\n\u001b[1;32m   2052\u001b[0m     )\n",
      "File \u001b[0;32m/opt/conda/lib/python3.10/site-packages/torch/_functorch/aot_autograd.py:606\u001b[0m, in \u001b[0;36mrun_functionalized_fw_and_collect_metadata.<locals>.inner\u001b[0;34m(*flat_args)\u001b[0m\n\u001b[1;32m    603\u001b[0m torch\u001b[39m.\u001b[39m_enable_functionalization(reapply_views\u001b[39m=\u001b[39m\u001b[39mTrue\u001b[39;00m)\n\u001b[1;32m    604\u001b[0m \u001b[39mtry\u001b[39;00m:\n\u001b[1;32m    605\u001b[0m     \u001b[39m# precondition: The passed in function already handles unflattening inputs + flattening outputs\u001b[39;00m\n\u001b[0;32m--> 606\u001b[0m     flat_f_outs \u001b[39m=\u001b[39m f(\u001b[39m*\u001b[39;49mflat_f_args)\n\u001b[1;32m    607\u001b[0m \u001b[39mfinally\u001b[39;00m:\n\u001b[1;32m    608\u001b[0m     torch\u001b[39m.\u001b[39m_disable_functionalization()\n",
      "File \u001b[0;32m/opt/conda/lib/python3.10/site-packages/torch/_functorch/aot_autograd.py:1800\u001b[0m, in \u001b[0;36maot_wrapper_dedupe.<locals>.wrapped_flat_fn\u001b[0;34m(*args)\u001b[0m\n\u001b[1;32m   1798\u001b[0m \u001b[39m@wraps\u001b[39m(flat_fn)\n\u001b[1;32m   1799\u001b[0m \u001b[39mdef\u001b[39;00m \u001b[39mwrapped_flat_fn\u001b[39m(\u001b[39m*\u001b[39margs):\n\u001b[0;32m-> 1800\u001b[0m     \u001b[39mreturn\u001b[39;00m flat_fn(\u001b[39m*\u001b[39;49madd_dupe_args(args))\n",
      "File \u001b[0;32m/opt/conda/lib/python3.10/site-packages/torch/_functorch/aot_autograd.py:2630\u001b[0m, in \u001b[0;36maot_function.<locals>.returned_function.<locals>.flat_fn\u001b[0;34m(*flat_args)\u001b[0m\n\u001b[1;32m   2628\u001b[0m \u001b[39mnonlocal\u001b[39;00m out_spec\n\u001b[1;32m   2629\u001b[0m args, kwargs \u001b[39m=\u001b[39m pytree\u001b[39m.\u001b[39mtree_unflatten(flat_args, tensor_args_spec)\n\u001b[0;32m-> 2630\u001b[0m tree_out \u001b[39m=\u001b[39m fn(\u001b[39m*\u001b[39;49margs, \u001b[39m*\u001b[39;49m\u001b[39m*\u001b[39;49mkwargs)\n\u001b[1;32m   2631\u001b[0m flat_out, spec \u001b[39m=\u001b[39m pytree\u001b[39m.\u001b[39mtree_flatten(tree_out)\n\u001b[1;32m   2632\u001b[0m \u001b[39mfor\u001b[39;00m i \u001b[39min\u001b[39;00m flat_out:\n",
      "File \u001b[0;32m/opt/conda/lib/python3.10/site-packages/torch/_functorch/aot_autograd.py:2691\u001b[0m, in \u001b[0;36maot_module.<locals>.functional_call\u001b[0;34m(named_params, named_buffers, *args, **kwargs)\u001b[0m\n\u001b[1;32m   2689\u001b[0m \u001b[39mdef\u001b[39;00m \u001b[39mfunctional_call\u001b[39m(named_params, named_buffers, \u001b[39m*\u001b[39margs, \u001b[39m*\u001b[39m\u001b[39m*\u001b[39mkwargs):\n\u001b[1;32m   2690\u001b[0m     params_and_buffers \u001b[39m=\u001b[39m {\u001b[39m*\u001b[39m\u001b[39m*\u001b[39mnamed_params, \u001b[39m*\u001b[39m\u001b[39m*\u001b[39mnamed_buffers}\n\u001b[0;32m-> 2691\u001b[0m     \u001b[39mreturn\u001b[39;00m torch\u001b[39m.\u001b[39;49mfunc\u001b[39m.\u001b[39;49mfunctional_call(mod, params_and_buffers, args, kwargs)\n",
      "File \u001b[0;32m/opt/conda/lib/python3.10/site-packages/torch/_functorch/functional_call.py:143\u001b[0m, in \u001b[0;36mfunctional_call\u001b[0;34m(module, parameter_and_buffer_dicts, args, kwargs, tie_weights, strict)\u001b[0m\n\u001b[1;32m    137\u001b[0m \u001b[39melse\u001b[39;00m:\n\u001b[1;32m    138\u001b[0m     \u001b[39mraise\u001b[39;00m \u001b[39mValueError\u001b[39;00m(\n\u001b[1;32m    139\u001b[0m         \u001b[39mf\u001b[39m\u001b[39m\"\u001b[39m\u001b[39mExpected parameter_and_buffer_dicts to be a dict, or a list/tuple of dicts, \u001b[39m\u001b[39m\"\u001b[39m\n\u001b[1;32m    140\u001b[0m         \u001b[39mf\u001b[39m\u001b[39m\"\u001b[39m\u001b[39mbut got \u001b[39m\u001b[39m{\u001b[39;00m\u001b[39mtype\u001b[39m(parameter_and_buffer_dicts)\u001b[39m}\u001b[39;00m\u001b[39m\"\u001b[39m\n\u001b[1;32m    141\u001b[0m     )\n\u001b[0;32m--> 143\u001b[0m \u001b[39mreturn\u001b[39;00m nn\u001b[39m.\u001b[39;49mutils\u001b[39m.\u001b[39;49mstateless\u001b[39m.\u001b[39;49m_functional_call(\n\u001b[1;32m    144\u001b[0m     module,\n\u001b[1;32m    145\u001b[0m     parameters_and_buffers,\n\u001b[1;32m    146\u001b[0m     args,\n\u001b[1;32m    147\u001b[0m     kwargs,\n\u001b[1;32m    148\u001b[0m     tie_weights\u001b[39m=\u001b[39;49mtie_weights,\n\u001b[1;32m    149\u001b[0m     strict\u001b[39m=\u001b[39;49mstrict,\n\u001b[1;32m    150\u001b[0m )\n",
      "File \u001b[0;32m/opt/conda/lib/python3.10/site-packages/torch/nn/utils/stateless.py:262\u001b[0m, in \u001b[0;36m_functional_call\u001b[0;34m(module, parameters_and_buffers, args, kwargs, tie_weights, strict)\u001b[0m\n\u001b[1;32m    258\u001b[0m     args \u001b[39m=\u001b[39m (args,)\n\u001b[1;32m    259\u001b[0m \u001b[39mwith\u001b[39;00m _reparametrize_module(\n\u001b[1;32m    260\u001b[0m     module, parameters_and_buffers, tie_weights\u001b[39m=\u001b[39mtie_weights, strict\u001b[39m=\u001b[39mstrict\n\u001b[1;32m    261\u001b[0m ):\n\u001b[0;32m--> 262\u001b[0m     \u001b[39mreturn\u001b[39;00m module(\u001b[39m*\u001b[39;49margs, \u001b[39m*\u001b[39;49m\u001b[39m*\u001b[39;49mkwargs)\n",
      "File \u001b[0;32m/opt/conda/lib/python3.10/site-packages/torch/nn/modules/module.py:1501\u001b[0m, in \u001b[0;36mModule._call_impl\u001b[0;34m(self, *args, **kwargs)\u001b[0m\n\u001b[1;32m   1496\u001b[0m \u001b[39m# If we don't have any hooks, we want to skip the rest of the logic in\u001b[39;00m\n\u001b[1;32m   1497\u001b[0m \u001b[39m# this function, and just call forward.\u001b[39;00m\n\u001b[1;32m   1498\u001b[0m \u001b[39mif\u001b[39;00m \u001b[39mnot\u001b[39;00m (\u001b[39mself\u001b[39m\u001b[39m.\u001b[39m_backward_hooks \u001b[39mor\u001b[39;00m \u001b[39mself\u001b[39m\u001b[39m.\u001b[39m_backward_pre_hooks \u001b[39mor\u001b[39;00m \u001b[39mself\u001b[39m\u001b[39m.\u001b[39m_forward_hooks \u001b[39mor\u001b[39;00m \u001b[39mself\u001b[39m\u001b[39m.\u001b[39m_forward_pre_hooks\n\u001b[1;32m   1499\u001b[0m         \u001b[39mor\u001b[39;00m _global_backward_pre_hooks \u001b[39mor\u001b[39;00m _global_backward_hooks\n\u001b[1;32m   1500\u001b[0m         \u001b[39mor\u001b[39;00m _global_forward_hooks \u001b[39mor\u001b[39;00m _global_forward_pre_hooks):\n\u001b[0;32m-> 1501\u001b[0m     \u001b[39mreturn\u001b[39;00m forward_call(\u001b[39m*\u001b[39;49margs, \u001b[39m*\u001b[39;49m\u001b[39m*\u001b[39;49mkwargs)\n\u001b[1;32m   1502\u001b[0m \u001b[39m# Do not call functions when jit is used\u001b[39;00m\n\u001b[1;32m   1503\u001b[0m full_backward_hooks, non_full_backward_hooks \u001b[39m=\u001b[39m [], []\n",
      "File \u001b[0;32m/workspace/noisy-label/models/resnet.py:142\u001b[0m, in \u001b[0;36mResNet.forward\u001b[0;34m(self, x)\u001b[0m\n\u001b[1;32m    141\u001b[0m \u001b[39mdef\u001b[39;00m \u001b[39mforward\u001b[39m(\u001b[39mself\u001b[39m, x):\n\u001b[0;32m--> 142\u001b[0m     x \u001b[39m=\u001b[39m \u001b[39mself\u001b[39;49m\u001b[39m.\u001b[39;49mget_feature(x)\n\u001b[1;32m    143\u001b[0m     x \u001b[39m=\u001b[39m \u001b[39mself\u001b[39m\u001b[39m.\u001b[39mfc(x)\n\u001b[1;32m    144\u001b[0m     \u001b[39mreturn\u001b[39;00m x\n",
      "File \u001b[0;32m/workspace/noisy-label/models/resnet.py:129\u001b[0m, in \u001b[0;36mResNet.get_feature\u001b[0;34m(self, x)\u001b[0m\n\u001b[1;32m    127\u001b[0m \u001b[39mdef\u001b[39;00m \u001b[39mget_feature\u001b[39m(\u001b[39mself\u001b[39m, x):\n\u001b[1;32m    128\u001b[0m     x \u001b[39m=\u001b[39m \u001b[39mself\u001b[39m\u001b[39m.\u001b[39mconv1(x)\n\u001b[0;32m--> 129\u001b[0m     x \u001b[39m=\u001b[39m \u001b[39mself\u001b[39;49m\u001b[39m.\u001b[39;49mbn1(x)\n\u001b[1;32m    130\u001b[0m     x \u001b[39m=\u001b[39m \u001b[39mself\u001b[39m\u001b[39m.\u001b[39mrelu(x)\n\u001b[1;32m    132\u001b[0m     x \u001b[39m=\u001b[39m \u001b[39mself\u001b[39m\u001b[39m.\u001b[39mlayer1(x)\n",
      "File \u001b[0;32m/opt/conda/lib/python3.10/site-packages/torch/nn/modules/module.py:1501\u001b[0m, in \u001b[0;36mModule._call_impl\u001b[0;34m(self, *args, **kwargs)\u001b[0m\n\u001b[1;32m   1496\u001b[0m \u001b[39m# If we don't have any hooks, we want to skip the rest of the logic in\u001b[39;00m\n\u001b[1;32m   1497\u001b[0m \u001b[39m# this function, and just call forward.\u001b[39;00m\n\u001b[1;32m   1498\u001b[0m \u001b[39mif\u001b[39;00m \u001b[39mnot\u001b[39;00m (\u001b[39mself\u001b[39m\u001b[39m.\u001b[39m_backward_hooks \u001b[39mor\u001b[39;00m \u001b[39mself\u001b[39m\u001b[39m.\u001b[39m_backward_pre_hooks \u001b[39mor\u001b[39;00m \u001b[39mself\u001b[39m\u001b[39m.\u001b[39m_forward_hooks \u001b[39mor\u001b[39;00m \u001b[39mself\u001b[39m\u001b[39m.\u001b[39m_forward_pre_hooks\n\u001b[1;32m   1499\u001b[0m         \u001b[39mor\u001b[39;00m _global_backward_pre_hooks \u001b[39mor\u001b[39;00m _global_backward_hooks\n\u001b[1;32m   1500\u001b[0m         \u001b[39mor\u001b[39;00m _global_forward_hooks \u001b[39mor\u001b[39;00m _global_forward_pre_hooks):\n\u001b[0;32m-> 1501\u001b[0m     \u001b[39mreturn\u001b[39;00m forward_call(\u001b[39m*\u001b[39;49margs, \u001b[39m*\u001b[39;49m\u001b[39m*\u001b[39;49mkwargs)\n\u001b[1;32m   1502\u001b[0m \u001b[39m# Do not call functions when jit is used\u001b[39;00m\n\u001b[1;32m   1503\u001b[0m full_backward_hooks, non_full_backward_hooks \u001b[39m=\u001b[39m [], []\n",
      "File \u001b[0;32m/opt/conda/lib/python3.10/site-packages/torch/nn/modules/batchnorm.py:171\u001b[0m, in \u001b[0;36m_BatchNorm.forward\u001b[0;34m(self, input)\u001b[0m\n\u001b[1;32m    164\u001b[0m     bn_training \u001b[39m=\u001b[39m (\u001b[39mself\u001b[39m\u001b[39m.\u001b[39mrunning_mean \u001b[39mis\u001b[39;00m \u001b[39mNone\u001b[39;00m) \u001b[39mand\u001b[39;00m (\u001b[39mself\u001b[39m\u001b[39m.\u001b[39mrunning_var \u001b[39mis\u001b[39;00m \u001b[39mNone\u001b[39;00m)\n\u001b[1;32m    166\u001b[0m \u001b[39mr\u001b[39m\u001b[39m\"\"\"\u001b[39;00m\n\u001b[1;32m    167\u001b[0m \u001b[39mBuffers are only updated if they are to be tracked and we are in training mode. Thus they only need to be\u001b[39;00m\n\u001b[1;32m    168\u001b[0m \u001b[39mpassed when the update should occur (i.e. in training mode when they are tracked), or when buffer stats are\u001b[39;00m\n\u001b[1;32m    169\u001b[0m \u001b[39mused for normalization (i.e. in eval mode when buffers are not None).\u001b[39;00m\n\u001b[1;32m    170\u001b[0m \u001b[39m\"\"\"\u001b[39;00m\n\u001b[0;32m--> 171\u001b[0m \u001b[39mreturn\u001b[39;00m F\u001b[39m.\u001b[39;49mbatch_norm(\n\u001b[1;32m    172\u001b[0m     \u001b[39minput\u001b[39;49m,\n\u001b[1;32m    173\u001b[0m     \u001b[39m# If buffers are not to be tracked, ensure that they won't be updated\u001b[39;49;00m\n\u001b[1;32m    174\u001b[0m     \u001b[39mself\u001b[39;49m\u001b[39m.\u001b[39;49mrunning_mean\n\u001b[1;32m    175\u001b[0m     \u001b[39mif\u001b[39;49;00m \u001b[39mnot\u001b[39;49;00m \u001b[39mself\u001b[39;49m\u001b[39m.\u001b[39;49mtraining \u001b[39mor\u001b[39;49;00m \u001b[39mself\u001b[39;49m\u001b[39m.\u001b[39;49mtrack_running_stats\n\u001b[1;32m    176\u001b[0m     \u001b[39melse\u001b[39;49;00m \u001b[39mNone\u001b[39;49;00m,\n\u001b[1;32m    177\u001b[0m     \u001b[39mself\u001b[39;49m\u001b[39m.\u001b[39;49mrunning_var \u001b[39mif\u001b[39;49;00m \u001b[39mnot\u001b[39;49;00m \u001b[39mself\u001b[39;49m\u001b[39m.\u001b[39;49mtraining \u001b[39mor\u001b[39;49;00m \u001b[39mself\u001b[39;49m\u001b[39m.\u001b[39;49mtrack_running_stats \u001b[39melse\u001b[39;49;00m \u001b[39mNone\u001b[39;49;00m,\n\u001b[1;32m    178\u001b[0m     \u001b[39mself\u001b[39;49m\u001b[39m.\u001b[39;49mweight,\n\u001b[1;32m    179\u001b[0m     \u001b[39mself\u001b[39;49m\u001b[39m.\u001b[39;49mbias,\n\u001b[1;32m    180\u001b[0m     bn_training,\n\u001b[1;32m    181\u001b[0m     exponential_average_factor,\n\u001b[1;32m    182\u001b[0m     \u001b[39mself\u001b[39;49m\u001b[39m.\u001b[39;49meps,\n\u001b[1;32m    183\u001b[0m )\n",
      "File \u001b[0;32m/opt/conda/lib/python3.10/site-packages/torch/nn/functional.py:2450\u001b[0m, in \u001b[0;36mbatch_norm\u001b[0;34m(input, running_mean, running_var, weight, bias, training, momentum, eps)\u001b[0m\n\u001b[1;32m   2447\u001b[0m \u001b[39mif\u001b[39;00m training:\n\u001b[1;32m   2448\u001b[0m     _verify_batch_size(\u001b[39minput\u001b[39m\u001b[39m.\u001b[39msize())\n\u001b[0;32m-> 2450\u001b[0m \u001b[39mreturn\u001b[39;00m torch\u001b[39m.\u001b[39;49mbatch_norm(\n\u001b[1;32m   2451\u001b[0m     \u001b[39minput\u001b[39;49m, weight, bias, running_mean, running_var, training, momentum, eps, torch\u001b[39m.\u001b[39;49mbackends\u001b[39m.\u001b[39;49mcudnn\u001b[39m.\u001b[39;49menabled\n\u001b[1;32m   2452\u001b[0m )\n",
      "File \u001b[0;32m/opt/conda/lib/python3.10/site-packages/torch/_decomp/decompositions.py:1578\u001b[0m, in \u001b[0;36mcudnn_batch_norm\u001b[0;34m(input, weight, bias, running_mean, running_var, training, exponential_average_factor, epsilon)\u001b[0m\n\u001b[1;32m   1566\u001b[0m \u001b[39m@aten\u001b[39m\u001b[39m.\u001b[39mcudnn_batch_norm\u001b[39m.\u001b[39mdefault\u001b[39m.\u001b[39mpy_impl(DispatchKey\u001b[39m.\u001b[39mAutograd)\n\u001b[1;32m   1567\u001b[0m \u001b[39m@register_decomposition\u001b[39m(aten\u001b[39m.\u001b[39mcudnn_batch_norm)\n\u001b[1;32m   1568\u001b[0m \u001b[39mdef\u001b[39;00m \u001b[39mcudnn_batch_norm\u001b[39m(\n\u001b[0;32m   (...)\u001b[0m\n\u001b[1;32m   1576\u001b[0m     epsilon: \u001b[39mfloat\u001b[39m,\n\u001b[1;32m   1577\u001b[0m ):\n\u001b[0;32m-> 1578\u001b[0m     a, b, c \u001b[39m=\u001b[39m aten\u001b[39m.\u001b[39;49mnative_batch_norm(\n\u001b[1;32m   1579\u001b[0m         \u001b[39minput\u001b[39;49m,\n\u001b[1;32m   1580\u001b[0m         weight,\n\u001b[1;32m   1581\u001b[0m         bias,\n\u001b[1;32m   1582\u001b[0m         running_mean,\n\u001b[1;32m   1583\u001b[0m         running_var,\n\u001b[1;32m   1584\u001b[0m         training,\n\u001b[1;32m   1585\u001b[0m         exponential_average_factor,\n\u001b[1;32m   1586\u001b[0m         epsilon,\n\u001b[1;32m   1587\u001b[0m     )\n\u001b[1;32m   1588\u001b[0m     \u001b[39m# Cudnn return running mean and variance when training is True\u001b[39;00m\n\u001b[1;32m   1589\u001b[0m     \u001b[39mif\u001b[39;00m training:\n",
      "File \u001b[0;32m/opt/conda/lib/python3.10/site-packages/torch/_ops.py:502\u001b[0m, in \u001b[0;36mOpOverloadPacket.__call__\u001b[0;34m(self, *args, **kwargs)\u001b[0m\n\u001b[1;32m    497\u001b[0m \u001b[39mdef\u001b[39;00m \u001b[39m__call__\u001b[39m(\u001b[39mself\u001b[39m, \u001b[39m*\u001b[39margs, \u001b[39m*\u001b[39m\u001b[39m*\u001b[39mkwargs):\n\u001b[1;32m    498\u001b[0m     \u001b[39m# overloading __call__ to ensure torch.ops.foo.bar()\u001b[39;00m\n\u001b[1;32m    499\u001b[0m     \u001b[39m# is still callable from JIT\u001b[39;00m\n\u001b[1;32m    500\u001b[0m     \u001b[39m# We save the function ptr as the `op` attribute on\u001b[39;00m\n\u001b[1;32m    501\u001b[0m     \u001b[39m# OpOverloadPacket to access it here.\u001b[39;00m\n\u001b[0;32m--> 502\u001b[0m     \u001b[39mreturn\u001b[39;00m \u001b[39mself\u001b[39;49m\u001b[39m.\u001b[39;49m_op(\u001b[39m*\u001b[39;49margs, \u001b[39m*\u001b[39;49m\u001b[39m*\u001b[39;49mkwargs \u001b[39mor\u001b[39;49;00m {})\n",
      "File \u001b[0;32m/opt/conda/lib/python3.10/site-packages/torch/_decomp/decompositions.py:1444\u001b[0m, in \u001b[0;36mnative_batch_norm_decomposition\u001b[0;34m(input, weight, bias, running_mean, running_var, training, momentum, eps)\u001b[0m\n\u001b[1;32m   1439\u001b[0m \u001b[39mif\u001b[39;00m running_var \u001b[39mis\u001b[39;00m \u001b[39mNone\u001b[39;00m:\n\u001b[1;32m   1440\u001b[0m     \u001b[39mraise\u001b[39;00m \u001b[39mRuntimeError\u001b[39;00m(\n\u001b[1;32m   1441\u001b[0m         \u001b[39m\"\u001b[39m\u001b[39mrunning_var is None, but running_mean is provided. \u001b[39m\u001b[39m\"\u001b[39m\n\u001b[1;32m   1442\u001b[0m         \u001b[39m\"\u001b[39m\u001b[39mThey should both be None or both be provided.\u001b[39m\u001b[39m\"\u001b[39m\n\u001b[1;32m   1443\u001b[0m     )\n\u001b[0;32m-> 1444\u001b[0m \u001b[39mreturn\u001b[39;00m aten\u001b[39m.\u001b[39;49m_native_batch_norm_legit(\n\u001b[1;32m   1445\u001b[0m     \u001b[39minput\u001b[39;49m, weight, bias, running_mean, running_var, training, momentum, eps\n\u001b[1;32m   1446\u001b[0m )\n",
      "File \u001b[0;32m/opt/conda/lib/python3.10/site-packages/torch/_ops.py:502\u001b[0m, in \u001b[0;36mOpOverloadPacket.__call__\u001b[0;34m(self, *args, **kwargs)\u001b[0m\n\u001b[1;32m    497\u001b[0m \u001b[39mdef\u001b[39;00m \u001b[39m__call__\u001b[39m(\u001b[39mself\u001b[39m, \u001b[39m*\u001b[39margs, \u001b[39m*\u001b[39m\u001b[39m*\u001b[39mkwargs):\n\u001b[1;32m    498\u001b[0m     \u001b[39m# overloading __call__ to ensure torch.ops.foo.bar()\u001b[39;00m\n\u001b[1;32m    499\u001b[0m     \u001b[39m# is still callable from JIT\u001b[39;00m\n\u001b[1;32m    500\u001b[0m     \u001b[39m# We save the function ptr as the `op` attribute on\u001b[39;00m\n\u001b[1;32m    501\u001b[0m     \u001b[39m# OpOverloadPacket to access it here.\u001b[39;00m\n\u001b[0;32m--> 502\u001b[0m     \u001b[39mreturn\u001b[39;00m \u001b[39mself\u001b[39;49m\u001b[39m.\u001b[39;49m_op(\u001b[39m*\u001b[39;49margs, \u001b[39m*\u001b[39;49m\u001b[39m*\u001b[39;49mkwargs \u001b[39mor\u001b[39;49;00m {})\n",
      "File \u001b[0;32m/opt/conda/lib/python3.10/site-packages/torch/utils/_stats.py:20\u001b[0m, in \u001b[0;36mcount.<locals>.wrapper\u001b[0;34m(*args, **kwargs)\u001b[0m\n\u001b[1;32m     18\u001b[0m     simple_call_counter[fn\u001b[39m.\u001b[39m\u001b[39m__qualname__\u001b[39m] \u001b[39m=\u001b[39m \u001b[39m0\u001b[39m\n\u001b[1;32m     19\u001b[0m simple_call_counter[fn\u001b[39m.\u001b[39m\u001b[39m__qualname__\u001b[39m] \u001b[39m=\u001b[39m simple_call_counter[fn\u001b[39m.\u001b[39m\u001b[39m__qualname__\u001b[39m] \u001b[39m+\u001b[39m \u001b[39m1\u001b[39m\n\u001b[0;32m---> 20\u001b[0m \u001b[39mreturn\u001b[39;00m fn(\u001b[39m*\u001b[39;49margs, \u001b[39m*\u001b[39;49m\u001b[39m*\u001b[39;49mkwargs)\n",
      "File \u001b[0;32m/opt/conda/lib/python3.10/site-packages/torch/_subclasses/fake_tensor.py:987\u001b[0m, in \u001b[0;36mFakeTensorMode.__torch_dispatch__\u001b[0;34m(self, func, types, args, kwargs)\u001b[0m\n\u001b[1;32m    984\u001b[0m \u001b[39m@count\u001b[39m\n\u001b[1;32m    985\u001b[0m \u001b[39mdef\u001b[39;00m \u001b[39m__torch_dispatch__\u001b[39m(\u001b[39mself\u001b[39m, func, types, args\u001b[39m=\u001b[39m(), kwargs\u001b[39m=\u001b[39m\u001b[39mNone\u001b[39;00m):\n\u001b[1;32m    986\u001b[0m     \u001b[39mtry\u001b[39;00m:\n\u001b[0;32m--> 987\u001b[0m         \u001b[39mreturn\u001b[39;00m \u001b[39mself\u001b[39;49m\u001b[39m.\u001b[39;49mdispatch(func, types, args, kwargs)\n\u001b[1;32m    988\u001b[0m     \u001b[39mexcept\u001b[39;00m \u001b[39mTypeError\u001b[39;00m:\n\u001b[1;32m    989\u001b[0m         log\u001b[39m.\u001b[39mexception(\u001b[39m\"\u001b[39m\u001b[39mfake tensor raised TypeError\u001b[39m\u001b[39m\"\u001b[39m)\n",
      "File \u001b[0;32m/opt/conda/lib/python3.10/site-packages/torch/_subclasses/fake_tensor.py:1140\u001b[0m, in \u001b[0;36mFakeTensorMode.dispatch\u001b[0;34m(self, func, types, args, kwargs)\u001b[0m\n\u001b[1;32m   1130\u001b[0m \u001b[39mif\u001b[39;00m func \u001b[39min\u001b[39;00m decomposition_table \u001b[39mand\u001b[39;00m (\n\u001b[1;32m   1131\u001b[0m     has_symbolic_sizes\n\u001b[1;32m   1132\u001b[0m     \u001b[39mor\u001b[39;00m (\n\u001b[0;32m   (...)\u001b[0m\n\u001b[1;32m   1137\u001b[0m     )\n\u001b[1;32m   1138\u001b[0m ):\n\u001b[1;32m   1139\u001b[0m     \u001b[39mwith\u001b[39;00m \u001b[39mself\u001b[39m:\n\u001b[0;32m-> 1140\u001b[0m         \u001b[39mreturn\u001b[39;00m decomposition_table[func](\u001b[39m*\u001b[39;49margs, \u001b[39m*\u001b[39;49m\u001b[39m*\u001b[39;49mkwargs)\n\u001b[1;32m   1142\u001b[0m \u001b[39mwith\u001b[39;00m \u001b[39mself\u001b[39m:\n\u001b[1;32m   1143\u001b[0m     \u001b[39m# Decomposes CompositeImplicitAutograd ops\u001b[39;00m\n\u001b[1;32m   1144\u001b[0m     r \u001b[39m=\u001b[39m func\u001b[39m.\u001b[39mdecompose(\u001b[39m*\u001b[39margs, \u001b[39m*\u001b[39m\u001b[39m*\u001b[39mkwargs)\n",
      "File \u001b[0;32m/opt/conda/lib/python3.10/site-packages/torch/_decomp/decompositions.py:1510\u001b[0m, in \u001b[0;36m_native_batch_norm_legit_functional\u001b[0;34m(input, weight, bias, running_mean, running_var, training, momentum, eps)\u001b[0m\n\u001b[1;32m   1493\u001b[0m \u001b[39m@register_decomposition\u001b[39m(aten\u001b[39m.\u001b[39m_native_batch_norm_legit_functional\u001b[39m.\u001b[39mdefault)\n\u001b[1;32m   1494\u001b[0m \u001b[39mdef\u001b[39;00m \u001b[39m_native_batch_norm_legit_functional\u001b[39m(\n\u001b[1;32m   1495\u001b[0m     \u001b[39minput\u001b[39m: Tensor,\n\u001b[0;32m   (...)\u001b[0m\n\u001b[1;32m   1502\u001b[0m     eps: \u001b[39mfloat\u001b[39m,\n\u001b[1;32m   1503\u001b[0m ) \u001b[39m-\u001b[39m\u001b[39m>\u001b[39m Tuple[Tensor, Tensor, Tensor, Tensor, Tensor]:\n\u001b[1;32m   1504\u001b[0m     (\n\u001b[1;32m   1505\u001b[0m         output,\n\u001b[1;32m   1506\u001b[0m         save_mean,\n\u001b[1;32m   1507\u001b[0m         save_rstd,\n\u001b[1;32m   1508\u001b[0m         new_running_mean,\n\u001b[1;32m   1509\u001b[0m         new_running_var,\n\u001b[0;32m-> 1510\u001b[0m     ) \u001b[39m=\u001b[39m native_batch_norm_helper(\n\u001b[1;32m   1511\u001b[0m         \u001b[39minput\u001b[39;49m, weight, bias, running_mean, running_var, training, momentum, eps, \u001b[39mTrue\u001b[39;49;00m\n\u001b[1;32m   1512\u001b[0m     )\n\u001b[1;32m   1513\u001b[0m     \u001b[39massert\u001b[39;00m new_running_mean \u001b[39mis\u001b[39;00m \u001b[39mnot\u001b[39;00m \u001b[39mNone\u001b[39;00m, \u001b[39m\"\u001b[39m\u001b[39mnew_running_mean should not be None\u001b[39m\u001b[39m\"\u001b[39m\n\u001b[1;32m   1514\u001b[0m     \u001b[39massert\u001b[39;00m new_running_var \u001b[39mis\u001b[39;00m \u001b[39mnot\u001b[39;00m \u001b[39mNone\u001b[39;00m, \u001b[39m\"\u001b[39m\u001b[39mnew_running_var should not be None\u001b[39m\u001b[39m\"\u001b[39m\n",
      "File \u001b[0;32m/opt/conda/lib/python3.10/site-packages/torch/_decomp/decompositions.py:1339\u001b[0m, in \u001b[0;36mnative_batch_norm_helper\u001b[0;34m(input, weight, bias, running_mean, running_var, training, momentum, eps, functional)\u001b[0m\n\u001b[1;32m   1337\u001b[0m save_rstd \u001b[39m=\u001b[39m torch\u001b[39m.\u001b[39msqueeze(rstd, reduction_dims)\n\u001b[1;32m   1338\u001b[0m \u001b[39mif\u001b[39;00m running_mean \u001b[39mis\u001b[39;00m \u001b[39mnot\u001b[39;00m \u001b[39mNone\u001b[39;00m:\n\u001b[0;32m-> 1339\u001b[0m     new_running_mean \u001b[39m=\u001b[39m momentum \u001b[39m*\u001b[39;49m save_mean \u001b[39m+\u001b[39;49m (\u001b[39m1\u001b[39;49m \u001b[39m-\u001b[39;49m momentum) \u001b[39m*\u001b[39;49m running_mean\n\u001b[1;32m   1340\u001b[0m     \u001b[39mif\u001b[39;00m \u001b[39mnot\u001b[39;00m functional:\n\u001b[1;32m   1341\u001b[0m         running_mean\u001b[39m.\u001b[39mcopy_(new_running_mean)\n",
      "File \u001b[0;32m/opt/conda/lib/python3.10/site-packages/torch/utils/_stats.py:20\u001b[0m, in \u001b[0;36mcount.<locals>.wrapper\u001b[0;34m(*args, **kwargs)\u001b[0m\n\u001b[1;32m     18\u001b[0m     simple_call_counter[fn\u001b[39m.\u001b[39m\u001b[39m__qualname__\u001b[39m] \u001b[39m=\u001b[39m \u001b[39m0\u001b[39m\n\u001b[1;32m     19\u001b[0m simple_call_counter[fn\u001b[39m.\u001b[39m\u001b[39m__qualname__\u001b[39m] \u001b[39m=\u001b[39m simple_call_counter[fn\u001b[39m.\u001b[39m\u001b[39m__qualname__\u001b[39m] \u001b[39m+\u001b[39m \u001b[39m1\u001b[39m\n\u001b[0;32m---> 20\u001b[0m \u001b[39mreturn\u001b[39;00m fn(\u001b[39m*\u001b[39;49margs, \u001b[39m*\u001b[39;49m\u001b[39m*\u001b[39;49mkwargs)\n",
      "File \u001b[0;32m/opt/conda/lib/python3.10/site-packages/torch/_subclasses/fake_tensor.py:987\u001b[0m, in \u001b[0;36mFakeTensorMode.__torch_dispatch__\u001b[0;34m(self, func, types, args, kwargs)\u001b[0m\n\u001b[1;32m    984\u001b[0m \u001b[39m@count\u001b[39m\n\u001b[1;32m    985\u001b[0m \u001b[39mdef\u001b[39;00m \u001b[39m__torch_dispatch__\u001b[39m(\u001b[39mself\u001b[39m, func, types, args\u001b[39m=\u001b[39m(), kwargs\u001b[39m=\u001b[39m\u001b[39mNone\u001b[39;00m):\n\u001b[1;32m    986\u001b[0m     \u001b[39mtry\u001b[39;00m:\n\u001b[0;32m--> 987\u001b[0m         \u001b[39mreturn\u001b[39;00m \u001b[39mself\u001b[39;49m\u001b[39m.\u001b[39;49mdispatch(func, types, args, kwargs)\n\u001b[1;32m    988\u001b[0m     \u001b[39mexcept\u001b[39;00m \u001b[39mTypeError\u001b[39;00m:\n\u001b[1;32m    989\u001b[0m         log\u001b[39m.\u001b[39mexception(\u001b[39m\"\u001b[39m\u001b[39mfake tensor raised TypeError\u001b[39m\u001b[39m\"\u001b[39m)\n",
      "File \u001b[0;32m/opt/conda/lib/python3.10/site-packages/torch/_subclasses/fake_tensor.py:1177\u001b[0m, in \u001b[0;36mFakeTensorMode.dispatch\u001b[0;34m(self, func, types, args, kwargs)\u001b[0m\n\u001b[1;32m   1174\u001b[0m         \u001b[39mraise\u001b[39;00m not_implemented_error\n\u001b[1;32m   1175\u001b[0m     \u001b[39mreturn\u001b[39;00m run_fallback_kernel(\u001b[39mself\u001b[39m, func, args, kwargs, not_implemented_error)\n\u001b[0;32m-> 1177\u001b[0m \u001b[39mreturn\u001b[39;00m \u001b[39mself\u001b[39;49m\u001b[39m.\u001b[39;49mwrap_meta_outputs_with_default_device_logic(r, func, args, kwargs)\n",
      "File \u001b[0;32m/opt/conda/lib/python3.10/site-packages/torch/_subclasses/fake_tensor.py:1233\u001b[0m, in \u001b[0;36mFakeTensorMode.wrap_meta_outputs_with_default_device_logic\u001b[0;34m(self, r, func, args, kwargs)\u001b[0m\n\u001b[1;32m   1230\u001b[0m \u001b[39mif\u001b[39;00m kwargs\u001b[39m.\u001b[39mget(\u001b[39m\"\u001b[39m\u001b[39mdevice\u001b[39m\u001b[39m\"\u001b[39m, \u001b[39mNone\u001b[39;00m):\n\u001b[1;32m   1231\u001b[0m     \u001b[39mreturn\u001b[39;00m tree_map(partial(wrap, device\u001b[39m=\u001b[39mkwargs[\u001b[39m\"\u001b[39m\u001b[39mdevice\u001b[39m\u001b[39m\"\u001b[39m]), r)\n\u001b[0;32m-> 1233\u001b[0m \u001b[39mreturn\u001b[39;00m tree_map(partial(wrap), r)\n",
      "File \u001b[0;32m/opt/conda/lib/python3.10/site-packages/torch/utils/_pytree.py:196\u001b[0m, in \u001b[0;36mtree_map\u001b[0;34m(fn, pytree)\u001b[0m\n\u001b[1;32m    194\u001b[0m \u001b[39mdef\u001b[39;00m \u001b[39mtree_map\u001b[39m(fn: Any, pytree: PyTree) \u001b[39m-\u001b[39m\u001b[39m>\u001b[39m PyTree:\n\u001b[1;32m    195\u001b[0m     flat_args, spec \u001b[39m=\u001b[39m tree_flatten(pytree)\n\u001b[0;32m--> 196\u001b[0m     \u001b[39mreturn\u001b[39;00m tree_unflatten([fn(i) \u001b[39mfor\u001b[39;00m i \u001b[39min\u001b[39;00m flat_args], spec)\n",
      "File \u001b[0;32m/opt/conda/lib/python3.10/site-packages/torch/utils/_pytree.py:196\u001b[0m, in \u001b[0;36m<listcomp>\u001b[0;34m(.0)\u001b[0m\n\u001b[1;32m    194\u001b[0m \u001b[39mdef\u001b[39;00m \u001b[39mtree_map\u001b[39m(fn: Any, pytree: PyTree) \u001b[39m-\u001b[39m\u001b[39m>\u001b[39m PyTree:\n\u001b[1;32m    195\u001b[0m     flat_args, spec \u001b[39m=\u001b[39m tree_flatten(pytree)\n\u001b[0;32m--> 196\u001b[0m     \u001b[39mreturn\u001b[39;00m tree_unflatten([fn(i) \u001b[39mfor\u001b[39;00m i \u001b[39min\u001b[39;00m flat_args], spec)\n",
      "File \u001b[0;32m/opt/conda/lib/python3.10/site-packages/torch/_subclasses/fake_tensor.py:1254\u001b[0m, in \u001b[0;36mFakeTensorMode.gen_wrap_fn.<locals>.wrap\u001b[0;34m(e, device)\u001b[0m\n\u001b[1;32m   1245\u001b[0m \u001b[39mif\u001b[39;00m (\n\u001b[1;32m   1246\u001b[0m     \u001b[39misinstance\u001b[39m(e, torch\u001b[39m.\u001b[39mTensor)\n\u001b[1;32m   1247\u001b[0m     \u001b[39mand\u001b[39;00m \u001b[39mnot\u001b[39;00m \u001b[39misinstance\u001b[39m(e, FakeTensor)\n\u001b[1;32m   1248\u001b[0m     \u001b[39mand\u001b[39;00m converter \u001b[39mis\u001b[39;00m \u001b[39mnot\u001b[39;00m \u001b[39mNone\u001b[39;00m\n\u001b[1;32m   1249\u001b[0m ):\n\u001b[1;32m   1250\u001b[0m     \u001b[39mif\u001b[39;00m common_device \u001b[39mis\u001b[39;00m \u001b[39mNone\u001b[39;00m:\n\u001b[1;32m   1251\u001b[0m         (\n\u001b[1;32m   1252\u001b[0m             common_device,\n\u001b[1;32m   1253\u001b[0m             has_scalar_only_inputs,\n\u001b[0;32m-> 1254\u001b[0m         ) \u001b[39m=\u001b[39m FakeTensor\u001b[39m.\u001b[39;49m_find_common_device(func, args, kwargs)\n\u001b[1;32m   1256\u001b[0m     \u001b[39mif\u001b[39;00m has_scalar_only_inputs:\n\u001b[1;32m   1257\u001b[0m         \u001b[39m# Under FakeTensorMode, op accepts scalar only inputs, such as aten.add/sub/mul/div,\u001b[39;00m\n\u001b[1;32m   1258\u001b[0m         \u001b[39m# returns a real scalar tensor on CPU. See TensorMeta() in _prims/__init__.py for details.\u001b[39;00m\n\u001b[1;32m   1259\u001b[0m         \u001b[39m# We thus directly convert real tensor to fake tensor.\u001b[39;00m\n\u001b[1;32m   1260\u001b[0m         \u001b[39mreturn\u001b[39;00m converter(\u001b[39mself\u001b[39m, e)\n",
      "File \u001b[0;32m/opt/conda/lib/python3.10/site-packages/torch/_subclasses/fake_tensor.py:924\u001b[0m, in \u001b[0;36mFakeTensor._find_common_device\u001b[0;34m(func, args, kwargs)\u001b[0m\n\u001b[1;32m    918\u001b[0m     \u001b[39m# mismatching devices of non-zero dim tensors, throw\u001b[39;00m\n\u001b[1;32m    919\u001b[0m     \u001b[39m# This might be valid behavior and need to be explicitly modeled, e.g. reshape_as\u001b[39;00m\n\u001b[1;32m    920\u001b[0m     \u001b[39mraise\u001b[39;00m \u001b[39mRuntimeError\u001b[39;00m(\n\u001b[1;32m    921\u001b[0m         \u001b[39mf\u001b[39m\u001b[39m\"\u001b[39m\u001b[39mUnhandled FakeTensor Device Propagation for \u001b[39m\u001b[39m{\u001b[39;00mfunc\u001b[39m}\u001b[39;00m\u001b[39m, found two different devices \u001b[39m\u001b[39m{\u001b[39;00mcommon_device\u001b[39m}\u001b[39;00m\u001b[39m, \u001b[39m\u001b[39m{\u001b[39;00mt\u001b[39m.\u001b[39mdevice\u001b[39m}\u001b[39;00m\u001b[39m\"\u001b[39m\n\u001b[1;32m    922\u001b[0m     )\n\u001b[0;32m--> 924\u001b[0m tree_map(merge_devices, args)\n\u001b[1;32m    925\u001b[0m tree_map(merge_devices, kwargs)\n\u001b[1;32m    927\u001b[0m \u001b[39m# some functions that allow Python numbers to bind to Tensors\u001b[39;00m\n\u001b[1;32m    928\u001b[0m \u001b[39m# if we have failed to find a device, and we're running one of these operators,\u001b[39;00m\n\u001b[1;32m    929\u001b[0m \u001b[39m# we must have scalar only inputs\u001b[39;00m\n",
      "File \u001b[0;32m/opt/conda/lib/python3.10/site-packages/torch/utils/_pytree.py:196\u001b[0m, in \u001b[0;36mtree_map\u001b[0;34m(fn, pytree)\u001b[0m\n\u001b[1;32m    194\u001b[0m \u001b[39mdef\u001b[39;00m \u001b[39mtree_map\u001b[39m(fn: Any, pytree: PyTree) \u001b[39m-\u001b[39m\u001b[39m>\u001b[39m PyTree:\n\u001b[1;32m    195\u001b[0m     flat_args, spec \u001b[39m=\u001b[39m tree_flatten(pytree)\n\u001b[0;32m--> 196\u001b[0m     \u001b[39mreturn\u001b[39;00m tree_unflatten([fn(i) \u001b[39mfor\u001b[39;00m i \u001b[39min\u001b[39;00m flat_args], spec)\n",
      "File \u001b[0;32m/opt/conda/lib/python3.10/site-packages/torch/utils/_pytree.py:196\u001b[0m, in \u001b[0;36m<listcomp>\u001b[0;34m(.0)\u001b[0m\n\u001b[1;32m    194\u001b[0m \u001b[39mdef\u001b[39;00m \u001b[39mtree_map\u001b[39m(fn: Any, pytree: PyTree) \u001b[39m-\u001b[39m\u001b[39m>\u001b[39m PyTree:\n\u001b[1;32m    195\u001b[0m     flat_args, spec \u001b[39m=\u001b[39m tree_flatten(pytree)\n\u001b[0;32m--> 196\u001b[0m     \u001b[39mreturn\u001b[39;00m tree_unflatten([fn(i) \u001b[39mfor\u001b[39;00m i \u001b[39min\u001b[39;00m flat_args], spec)\n",
      "File \u001b[0;32m/opt/conda/lib/python3.10/site-packages/torch/_subclasses/fake_tensor.py:920\u001b[0m, in \u001b[0;36mFakeTensor._find_common_device.<locals>.merge_devices\u001b[0;34m(t)\u001b[0m\n\u001b[1;32m    916\u001b[0m     \u001b[39mreturn\u001b[39;00m\n\u001b[1;32m    918\u001b[0m \u001b[39m# mismatching devices of non-zero dim tensors, throw\u001b[39;00m\n\u001b[1;32m    919\u001b[0m \u001b[39m# This might be valid behavior and need to be explicitly modeled, e.g. reshape_as\u001b[39;00m\n\u001b[0;32m--> 920\u001b[0m \u001b[39mraise\u001b[39;00m \u001b[39mRuntimeError\u001b[39;00m(\n\u001b[1;32m    921\u001b[0m     \u001b[39mf\u001b[39m\u001b[39m\"\u001b[39m\u001b[39mUnhandled FakeTensor Device Propagation for \u001b[39m\u001b[39m{\u001b[39;00mfunc\u001b[39m}\u001b[39;00m\u001b[39m, found two different devices \u001b[39m\u001b[39m{\u001b[39;00mcommon_device\u001b[39m}\u001b[39;00m\u001b[39m, \u001b[39m\u001b[39m{\u001b[39;00mt\u001b[39m.\u001b[39mdevice\u001b[39m}\u001b[39;00m\u001b[39m\"\u001b[39m\n\u001b[1;32m    922\u001b[0m )\n",
      "\u001b[0;31mRuntimeError\u001b[0m: Unhandled FakeTensor Device Propagation for aten.add.Tensor, found two different devices cuda:0, cpu"
     ]
    }
   ],
   "source": [
    "model(torch.randn(4, 3, 32, 32).cuda())"
   ]
  },
  {
   "cell_type": "code",
   "execution_count": 8,
   "metadata": {},
   "outputs": [],
   "source": [
    "import pandas as pd\n",
    "import os\n",
    "\n",
    "data_root = \"/dev/shm/data/\"\n",
    "\n",
    "df = pd.read_csv(os.path.join(data_root, 'Clothing1M', 'noisy_label_kv.txt'), sep=' ', names=['image_file', 'label'])"
   ]
  },
  {
   "cell_type": "code",
   "execution_count": 9,
   "metadata": {},
   "outputs": [
    {
     "data": {
      "text/html": [
       "<div>\n",
       "<style scoped>\n",
       "    .dataframe tbody tr th:only-of-type {\n",
       "        vertical-align: middle;\n",
       "    }\n",
       "\n",
       "    .dataframe tbody tr th {\n",
       "        vertical-align: top;\n",
       "    }\n",
       "\n",
       "    .dataframe thead th {\n",
       "        text-align: right;\n",
       "    }\n",
       "</style>\n",
       "<table border=\"1\" class=\"dataframe\">\n",
       "  <thead>\n",
       "    <tr style=\"text-align: right;\">\n",
       "      <th></th>\n",
       "      <th>image_file</th>\n",
       "      <th>label</th>\n",
       "    </tr>\n",
       "  </thead>\n",
       "  <tbody>\n",
       "    <tr>\n",
       "      <th>0</th>\n",
       "      <td>images/2/46/50748838,3981129246.jpg</td>\n",
       "      <td>5</td>\n",
       "    </tr>\n",
       "    <tr>\n",
       "      <th>1</th>\n",
       "      <td>images/2/56/860908654,4267574256.jpg</td>\n",
       "      <td>13</td>\n",
       "    </tr>\n",
       "    <tr>\n",
       "      <th>2</th>\n",
       "      <td>images/9/38/436489045,3143453938.jpg</td>\n",
       "      <td>7</td>\n",
       "    </tr>\n",
       "    <tr>\n",
       "      <th>3</th>\n",
       "      <td>images/0/67/486092382,2324083067.jpg</td>\n",
       "      <td>5</td>\n",
       "    </tr>\n",
       "    <tr>\n",
       "      <th>4</th>\n",
       "      <td>images/4/55/4029117294,35432455.jpg</td>\n",
       "      <td>12</td>\n",
       "    </tr>\n",
       "    <tr>\n",
       "      <th>...</th>\n",
       "      <td>...</td>\n",
       "      <td>...</td>\n",
       "    </tr>\n",
       "    <tr>\n",
       "      <th>1037492</th>\n",
       "      <td>images/8/29/3105460376,2766383829.jpg</td>\n",
       "      <td>2</td>\n",
       "    </tr>\n",
       "    <tr>\n",
       "      <th>1037493</th>\n",
       "      <td>images/7/32/4163481295,2188914732.jpg</td>\n",
       "      <td>11</td>\n",
       "    </tr>\n",
       "    <tr>\n",
       "      <th>1037494</th>\n",
       "      <td>images/0/14/2762187749,1234962014.jpg</td>\n",
       "      <td>10</td>\n",
       "    </tr>\n",
       "    <tr>\n",
       "      <th>1037495</th>\n",
       "      <td>images/3/46/1052102659,3455190346.jpg</td>\n",
       "      <td>8</td>\n",
       "    </tr>\n",
       "    <tr>\n",
       "      <th>1037496</th>\n",
       "      <td>images/7/76/437085079,1751782776.jpg</td>\n",
       "      <td>11</td>\n",
       "    </tr>\n",
       "  </tbody>\n",
       "</table>\n",
       "<p>1037497 rows × 2 columns</p>\n",
       "</div>"
      ],
      "text/plain": [
       "                                    image_file  label\n",
       "0          images/2/46/50748838,3981129246.jpg      5\n",
       "1         images/2/56/860908654,4267574256.jpg     13\n",
       "2         images/9/38/436489045,3143453938.jpg      7\n",
       "3         images/0/67/486092382,2324083067.jpg      5\n",
       "4          images/4/55/4029117294,35432455.jpg     12\n",
       "...                                        ...    ...\n",
       "1037492  images/8/29/3105460376,2766383829.jpg      2\n",
       "1037493  images/7/32/4163481295,2188914732.jpg     11\n",
       "1037494  images/0/14/2762187749,1234962014.jpg     10\n",
       "1037495  images/3/46/1052102659,3455190346.jpg      8\n",
       "1037496   images/7/76/437085079,1751782776.jpg     11\n",
       "\n",
       "[1037497 rows x 2 columns]"
      ]
     },
     "execution_count": 9,
     "metadata": {},
     "output_type": "execute_result"
    }
   ],
   "source": [
    "df"
   ]
  },
  {
   "cell_type": "code",
   "execution_count": 11,
   "metadata": {},
   "outputs": [
    {
     "data": {
      "text/html": [
       "<div>\n",
       "<style scoped>\n",
       "    .dataframe tbody tr th:only-of-type {\n",
       "        vertical-align: middle;\n",
       "    }\n",
       "\n",
       "    .dataframe tbody tr th {\n",
       "        vertical-align: top;\n",
       "    }\n",
       "\n",
       "    .dataframe thead th {\n",
       "        text-align: right;\n",
       "    }\n",
       "</style>\n",
       "<table border=\"1\" class=\"dataframe\">\n",
       "  <thead>\n",
       "    <tr style=\"text-align: right;\">\n",
       "      <th></th>\n",
       "      <th>image_file</th>\n",
       "      <th>label</th>\n",
       "    </tr>\n",
       "  </thead>\n",
       "  <tbody>\n",
       "    <tr>\n",
       "      <th>0</th>\n",
       "      <td>images/3/25/2958943246,951512325.jpg</td>\n",
       "      <td>NaN</td>\n",
       "    </tr>\n",
       "    <tr>\n",
       "      <th>1</th>\n",
       "      <td>images/4/72/461537309,942133472.jpg</td>\n",
       "      <td>NaN</td>\n",
       "    </tr>\n",
       "    <tr>\n",
       "      <th>2</th>\n",
       "      <td>images/7/13/4204850569,2103117713.jpg</td>\n",
       "      <td>NaN</td>\n",
       "    </tr>\n",
       "    <tr>\n",
       "      <th>3</th>\n",
       "      <td>images/0/81/3754976883,1136919081.jpg</td>\n",
       "      <td>NaN</td>\n",
       "    </tr>\n",
       "    <tr>\n",
       "      <th>4</th>\n",
       "      <td>images/0/96/2890714614,3776307096.jpg</td>\n",
       "      <td>NaN</td>\n",
       "    </tr>\n",
       "    <tr>\n",
       "      <th>...</th>\n",
       "      <td>...</td>\n",
       "      <td>...</td>\n",
       "    </tr>\n",
       "    <tr>\n",
       "      <th>999995</th>\n",
       "      <td>images/4/75/849575773,3361826475.jpg</td>\n",
       "      <td>NaN</td>\n",
       "    </tr>\n",
       "    <tr>\n",
       "      <th>999996</th>\n",
       "      <td>images/5/76/3959388005,2488954576.jpg</td>\n",
       "      <td>NaN</td>\n",
       "    </tr>\n",
       "    <tr>\n",
       "      <th>999997</th>\n",
       "      <td>images/3/06/4066440481,2926551306.jpg</td>\n",
       "      <td>NaN</td>\n",
       "    </tr>\n",
       "    <tr>\n",
       "      <th>999998</th>\n",
       "      <td>images/1/01/489643226,1320509101.jpg</td>\n",
       "      <td>NaN</td>\n",
       "    </tr>\n",
       "    <tr>\n",
       "      <th>999999</th>\n",
       "      <td>images/2/87/1904031717,423342287.jpg</td>\n",
       "      <td>NaN</td>\n",
       "    </tr>\n",
       "  </tbody>\n",
       "</table>\n",
       "<p>1000000 rows × 2 columns</p>\n",
       "</div>"
      ],
      "text/plain": [
       "                                   image_file  label\n",
       "0        images/3/25/2958943246,951512325.jpg    NaN\n",
       "1         images/4/72/461537309,942133472.jpg    NaN\n",
       "2       images/7/13/4204850569,2103117713.jpg    NaN\n",
       "3       images/0/81/3754976883,1136919081.jpg    NaN\n",
       "4       images/0/96/2890714614,3776307096.jpg    NaN\n",
       "...                                       ...    ...\n",
       "999995   images/4/75/849575773,3361826475.jpg    NaN\n",
       "999996  images/5/76/3959388005,2488954576.jpg    NaN\n",
       "999997  images/3/06/4066440481,2926551306.jpg    NaN\n",
       "999998   images/1/01/489643226,1320509101.jpg    NaN\n",
       "999999   images/2/87/1904031717,423342287.jpg    NaN\n",
       "\n",
       "[1000000 rows x 2 columns]"
      ]
     },
     "execution_count": 11,
     "metadata": {},
     "output_type": "execute_result"
    }
   ],
   "source": [
    "import pandas as pd\n",
    "import os\n",
    "\n",
    "data_root = \"/dev/shm/data/\"\n",
    "\n",
    "df = pd.read_csv(os.path.join(data_root, 'Clothing1M', 'noisy_train_key_list.txt'), sep=' ', names=['image_file', 'label'])\n",
    "df"
   ]
  },
  {
   "cell_type": "code",
   "execution_count": 13,
   "metadata": {},
   "outputs": [
    {
     "ename": "ValueError",
     "evalue": "You are trying to merge on object and int64 columns. If you wish to proceed you should use pd.concat",
     "output_type": "error",
     "traceback": [
      "\u001b[0;31m---------------------------------------------------------------------------\u001b[0m",
      "\u001b[0;31mValueError\u001b[0m                                Traceback (most recent call last)",
      "Cell \u001b[0;32mIn[13], line 3\u001b[0m\n\u001b[1;32m      1\u001b[0m df \u001b[39m=\u001b[39m pd\u001b[39m.\u001b[39mread_csv(os\u001b[39m.\u001b[39mpath\u001b[39m.\u001b[39mjoin(data_root, \u001b[39m'\u001b[39m\u001b[39mClothing1M\u001b[39m\u001b[39m'\u001b[39m, \u001b[39m'\u001b[39m\u001b[39mnoisy_label_kv.txt\u001b[39m\u001b[39m'\u001b[39m), sep\u001b[39m=\u001b[39m\u001b[39m'\u001b[39m\u001b[39m \u001b[39m\u001b[39m'\u001b[39m, names\u001b[39m=\u001b[39m[\u001b[39m'\u001b[39m\u001b[39mimage_file\u001b[39m\u001b[39m'\u001b[39m, \u001b[39m'\u001b[39m\u001b[39mlabel\u001b[39m\u001b[39m'\u001b[39m])\n\u001b[1;32m      2\u001b[0m df2 \u001b[39m=\u001b[39m pd\u001b[39m.\u001b[39mread_csv(os\u001b[39m.\u001b[39mpath\u001b[39m.\u001b[39mjoin(data_root, \u001b[39m'\u001b[39m\u001b[39mClothing1M\u001b[39m\u001b[39m'\u001b[39m, \u001b[39m'\u001b[39m\u001b[39mnoisy_train_key_list.txt\u001b[39m\u001b[39m'\u001b[39m), sep\u001b[39m=\u001b[39m\u001b[39m'\u001b[39m\u001b[39m \u001b[39m\u001b[39m'\u001b[39m, names\u001b[39m=\u001b[39m[\u001b[39m'\u001b[39m\u001b[39mimage_file\u001b[39m\u001b[39m'\u001b[39m, \u001b[39m'\u001b[39m\u001b[39mlabel\u001b[39m\u001b[39m'\u001b[39m])\n\u001b[0;32m----> 3\u001b[0m df\u001b[39m.\u001b[39;49mjoin(df2, on\u001b[39m=\u001b[39;49m\u001b[39m'\u001b[39;49m\u001b[39mimage_file\u001b[39;49m\u001b[39m'\u001b[39;49m, how\u001b[39m=\u001b[39;49m\u001b[39m'\u001b[39;49m\u001b[39minner\u001b[39;49m\u001b[39m'\u001b[39;49m)\n",
      "File \u001b[0;32m/opt/conda/lib/python3.10/site-packages/pandas/core/frame.py:9729\u001b[0m, in \u001b[0;36mDataFrame.join\u001b[0;34m(self, other, on, how, lsuffix, rsuffix, sort, validate)\u001b[0m\n\u001b[1;32m   9566\u001b[0m \u001b[39mdef\u001b[39;00m \u001b[39mjoin\u001b[39m(\n\u001b[1;32m   9567\u001b[0m     \u001b[39mself\u001b[39m,\n\u001b[1;32m   9568\u001b[0m     other: DataFrame \u001b[39m|\u001b[39m Series \u001b[39m|\u001b[39m Iterable[DataFrame \u001b[39m|\u001b[39m Series],\n\u001b[0;32m   (...)\u001b[0m\n\u001b[1;32m   9574\u001b[0m     validate: \u001b[39mstr\u001b[39m \u001b[39m|\u001b[39m \u001b[39mNone\u001b[39;00m \u001b[39m=\u001b[39m \u001b[39mNone\u001b[39;00m,\n\u001b[1;32m   9575\u001b[0m ) \u001b[39m-\u001b[39m\u001b[39m>\u001b[39m DataFrame:\n\u001b[1;32m   9576\u001b[0m     \u001b[39m\"\"\"\u001b[39;00m\n\u001b[1;32m   9577\u001b[0m \u001b[39m    Join columns of another DataFrame.\u001b[39;00m\n\u001b[1;32m   9578\u001b[0m \n\u001b[0;32m   (...)\u001b[0m\n\u001b[1;32m   9727\u001b[0m \u001b[39m    5  K1  A5   B1\u001b[39;00m\n\u001b[1;32m   9728\u001b[0m \u001b[39m    \"\"\"\u001b[39;00m\n\u001b[0;32m-> 9729\u001b[0m     \u001b[39mreturn\u001b[39;00m \u001b[39mself\u001b[39;49m\u001b[39m.\u001b[39;49m_join_compat(\n\u001b[1;32m   9730\u001b[0m         other,\n\u001b[1;32m   9731\u001b[0m         on\u001b[39m=\u001b[39;49mon,\n\u001b[1;32m   9732\u001b[0m         how\u001b[39m=\u001b[39;49mhow,\n\u001b[1;32m   9733\u001b[0m         lsuffix\u001b[39m=\u001b[39;49mlsuffix,\n\u001b[1;32m   9734\u001b[0m         rsuffix\u001b[39m=\u001b[39;49mrsuffix,\n\u001b[1;32m   9735\u001b[0m         sort\u001b[39m=\u001b[39;49msort,\n\u001b[1;32m   9736\u001b[0m         validate\u001b[39m=\u001b[39;49mvalidate,\n\u001b[1;32m   9737\u001b[0m     )\n",
      "File \u001b[0;32m/opt/conda/lib/python3.10/site-packages/pandas/core/frame.py:9768\u001b[0m, in \u001b[0;36mDataFrame._join_compat\u001b[0;34m(self, other, on, how, lsuffix, rsuffix, sort, validate)\u001b[0m\n\u001b[1;32m   9758\u001b[0m     \u001b[39mif\u001b[39;00m how \u001b[39m==\u001b[39m \u001b[39m\"\u001b[39m\u001b[39mcross\u001b[39m\u001b[39m\"\u001b[39m:\n\u001b[1;32m   9759\u001b[0m         \u001b[39mreturn\u001b[39;00m merge(\n\u001b[1;32m   9760\u001b[0m             \u001b[39mself\u001b[39m,\n\u001b[1;32m   9761\u001b[0m             other,\n\u001b[0;32m   (...)\u001b[0m\n\u001b[1;32m   9766\u001b[0m             validate\u001b[39m=\u001b[39mvalidate,\n\u001b[1;32m   9767\u001b[0m         )\n\u001b[0;32m-> 9768\u001b[0m     \u001b[39mreturn\u001b[39;00m merge(\n\u001b[1;32m   9769\u001b[0m         \u001b[39mself\u001b[39;49m,\n\u001b[1;32m   9770\u001b[0m         other,\n\u001b[1;32m   9771\u001b[0m         left_on\u001b[39m=\u001b[39;49mon,\n\u001b[1;32m   9772\u001b[0m         how\u001b[39m=\u001b[39;49mhow,\n\u001b[1;32m   9773\u001b[0m         left_index\u001b[39m=\u001b[39;49mon \u001b[39mis\u001b[39;49;00m \u001b[39mNone\u001b[39;49;00m,\n\u001b[1;32m   9774\u001b[0m         right_index\u001b[39m=\u001b[39;49m\u001b[39mTrue\u001b[39;49;00m,\n\u001b[1;32m   9775\u001b[0m         suffixes\u001b[39m=\u001b[39;49m(lsuffix, rsuffix),\n\u001b[1;32m   9776\u001b[0m         sort\u001b[39m=\u001b[39;49msort,\n\u001b[1;32m   9777\u001b[0m         validate\u001b[39m=\u001b[39;49mvalidate,\n\u001b[1;32m   9778\u001b[0m     )\n\u001b[1;32m   9779\u001b[0m \u001b[39melse\u001b[39;00m:\n\u001b[1;32m   9780\u001b[0m     \u001b[39mif\u001b[39;00m on \u001b[39mis\u001b[39;00m \u001b[39mnot\u001b[39;00m \u001b[39mNone\u001b[39;00m:\n",
      "File \u001b[0;32m/opt/conda/lib/python3.10/site-packages/pandas/core/reshape/merge.py:142\u001b[0m, in \u001b[0;36mmerge\u001b[0;34m(left, right, how, on, left_on, right_on, left_index, right_index, sort, suffixes, copy, indicator, validate)\u001b[0m\n\u001b[1;32m    125\u001b[0m \u001b[39m@Substitution\u001b[39m(\u001b[39m\"\u001b[39m\u001b[39m\\n\u001b[39;00m\u001b[39mleft : DataFrame or named Series\u001b[39m\u001b[39m\"\u001b[39m)\n\u001b[1;32m    126\u001b[0m \u001b[39m@Appender\u001b[39m(_merge_doc, indents\u001b[39m=\u001b[39m\u001b[39m0\u001b[39m)\n\u001b[1;32m    127\u001b[0m \u001b[39mdef\u001b[39;00m \u001b[39mmerge\u001b[39m(\n\u001b[0;32m   (...)\u001b[0m\n\u001b[1;32m    140\u001b[0m     validate: \u001b[39mstr\u001b[39m \u001b[39m|\u001b[39m \u001b[39mNone\u001b[39;00m \u001b[39m=\u001b[39m \u001b[39mNone\u001b[39;00m,\n\u001b[1;32m    141\u001b[0m ) \u001b[39m-\u001b[39m\u001b[39m>\u001b[39m DataFrame:\n\u001b[0;32m--> 142\u001b[0m     op \u001b[39m=\u001b[39m _MergeOperation(\n\u001b[1;32m    143\u001b[0m         left,\n\u001b[1;32m    144\u001b[0m         right,\n\u001b[1;32m    145\u001b[0m         how\u001b[39m=\u001b[39;49mhow,\n\u001b[1;32m    146\u001b[0m         on\u001b[39m=\u001b[39;49mon,\n\u001b[1;32m    147\u001b[0m         left_on\u001b[39m=\u001b[39;49mleft_on,\n\u001b[1;32m    148\u001b[0m         right_on\u001b[39m=\u001b[39;49mright_on,\n\u001b[1;32m    149\u001b[0m         left_index\u001b[39m=\u001b[39;49mleft_index,\n\u001b[1;32m    150\u001b[0m         right_index\u001b[39m=\u001b[39;49mright_index,\n\u001b[1;32m    151\u001b[0m         sort\u001b[39m=\u001b[39;49msort,\n\u001b[1;32m    152\u001b[0m         suffixes\u001b[39m=\u001b[39;49msuffixes,\n\u001b[1;32m    153\u001b[0m         indicator\u001b[39m=\u001b[39;49mindicator,\n\u001b[1;32m    154\u001b[0m         validate\u001b[39m=\u001b[39;49mvalidate,\n\u001b[1;32m    155\u001b[0m     )\n\u001b[1;32m    156\u001b[0m     \u001b[39mreturn\u001b[39;00m op\u001b[39m.\u001b[39mget_result(copy\u001b[39m=\u001b[39mcopy)\n",
      "File \u001b[0;32m/opt/conda/lib/python3.10/site-packages/pandas/core/reshape/merge.py:735\u001b[0m, in \u001b[0;36m_MergeOperation.__init__\u001b[0;34m(self, left, right, how, on, left_on, right_on, axis, left_index, right_index, sort, suffixes, indicator, validate)\u001b[0m\n\u001b[1;32m    727\u001b[0m (\n\u001b[1;32m    728\u001b[0m     \u001b[39mself\u001b[39m\u001b[39m.\u001b[39mleft_join_keys,\n\u001b[1;32m    729\u001b[0m     \u001b[39mself\u001b[39m\u001b[39m.\u001b[39mright_join_keys,\n\u001b[1;32m    730\u001b[0m     \u001b[39mself\u001b[39m\u001b[39m.\u001b[39mjoin_names,\n\u001b[1;32m    731\u001b[0m ) \u001b[39m=\u001b[39m \u001b[39mself\u001b[39m\u001b[39m.\u001b[39m_get_merge_keys()\n\u001b[1;32m    733\u001b[0m \u001b[39m# validate the merge keys dtypes. We may need to coerce\u001b[39;00m\n\u001b[1;32m    734\u001b[0m \u001b[39m# to avoid incompatible dtypes\u001b[39;00m\n\u001b[0;32m--> 735\u001b[0m \u001b[39mself\u001b[39;49m\u001b[39m.\u001b[39;49m_maybe_coerce_merge_keys()\n\u001b[1;32m    737\u001b[0m \u001b[39m# If argument passed to validate,\u001b[39;00m\n\u001b[1;32m    738\u001b[0m \u001b[39m# check if columns specified as unique\u001b[39;00m\n\u001b[1;32m    739\u001b[0m \u001b[39m# are in fact unique.\u001b[39;00m\n\u001b[1;32m    740\u001b[0m \u001b[39mif\u001b[39;00m validate \u001b[39mis\u001b[39;00m \u001b[39mnot\u001b[39;00m \u001b[39mNone\u001b[39;00m:\n",
      "File \u001b[0;32m/opt/conda/lib/python3.10/site-packages/pandas/core/reshape/merge.py:1387\u001b[0m, in \u001b[0;36m_MergeOperation._maybe_coerce_merge_keys\u001b[0;34m(self)\u001b[0m\n\u001b[1;32m   1381\u001b[0m     \u001b[39m# unless we are merging non-string-like with string-like\u001b[39;00m\n\u001b[1;32m   1382\u001b[0m     \u001b[39melif\u001b[39;00m (\n\u001b[1;32m   1383\u001b[0m         inferred_left \u001b[39min\u001b[39;00m string_types \u001b[39mand\u001b[39;00m inferred_right \u001b[39mnot\u001b[39;00m \u001b[39min\u001b[39;00m string_types\n\u001b[1;32m   1384\u001b[0m     ) \u001b[39mor\u001b[39;00m (\n\u001b[1;32m   1385\u001b[0m         inferred_right \u001b[39min\u001b[39;00m string_types \u001b[39mand\u001b[39;00m inferred_left \u001b[39mnot\u001b[39;00m \u001b[39min\u001b[39;00m string_types\n\u001b[1;32m   1386\u001b[0m     ):\n\u001b[0;32m-> 1387\u001b[0m         \u001b[39mraise\u001b[39;00m \u001b[39mValueError\u001b[39;00m(msg)\n\u001b[1;32m   1389\u001b[0m \u001b[39m# datetimelikes must match exactly\u001b[39;00m\n\u001b[1;32m   1390\u001b[0m \u001b[39melif\u001b[39;00m needs_i8_conversion(lk\u001b[39m.\u001b[39mdtype) \u001b[39mand\u001b[39;00m \u001b[39mnot\u001b[39;00m needs_i8_conversion(rk\u001b[39m.\u001b[39mdtype):\n",
      "\u001b[0;31mValueError\u001b[0m: You are trying to merge on object and int64 columns. If you wish to proceed you should use pd.concat"
     ]
    }
   ],
   "source": [
    "df = pd.read_csv(os.path.join(data_root, 'Clothing1M', 'noisy_label_kv.txt'), sep=' ', names=['image_file', 'label'])\n",
    "df2 = pd.read_csv(os.path.join(data_root, 'Clothing1M', 'noisy_train_key_list.txt'), sep=' ', names=['image_file', 'label'])\n",
    "df.join(df2, on='image_file', how='inner')"
   ]
  },
  {
   "cell_type": "code",
   "execution_count": 1,
   "metadata": {},
   "outputs": [
    {
     "name": "stdout",
     "output_type": "stream",
     "text": [
      "Files already downloaded and verified\n"
     ]
    }
   ],
   "source": [
    "import torch\n",
    "import datasets\n",
    "\n",
    "data = datasets.Animal10N(\"/dev/shm/data/\", train=False, download=True)"
   ]
  },
  {
   "cell_type": "code",
   "execution_count": 3,
   "metadata": {},
   "outputs": [
    {
     "data": {
      "text/plain": [
       "9"
      ]
     },
     "execution_count": 3,
     "metadata": {},
     "output_type": "execute_result"
    }
   ],
   "source": [
    "data[1]['target']"
   ]
  },
  {
   "cell_type": "code",
   "execution_count": 6,
   "metadata": {},
   "outputs": [],
   "source": [
    "import torch\n",
    "import datasets\n",
    "\n",
    "data = datasets.Food101(\"/dev/shm/data/\", split=\"test\", download=True)"
   ]
  },
  {
   "cell_type": "code",
   "execution_count": 9,
   "metadata": {},
   "outputs": [
    {
     "data": {
      "text/plain": [
       "23"
      ]
     },
     "execution_count": 9,
     "metadata": {},
     "output_type": "execute_result"
    }
   ],
   "source": [
    "data[1]['target']"
   ]
  },
  {
   "cell_type": "code",
   "execution_count": null,
   "metadata": {},
   "outputs": [],
   "source": []
  }
 ],
 "metadata": {
  "kernelspec": {
   "display_name": "base",
   "language": "python",
   "name": "python3"
  },
  "language_info": {
   "codemirror_mode": {
    "name": "ipython",
    "version": 3
   },
   "file_extension": ".py",
   "mimetype": "text/x-python",
   "name": "python",
   "nbconvert_exporter": "python",
   "pygments_lexer": "ipython3",
   "version": "3.10.9"
  },
  "orig_nbformat": 4
 },
 "nbformat": 4,
 "nbformat_minor": 2
}
