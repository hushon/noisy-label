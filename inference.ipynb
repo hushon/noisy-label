{
 "cells": [
  {
   "cell_type": "markdown",
   "metadata": {},
   "source": [
    "CE 로 학습한 실험 코드 (wandb run ID)\n",
    "\n",
    "| | NoisyCIFAR10 | NoisyCIFAR100 |\n",
    "|---|---|---|\n",
    "| symm-20% | 3yg20n8g | db6cpa4w |\n",
    "| symm-50% | 2cvre1ep | 6ud3a42m |\n",
    "| symm-80% | h6hbbj3p | l4uscm5j |\n",
    "\n",
    "\n",
    "로드하는 법: 각 실험별로 `model_9.pth`, `model_19.pth`, ..., `model_199.pth` 가 있음.\n",
    "```python\n",
    "checkpoint = wandb.restore(\"model_199.pth\", run_path=f\"hyounguk-shon/noisy-label/3yg20n8g\", replace=False, root='./temp')\n",
    "model.load_state_dict(torch.load(checkpoint.name, map_location=\"cpu\"))\n",
    "```"
   ]
  },
  {
   "cell_type": "code",
   "execution_count": 21,
   "metadata": {},
   "outputs": [
    {
     "name": "stdout",
     "output_type": "stream",
     "text": [
      "Loaded checkpoint: ./temp/model_199.pth\n"
     ]
    }
   ],
   "source": [
    "\n",
    "import argparse\n",
    "import os\n",
    "import torch\n",
    "import numpy as np\n",
    "import yaml\n",
    "from trainer import Trainer\n",
    "import wandb\n",
    "\n",
    "\n",
    "# np.random.seed(0)\n",
    "# torch.manual_seed(42)\n",
    "torch.backends.cudnn.deterministic = False\n",
    "torch.backends.cudnn.benchmark = True\n",
    "\n",
    "# torch.backends.cuda.matmul.allow_tf32 = True\n",
    "# torch.backends.cudnn.allow_tf32 = True\n",
    "# torch.set_float32_matmul_precision('high')\n",
    "\n",
    "torch.backends.cuda.matmul.allow_tf32 = False\n",
    "torch.backends.cudnn.allow_tf32 = False\n",
    "torch.set_float32_matmul_precision('highest')\n",
    "\n",
    "device = torch.device(\"cuda:0\")\n",
    "\n",
    "\n",
    "# config = yaml.safe_load(\n",
    "# r\"\"\"\n",
    "# data:\n",
    "#     dataset: old_noisy_cifar10\n",
    "#     noise_type: symmetric\n",
    "#     noise_rate: 0.2\n",
    "#     random_seed: 925\n",
    "\n",
    "# model:\n",
    "#     architecture: resnet34\n",
    "#     num_classes: 10\n",
    "\n",
    "# trainer:\n",
    "#     num_workers: 4\n",
    "#     batch_size: 128\n",
    "# \"\"\"\n",
    "# )\n",
    "\n",
    "\n",
    "## Load config\n",
    "wandb_run_id = \"3yg20n8g\"\n",
    "config = yaml.safe_load(open(wandb.restore('config.yaml', run_path=f\"hyounguk-shon/noisy-label/{wandb_run_id}\", replace=True, root='./temp').name, \"r\"))\n",
    "\n",
    "\n",
    "## Load model\n",
    "import models\n",
    "model = models.get_model(**config[\"model\"][\"value\"])\n",
    "\n",
    "ckpt_name=\"model_199.pth\"\n",
    "checkpoint = wandb.restore(ckpt_name, run_path=f\"hyounguk-shon/noisy-label/{wandb_run_id}\", replace=True, root='./temp')\n",
    "model.load_state_dict(torch.load(checkpoint.name, map_location=\"cpu\"))\n",
    "print(f\"Loaded checkpoint: {checkpoint.name}\")\n",
    "\n",
    "trainer = Trainer(\n",
    "    model=model,\n",
    "    config=config['trainer'][\"value\"],\n",
    "    device=device,\n",
    ")"
   ]
  },
  {
   "cell_type": "code",
   "execution_count": 36,
   "metadata": {},
   "outputs": [
    {
     "name": "stdout",
     "output_type": "stream",
     "text": [
      "Files already downloaded and verified\n",
      "True noise rate: 0.1806\n",
      "Files already downloaded and verified\n",
      "Dataset OldNoisyCIFAR10\n",
      "    Number of datapoints: 50000\n",
      "    Root location: /dev/shm/data/\n",
      "    Split: Train\n"
     ]
    }
   ],
   "source": [
    "## Load dataset\n",
    "import datasets\n",
    "\n",
    "train_dataset, test_dataset = datasets.get_dataset(**config[\"data\"][\"value\"])\n",
    "\n",
    "dataset = train_dataset\n",
    "\n",
    "is_noisy = dataset.targets != dataset.targets_gt\n",
    "\n",
    "print(dataset)"
   ]
  },
  {
   "cell_type": "code",
   "execution_count": 37,
   "metadata": {},
   "outputs": [
    {
     "data": {
      "text/plain": [
       "{'logits': tensor([[ 1.4694, -4.4222, -3.1109,  ...,  0.5835,  0.2645, -0.2806],\n",
       "         [-6.7535, -0.1942, -6.5951,  ...,  0.1252, -3.4341,  1.2358],\n",
       "         [-3.8192, -6.0159,  1.0770,  ..., -4.1146, -0.3491, 16.9762],\n",
       "         ...,\n",
       "         [-2.4937, -1.0047,  2.3382,  ...,  0.5694, -0.8984, 17.1006],\n",
       "         [-3.0242, 10.1192, -4.9183,  ..., -1.8843, -4.8029, -3.9869],\n",
       "         [ 0.0414, 14.8339,  3.8436,  ..., -0.9664, -3.9662, -3.9695]]),\n",
       " 'target': tensor([6, 3, 9,  ..., 9, 6, 1]),\n",
       " 'target_gt': tensor([6, 9, 9,  ..., 9, 1, 1])}"
      ]
     },
     "execution_count": 37,
     "metadata": {},
     "output_type": "execute_result"
    }
   ],
   "source": [
    "## Run inference\n",
    "dataset.transform = datasets.get_transform('none', dataset) # no augmentation\n",
    "\n",
    "results = trainer.inference(dataset)\n",
    "results"
   ]
  },
  {
   "cell_type": "code",
   "execution_count": 38,
   "metadata": {},
   "outputs": [
    {
     "data": {
      "text/plain": [
       "tensor(0.0111)"
      ]
     },
     "execution_count": 38,
     "metadata": {},
     "output_type": "execute_result"
    }
   ],
   "source": [
    "@torch.no_grad()\n",
    "def calculate_accuracy(pred: torch.Tensor, target: torch.Tensor, k=1):\n",
    "    \"\"\"Computes top-k accuracy\"\"\"\n",
    "    k = min(k, pred.size(-1)) # in case num_classes is smaller than k.\n",
    "    pred = torch.topk(pred, k, -1).indices\n",
    "    correct = pred.eq(target[..., None].expand_as(pred)).any(dim=-1)\n",
    "    accuracy = correct.float().mean().mul(100.0)\n",
    "    return accuracy\n",
    "\n",
    "\n",
    "calculate_accuracy(results['logits'][is_noisy], results['target_gt'][is_noisy], k=1)"
   ]
  },
  {
   "cell_type": "code",
   "execution_count": 39,
   "metadata": {},
   "outputs": [
    {
     "data": {
      "image/png": "[encoded data removed]",
      "text/plain": [
       "<Figure size 640x480 with 1 Axes>"
      ]
     },
     "metadata": {},
     "output_type": "display_data"
    }
   ],
   "source": [
    "ml_results = torch.nn.functional.cross_entropy(results['logits'][is_noisy], results['target_gt'][is_noisy], reduction='none')\n",
    "\n",
    "import torch\n",
    "import matplotlib.pyplot as plt\n",
    "\n",
    "# Plotting the histogram\n",
    "plt.hist(ml_results.numpy(), bins=30)  # You can adjust the number of bins\n",
    "plt.title(\"Histogram of Tensor Values\")\n",
    "plt.xlabel(\"Value\")\n",
    "plt.ylabel(\"Frequency\")\n",
    "plt.show()\n"
   ]
  },
  {
   "cell_type": "code",
   "execution_count": 40,
   "metadata": {},
   "outputs": [
    {
     "name": "stderr",
     "output_type": "stream",
     "text": [
      " 40%|████      | 8/20 [00:58<01:28,  7.34s/it]"
     ]
    }
   ],
   "source": [
    "## Run multiple inferences to aggregate results over random augmentations\n",
    "\n",
    "from collections import defaultdict\n",
    "import tqdm\n",
    "\n",
    "dataset.transform = datasets.get_transform('autoaugment', dataset)\n",
    "\n",
    "n_repeat = 20\n",
    "\n",
    "total_results = defaultdict(list)\n",
    "for _ in tqdm.trange(n_repeat):\n",
    "    results = trainer.inference(dataset)\n",
    "    for k, v in results.items():\n",
    "        total_results[k].append(v)\n",
    "total_results = {k: torch.stack(v, dim=1) for k, v in total_results.items()} # shape is (n_samples, n_repeat, ...)\n",
    "total_results"
   ]
  },
  {
   "cell_type": "code",
   "execution_count": null,
   "metadata": {},
   "outputs": [],
   "source": [
    "## Save results\n",
    "# torch.save(results, \"results.pth\")"
   ]
  },
  {
   "cell_type": "code",
   "execution_count": 28,
   "metadata": {},
   "outputs": [
    {
     "data": {
      "text/plain": [
       "tensor(10.8614)"
      ]
     },
     "execution_count": 28,
     "metadata": {},
     "output_type": "execute_result"
    }
   ],
   "source": [
    "calculate_accuracy(total_results['logits'][is_noisy].mean(1), total_results['target_gt'][is_noisy][:,0], k=1)"
   ]
  },
  {
   "cell_type": "code",
   "execution_count": null,
   "metadata": {},
   "outputs": [],
   "source": [
    "x = torch.nn.functional.cross_entropy(results['logits'][is_noisy], results['target_gt'][is_noisy], reduction='none')\n",
    "\n",
    "import torch\n",
    "import matplotlib.pyplot as plt\n",
    "\n",
    "# Convert tensor to numpy array for plotting\n",
    "numpy_array = x.numpy()\n",
    "\n",
    "# Plotting the histogram\n",
    "plt.hist(numpy_array, bins=30)  # You can adjust the number of bins\n",
    "plt.title(\"Histogram of Tensor Values\")\n",
    "plt.xlabel(\"Value\")\n",
    "plt.ylabel(\"Frequency\")\n",
    "plt.show()\n"
   ]
  },
  {
   "cell_type": "code",
   "execution_count": 29,
   "metadata": {},
   "outputs": [
    {
     "data": {
      "image/png": "[encoded data removed]",
      "text/plain": [
       "<Figure size 640x480 with 1 Axes>"
      ]
     },
     "metadata": {},
     "output_type": "display_data"
    }
   ],
   "source": [
    "x = torch.nn.functional.cross_entropy(total_results['logits'][is_noisy].mean(1), total_results['target_gt'][is_noisy][:,0], reduction='none')\n",
    "\n",
    "import torch\n",
    "import matplotlib.pyplot as plt\n",
    "\n",
    "# Convert tensor to numpy array for plotting\n",
    "numpy_array = x.numpy()\n",
    "\n",
    "# Plotting the histogram\n",
    "plt.hist(numpy_array, bins=30)  # You can adjust the number of bins\n",
    "plt.title(\"Histogram of Tensor Values\")\n",
    "plt.xlabel(\"Value\")\n",
    "plt.ylabel(\"Frequency\")\n",
    "plt.show()\n"
   ]
  },
  {
   "cell_type": "code",
   "execution_count": 33,
   "metadata": {},
   "outputs": [
    {
     "data": {
      "image/png": "[encoded data removed]",
      "text/plain": [
       "<Figure size 640x480 with 1 Axes>"
      ]
     },
     "metadata": {},
     "output_type": "display_data"
    }
   ],
   "source": [
    "x = torch.nn.functional.cross_entropy(results['logits'][is_noisy], results['target_gt'][is_noisy], reduction='none')\n",
    "\n",
    "import torch\n",
    "import matplotlib.pyplot as plt\n",
    "\n",
    "# Convert tensor to numpy array for plotting\n",
    "numpy_array = x.numpy()\n",
    "\n",
    "# Plotting the histogram\n",
    "plt.hist(numpy_array, bins=30, color='red')  # You can adjust the number of bins\n",
    "plt.title(\"Histogram of Tensor Values\")\n",
    "plt.xlabel(\"Value\")\n",
    "plt.ylabel(\"Frequency\")\n",
    "plt.show()\n",
    "\n",
    "\n",
    "# x = torch.nn.functional.cross_entropy(total_results['logits'][is_noisy].mean(1), total_results['target_gt'][is_noisy][:,0], reduction='none')\n",
    "\n",
    "# import torch\n",
    "# import matplotlib.pyplot as plt\n",
    "\n",
    "# # Convert tensor to numpy array for plotting\n",
    "# numpy_array = x.numpy()\n",
    "\n",
    "# # Plotting the histogram\n",
    "# plt.hist(numpy_array, bins=30)  # You can adjust the number of bins\n",
    "# plt.title(\"Histogram of Tensor Values\")\n",
    "# plt.xlabel(\"Value\")\n",
    "# plt.ylabel(\"Frequency\")\n",
    "# plt.show()\n"
   ]
  },
  {
   "cell_type": "code",
   "execution_count": null,
   "metadata": {},
   "outputs": [],
   "source": []
  }
 ],
 "metadata": {
  "kernelspec": {
   "display_name": "base",
   "language": "python",
   "name": "python3"
  },
  "language_info": {
   "codemirror_mode": {
    "name": "ipython",
    "version": 3
   },
   "file_extension": ".py",
   "mimetype": "text/x-python",
   "name": "python",
   "nbconvert_exporter": "python",
   "pygments_lexer": "ipython3",
   "version": "3.10.11"
  }
 },
 "nbformat": 4,
 "nbformat_minor": 2
}
