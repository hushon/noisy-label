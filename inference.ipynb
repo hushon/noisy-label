{
 "cells": [
  {
   "cell_type": "markdown",
   "metadata": {},
   "source": [
    "CE 로 학습한 실험 코드 (wandb run ID)\n",
    "\n",
    "| | NoisyCIFAR10 | NoisyCIFAR100 |\n",
    "|---|---|---|\n",
    "| symm-20% | 3yg20n8g | db6cpa4w |\n",
    "| symm-50% | 2cvre1ep | 6ud3a42m |\n",
    "| symm-80% | h6hbbj3p | l4uscm5j |\n",
    "\n",
    "\n",
    "각 실험별로 `model_9.pth`, `model_19.pth`, ..., `model_199.pth` 체크포인트를 저장해 놨음."
   ]
  },
  {
   "cell_type": "code",
   "execution_count": 21,
   "metadata": {},
   "outputs": [
    {
     "name": "stdout",
     "output_type": "stream",
     "text": [
      "Loaded checkpoint: ./temp/model_199.pth\n"
     ]
    }
   ],
   "source": [
    "\n",
    "import argparse\n",
    "import os\n",
    "import torch\n",
    "import numpy as np\n",
    "import yaml\n",
    "from trainer import Trainer\n",
    "import wandb\n",
    "\n",
    "\n",
    "@torch.no_grad()\n",
    "def calculate_accuracy(pred: torch.Tensor, target: torch.Tensor, k=1):\n",
    "    \"\"\"Computes top-k accuracy\"\"\"\n",
    "    k = min(k, pred.size(-1)) # in case num_classes is smaller than k.\n",
    "    pred = torch.topk(pred, k, -1).indices\n",
    "    correct = pred.eq(target[..., None].expand_as(pred)).any(dim=-1)\n",
    "    accuracy = correct.float().mean().mul(100.0)\n",
    "    return accuracy\n",
    "\n",
    "\n",
    "torch.backends.cuda.matmul.allow_tf32 = False\n",
    "torch.backends.cudnn.allow_tf32 = False\n",
    "torch.set_float32_matmul_precision('highest')\n",
    "\n",
    "device = torch.device(\"cuda:0\")\n",
    "\n",
    "\n",
    "# config = yaml.safe_load(\n",
    "# r\"\"\"\n",
    "# data:\n",
    "#     dataset: old_noisy_cifar10\n",
    "#     noise_type: symmetric\n",
    "#     noise_rate: 0.2\n",
    "#     random_seed: 925\n",
    "\n",
    "# model:\n",
    "#     architecture: resnet34\n",
    "#     num_classes: 10\n",
    "\n",
    "# trainer:\n",
    "#     num_workers: 4\n",
    "#     batch_size: 128\n",
    "# \"\"\"\n",
    "# )\n",
    "\n",
    "\n",
    "## Load config\n",
    "wandb_run_id = \"3yg20n8g\"\n",
    "config = yaml.safe_load(open(wandb.restore('config.yaml', run_path=f\"hyounguk-shon/noisy-label/{wandb_run_id}\", replace=True, root='./temp').name, \"r\"))\n",
    "\n",
    "\n",
    "## Load model\n",
    "import models\n",
    "model = models.get_model(**config[\"model\"][\"value\"])\n",
    "\n",
    "ckpt_name=\"model_199.pth\"\n",
    "checkpoint = wandb.restore(ckpt_name, run_path=f\"hyounguk-shon/noisy-label/{wandb_run_id}\", replace=True, root='./temp')\n",
    "model.load_state_dict(torch.load(checkpoint.name, map_location=\"cpu\"))\n",
    "print(f\"Loaded checkpoint: {checkpoint.name}\")\n",
    "\n",
    "trainer = Trainer(\n",
    "    model=model,\n",
    "    config=config['trainer'][\"value\"],\n",
    "    device=device,\n",
    ")"
   ]
  },
  {
   "cell_type": "code",
   "execution_count": 36,
   "metadata": {},
   "outputs": [
    {
     "name": "stdout",
     "output_type": "stream",
     "text": [
      "Files already downloaded and verified\n",
      "True noise rate: 0.1806\n",
      "Files already downloaded and verified\n",
      "Dataset OldNoisyCIFAR10\n",
      "    Number of datapoints: 50000\n",
      "    Root location: /dev/shm/data/\n",
      "    Split: Train\n"
     ]
    }
   ],
   "source": [
    "## Load dataset\n",
    "import datasets\n",
    "\n",
    "train_dataset, test_dataset = datasets.get_dataset(**config[\"data\"][\"value\"])\n",
    "\n",
    "dataset = train_dataset\n",
    "\n",
    "is_noisy = dataset.targets != dataset.targets_gt\n",
    "\n",
    "print(dataset)"
   ]
  },
  {
   "cell_type": "code",
   "execution_count": 37,
   "metadata": {},
   "outputs": [
    {
     "data": {
      "text/plain": [
       "{'logits': tensor([[ 1.4694, -4.4222, -3.1109,  ...,  0.5835,  0.2645, -0.2806],\n",
       "         [-6.7535, -0.1942, -6.5951,  ...,  0.1252, -3.4341,  1.2358],\n",
       "         [-3.8192, -6.0159,  1.0770,  ..., -4.1146, -0.3491, 16.9762],\n",
       "         ...,\n",
       "         [-2.4937, -1.0047,  2.3382,  ...,  0.5694, -0.8984, 17.1006],\n",
       "         [-3.0242, 10.1192, -4.9183,  ..., -1.8843, -4.8029, -3.9869],\n",
       "         [ 0.0414, 14.8339,  3.8436,  ..., -0.9664, -3.9662, -3.9695]]),\n",
       " 'target': tensor([6, 3, 9,  ..., 9, 6, 1]),\n",
       " 'target_gt': tensor([6, 9, 9,  ..., 9, 1, 1])}"
      ]
     },
     "execution_count": 37,
     "metadata": {},
     "output_type": "execute_result"
    }
   ],
   "source": [
    "## Run inference\n",
    "dataset.transform = datasets.get_transform('none', dataset) # no augmentation\n",
    "\n",
    "results = trainer.inference(dataset)\n",
    "results"
   ]
  },
  {
   "cell_type": "code",
   "execution_count": 38,
   "metadata": {},
   "outputs": [
    {
     "data": {
      "text/plain": [
       "tensor(0.0111)"
      ]
     },
     "execution_count": 38,
     "metadata": {},
     "output_type": "execute_result"
    }
   ],
   "source": [
    "calculate_accuracy(results['logits'][is_noisy], results['target_gt'][is_noisy], k=1)"
   ]
  },
  {
   "cell_type": "code",
   "execution_count": 39,
   "metadata": {},
   "outputs": [
    {
     "data": {
      "image/png": "[encoded data removed]",
      "text/plain": [
       "<Figure size 640x480 with 1 Axes>"
      ]
     },
     "metadata": {},
     "output_type": "display_data"
    }
   ],
   "source": [
    "noaug_losses = torch.nn.functional.cross_entropy(results['logits'][is_noisy], results['target_gt'][is_noisy], reduction='none')\n",
    "\n",
    "import torch\n",
    "import matplotlib.pyplot as plt\n",
    "\n",
    "# Plotting the histogram\n",
    "plt.hist(noaug_losses.numpy(), bins=30)  # You can adjust the number of bins\n",
    "plt.title(\"Histogram of Tensor Values\")\n",
    "plt.xlabel(\"Value\")\n",
    "plt.ylabel(\"Frequency\")\n",
    "plt.show()\n"
   ]
  },
  {
   "cell_type": "code",
   "execution_count": 40,
   "metadata": {},
   "outputs": [
    {
     "name": "stderr",
     "output_type": "stream",
     "text": [
      "100%|██████████| 20/20 [02:26<00:00,  7.34s/it]\n"
     ]
    },
    {
     "data": {
      "text/plain": [
       "{'logits': tensor([[[-2.0579e+00, -3.9554e+00,  1.3010e+00,  ...,  1.7167e+00,\n",
       "            3.4257e-01, -5.4743e-01],\n",
       "          [-2.4120e+00, -1.2863e+00, -1.0443e+00,  ...,  1.5286e+00,\n",
       "            6.0443e+00, -1.0738e+00],\n",
       "          [-3.2267e+00, -2.4885e+00, -3.9699e+00,  ..., -3.4423e+00,\n",
       "            4.7416e+00, -2.0786e+00],\n",
       "          ...,\n",
       "          [-4.7886e+00, -1.4294e+00,  2.5175e-01,  ...,  8.1002e-01,\n",
       "            3.8338e+00,  4.6998e+00],\n",
       "          [ 1.7999e+00, -4.2265e+00, -3.0706e+00,  ..., -7.3952e-02,\n",
       "            3.2115e-01, -1.3218e+00],\n",
       "          [-4.7886e+00, -1.4294e+00,  2.5175e-01,  ...,  8.1002e-01,\n",
       "            3.8338e+00,  4.6998e+00]],\n",
       " \n",
       "         [[-7.1509e+00,  5.9506e+00, -4.4304e+00,  ...,  3.2141e-01,\n",
       "           -3.9090e+00,  1.1959e+01],\n",
       "          [-6.8247e+00, -1.2923e-01, -6.6182e+00,  ...,  2.0146e-01,\n",
       "           -3.3141e+00,  1.5623e+00],\n",
       "          [ 2.9074e+00,  3.4582e-01, -4.2285e+00,  ...,  2.3712e+00,\n",
       "           -3.1888e+00,  7.9862e+00],\n",
       "          ...,\n",
       "          [-2.5714e+00,  3.8690e+00, -8.2541e+00,  ..., -1.9183e+00,\n",
       "            1.8472e+00,  6.7798e+00],\n",
       "          [-7.1661e+00,  1.1945e+00, -6.5193e+00,  ...,  1.4237e-01,\n",
       "           -3.3838e+00,  2.2939e+00],\n",
       "          [-6.8247e+00, -1.2923e-01, -6.6182e+00,  ...,  2.0146e-01,\n",
       "           -3.3141e+00,  1.5623e+00]],\n",
       " \n",
       "         [[-3.5367e-01,  7.0872e-01,  4.0196e+00,  ...,  1.3252e+00,\n",
       "           -1.0708e-02,  1.7799e+00],\n",
       "          [-3.6539e+00, -5.4458e+00, -9.8526e-01,  ..., -3.5630e+00,\n",
       "            1.6192e+00,  1.7106e+01],\n",
       "          [-3.8192e+00, -6.0159e+00,  1.0770e+00,  ..., -4.1146e+00,\n",
       "           -3.4911e-01,  1.6976e+01],\n",
       "          ...,\n",
       "          [-1.9207e+00, -3.0429e+00,  1.2457e+00,  ...,  1.1730e-01,\n",
       "            3.0754e-01,  1.3557e+01],\n",
       "          [-4.7230e+00, -5.9401e+00, -3.2376e+00,  ..., -2.5172e+00,\n",
       "            4.3394e+00,  1.2407e+01],\n",
       "          [-4.1691e+00, -6.8707e+00, -8.0400e-01,  ..., -4.5987e+00,\n",
       "           -6.2875e-01,  1.7869e+01]],\n",
       " \n",
       "         ...,\n",
       " \n",
       "         [[ 3.9963e+00, -4.5179e-01, -6.2542e-01,  ..., -4.7795e-01,\n",
       "            8.5420e-01,  6.2091e+00],\n",
       "          [-2.7356e+00, -3.6358e-01,  1.8718e+00,  ...,  1.6741e+00,\n",
       "           -9.5883e-01,  1.7315e+01],\n",
       "          [-4.9975e+00, -2.7104e+00,  3.7987e+00,  ..., -2.3984e+00,\n",
       "            3.9655e+00,  1.8025e+01],\n",
       "          ...,\n",
       "          [-3.4434e+00,  5.9220e+00,  1.7746e+00,  ..., -1.0497e+00,\n",
       "            9.4739e-01,  6.5610e+00],\n",
       "          [ 1.3568e+00, -1.8840e+00, -1.3654e+00,  ..., -3.0265e-01,\n",
       "           -2.2699e+00,  1.2191e+01],\n",
       "          [-3.1579e+00,  2.8734e+00, -2.4793e+00,  ..., -2.1026e+00,\n",
       "            1.4618e+00,  9.0858e+00]],\n",
       " \n",
       "         [[-3.2166e+00,  1.0049e+01, -5.0684e+00,  ..., -1.7135e+00,\n",
       "           -4.8148e+00, -4.0715e+00],\n",
       "          [ 8.4683e-01,  6.8422e+00, -3.9365e+00,  ..., -1.8899e+00,\n",
       "            8.1562e+00, -4.6432e+00],\n",
       "          [ 6.6362e-01,  1.0792e+01, -1.6065e+00,  ..., -6.8840e+00,\n",
       "           -9.8485e-01, -9.7532e-01],\n",
       "          ...,\n",
       "          [-2.3270e+00,  9.7972e+00, -6.1792e+00,  ..., -2.7798e+00,\n",
       "           -4.9394e+00, -2.4513e+00],\n",
       "          [-3.0242e+00,  1.0119e+01, -4.9183e+00,  ..., -1.8843e+00,\n",
       "           -4.8029e+00, -3.9869e+00],\n",
       "          [-4.1699e+00,  7.4562e+00, -7.4075e+00,  ...,  2.3890e-01,\n",
       "           -4.7175e+00, -1.7701e+00]],\n",
       " \n",
       "         [[ 2.9136e+00,  1.0647e+01,  6.9465e+00,  ..., -6.1544e+00,\n",
       "           -5.6760e+00, -7.4850e+00],\n",
       "          [ 3.1009e+00,  1.1733e+01,  4.5396e+00,  ..., -5.2870e+00,\n",
       "           -6.3005e+00, -5.9402e+00],\n",
       "          [ 4.8439e+00,  8.8299e+00,  3.6344e+00,  ..., -1.2275e+00,\n",
       "           -4.3045e+00, -7.8052e+00],\n",
       "          ...,\n",
       "          [ 4.1443e-02,  1.4834e+01,  3.8436e+00,  ..., -9.6643e-01,\n",
       "           -3.9662e+00, -3.9695e+00],\n",
       "          [-2.8834e-01,  1.3995e+01,  3.2269e+00,  ..., -1.3617e-01,\n",
       "           -3.0263e+00, -3.5618e+00],\n",
       "          [ 4.1443e-02,  1.4834e+01,  3.8436e+00,  ..., -9.6643e-01,\n",
       "           -3.9662e+00, -3.9695e+00]]]),\n",
       " 'target': tensor([[6, 6, 6,  ..., 6, 6, 6],\n",
       "         [3, 3, 3,  ..., 3, 3, 3],\n",
       "         [9, 9, 9,  ..., 9, 9, 9],\n",
       "         ...,\n",
       "         [9, 9, 9,  ..., 9, 9, 9],\n",
       "         [6, 6, 6,  ..., 6, 6, 6],\n",
       "         [1, 1, 1,  ..., 1, 1, 1]]),\n",
       " 'target_gt': tensor([[6, 6, 6,  ..., 6, 6, 6],\n",
       "         [9, 9, 9,  ..., 9, 9, 9],\n",
       "         [9, 9, 9,  ..., 9, 9, 9],\n",
       "         ...,\n",
       "         [9, 9, 9,  ..., 9, 9, 9],\n",
       "         [1, 1, 1,  ..., 1, 1, 1],\n",
       "         [1, 1, 1,  ..., 1, 1, 1]])}"
      ]
     },
     "execution_count": 40,
     "metadata": {},
     "output_type": "execute_result"
    }
   ],
   "source": [
    "## Run multiple inferences to aggregate results over random augmentations\n",
    "\n",
    "from collections import defaultdict\n",
    "import tqdm\n",
    "\n",
    "dataset.transform = datasets.get_transform('autoaugment', dataset)\n",
    "\n",
    "n_repeat = 20\n",
    "\n",
    "total_results = defaultdict(list)\n",
    "for _ in tqdm.trange(n_repeat):\n",
    "    results = trainer.inference(dataset)\n",
    "    for k, v in results.items():\n",
    "        total_results[k].append(v)\n",
    "total_results = {k: torch.stack(v, dim=1) for k, v in total_results.items()} # shape is (n_samples, n_repeat, ...)\n",
    "total_results"
   ]
  },
  {
   "cell_type": "code",
   "execution_count": 41,
   "metadata": {},
   "outputs": [
    {
     "data": {
      "text/plain": [
       "tensor(11.3043)"
      ]
     },
     "execution_count": 41,
     "metadata": {},
     "output_type": "execute_result"
    }
   ],
   "source": [
    "calculate_accuracy(total_results['logits'][is_noisy].mean(1), total_results['target_gt'][is_noisy][:,0], k=1)"
   ]
  },
  {
   "cell_type": "code",
   "execution_count": 43,
   "metadata": {},
   "outputs": [
    {
     "data": {
      "image/png": "[encoded data removed]",
      "text/plain": [
       "<Figure size 640x480 with 1 Axes>"
      ]
     },
     "metadata": {},
     "output_type": "display_data"
    }
   ],
   "source": [
    "aug_losses = torch.nn.functional.cross_entropy(total_results['logits'][is_noisy].mean(1), total_results['target_gt'][is_noisy][:,0], reduction='none')\n",
    "\n",
    "import torch\n",
    "import matplotlib.pyplot as plt\n",
    "\n",
    "\n",
    "# Plotting the histogram\n",
    "plt.hist(aug_losses.numpy(), bins=30)  # You can adjust the number of bins\n",
    "plt.title(\"Histogram of Tensor Values\")\n",
    "plt.xlabel(\"Value\")\n",
    "plt.ylabel(\"Frequency\")\n",
    "plt.show()\n"
   ]
  },
  {
   "cell_type": "code",
   "execution_count": 45,
   "metadata": {},
   "outputs": [
    {
     "data": {
      "image/png": "[encoded data removed]",
      "text/plain": [
       "<Figure size 640x480 with 1 Axes>"
      ]
     },
     "metadata": {},
     "output_type": "display_data"
    }
   ],
   "source": [
    "import torch\n",
    "import matplotlib.pyplot as plt\n",
    "\n",
    "# Plotting the histogram\n",
    "plt.hist(noaug_losses, bins=30, color='red', alpha=0.4)  # You can adjust the number of bins\n",
    "# Plotting the histogram\n",
    "plt.hist(aug_losses, bins=30, alpha=0.4)  # You can adjust the number of bins\n",
    "plt.title(\"Histogram of Tensor Values\")\n",
    "plt.xlabel(\"Value\")\n",
    "plt.ylabel(\"Frequency\")\n",
    "plt.show()\n"
   ]
  },
  {
   "cell_type": "code",
   "execution_count": null,
   "metadata": {},
   "outputs": [],
   "source": []
  }
 ],
 "metadata": {
  "kernelspec": {
   "display_name": "base",
   "language": "python",
   "name": "python3"
  },
  "language_info": {
   "codemirror_mode": {
    "name": "ipython",
    "version": 3
   },
   "file_extension": ".py",
   "mimetype": "text/x-python",
   "name": "python",
   "nbconvert_exporter": "python",
   "pygments_lexer": "ipython3",
   "version": "3.10.11"
  }
 },
 "nbformat": 4,
 "nbformat_minor": 2
}
