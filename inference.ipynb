{
 "cells": [
  {
   "cell_type": "code",
   "execution_count": 1,
   "metadata": {},
   "outputs": [],
   "source": [
    "\n",
    "import argparse\n",
    "import os\n",
    "import torch\n",
    "import numpy as np\n",
    "import yaml\n",
    "from trainer import Trainer\n",
    "\n",
    "\n",
    "# np.random.seed(0)\n",
    "# torch.manual_seed(42)\n",
    "torch.backends.cudnn.deterministic = False\n",
    "torch.backends.cudnn.benchmark = True\n",
    "\n",
    "# torch.backends.cuda.matmul.allow_tf32 = True\n",
    "# torch.backends.cudnn.allow_tf32 = True\n",
    "# torch.set_float32_matmul_precision('high')\n",
    "\n",
    "torch.backends.cuda.matmul.allow_tf32 = False\n",
    "torch.backends.cudnn.allow_tf32 = False\n",
    "torch.set_float32_matmul_precision('highest')\n",
    "\n",
    "\n",
    "\n",
    "config = yaml.safe_load(\n",
    "r\"\"\"\n",
    "data:\n",
    "    dataset: old_noisy_cifar10\n",
    "    noise_type: symmetric\n",
    "    noise_rate: 0.5\n",
    "    random_seed: 42\n",
    "\n",
    "model:\n",
    "    architecture: resnet34\n",
    "    num_classes: 10\n",
    "\n",
    "trainer:\n",
    "    num_workers: 4\n",
    "    batch_size: 128\n",
    "\"\"\"\n",
    ")\n",
    "\n",
    "device = torch.device(\"cuda:0\")\n",
    "\n",
    "\n",
    "## Load model\n",
    "import models\n",
    "\n",
    "model = models.get_model(**config[\"model\"])\n",
    "# model.load_state_dict(torch.load(\"checkpoints/best.pth\", map_location='cpu'))\n",
    "\n",
    "trainer = Trainer(\n",
    "    model=model,\n",
    "    config=config['trainer'],\n",
    "    device=device,\n",
    ")"
   ]
  },
  {
   "cell_type": "code",
   "execution_count": 2,
   "metadata": {},
   "outputs": [
    {
     "name": "stdout",
     "output_type": "stream",
     "text": [
      "Files already downloaded and verified\n",
      "True noise rate: 0.4501\n",
      "Files already downloaded and verified\n",
      "Dataset OldNoisyCIFAR10\n",
      "    Number of datapoints: 50000\n",
      "    Root location: /dev/shm/data/\n",
      "    Split: Train\n"
     ]
    }
   ],
   "source": [
    "## Load dataset\n",
    "import datasets\n",
    "\n",
    "train_dataset, test_dataset = datasets.get_dataset(**config[\"data\"])\n",
    "\n",
    "dataset = train_dataset\n",
    "dataset.transform = datasets.get_transform('none', dataset)\n",
    "print(dataset)"
   ]
  },
  {
   "cell_type": "code",
   "execution_count": 3,
   "metadata": {},
   "outputs": [
    {
     "data": {
      "application/vnd.jupyter.widget-view+json": {
       "model_id": "e83246d6381c4aa087f1c5c616ae26b6",
       "version_major": 2,
       "version_minor": 0
      },
      "text/plain": [
       "  0%|          | 0/391 [00:00<?, ?it/s]"
      ]
     },
     "metadata": {},
     "output_type": "display_data"
    },
    {
     "data": {
      "text/plain": [
       "{'logits': tensor([[ 0.0089, -0.0057,  0.0202,  ...,  0.0048,  0.0517, -0.0003],\n",
       "         [ 0.0134, -0.0040,  0.0246,  ...,  0.0046,  0.0453,  0.0060],\n",
       "         [ 0.0183,  0.0039,  0.0278,  ..., -0.0040,  0.0541,  0.0219],\n",
       "         ...,\n",
       "         [ 0.0157, -0.0049,  0.0215,  ...,  0.0040,  0.0522,  0.0201],\n",
       "         [ 0.0081,  0.0050,  0.0199,  ..., -0.0157,  0.0447,  0.0129],\n",
       "         [ 0.0130,  0.0014,  0.0211,  ..., -0.0030,  0.0491,  0.0077]]),\n",
       " 'target': tensor([4, 6, 9,  ..., 5, 8, 1]),\n",
       " 'target_gt': tensor([6, 9, 9,  ..., 9, 1, 1])}"
      ]
     },
     "execution_count": 3,
     "metadata": {},
     "output_type": "execute_result"
    }
   ],
   "source": [
    "## Run inference\n",
    "results = trainer.inference(dataset)\n",
    "results"
   ]
  },
  {
   "cell_type": "code",
   "execution_count": 5,
   "metadata": {},
   "outputs": [
    {
     "data": {
      "text/plain": [
       "torch.Size([50000, 10])"
      ]
     },
     "execution_count": 5,
     "metadata": {},
     "output_type": "execute_result"
    }
   ],
   "source": [
    "results['logits'].shape"
   ]
  },
  {
   "cell_type": "code",
   "execution_count": null,
   "metadata": {},
   "outputs": [],
   "source": [
    "## Save results\n",
    "# torch.save(results, \"results.pth\")"
   ]
  }
 ],
 "metadata": {
  "kernelspec": {
   "display_name": "base",
   "language": "python",
   "name": "python3"
  },
  "language_info": {
   "codemirror_mode": {
    "name": "ipython",
    "version": 3
   },
   "file_extension": ".py",
   "mimetype": "text/x-python",
   "name": "python",
   "nbconvert_exporter": "python",
   "pygments_lexer": "ipython3",
   "version": "3.10.11"
  }
 },
 "nbformat": 4,
 "nbformat_minor": 2
}
